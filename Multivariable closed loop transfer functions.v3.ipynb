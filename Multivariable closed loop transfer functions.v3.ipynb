{
 "metadata": {
  "kernelspec": {
   "display_name": "Python 3",
   "language": "python",
   "name": "python3"
  },
  "language_info": {
   "codemirror_mode": {
    "name": "ipython",
    "version": 3
   },
   "file_extension": ".py",
   "mimetype": "text/x-python",
   "name": "python",
   "nbconvert_exporter": "python",
   "pygments_lexer": "ipython3",
   "version": "3.5.1"
  },
  "name": ""
 },
 "nbformat": 3,
 "nbformat_minor": 0,
 "worksheets": [
  {
   "cells": [
    {
     "cell_type": "code",
     "collapsed": true,
     "input": [
      "import sympy\n",
      "sympy.init_printing()"
     ],
     "language": "python",
     "metadata": {},
     "outputs": [],
     "prompt_number": null
    },
    {
     "cell_type": "markdown",
     "metadata": {},
     "source": [
      "Closed loop transfer functions for multivariable systems\n",
      "========================================================\n",
      "\n",
      "Let's consider a 2 $\\times$ 2 system with feedback control as shown below:\n",
      "\n",
      "<img src=\"mimo2x2.png\">"
     ]
    },
    {
     "cell_type": "code",
     "collapsed": false,
     "input": [
      "G_p11, G_p12, G_p21, G_p22, G_c1, G_c2 = sympy.symbols('G_p11, G_p12, G_p21, G_p22, G_c1, G_c2')"
     ],
     "language": "python",
     "metadata": {},
     "outputs": [],
     "prompt_number": 64
    },
    {
     "cell_type": "markdown",
     "metadata": {},
     "source": [
      "The matrix representation of the system is straigtforwardly handled by `sympy.Matrix`:"
     ]
    },
    {
     "cell_type": "code",
     "collapsed": true,
     "input": [
      "G_p = sympy.Matrix([[G_p11, G_p12],\n",
      "                    [G_p21, G_p22]])"
     ],
     "language": "python",
     "metadata": {},
     "outputs": [],
     "prompt_number": 77
    },
    {
     "cell_type": "markdown",
     "metadata": {},
     "source": [
      "The controller is a bit harder. Convince yourself you understand how the off-diagonal elements of $G_c$ are zero in the diagram above."
     ]
    },
    {
     "cell_type": "code",
     "collapsed": false,
     "input": [
      "G_c = sympy.Matrix([[Gc1, 0],\n",
      "                    [0, Gc2]])"
     ],
     "language": "python",
     "metadata": {},
     "outputs": [],
     "prompt_number": 79
    },
    {
     "cell_type": "markdown",
     "metadata": {},
     "source": [
      "Now, we can redraw the block diagram using vectors for the signals and matrices for the blocks.\n",
      "    \n",
      "<img src=\"simple_feedback.png\" />"
     ]
    },
    {
     "cell_type": "markdown",
     "metadata": {},
     "source": [
      "Let's derive the closed loop transfer function. There are three equations represented in the above diagram:\n",
      "\n",
      "$$\\begin{align}\n",
      "E &= Y_{sp} - Y\\\\ \n",
      "U &= G_c E = G_c(Y_{sp} - Y)\\\\\n",
      "Y &= G_p U = G_p G_c(Y_{sp} - Y)\\\\\n",
      "\\end{align}$$\n",
      "\n",
      "Now, we can solve for $Y$:\n",
      "$$\\begin{align}\n",
      "Y &= G_p G_c(Y_{sp} - Y)\\\\\n",
      "Y &= G_p G_c Y_{sp} - G_p G_c Y \\\\\n",
      "Y + G_p G_c Y&= G_p G_c Y_{sp} \\\\\n",
      "(I + G_p G_c) Y &= G_p G_c Y_{sp} \\\\\n",
      " Y &= (I + G_p G_c)^{-1} G_p G_c Y_{sp} \\\\\n",
      " Y &= \\Gamma Y_{sp}\n",
      "\\end{align}$$"
     ]
    },
    {
     "cell_type": "markdown",
     "metadata": {},
     "source": [
      "We can calculate the value of this function easily."
     ]
    },
    {
     "cell_type": "code",
     "collapsed": false,
     "input": [
      "I = sympy.Matrix([[1, 0],\n",
      "                  [0, 1]])"
     ],
     "language": "python",
     "metadata": {},
     "outputs": [],
     "prompt_number": 88
    },
    {
     "cell_type": "code",
     "collapsed": false,
     "input": [
      "Gamma = sympy.simplify((I + Gp*Gc).inv()*Gp*Gc)"
     ],
     "language": "python",
     "metadata": {},
     "outputs": [],
     "prompt_number": 89
    },
    {
     "cell_type": "code",
     "collapsed": false,
     "input": [
      "Gamma[0, 0]"
     ],
     "language": "python",
     "metadata": {},
     "outputs": [
      {
       "latex": [
        "$$\\frac{Gc_{1} \\left(- G_{p11} \\left(G_{p22} Gc_{2} + 1\\right) + G_{p12} G_{p21} Gc_{2}\\right)}{G_{p12} G_{p21} Gc_{1} Gc_{2} - \\left(G_{p11} Gc_{1} + 1\\right) \\left(G_{p22} Gc_{2} + 1\\right)}$$"
       ],
       "metadata": {},
       "output_type": "pyout",
       "png": "[encoded data removed]",
       "prompt_number": 90,
       "text": [
        "    Gc\u2081\u22c5(-G\u209a\u2081\u2081\u22c5(G\u209a\u2082\u2082\u22c5Gc\u2082 + 1) + G\u209a\u2081\u2082\u22c5G\u209a\u2082\u2081\u22c5Gc\u2082)   \n",
        "\u2500\u2500\u2500\u2500\u2500\u2500\u2500\u2500\u2500\u2500\u2500\u2500\u2500\u2500\u2500\u2500\u2500\u2500\u2500\u2500\u2500\u2500\u2500\u2500\u2500\u2500\u2500\u2500\u2500\u2500\u2500\u2500\u2500\u2500\u2500\u2500\u2500\u2500\u2500\u2500\u2500\u2500\u2500\u2500\u2500\u2500\u2500\u2500\u2500\n",
        "G\u209a\u2081\u2082\u22c5G\u209a\u2082\u2081\u22c5Gc\u2081\u22c5Gc\u2082 - (G\u209a\u2081\u2081\u22c5Gc\u2081 + 1)\u22c5(G\u209a\u2082\u2082\u22c5Gc\u2082 + 1)"
       ]
      }
     ],
     "prompt_number": 90
    },
    {
     "cell_type": "code",
     "collapsed": false,
     "input": [
      "Gamma[0, 1]"
     ],
     "language": "python",
     "metadata": {},
     "outputs": [
      {
       "latex": [
        "$$- \\frac{G_{p12} Gc_{2}}{G_{p12} G_{p21} Gc_{1} Gc_{2} - \\left(G_{p11} Gc_{1} + 1\\right) \\left(G_{p22} Gc_{2} + 1\\right)}$$"
       ],
       "metadata": {},
       "output_type": "pyout",
       "png": "[encoded data removed]",
       "prompt_number": 91,
       "text": [
        "                    -G\u209a\u2081\u2082\u22c5Gc\u2082                    \n",
        "\u2500\u2500\u2500\u2500\u2500\u2500\u2500\u2500\u2500\u2500\u2500\u2500\u2500\u2500\u2500\u2500\u2500\u2500\u2500\u2500\u2500\u2500\u2500\u2500\u2500\u2500\u2500\u2500\u2500\u2500\u2500\u2500\u2500\u2500\u2500\u2500\u2500\u2500\u2500\u2500\u2500\u2500\u2500\u2500\u2500\u2500\u2500\u2500\u2500\n",
        "G\u209a\u2081\u2082\u22c5G\u209a\u2082\u2081\u22c5Gc\u2081\u22c5Gc\u2082 - (G\u209a\u2081\u2081\u22c5Gc\u2081 + 1)\u22c5(G\u209a\u2082\u2082\u22c5Gc\u2082 + 1)"
       ]
      }
     ],
     "prompt_number": 91
    },
    {
     "cell_type": "markdown",
     "metadata": {},
     "source": [
      "We notice that there is a common divisor in all the elements of $\\Gamma$. This is due to the calculation of the inverse of $(I + G_p G_c)$, which involves calculation of the determinant $|I + G_p G_c|$."
     ]
    },
    {
     "cell_type": "code",
     "collapsed": false,
     "input": [
      "Delta = (I + Gp*Gc).det()\n",
      "Delta"
     ],
     "language": "python",
     "metadata": {},
     "outputs": [
      {
       "latex": [
        "$$G_{p11} G_{p22} Gc_{1} Gc_{2} + G_{p11} Gc_{1} - G_{p12} G_{p21} Gc_{1} Gc_{2} + G_{p22} Gc_{2} + 1$$"
       ],
       "metadata": {},
       "output_type": "pyout",
       "png": "[encoded data removed]",
       "prompt_number": 95,
       "text": [
        "G\u209a\u2081\u2081\u22c5G\u209a\u2082\u2082\u22c5Gc\u2081\u22c5Gc\u2082 + G\u209a\u2081\u2081\u22c5Gc\u2081 - G\u209a\u2081\u2082\u22c5G\u209a\u2082\u2081\u22c5Gc\u2081\u22c5Gc\u2082 + G\u209a\u2082\u2082\u22c5Gc\u2082 + 1"
       ]
      }
     ],
     "prompt_number": 95
    },
    {
     "cell_type": "code",
     "collapsed": false,
     "input": [
      "(Delta*Gamma).simplify()"
     ],
     "language": "python",
     "metadata": {},
     "outputs": [
      {
       "latex": [
        "$$\\left[\\begin{matrix}Gc_{1} \\left(G_{p11} G_{p22} Gc_{2} + G_{p11} - G_{p12} G_{p21} Gc_{2}\\right) & G_{p12} Gc_{2}\\\\G_{p21} Gc_{1} & Gc_{2} \\left(G_{p11} G_{p22} Gc_{1} - G_{p12} G_{p21} Gc_{1} + G_{p22}\\right)\\end{matrix}\\right]$$"
       ],
       "metadata": {},
       "output_type": "pyout",
       "prompt_number": 96,
       "text": [
        "\u23a1Gc\u2081\u22c5(G\u209a\u2081\u2081\u22c5G\u209a\u2082\u2082\u22c5Gc\u2082 + G\u209a\u2081\u2081 - G\u209a\u2081\u2082\u22c5G\u209a\u2082\u2081\u22c5Gc\u2082)                   G\u209a\u2081\u2082\u22c5Gc\u2082        \n",
        "\u23a2                                                                             \n",
        "\u23a3                 G\u209a\u2082\u2081\u22c5Gc\u2081                   Gc\u2082\u22c5(G\u209a\u2081\u2081\u22c5G\u209a\u2082\u2082\u22c5Gc\u2081 - G\u209a\u2081\u2082\u22c5G\u209a\u2082\u2081\u22c5Gc\n",
        "\n",
        "         \u23a4\n",
        "         \u23a5\n",
        "\u2081 + G\u209a\u2082\u2082)\u23a6"
       ]
      }
     ],
     "prompt_number": 96
    },
    {
     "cell_type": "code",
     "collapsed": false,
     "input": [
      "Delta = (I + Gp*Gc).det()\n",
      "Delta"
     ],
     "language": "python",
     "metadata": {},
     "outputs": [
      {
       "latex": [
        "$$G_{p11} G_{p22} Gc_{1} Gc_{2} + G_{p11} Gc_{1} - G_{p12} G_{p21} Gc_{1} Gc_{2} + G_{p22} Gc_{2} + 1$$"
       ],
       "metadata": {},
       "output_type": "pyout",
       "png": "[encoded data removed]",
       "prompt_number": 97,
       "text": [
        "G\u209a\u2081\u2081\u22c5G\u209a\u2082\u2082\u22c5Gc\u2081\u22c5Gc\u2082 + G\u209a\u2081\u2081\u22c5Gc\u2081 - G\u209a\u2081\u2082\u22c5G\u209a\u2082\u2081\u22c5Gc\u2081\u22c5Gc\u2082 + G\u209a\u2082\u2082\u22c5Gc\u2082 + 1"
       ]
      }
     ],
     "prompt_number": 97
    },
    {
     "cell_type": "markdown",
     "metadata": {},
     "source": [
      "Characteristic equation\n",
      "-----------------------\n",
      "\n",
      "This leads us to conclude that we can calculate the characteristic equation of the closed loop transfer function as $|I + G_p G_c|$."
     ]
    },
    {
     "cell_type": "markdown",
     "metadata": {},
     "source": [
      "Notice that if we wanted the coupling the other way around, we could have worked with the same controller matrix permuted:"
     ]
    },
    {
     "cell_type": "code",
     "collapsed": false,
     "input": [
      "Gc*sympy.Matrix([[0, 1], [1, 0]])"
     ],
     "language": "python",
     "metadata": {},
     "outputs": [
      {
       "latex": [
        "$$\\left[\\begin{matrix}0 & Gc_{1}\\\\Gc_{2} & 0\\end{matrix}\\right]$$"
       ],
       "metadata": {},
       "output_type": "pyout",
       "prompt_number": 98,
       "text": [
        "\u23a1 0   Gc\u2081\u23a4\n",
        "\u23a2        \u23a5\n",
        "\u23a3Gc\u2082   0 \u23a6"
       ]
      }
     ],
     "prompt_number": 98
    },
    {
     "cell_type": "markdown",
     "metadata": {},
     "source": [
      "Stability analysis\n",
      "------------------"
     ]
    },
    {
     "cell_type": "code",
     "collapsed": true,
     "input": [
      "s = sympy.Symbol('s')"
     ],
     "language": "python",
     "metadata": {},
     "outputs": [],
     "prompt_number": 99
    },
    {
     "cell_type": "code",
     "collapsed": false,
     "input": [
      "Gp = sympy.Matrix([[2/(10*s + 1), sympy.Rational('1.5')/(s + 1)],\n",
      "                   [sympy.Rational('1.5')/(s + 1), 2/(10*s + 1)]])\n",
      "Gp"
     ],
     "language": "python",
     "metadata": {},
     "outputs": [
      {
       "latex": [
        "$$\\left[\\begin{matrix}\\frac{2}{10 s + 1} & \\frac{3}{2 s + 2}\\\\\\frac{3}{2 s + 2} & \\frac{2}{10 s + 1}\\end{matrix}\\right]$$"
       ],
       "metadata": {},
       "output_type": "pyout",
       "prompt_number": 100,
       "text": [
        "\u23a1   2           3    \u23a4\n",
        "\u23a2\u2500\u2500\u2500\u2500\u2500\u2500\u2500\u2500   \u2500\u2500\u2500\u2500\u2500\u2500\u2500\u2500\u2500\u23a5\n",
        "\u23a210\u22c5s + 1   2\u22c5(s + 1)\u23a5\n",
        "\u23a2                    \u23a5\n",
        "\u23a2    3         2     \u23a5\n",
        "\u23a2\u2500\u2500\u2500\u2500\u2500\u2500\u2500\u2500\u2500  \u2500\u2500\u2500\u2500\u2500\u2500\u2500\u2500 \u23a5\n",
        "\u23a32\u22c5(s + 1)  10\u22c5s + 1 \u23a6"
       ]
      }
     ],
     "prompt_number": 100
    },
    {
     "cell_type": "code",
     "collapsed": true,
     "input": [
      "K_c1, K_c2 = sympy.symbols('K_c1, K_c2')"
     ],
     "language": "python",
     "metadata": {},
     "outputs": [],
     "prompt_number": 101
    },
    {
     "cell_type": "code",
     "collapsed": false,
     "input": [
      "Gc = sympy.Matrix([[K_c1, 0],\n",
      "                   [0, K_c2]])"
     ],
     "language": "python",
     "metadata": {},
     "outputs": [],
     "prompt_number": 102
    },
    {
     "cell_type": "code",
     "collapsed": false,
     "input": [
      "charpoly = sympy.poly(sympy.numer((I + Gp*Gc).det().simplify().together()), s)"
     ],
     "language": "python",
     "metadata": {},
     "outputs": [],
     "prompt_number": 103
    },
    {
     "cell_type": "code",
     "collapsed": false,
     "input": [
      "for i, a in enumerate(charpoly.all_coeffs()):\n",
      "    print(i, a)"
     ],
     "language": "python",
     "metadata": {},
     "outputs": [
      {
       "output_type": "stream",
       "stream": "stdout",
       "text": [
        "0 4000\n",
        "1 800*K_c1 + 800*K_c2 + 9200\n",
        "2 -8840*K_c1*K_c2 + 1760*K_c1 + 1760*K_c2 + 6520\n",
        "3 -2364*K_c1*K_c2 + 1128*K_c1 + 1128*K_c2 + 1444\n",
        "4 -78*K_c1*K_c2 + 176*K_c1 + 176*K_c2 + 128\n",
        "5 7*K_c1*K_c2 + 8*K_c1 + 8*K_c2 + 4\n"
       ]
      }
     ],
     "prompt_number": 104
    },
    {
     "cell_type": "code",
     "collapsed": true,
     "input": [
      "from utils import routh"
     ],
     "language": "python",
     "metadata": {},
     "outputs": [],
     "prompt_number": 105
    },
    {
     "cell_type": "code",
     "collapsed": false,
     "input": [
      "R = routh(charpoly)"
     ],
     "language": "python",
     "metadata": {},
     "outputs": [],
     "prompt_number": 106
    },
    {
     "cell_type": "code",
     "collapsed": false,
     "input": [
      "def stable(Kc1, Kc2):\n",
      "    return all(sympy.N(c.subs({K_c1: Kc1, K_c2: Kc2})) >= 0 for c in R[:, 0])"
     ],
     "language": "python",
     "metadata": {},
     "outputs": [],
     "prompt_number": 107
    },
    {
     "cell_type": "code",
     "collapsed": false,
     "input": [
      "import numpy\n",
      "import matplotlib.pyplot as plt\n",
      "%matplotlib inline"
     ],
     "language": "python",
     "metadata": {},
     "outputs": [],
     "prompt_number": 108
    },
    {
     "cell_type": "code",
     "collapsed": true,
     "input": [
      "Kc1range = numpy.linspace(-2, 4)\n",
      "Kc2range = numpy.linspace(-2, 7)\n",
      "stab = []\n",
      "for Kc1 in Kc1range:\n",
      "    row = []\n",
      "    for Kc2 in Kc2range:\n",
      "        row.append(stable(Kc1, Kc2))\n",
      "    stab.append(row)\n",
      "stab = numpy.array(stab)"
     ],
     "language": "python",
     "metadata": {},
     "outputs": [],
     "prompt_number": 109
    },
    {
     "cell_type": "code",
     "collapsed": false,
     "input": [
      "plt.pcolor(Kc1range, Kc2range, stab)"
     ],
     "language": "python",
     "metadata": {},
     "outputs": [
      {
       "metadata": {},
       "output_type": "pyout",
       "prompt_number": 62,
       "text": [
        "<matplotlib.collections.PolyCollection at 0x10be360f0>"
       ]
      },
      {
       "metadata": {},
       "output_type": "display_data",
       "png": "[encoded data removed]",
       "text": [
        "<matplotlib.figure.Figure at 0x10b4d35f8>"
       ]
      }
     ],
     "prompt_number": 62
    },
    {
     "cell_type": "code",
     "collapsed": true,
     "input": [],
     "language": "python",
     "metadata": {},
     "outputs": [],
     "prompt_number": null
    }
   ],
   "metadata": {}
  }
 ]
}
