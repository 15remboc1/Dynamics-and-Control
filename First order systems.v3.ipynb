{
 "metadata": {
  "anaconda-cloud": {},
  "kernelspec": {
   "display_name": "Python [default]",
   "language": "python",
   "name": "python3"
  },
  "language_info": {
   "codemirror_mode": {
    "name": "ipython",
    "version": 3
   },
   "file_extension": ".py",
   "mimetype": "text/x-python",
   "name": "python",
   "nbconvert_exporter": "python",
   "pygments_lexer": "ipython3",
   "version": "3.5.2"
  },
  "name": ""
 },
 "nbformat": 3,
 "nbformat_minor": 0,
 "worksheets": [
  {
   "cells": [
    {
     "cell_type": "markdown",
     "metadata": {},
     "source": [
      "First order systems\n",
      "============="
     ]
    },
    {
     "cell_type": "code",
     "collapsed": true,
     "input": [
      "import sympy\n",
      "import matplotlib.pyplot as plt\n",
      "import numpy\n",
      "sympy.init_printing()\n",
      "%matplotlib inline"
     ],
     "language": "python",
     "metadata": {},
     "outputs": [],
     "prompt_number": 1
    },
    {
     "cell_type": "code",
     "collapsed": true,
     "input": [
      "t, K, tau = sympy.symbols('t, K, tau',real=True, positive=True)\n",
      "s = sympy.Symbol('s')"
     ],
     "language": "python",
     "metadata": {},
     "outputs": [],
     "prompt_number": 2
    },
    {
     "cell_type": "code",
     "collapsed": false,
     "input": [
      "u = sympy.Heaviside(t)"
     ],
     "language": "python",
     "metadata": {},
     "outputs": [],
     "prompt_number": 3
    },
    {
     "cell_type": "code",
     "collapsed": true,
     "input": [
      "def L(f):\n",
      "    return sympy.laplace_transform(f, t, s, noconds=True)\n",
      "def invL(F):\n",
      "    return sympy.inverse_laplace_transform(F, s, t)"
     ],
     "language": "python",
     "metadata": {},
     "outputs": [],
     "prompt_number": 4
    },
    {
     "cell_type": "code",
     "collapsed": false,
     "input": [
      "U = L(u)\n",
      "U"
     ],
     "language": "python",
     "metadata": {},
     "outputs": [
      {
       "latex": [
        "$$\\frac{1}{s}$$"
       ],
       "metadata": {},
       "output_type": "pyout",
       "png": "[encoded data removed]",
       "prompt_number": 5,
       "text": [
        "1\n",
        "\u2500\n",
        "s"
       ]
      }
     ],
     "prompt_number": 5
    },
    {
     "cell_type": "markdown",
     "metadata": {},
     "source": [
      "All first order linear differential equations with constant coefficients can be rewritten in the following form:\n",
      "\n",
      "$$ \\frac{\\mathrm{d}y}{\\mathrm{d}t} = ay(t) + bu(t) $$\n",
      "\n",
      "Where $y$ is the output and $u$ is the input or forcing function.\n",
      "\n",
      "If we Laplace transform this, we end up with\n",
      "\n",
      "\\begin{align}\n",
      "\\mathcal{L}\\left\\{\\frac{\\mathrm{d}y}{\\mathrm{d}t}\\right\\} &= \\mathcal{L}\\{ay(t) + bu(t)\\} \\\\\n",
      "sy(s) &= ay(s) + bu(s) \\\\\n",
      "y(s) &= \\frac{b}{s - a}u(s) \\\\\n",
      "\\end{align}\n"
     ]
    },
    {
     "cell_type": "markdown",
     "metadata": {},
     "source": [
      "By convention, we usually rewrite the above in the following form, for reasons which will become apparent soon:"
     ]
    },
    {
     "cell_type": "code",
     "collapsed": false,
     "input": [
      "G = K/(tau*s + 1)\n",
      "G"
     ],
     "language": "python",
     "metadata": {},
     "outputs": [
      {
       "latex": [
        "$$\\frac{K}{s \\tau + 1}$$"
       ],
       "metadata": {},
       "output_type": "pyout",
       "png": "[encoded data removed]",
       "prompt_number": 6,
       "text": [
        "   K   \n",
        "\u2500\u2500\u2500\u2500\u2500\u2500\u2500\n",
        "s\u22c5\u03c4 + 1"
       ]
      }
     ],
     "prompt_number": 6
    },
    {
     "cell_type": "markdown",
     "metadata": {},
     "source": [
      "The inverse laplace of a transfer function is its impulse response"
     ]
    },
    {
     "cell_type": "code",
     "collapsed": false,
     "input": [
      "impulse_response = invL(G)\n",
      "impulse_response"
     ],
     "language": "python",
     "metadata": {},
     "outputs": [
      {
       "latex": [
        "$$\\frac{K}{\\tau e^{\\frac{t}{\\tau}}}$$"
       ],
       "metadata": {},
       "output_type": "pyout",
       "png": "[encoded data removed]",
       "prompt_number": 7,
       "text": [
        "   -t \n",
        "   \u2500\u2500\u2500\n",
        "    \u03c4 \n",
        "K\u22c5\u212f   \n",
        "\u2500\u2500\u2500\u2500\u2500\u2500\n",
        "  \u03c4   "
       ]
      }
     ],
     "prompt_number": 7
    },
    {
     "cell_type": "code",
     "collapsed": false,
     "input": [
      "sympy.plot(impulse_response.subs({K: 1, tau: 1}), (t, 0, 10))"
     ],
     "language": "python",
     "metadata": {},
     "outputs": [
      {
       "metadata": {},
       "output_type": "display_data",
       "png": "[encoded data removed]",
       "text": [
        "<matplotlib.figure.Figure at 0x10b28a748>"
       ]
      },
      {
       "metadata": {},
       "output_type": "pyout",
       "prompt_number": 8,
       "text": [
        "<sympy.plotting.plot.Plot at 0x10b28a320>"
       ]
      }
     ],
     "prompt_number": 8
    },
    {
     "cell_type": "code",
     "collapsed": false,
     "input": [
      "from ipywidgets import interact"
     ],
     "language": "python",
     "metadata": {},
     "outputs": [],
     "prompt_number": 9
    },
    {
     "cell_type": "code",
     "collapsed": false,
     "input": [
      "stepresponse = invL(G/s)\n",
      "evalf = sympy.lambdify((K, tau, t), stepresponse, 'numpy')\n",
      "ts = numpy.linspace(0, 10)\n",
      "\n",
      "def firstorder(tau_in, K_in):\n",
      "    plt.figure(figsize=(12, 6))\n",
      "    plt.subplot(1, 2, 1)\n",
      "    plt.title('Step response')\n",
      "    tau_height = 1 - numpy.exp(-1)\n",
      "    plt.plot(ts, evalf(K_in, tau_in, ts))\n",
      "    plt.axhline(K_in)\n",
      "    plt.plot([0, tau_in, tau_in], [K_in*tau_height]*2 + [0], alpha=0.4)\n",
      "    plt.text(0, K_in, '$K=${}'.format(K_in))\n",
      "    plt.text(0, K_in*tau_height, '{:.3}$K$'.format(tau_height))\n",
      "    plt.text(tau_in, 0, r'$\\tau={:.3}$'.format(tau_in))\n",
      "    plt.ylim(0, 10)\n",
      "    plt.subplot(1, 2, 2)\n",
      "    plt.title('Poles plot')\n",
      "    plt.scatter(-1/tau_in, 0, marker='x', s=30)\n",
      "    plt.axhline(0, color='black')\n",
      "    plt.axvline(0, color='black')\n",
      "    plt.axis([-10, 10, -10, 10])"
     ],
     "language": "python",
     "metadata": {},
     "outputs": [],
     "prompt_number": 10
    },
    {
     "cell_type": "code",
     "collapsed": false,
     "input": [
      "interact(firstorder, tau_in=(0.1, 10.), K_in=(0.1, 10.));"
     ],
     "language": "python",
     "metadata": {},
     "outputs": [
      {
       "metadata": {},
       "output_type": "display_data",
       "png": "[encoded data removed]",
       "text": [
        "<matplotlib.figure.Figure at 0x10d23a588>"
       ]
      }
     ],
     "prompt_number": 11
    },
    {
     "cell_type": "markdown",
     "metadata": {},
     "source": [
      "Exploration of the above interaction allows us to see the following:\n",
      "\n",
      "* $K$ scales the response in the $y$ direction\n",
      "* $\\tau$ scales the response in the $t$ direction\n",
      "* The response of the system is always $0.63K$ when $t=\\tau$"
     ]
    },
    {
     "cell_type": "code",
     "collapsed": false,
     "input": [
      "sympy.N((stepresponse.subs(t, tau)/K).simplify())"
     ],
     "language": "python",
     "metadata": {},
     "outputs": [
      {
       "latex": [
        "$$0.632120558828558$$"
       ],
       "metadata": {},
       "output_type": "pyout",
       "png": "[encoded data removed]",
       "prompt_number": 12,
       "text": [
        "0.632120558828558"
       ]
      }
     ],
     "prompt_number": 12
    }
   ],
   "metadata": {}
  }
 ]
}
