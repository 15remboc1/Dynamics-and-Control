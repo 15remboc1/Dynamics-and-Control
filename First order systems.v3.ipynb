{
 "metadata": {
  "kernelspec": {
   "display_name": "Python 2",
   "language": "python",
   "name": "python2"
  },
  "language_info": {
   "codemirror_mode": {
    "name": "ipython",
    "version": 2
   },
   "file_extension": ".py",
   "mimetype": "text/x-python",
   "name": "python",
   "nbconvert_exporter": "python",
   "pygments_lexer": "ipython2",
   "version": "2.7.2"
  },
  "name": ""
 },
 "nbformat": 3,
 "nbformat_minor": 0,
 "worksheets": [
  {
   "cells": [
    {
     "cell_type": "markdown",
     "metadata": {},
     "source": [
      "First order systems\n",
      "============="
     ]
    },
    {
     "cell_type": "code",
     "collapsed": true,
     "input": [
      "import sympy\n",
      "import matplotlib.pyplot as plt\n",
      "import numpy\n",
      "sympy.init_printing()\n",
      "%matplotlib inline"
     ],
     "language": "python",
     "metadata": {},
     "outputs": [],
     "prompt_number": 3
    },
    {
     "cell_type": "code",
     "collapsed": true,
     "input": [
      "t, K, tau = sympy.symbols('t, K, tau',real=True, positive=True)\n",
      "s = sympy.Symbol('s')"
     ],
     "language": "python",
     "metadata": {},
     "outputs": [],
     "prompt_number": 4
    },
    {
     "cell_type": "code",
     "collapsed": false,
     "input": [
      "u = sympy.Heaviside(t)"
     ],
     "language": "python",
     "metadata": {},
     "outputs": [],
     "prompt_number": 5
    },
    {
     "cell_type": "code",
     "collapsed": true,
     "input": [
      "def L(f):\n",
      "    return sympy.laplace_transform(f, t, s, noconds=True)\n",
      "def invL(F):\n",
      "    return sympy.inverse_laplace_transform(F, s, t)"
     ],
     "language": "python",
     "metadata": {},
     "outputs": [],
     "prompt_number": 6
    },
    {
     "cell_type": "code",
     "collapsed": false,
     "input": [
      "U = L(u)\n",
      "U"
     ],
     "language": "python",
     "metadata": {},
     "outputs": [
      {
       "latex": [
        "$$\\frac{1}{s}$$"
       ],
       "metadata": {},
       "output_type": "pyout",
       "png": "[encoded data removed]",
       "prompt_number": 7,
       "text": [
        "1\n",
        "\u2500\n",
        "s"
       ]
      }
     ],
     "prompt_number": 7
    },
    {
     "cell_type": "code",
     "collapsed": false,
     "input": [
      "G = K/(tau*s + 1)\n",
      "G"
     ],
     "language": "python",
     "metadata": {},
     "outputs": [
      {
       "latex": [
        "$$\\frac{K}{s \\tau + 1}$$"
       ],
       "metadata": {},
       "output_type": "pyout",
       "png": "[encoded data removed]",
       "prompt_number": 8,
       "text": [
        "   K   \n",
        "\u2500\u2500\u2500\u2500\u2500\u2500\u2500\n",
        "s\u22c5\u03c4 + 1"
       ]
      }
     ],
     "prompt_number": 8
    },
    {
     "cell_type": "markdown",
     "metadata": {},
     "source": [
      "The inverse laplace of a transfer function is its impulse response"
     ]
    },
    {
     "cell_type": "code",
     "collapsed": false,
     "input": [
      "impulse_response = invL(G)\n",
      "impulse_response"
     ],
     "language": "python",
     "metadata": {},
     "outputs": [
      {
       "latex": [
        "$$\\frac{K}{\\tau e^{\\frac{t}{\\tau}}}$$"
       ],
       "metadata": {},
       "output_type": "pyout",
       "png": "[encoded data removed]",
       "prompt_number": 53,
       "text": [
        "   -t \n",
        "   \u2500\u2500\u2500\n",
        "    \u03c4 \n",
        "K\u22c5\u212f   \n",
        "\u2500\u2500\u2500\u2500\u2500\u2500\n",
        "  \u03c4   "
       ]
      }
     ],
     "prompt_number": 53
    },
    {
     "cell_type": "code",
     "collapsed": false,
     "input": [
      "sympy.plot(impulse_response.subs({K: 1, tau: 1}), (t, 0, 10))"
     ],
     "language": "python",
     "metadata": {},
     "outputs": [
      {
       "metadata": {},
       "output_type": "display_data",
       "png": "[encoded data removed]",
       "text": [
        "<matplotlib.figure.Figure at 0x1119c0e50>"
       ]
      },
      {
       "metadata": {},
       "output_type": "pyout",
       "prompt_number": 54,
       "text": [
        "<sympy.plotting.plot.Plot at 0x1129c7390>"
       ]
      }
     ],
     "prompt_number": 54
    },
    {
     "cell_type": "code",
     "collapsed": false,
     "input": [
      "from IPython.html.widgets import interact"
     ],
     "language": "python",
     "metadata": {},
     "outputs": [],
     "prompt_number": 10
    },
    {
     "cell_type": "code",
     "collapsed": false,
     "input": [
      "stepresponse = invL(G/s)\n",
      "evalf = sympy.lambdify((K, tau, t), stepresponse, 'numpy')\n",
      "ts = numpy.linspace(0, 10)\n",
      "\n",
      "def firstorder(tau_in, K_in):\n",
      "    plt.figure(figsize=(12, 6))\n",
      "    plt.subplot(1, 2, 1)\n",
      "    plt.title('Step response')\n",
      "    tau_height = 1 - numpy.exp(-1)\n",
      "    plt.plot(ts, evalf(K_in, tau_in, ts))\n",
      "    plt.axhline(K_in)\n",
      "    plt.plot([0, tau_in, tau_in], [K_in*tau_height]*2 + [0], alpha=0.4)\n",
      "    plt.text(0, K_in, '$K=${}'.format(K_in))\n",
      "    plt.text(0, K_in*tau_height, '{:.3}$K$'.format(tau_height))\n",
      "    plt.text(tau_in, 0, r'$\\tau={:.3}$'.format(tau_in))\n",
      "    plt.ylim(0, 10)\n",
      "    plt.subplot(1, 2, 2)\n",
      "    plt.title('Poles plot')\n",
      "    plt.scatter(-1/tau_in, 0, marker='x', s=30)\n",
      "    plt.axhline(0, color='black')\n",
      "    plt.axvline(0, color='black')\n",
      "    plt.axis([-10, 10, -10, 10])"
     ],
     "language": "python",
     "metadata": {},
     "outputs": [],
     "prompt_number": 51
    },
    {
     "cell_type": "code",
     "collapsed": false,
     "input": [
      "interact(firstorder, tau_in=(0.1, 10.), K_in=(0.1, 10.));"
     ],
     "language": "python",
     "metadata": {},
     "outputs": [
      {
       "metadata": {},
       "output_type": "display_data",
       "png": "[encoded data removed]",
       "text": [
        "<matplotlib.figure.Figure at 0x110ec8d50>"
       ]
      }
     ],
     "prompt_number": 52
    }
   ],
   "metadata": {}
  }
 ]
}
