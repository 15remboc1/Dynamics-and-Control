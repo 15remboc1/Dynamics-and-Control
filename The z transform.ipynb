{
 "cells": [
  {
   "cell_type": "markdown",
   "metadata": {},
   "source": [
    "# The $z$-transform\n",
    "\n",
    "This notebook shows some techniques for dealing with discrete systems analytically using the $z$ transform"
   ]
  },
  {
   "cell_type": "code",
   "execution_count": 1,
   "metadata": {
    "collapsed": true
   },
   "outputs": [],
   "source": [
    "import sympy\n",
    "sympy.init_printing()"
   ]
  },
  {
   "cell_type": "code",
   "execution_count": 2,
   "metadata": {
    "collapsed": true
   },
   "outputs": [],
   "source": [
    "s, z, q = sympy.symbols('s, z, q')\n",
    "k = sympy.Symbol('k', integer=True)\n",
    "Dt = sympy.Symbol('\\Delta t', positive=True)"
   ]
  },
  {
   "cell_type": "markdown",
   "metadata": {},
   "source": [
    "The $z$ transform of a sampled signal ($y^*(t)$) can be written as\n",
    "\n",
    "$$\\mathcal{Z}[y^*(t)] = \\sum_{k=0}^{\\infty} f(k \\Delta t) z^{-k}$$"
   ]
  },
  {
   "cell_type": "markdown",
   "metadata": {},
   "source": [
    "For a unit step, $f(t)=1$ and we can obtain the $z$ transform as an infinte series as follows:"
   ]
  },
  {
   "cell_type": "code",
   "execution_count": 32,
   "metadata": {},
   "outputs": [
    {
     "data": {
      "image/png": "[encoded data removed]",
      "text/latex": [
       "$$\\sum_{k=0}^{\\infty} z^{- k}$$"
      ],
      "text/plain": [
       "  ∞      \n",
       " ___     \n",
       " ╲       \n",
       "  ╲    -k\n",
       "  ╱   z  \n",
       " ╱       \n",
       " ‾‾‾     \n",
       "k = 0    "
      ]
     },
     "execution_count": 32,
     "metadata": {},
     "output_type": "execute_result"
    }
   ],
   "source": [
    "unitstep = sympy.Sum(1/z**k, (k, 0, sympy.oo))\n",
    "unitstep"
   ]
  },
  {
   "cell_type": "markdown",
   "metadata": {},
   "source": [
    "Sympy can recognise this infinite series as a geometric series, and under certain conditions for convergence, it can find a finite representation:"
   ]
  },
  {
   "cell_type": "code",
   "execution_count": 33,
   "metadata": {},
   "outputs": [
    {
     "data": {
      "image/png": "[encoded data removed]",
      "text/latex": [
       "$$\\begin{cases} \\frac{1}{1 - \\frac{1}{z}} & \\text{for}\\: \\left|{\\frac{1}{z}}\\right| < 1 \\\\\\sum_{k=0}^{\\infty} z^{- k} & \\text{otherwise} \\end{cases}$$"
      ],
      "text/plain": [
       "⎧    1          │1│    \n",
       "⎪  ─────    for │─│ < 1\n",
       "⎪      1        │z│    \n",
       "⎪  1 - ─               \n",
       "⎪      z               \n",
       "⎪                      \n",
       "⎪  ∞                   \n",
       "⎨ ___                  \n",
       "⎪ ╲                    \n",
       "⎪  ╲    -k             \n",
       "⎪  ╱   z     otherwise \n",
       "⎪ ╱                    \n",
       "⎪ ‾‾‾                  \n",
       "⎪k = 0                 \n",
       "⎩                      "
      ]
     },
     "execution_count": 33,
     "metadata": {},
     "output_type": "execute_result"
    }
   ],
   "source": [
    "shortform = unitstep.doit()\n",
    "shortform"
   ]
  },
  {
   "cell_type": "markdown",
   "metadata": {},
   "source": [
    "To extract the first case solution, we use `args`:"
   ]
  },
  {
   "cell_type": "code",
   "execution_count": 35,
   "metadata": {},
   "outputs": [
    {
     "data": {
      "image/png": "[encoded data removed]",
      "text/latex": [
       "$$\\frac{1}{1 - \\frac{1}{z}}$$"
      ],
      "text/plain": [
       "  1  \n",
       "─────\n",
       "    1\n",
       "1 - ─\n",
       "    z"
      ]
     },
     "execution_count": 35,
     "metadata": {},
     "output_type": "execute_result"
    }
   ],
   "source": [
    "uz = shortform.args[0][0]\n",
    "uz"
   ]
  },
  {
   "cell_type": "markdown",
   "metadata": {},
   "source": [
    "For a first order difference equation (the discrete equivalent of a first order differential equation):\n",
    "\n",
    "$$ y(k) + a_1 y(k - 1) = b_1 u(k - 1) $$\n",
    "\n",
    "We can write this as \n",
    "\n",
    "$$ Y(z) + a_1 z^{-1} Y(z) = b_1 z^{-1} U(z) $$\n",
    "\n",
    "Leading to a discrete transfer function:"
   ]
  },
  {
   "cell_type": "code",
   "execution_count": 37,
   "metadata": {
    "collapsed": true
   },
   "outputs": [],
   "source": [
    "a1, b1 = sympy.symbols('a1, b1')"
   ]
  },
  {
   "cell_type": "code",
   "execution_count": 38,
   "metadata": {},
   "outputs": [
    {
     "data": {
      "image/png": "[encoded data removed]",
      "text/latex": [
       "$$\\frac{b_{1}}{z \\left(\\frac{a_{1}}{z} + 1\\right)}$$"
      ],
      "text/plain": [
       "    b₁    \n",
       "──────────\n",
       "  ⎛a₁    ⎞\n",
       "z⋅⎜── + 1⎟\n",
       "  ⎝z     ⎠"
      ]
     },
     "execution_count": 38,
     "metadata": {},
     "output_type": "execute_result"
    }
   ],
   "source": [
    "Gz = b1*z**-1/(1 + a1*z**-1)\n",
    "Gz"
   ]
  },
  {
   "cell_type": "markdown",
   "metadata": {},
   "source": [
    "Since I have not found an easy way to get sympy to report negative powers of $z$, I find it convenient to define\n",
    "\n",
    "$$q = z^{-1}$$"
   ]
  },
  {
   "cell_type": "code",
   "execution_count": 39,
   "metadata": {
    "collapsed": true
   },
   "outputs": [],
   "source": [
    "def qsubs(fz):\n",
    "    return fz.subs({z: q**-1})"
   ]
  },
  {
   "cell_type": "code",
   "execution_count": 40,
   "metadata": {},
   "outputs": [
    {
     "data": {
      "image/png": "[encoded data removed]",
      "text/latex": [
       "$$\\frac{b_{1} q}{a_{1} q + 1}$$"
      ],
      "text/plain": [
       "  b₁⋅q  \n",
       "────────\n",
       "a₁⋅q + 1"
      ]
     },
     "execution_count": 40,
     "metadata": {},
     "output_type": "execute_result"
    }
   ],
   "source": [
    "qsubs(Gz)"
   ]
  },
  {
   "cell_type": "markdown",
   "metadata": {},
   "source": [
    "To find the response of this system to the unit input, we can multiply the input and the transfer function. Note that this is equivalent to convolution of the polinomial coefficients."
   ]
  },
  {
   "cell_type": "code",
   "execution_count": 41,
   "metadata": {},
   "outputs": [
    {
     "data": {
      "image/png": "[encoded data removed]",
      "text/latex": [
       "$$\\frac{b_{1} q}{\\left(- q + 1\\right) \\left(a_{1} q + 1\\right)}$$"
      ],
      "text/plain": [
       "        b₁⋅q       \n",
       "───────────────────\n",
       "(-q + 1)⋅(a₁⋅q + 1)"
      ]
     },
     "execution_count": 41,
     "metadata": {},
     "output_type": "execute_result"
    }
   ],
   "source": [
    "yz = Gz*uz\n",
    "qsubs(yz)"
   ]
  },
  {
   "cell_type": "code",
   "execution_count": 54,
   "metadata": {
    "collapsed": true
   },
   "outputs": [],
   "source": [
    "K = 2 # The worked version in the textbook uses 2 even though the text says 20\n",
    "tau = 1"
   ]
  },
  {
   "cell_type": "code",
   "execution_count": 55,
   "metadata": {
    "collapsed": true
   },
   "outputs": [],
   "source": [
    "Dt = 1"
   ]
  },
  {
   "cell_type": "code",
   "execution_count": 56,
   "metadata": {},
   "outputs": [],
   "source": [
    "parameters = {a1: -sympy.exp(-Dt/tau),\n",
    "              b1: K*(1 -  sympy.exp(-Dt/tau))\n",
    "             }\n",
    "stepresponse = yz.subs(parameters)"
   ]
  },
  {
   "cell_type": "markdown",
   "metadata": {},
   "source": [
    "To obtain the values of the response at the sampling points, we need to expand the polynomial. We can do this using Taylor series. Sympy has a `Poly` class which can extract all the coefficients of the polynomial easily."
   ]
  },
  {
   "cell_type": "code",
   "execution_count": 57,
   "metadata": {
    "collapsed": true
   },
   "outputs": [],
   "source": [
    "N = 10"
   ]
  },
  {
   "cell_type": "code",
   "execution_count": 58,
   "metadata": {},
   "outputs": [
    {
     "data": {
      "image/png": "[encoded data removed]",
      "text/latex": [
       "$$\\operatorname{Poly}{\\left( 1.99975318039183 q^{9} + 1.99932907474419 q^{8} + 1.99817623606889 q^{7} + 1.99504249564667 q^{6} + 1.98652410600183 q^{5} + 1.96336872222253 q^{4} + 1.90042586326427 q^{3} + 1.72932943352677 q^{2} + 1.26424111765712 q, q, domain=\\mathbb{R} \\right)}$$"
      ],
      "text/plain": [
       "Poly(1.99975318039183*q**9 + 1.99932907474419*q**8 + 1.99817623606889*q**7 + 1\n",
       ".99504249564667*q**6 + 1.98652410600183*q**5 + 1.96336872222253*q**4 + 1.90042\n",
       "586326427*q**3 + 1.72932943352677*q**2 + 1.26424111765712*q, q, domain='RR')"
      ]
     },
     "execution_count": 58,
     "metadata": {},
     "output_type": "execute_result"
    }
   ],
   "source": [
    "qpoly = sympy.Poly(qsubs(stepresponse).series(q, 0, N).removeO(), q)\n",
    "qpoly"
   ]
  },
  {
   "cell_type": "code",
   "execution_count": 59,
   "metadata": {},
   "outputs": [
    {
     "data": {
      "image/png": "[encoded data removed]",
      "text/latex": [
       "$$\\left [ 1.99975318039183, \\quad 1.99932907474419, \\quad 1.99817623606889, \\quad 1.99504249564667, \\quad 1.98652410600183, \\quad 1.96336872222253, \\quad 1.90042586326427, \\quad 1.72932943352677, \\quad 1.26424111765712, \\quad 0.0\\right ]$$"
      ],
      "text/plain": [
       "[1.99975318039183, 1.99932907474419, 1.99817623606889, 1.99504249564667, 1.986\n",
       "52410600183, 1.96336872222253, 1.90042586326427, 1.72932943352677, 1.264241117\n",
       "65712, 0.0]"
      ]
     },
     "execution_count": 59,
     "metadata": {},
     "output_type": "execute_result"
    }
   ],
   "source": [
    "qpoly.all_coeffs()"
   ]
  },
  {
   "cell_type": "markdown",
   "metadata": {},
   "source": [
    "Notice that the coefficients are returned in decreasing orders of $q$, but we want then in increasing orders to plot them."
   ]
  },
  {
   "cell_type": "code",
   "execution_count": 60,
   "metadata": {},
   "outputs": [],
   "source": [
    "responses = list(reversed(qpoly.all_coeffs()))"
   ]
  },
  {
   "cell_type": "code",
   "execution_count": 61,
   "metadata": {
    "collapsed": true
   },
   "outputs": [],
   "source": [
    "import matplotlib.pyplot as plt\n",
    "import numpy"
   ]
  },
  {
   "cell_type": "code",
   "execution_count": 62,
   "metadata": {},
   "outputs": [],
   "source": [
    "%matplotlib inline"
   ]
  },
  {
   "cell_type": "markdown",
   "metadata": {},
   "source": [
    "Let's compare this with the step response of a continuous first order system with the same parameters:"
   ]
  },
  {
   "cell_type": "code",
   "execution_count": 63,
   "metadata": {},
   "outputs": [],
   "source": [
    "sampledt = Dt*numpy.arange(N)"
   ]
  },
  {
   "cell_type": "code",
   "execution_count": 64,
   "metadata": {
    "collapsed": true
   },
   "outputs": [],
   "source": [
    "smootht = numpy.linspace(0, Dt*N)"
   ]
  },
  {
   "cell_type": "code",
   "execution_count": 65,
   "metadata": {},
   "outputs": [],
   "source": [
    "analytic_firstorder = K*(1 - numpy.exp(-smootht/tau))"
   ]
  },
  {
   "cell_type": "code",
   "execution_count": 68,
   "metadata": {},
   "outputs": [
    {
     "data": {
      "text/plain": [
       "[<matplotlib.lines.Line2D at 0x1138d10f0>]"
      ]
     },
     "execution_count": 68,
     "metadata": {},
     "output_type": "execute_result"
    },
    {
     "data": {
      "image/png": "[encoded data removed]",
      "text/plain": [
       "<matplotlib.figure.Figure at 0x1138d15f8>"
      ]
     },
     "metadata": {},
     "output_type": "display_data"
    }
   ],
   "source": [
    "plt.stem(sampledt, responses)\n",
    "plt.plot(smootht, analytic_firstorder)"
   ]
  },
  {
   "cell_type": "markdown",
   "metadata": {},
   "source": [
    "We can get the same values without going through the symbolic steps by using the `scipy.signal` library."
   ]
  },
  {
   "cell_type": "code",
   "execution_count": 69,
   "metadata": {
    "collapsed": true
   },
   "outputs": [],
   "source": [
    "import scipy.signal"
   ]
  },
  {
   "cell_type": "code",
   "execution_count": 70,
   "metadata": {},
   "outputs": [],
   "source": [
    "a1 = -numpy.exp(-Dt/tau)\n",
    "b1 = K*(1 - numpy.exp(-Dt/tau))"
   ]
  },
  {
   "cell_type": "code",
   "execution_count": 71,
   "metadata": {
    "collapsed": true
   },
   "outputs": [],
   "source": [
    "scipy.signal.dlti?"
   ]
  },
  {
   "cell_type": "markdown",
   "metadata": {},
   "source": [
    "Note this uses the transfer function in terms of $z$ (not $z^{-1}$)."
   ]
  },
  {
   "cell_type": "code",
   "execution_count": 72,
   "metadata": {},
   "outputs": [
    {
     "data": {
      "image/png": "[encoded data removed]",
      "text/latex": [
       "$$\\frac{b_{1}}{a_{1} + z}$$"
      ],
      "text/plain": [
       "  b₁  \n",
       "──────\n",
       "a₁ + z"
      ]
     },
     "execution_count": 72,
     "metadata": {},
     "output_type": "execute_result"
    }
   ],
   "source": [
    "Gz.expand()"
   ]
  },
  {
   "cell_type": "code",
   "execution_count": 73,
   "metadata": {
    "collapsed": true
   },
   "outputs": [],
   "source": [
    "scipy.signal.dlti?"
   ]
  },
  {
   "cell_type": "code",
   "execution_count": 75,
   "metadata": {},
   "outputs": [],
   "source": [
    "Gdiscrete = scipy.signal.dlti(b1, [1, a1], dt=1)"
   ]
  },
  {
   "cell_type": "code",
   "execution_count": 76,
   "metadata": {},
   "outputs": [],
   "source": [
    "_, response = Gdiscrete.step(n=N)"
   ]
  },
  {
   "cell_type": "code",
   "execution_count": 77,
   "metadata": {},
   "outputs": [
    {
     "data": {
      "text/plain": [
       "[<matplotlib.lines.Line2D at 0x1139b1be0>]"
      ]
     },
     "execution_count": 77,
     "metadata": {},
     "output_type": "execute_result"
    },
    {
     "data": {
      "image/png": "[encoded data removed]",
      "text/plain": [
       "<matplotlib.figure.Figure at 0x1139b1320>"
      ]
     },
     "metadata": {},
     "output_type": "display_data"
    }
   ],
   "source": [
    "plt.stem(sampledt, numpy.squeeze(response))\n",
    "plt.plot(smootht, analytic_firstorder)"
   ]
  },
  {
   "cell_type": "code",
   "execution_count": null,
   "metadata": {
    "collapsed": true
   },
   "outputs": [],
   "source": []
  }
 ],
 "metadata": {
  "kernelspec": {
   "display_name": "Python 3",
   "language": "python",
   "name": "python3"
  },
  "language_info": {
   "codemirror_mode": {
    "name": "ipython",
    "version": 3
   },
   "file_extension": ".py",
   "mimetype": "text/x-python",
   "name": "python",
   "nbconvert_exporter": "python",
   "pygments_lexer": "ipython3",
   "version": "3.6.2"
  }
 },
 "nbformat": 4,
 "nbformat_minor": 2
}
