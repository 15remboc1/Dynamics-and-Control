{
 "cells": [
  {
   "cell_type": "code",
   "execution_count": 1,
   "metadata": {
    "collapsed": true
   },
   "outputs": [],
   "source": [
    "from __future__ import print_function, division"
   ]
  },
  {
   "cell_type": "code",
   "execution_count": 2,
   "metadata": {
    "collapsed": true
   },
   "outputs": [],
   "source": [
    "import sympy\n",
    "sympy.init_printing()\n",
    "%matplotlib inline"
   ]
  },
  {
   "cell_type": "markdown",
   "metadata": {},
   "source": [
    "Direct synthesis PID design\n",
    "===========================\n",
    "\n",
    "The direct synthesis design technique has a very appealing premise: we choose the desired closed loop behaviour and then rewrite the closed loop transfer function to find the controller which will give us this behaviour.\n",
    "\n",
    "<img src=\"standard_feedback.png\" width=500em>\n",
    "\n",
    "Specifically, we will specify what we want $\\frac{Y}{Y_{SP}}$ to be, given that $D=0$. We will also then calculate $\\frac{Y}{Y_{SP}}$ from the block diagram and then solve for $G_C$."
   ]
  },
  {
   "cell_type": "code",
   "execution_count": 3,
   "metadata": {
    "collapsed": false
   },
   "outputs": [],
   "source": [
    "s, G_C = sympy.symbols('s, G_C')\n",
    "tau_c, phi = sympy.symbols('tau_c, phi')"
   ]
  },
  {
   "cell_type": "markdown",
   "metadata": {},
   "source": [
    "Let's start by choosing a first order plus dead time response for our system. If any of $G_v$ or $G_p$ contain dead time, we cannot avoid that dead time in the response of our system to a setpoint change. Becausre sympy wants to typeset exponents with positive values, I will be using a transformation $\\phi = -\\theta$ in this notebook to get forms similar to the textbook."
   ]
  },
  {
   "cell_type": "code",
   "execution_count": 4,
   "metadata": {
    "collapsed": true
   },
   "outputs": [],
   "source": [
    "desired_Y_over_Y_sp = sympy.exp(phi*s)/(tau_c*s + 1)"
   ]
  },
  {
   "cell_type": "markdown",
   "metadata": {},
   "source": [
    "This is what the prototypical response we've specified looks like. You can see that $\\tau_c$ specifies the desired speed of the response. Also notice that the gain is 1, so that the process eventually follows the set point."
   ]
  },
  {
   "cell_type": "code",
   "execution_count": 5,
   "metadata": {
    "collapsed": true
   },
   "outputs": [],
   "source": [
    "from ipywidgets import interact"
   ]
  },
  {
   "cell_type": "code",
   "execution_count": 6,
   "metadata": {
    "collapsed": false
   },
   "outputs": [
    {
     "data": {
      "image/png": "[encoded data removed]",
      "text/plain": [
       "<matplotlib.figure.Figure at 0x10ad74710>"
      ]
     },
     "metadata": {},
     "output_type": "display_data"
    }
   ],
   "source": [
    "t = sympy.Symbol('t', positive=True)\n",
    "def plotresponse(theta=(0, 3.), tau_c_in=(1., 5.)):\n",
    "    desired_response = sympy.inverse_laplace_transform(desired_Y_over_Y_sp.subs({phi: -theta, tau_c: tau_c_in})/s, s, t)\n",
    "    p = sympy.plot(desired_response, (t, 0, 10), show=False)\n",
    "    p2 = sympy.plot(1, (t, 0, 10), show=False)\n",
    "    p.append(p2[0])\n",
    "    p.show()\n",
    "interact(plotresponse);"
   ]
  },
  {
   "cell_type": "markdown",
   "metadata": {},
   "source": [
    "Now, we calculate the closed loop transfer function. We will assume we have a model of the system called $\\widetilde{G}$"
   ]
  },
  {
   "cell_type": "code",
   "execution_count": 7,
   "metadata": {
    "collapsed": true
   },
   "outputs": [],
   "source": [
    "Gtilde = sympy.Symbol(r'\\widetilde{G}')\n",
    "actual_Y_over_Y_sp = Gtilde*G_C/(1 + Gtilde*G_C)"
   ]
  },
  {
   "cell_type": "markdown",
   "metadata": {},
   "source": [
    "To find the controller expression which will achieve our desired response, we simply solve for desired = actual"
   ]
  },
  {
   "cell_type": "code",
   "execution_count": 8,
   "metadata": {
    "collapsed": false
   },
   "outputs": [
    {
     "data": {
      "image/png": "[encoded data removed]",
      "text/latex": [
       "$$\\frac{e^{\\phi s}}{\\widetilde{G} \\left(s \\tau_{c} - e^{\\phi s} + 1\\right)}$$"
      ],
      "text/plain": [
       "               φ⋅s              \n",
       "              ℯ                 \n",
       "────────────────────────────────\n",
       "              ⎛         φ⋅s    ⎞\n",
       "\\widetilde{G}⋅⎝s⋅τ_c - ℯ    + 1⎠"
      ]
     },
     "execution_count": 8,
     "metadata": {},
     "output_type": "execute_result"
    }
   ],
   "source": [
    "G_C_solved, = sympy.solve(desired_Y_over_Y_sp - actual_Y_over_Y_sp, G_C)\n",
    "G_C_solved"
   ]
  },
  {
   "cell_type": "markdown",
   "metadata": {},
   "source": [
    "We will approximate the dead time in the denominator by a first order Taylor expansion. Note that this choice is not completely unique. In general, we will choose the approximation (Padé or Taylor) which results the correct order of transfer function in the next steps."
   ]
  },
  {
   "cell_type": "code",
   "execution_count": 9,
   "metadata": {
    "collapsed": false
   },
   "outputs": [],
   "source": [
    "denom = sympy.denom(G_C_solved)\n",
    "G_C_rational = G_C_solved*denom/denom.subs(sympy.exp(phi*s), 1 + phi*s)"
   ]
  },
  {
   "cell_type": "code",
   "execution_count": 10,
   "metadata": {
    "collapsed": false
   },
   "outputs": [
    {
     "data": {
      "image/png": "[encoded data removed]",
      "text/latex": [
       "$$- \\frac{e^{\\phi s}}{\\widetilde{G} s \\left(\\phi - \\tau_{c}\\right)}$$"
      ],
      "text/plain": [
       "            φ⋅s          \n",
       "          -ℯ             \n",
       "─────────────────────────\n",
       "\\widetilde{G}⋅s⋅(φ - τ_c)"
      ]
     },
     "execution_count": 10,
     "metadata": {},
     "output_type": "execute_result"
    }
   ],
   "source": [
    "G_C_rational.simplify()"
   ]
  },
  {
   "cell_type": "markdown",
   "metadata": {},
   "source": [
    "Now we can relate this to PID parameters for a general process. Here we have a PID controller expression."
   ]
  },
  {
   "cell_type": "code",
   "execution_count": 21,
   "metadata": {
    "collapsed": false
   },
   "outputs": [
    {
     "data": {
      "image/png": "[encoded data removed]",
      "text/latex": [
       "$$\\frac{K_{C}}{s \\tau_{I}} \\left(s^{2} \\tau_{D} \\tau_{I} + s \\tau_{I} + 1\\right)$$"
      ],
      "text/plain": [
       "    ⎛ 2                    ⎞\n",
       "K_C⋅⎝s ⋅τ_D⋅τ_I + s⋅τ_I + 1⎠\n",
       "────────────────────────────\n",
       "           s⋅τ_I            "
      ]
     },
     "execution_count": 21,
     "metadata": {},
     "output_type": "execute_result"
    }
   ],
   "source": [
    "K_C, tau_I, tau_D = sympy.symbols('K_C, tau_I, tau_D', positive=True, nonzero=True)\n",
    "PID = K_C*(1 + 1/(tau_I*s) + tau_D*s)\n",
    "PID.expand().together()"
   ]
  },
  {
   "cell_type": "markdown",
   "metadata": {},
   "source": [
    "And here we have a second order process with dead time."
   ]
  },
  {
   "cell_type": "code",
   "execution_count": 22,
   "metadata": {
    "collapsed": false
   },
   "outputs": [
    {
     "data": {
      "image/png": "[encoded data removed]",
      "text/latex": [
       "$$\\frac{K e^{\\phi s}}{\\left(s \\tau_{1} + 1\\right) \\left(s \\tau_{2} + 1\\right)}$$"
      ],
      "text/plain": [
       "           φ⋅s       \n",
       "        K⋅ℯ          \n",
       "─────────────────────\n",
       "(s⋅τ₁ + 1)⋅(s⋅τ₂ + 1)"
      ]
     },
     "execution_count": 22,
     "metadata": {},
     "output_type": "execute_result"
    }
   ],
   "source": [
    "K, tau_c, tau_1, tau_2, phi, theta = sympy.symbols('K, tau_c, tau_1, tau_2, phi, theta')\n",
    "G = K*sympy.exp(phi*s)/((tau_1*s + 1)*(tau_2*s + 1))\n",
    "G"
   ]
  },
  {
   "cell_type": "markdown",
   "metadata": {},
   "source": [
    "Our goal is to find the PID parameters which match the rational $G_C$ we derived earlier."
   ]
  },
  {
   "cell_type": "code",
   "execution_count": 58,
   "metadata": {
    "collapsed": false
   },
   "outputs": [],
   "source": [
    "target_G_C = G_C_rational.subs(Gtilde, G).expand().together()\n",
    "numer, denom = (target_G_C - PID).as_numer_denom()\n",
    "eq = sympy.poly(numer, s)"
   ]
  },
  {
   "cell_type": "code",
   "execution_count": 59,
   "metadata": {
    "collapsed": false
   },
   "outputs": [
    {
     "data": {
      "text/plain": [
       "'1.0'"
      ]
     },
     "execution_count": 59,
     "metadata": {},
     "output_type": "execute_result"
    }
   ],
   "source": [
    "sympy.__version__"
   ]
  },
  {
   "cell_type": "markdown",
   "metadata": {},
   "source": [
    "For `sympy` version listed above, the following straightforward solution of the equations yields the correct result. If this process fails for you, read on below."
   ]
  },
  {
   "cell_type": "code",
   "execution_count": 65,
   "metadata": {
    "collapsed": false
   },
   "outputs": [],
   "source": [
    "eqs = eq.coeffs()"
   ]
  },
  {
   "cell_type": "code",
   "execution_count": 68,
   "metadata": {
    "collapsed": false
   },
   "outputs": [
    {
     "data": {
      "image/png": "[encoded data removed]",
      "text/latex": [
       "$$\\left [ \\left \\{ K_{C} : - \\frac{\\tau_{1} + \\tau_{2}}{K \\left(\\phi - \\tau_{c}\\right)}, \\quad \\tau_{D} : \\frac{\\tau_{1} \\tau_{2}}{\\tau_{1} + \\tau_{2}}, \\quad \\tau_{I} : \\tau_{1} + \\tau_{2}\\right \\}\\right ]$$"
      ],
      "text/plain": [
       "⎡⎧     -(τ₁ + τ₂)         τ₁⋅τ₂               ⎫⎤\n",
       "⎢⎨K_C: ───────────, τ_D: ───────, τ_I: τ₁ + τ₂⎬⎥\n",
       "⎣⎩     K⋅(φ - τ_c)       τ₁ + τ₂              ⎭⎦"
      ]
     },
     "execution_count": 68,
     "metadata": {},
     "output_type": "execute_result"
    }
   ],
   "source": [
    "sympy.solve(eqs, [K_C, tau_D, tau_I])"
   ]
  },
  {
   "cell_type": "markdown",
   "metadata": {},
   "source": [
    "Earlier versions of Sympy aren't clever enough to solve these equations.  Let's look at those equations again"
   ]
  },
  {
   "cell_type": "code",
   "execution_count": 69,
   "metadata": {
    "collapsed": false
   },
   "outputs": [
    {
     "data": {
      "image/png": "[encoded data removed]",
      "text/latex": [
       "$$\\left [ K K_{C} \\phi \\tau_{D} \\tau_{I} - K K_{C} \\tau_{D} \\tau_{I} \\tau_{c} + \\tau_{1} \\tau_{2} \\tau_{I}, \\quad K K_{C} \\phi \\tau_{I} - K K_{C} \\tau_{I} \\tau_{c} + \\tau_{1} \\tau_{I} + \\tau_{2} \\tau_{I}, \\quad K K_{C} \\phi - K K_{C} \\tau_{c} + \\tau_{I}\\right ]$$"
      ],
      "text/plain": [
       "[K⋅K_C⋅φ⋅τ_D⋅τ_I - K⋅K_C⋅τ_D⋅τ_I⋅τ_c + τ₁⋅τ₂⋅τ_I, K⋅K_C⋅φ⋅τ_I - K⋅K_C⋅τ_I⋅τ_c \n",
       "+ τ₁⋅τ_I + τ₂⋅τ_I, K⋅K_C⋅φ - K⋅K_C⋅τ_c + τ_I]"
      ]
     },
     "execution_count": 69,
     "metadata": {},
     "output_type": "execute_result"
    }
   ],
   "source": [
    "eqs"
   ]
  },
  {
   "cell_type": "markdown",
   "metadata": {},
   "source": [
    "With a little bit of help from us to choose the correct order to solve, we can get the solution in the book."
   ]
  },
  {
   "cell_type": "code",
   "execution_count": 70,
   "metadata": {
    "collapsed": false
   },
   "outputs": [
    {
     "data": {
      "image/png": "[encoded data removed]",
      "text/latex": [
       "$$\\left \\{ K_{C} : - \\frac{\\tau_{1} + \\tau_{2}}{K \\left(\\phi - \\tau_{c}\\right)}, \\quad \\tau_{D} : \\frac{\\tau_{1} \\tau_{2}}{\\tau_{1} + \\tau_{2}}, \\quad \\tau_{I} : \\tau_{1} + \\tau_{2}\\right \\}$$"
      ],
      "text/plain": [
       "⎧     -(τ₁ + τ₂)         τ₁⋅τ₂               ⎫\n",
       "⎨K_C: ───────────, τ_D: ───────, τ_I: τ₁ + τ₂⎬\n",
       "⎩     K⋅(φ - τ_c)       τ₁ + τ₂              ⎭"
      ]
     },
     "execution_count": 70,
     "metadata": {},
     "output_type": "execute_result"
    }
   ],
   "source": [
    "solution = {}\n",
    "solution[K_C] = sympy.solve(eqs[1], K_C)[0]\n",
    "solution[tau_D] = sympy.solve(eqs[0], tau_D)[0].subs(solution)\n",
    "solution[tau_I] = sympy.solve(eqs[2], tau_I)[0].subs(solution).simplify()\n",
    "solution"
   ]
  }
 ],
 "metadata": {
  "kernelspec": {
   "display_name": "Python 3",
   "language": "python",
   "name": "python3"
  },
  "language_info": {
   "codemirror_mode": {
    "name": "ipython",
    "version": 3
   },
   "file_extension": ".py",
   "mimetype": "text/x-python",
   "name": "python",
   "nbconvert_exporter": "python",
   "pygments_lexer": "ipython3",
   "version": "3.5.1"
  }
 },
 "nbformat": 4,
 "nbformat_minor": 0
}
