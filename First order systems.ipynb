{
 "cells": [
  {
   "cell_type": "markdown",
   "metadata": {},
   "source": [
    "First order systems\n",
    "============="
   ]
  },
  {
   "cell_type": "code",
   "execution_count": 1,
   "metadata": {
    "collapsed": true
   },
   "outputs": [],
   "source": [
    "import sympy\n",
    "import matplotlib.pyplot as plt\n",
    "import numpy\n",
    "sympy.init_printing()\n",
    "%matplotlib inline"
   ]
  },
  {
   "cell_type": "code",
   "execution_count": 2,
   "metadata": {
    "collapsed": true
   },
   "outputs": [],
   "source": [
    "t, K, tau = sympy.symbols('t, K, tau',real=True, positive=True)\n",
    "s = sympy.Symbol('s')"
   ]
  },
  {
   "cell_type": "code",
   "execution_count": 3,
   "metadata": {
    "collapsed": true
   },
   "outputs": [],
   "source": [
    "u = sympy.Heaviside(t)"
   ]
  },
  {
   "cell_type": "code",
   "execution_count": 4,
   "metadata": {
    "collapsed": true
   },
   "outputs": [],
   "source": [
    "def L(f):\n",
    "    return sympy.laplace_transform(f, t, s, noconds=True)\n",
    "def invL(F):\n",
    "    return sympy.inverse_laplace_transform(F, s, t)"
   ]
  },
  {
   "cell_type": "code",
   "execution_count": 5,
   "metadata": {},
   "outputs": [
    {
     "data": {
      "image/png": "[encoded data removed]",
      "text/latex": [
       "$$\\frac{1}{s}$$"
      ],
      "text/plain": [
       "1\n",
       "─\n",
       "s"
      ]
     },
     "execution_count": 5,
     "metadata": {},
     "output_type": "execute_result"
    }
   ],
   "source": [
    "U = L(u)\n",
    "U"
   ]
  },
  {
   "cell_type": "markdown",
   "metadata": {},
   "source": [
    "All first order linear differential equations with constant coefficients can be rewritten in the following form:\n",
    "\n",
    "$$ \\frac{\\mathrm{d}y}{\\mathrm{d}t} = ay(t) + bu(t) $$\n",
    "\n",
    "Where $y$ is the output and $u$ is the input or forcing function.\n",
    "\n",
    "If we Laplace transform this, we end up with\n",
    "\n",
    "\\begin{align}\n",
    "\\mathcal{L}\\left\\{\\frac{\\mathrm{d}y}{\\mathrm{d}t}\\right\\} &= \\mathcal{L}\\{ay(t) + bu(t)\\} \\\\\n",
    "sy(s) &= ay(s) + bu(s) \\\\\n",
    "y(s) &= \\frac{b}{s - a}u(s) \\\\\n",
    "\\end{align}\n"
   ]
  },
  {
   "cell_type": "markdown",
   "metadata": {},
   "source": [
    "By convention, we usually rewrite the above in the following form, for reasons which will become apparent soon:"
   ]
  },
  {
   "cell_type": "code",
   "execution_count": 6,
   "metadata": {},
   "outputs": [
    {
     "data": {
      "image/png": "[encoded data removed]",
      "text/latex": [
       "$$\\frac{K}{s \\tau + 1}$$"
      ],
      "text/plain": [
       "   K   \n",
       "───────\n",
       "s⋅τ + 1"
      ]
     },
     "execution_count": 6,
     "metadata": {},
     "output_type": "execute_result"
    }
   ],
   "source": [
    "G = K/(tau*s + 1)\n",
    "G"
   ]
  },
  {
   "cell_type": "markdown",
   "metadata": {},
   "source": [
    "The inverse laplace of a transfer function is its impulse response"
   ]
  },
  {
   "cell_type": "code",
   "execution_count": 7,
   "metadata": {},
   "outputs": [
    {
     "data": {
      "image/png": "[encoded data removed]",
      "text/latex": [
       "$$\\frac{K}{\\tau e^{\\frac{t}{\\tau}}}$$"
      ],
      "text/plain": [
       "   -t \n",
       "   ───\n",
       "    τ \n",
       "K⋅ℯ   \n",
       "──────\n",
       "  τ   "
      ]
     },
     "execution_count": 7,
     "metadata": {},
     "output_type": "execute_result"
    }
   ],
   "source": [
    "impulseresponse = invL(G)\n",
    "impulseresponse"
   ]
  },
  {
   "cell_type": "markdown",
   "metadata": {},
   "source": [
    "If $u(t)$ is the unit step function, $U(s)=\\frac{1}{s}$ and we can obtain the step response as follows:"
   ]
  },
  {
   "cell_type": "code",
   "execution_count": 8,
   "metadata": {
    "collapsed": true
   },
   "outputs": [],
   "source": [
    "u = 1/s\n",
    "stepresponse = invL(G*u)"
   ]
  },
  {
   "cell_type": "code",
   "execution_count": 9,
   "metadata": {},
   "outputs": [
    {
     "data": {
      "image/png": "[encoded data removed]",
      "text/latex": [
       "$$K - \\frac{K}{e^{\\frac{t}{\\tau}}}$$"
      ],
      "text/plain": [
       "       -t \n",
       "       ───\n",
       "        τ \n",
       "K - K⋅ℯ   "
      ]
     },
     "execution_count": 9,
     "metadata": {},
     "output_type": "execute_result"
    }
   ],
   "source": [
    "stepresponse"
   ]
  },
  {
   "cell_type": "markdown",
   "metadata": {},
   "source": [
    "Ramp response:"
   ]
  },
  {
   "cell_type": "code",
   "execution_count": 10,
   "metadata": {},
   "outputs": [
    {
     "data": {
      "image/png": "[encoded data removed]",
      "text/latex": [
       "$$K t - K \\tau + \\frac{K \\tau}{e^{\\frac{t}{\\tau}}}$$"
      ],
      "text/plain": [
       "                 -t \n",
       "                 ───\n",
       "                  τ \n",
       "K⋅t - K⋅τ + K⋅τ⋅ℯ   "
      ]
     },
     "execution_count": 10,
     "metadata": {},
     "output_type": "execute_result"
    }
   ],
   "source": [
    "u = 1/s**2\n",
    "rampresponse = invL(G*u)\n",
    "rampresponse"
   ]
  },
  {
   "cell_type": "code",
   "execution_count": 11,
   "metadata": {
    "collapsed": true
   },
   "outputs": [],
   "source": [
    "from ipywidgets import interact"
   ]
  },
  {
   "cell_type": "code",
   "execution_count": 12,
   "metadata": {
    "collapsed": true
   },
   "outputs": [],
   "source": [
    "evalfimpulse = sympy.lambdify((K, tau, t), impulseresponse, 'numpy')\n",
    "evalfstep = sympy.lambdify((K, tau, t), stepresponse, 'numpy')\n",
    "evalframp = sympy.lambdify((K, tau, t), rampresponse, 'numpy')"
   ]
  },
  {
   "cell_type": "code",
   "execution_count": 13,
   "metadata": {
    "collapsed": true
   },
   "outputs": [],
   "source": [
    "ts = numpy.linspace(0, 10)\n",
    "\n",
    "def firstorder(tau_in, K_in):\n",
    "    plt.figure(figsize=(12, 6))\n",
    "    plt.subplot(2, 2, 1)\n",
    "    plt.title('Impulse response')\n",
    "    plt.plot(ts, evalfimpulse(K_in, tau_in, ts))\n",
    "    plt.ylim(0, 10)\n",
    "    plt.subplot(2, 2, 3)\n",
    "    plt.title('Step response')\n",
    "    tau_height = 1 - numpy.exp(-1)\n",
    "    plt.plot(ts, evalfstep(K_in, tau_in, ts))\n",
    "    plt.axhline(K_in)\n",
    "    plt.plot([0, tau_in, tau_in], [K_in*tau_height]*2 + [0], alpha=0.4)\n",
    "    plt.text(0, K_in, '$K=${}'.format(K_in))\n",
    "    plt.text(0, K_in*tau_height, '{:.3}$K$'.format(tau_height))\n",
    "    plt.text(tau_in, 0, r'$\\tau={:.3}$'.format(tau_in))\n",
    "    plt.ylim(0, 10)\n",
    "#     plt.subplot(3, 2, 7)\n",
    "#     plt.title('ramp response')\n",
    "#     plt.plot(ts, evalframp(K_in, tau_in, ts))\n",
    "#     plt.ylim(0, 10)\n",
    "    plt.subplot(1, 2, 2)\n",
    "    plt.title('Poles plot')\n",
    "    plt.scatter(-1/tau_in, 0, marker='x', s=30)\n",
    "    plt.axhline(0, color='black')\n",
    "    plt.axvline(0, color='black')\n",
    "    plt.axis([-10, 10, -10, 10])\n",
    "    plt.show()"
   ]
  },
  {
   "cell_type": "code",
   "execution_count": 14,
   "metadata": {},
   "outputs": [
    {
     "data": {
      "application/vnd.jupyter.widget-view+json": {
       "model_id": "3152515bd087440ab9b8b7aa97473a91"
      }
     },
     "metadata": {},
     "output_type": "display_data"
    }
   ],
   "source": [
    "interact(firstorder, tau_in=(0.1, 10.), K_in=(0.1, 10.));"
   ]
  },
  {
   "cell_type": "markdown",
   "metadata": {},
   "source": [
    "Exploration of the above interaction allows us to see the following:\n",
    "\n",
    "* $K$ scales the response in the $y$ direction\n",
    "* $\\tau$ scales the response in the $t$ direction\n",
    "* The response of the system is always $0.63K$ when $t=\\tau$"
   ]
  },
  {
   "cell_type": "code",
   "execution_count": 15,
   "metadata": {},
   "outputs": [
    {
     "data": {
      "image/png": "[encoded data removed]",
      "text/latex": [
       "$$0.632120558828558$$"
      ],
      "text/plain": [
       "0.632120558828558"
      ]
     },
     "execution_count": 15,
     "metadata": {},
     "output_type": "execute_result"
    }
   ],
   "source": [
    "sympy.N((stepresponse.subs(t, tau)/K).simplify())"
   ]
  }
 ],
 "metadata": {
  "anaconda-cloud": {},
  "kernelspec": {
   "display_name": "Python 3",
   "language": "python",
   "name": "python3"
  },
  "language_info": {
   "codemirror_mode": {
    "name": "ipython",
    "version": 3
   },
   "file_extension": ".py",
   "mimetype": "text/x-python",
   "name": "python",
   "nbconvert_exporter": "python",
   "pygments_lexer": "ipython3",
   "version": "3.6.1"
  }
 },
 "nbformat": 4,
 "nbformat_minor": 1
}
