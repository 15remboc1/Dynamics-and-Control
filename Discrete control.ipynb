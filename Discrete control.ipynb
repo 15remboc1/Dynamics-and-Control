{
 "cells": [
  {
   "cell_type": "code",
   "execution_count": 1,
   "metadata": {
    "collapsed": true
   },
   "outputs": [],
   "source": [
    "from __future__ import print_function, division"
   ]
  },
  {
   "cell_type": "code",
   "execution_count": 2,
   "metadata": {
    "collapsed": true
   },
   "outputs": [],
   "source": [
    "import numpy\n",
    "import matplotlib.pyplot as plt\n",
    "%matplotlib inline"
   ]
  },
  {
   "cell_type": "markdown",
   "metadata": {},
   "source": [
    "Numeric simulation\n",
    "------------------\n",
    "\n",
    "Let's start with a very simple numeric simulation of a proportional controller acting on a first order process $G = \\frac{y}{u} = \\frac{K}{\\tau s + 1}$. \n",
    "\n",
    "$$\\begin{align}\n",
    "y(s)(\\tau s + 1) &= K u(s) \\\\\n",
    "\\tau s y(s) + y(s) &= K u(s) \\\\\n",
    "s y(s) &= \\frac{1}{\\tau}\\left(K u(s) - y(s)\\right)\\\\\n",
    "\\frac{dy}{dt} &= \\frac{1}{\\tau}\\left(Ku - y\\right)\n",
    "\\end{align}\n",
    "$$"
   ]
  },
  {
   "cell_type": "code",
   "execution_count": 3,
   "metadata": {
    "collapsed": true
   },
   "outputs": [],
   "source": [
    "K = 3\n",
    "tau = 2"
   ]
  },
  {
   "cell_type": "code",
   "execution_count": 4,
   "metadata": {
    "collapsed": true
   },
   "outputs": [],
   "source": [
    "Kc = 2"
   ]
  },
  {
   "cell_type": "code",
   "execution_count": 5,
   "metadata": {},
   "outputs": [],
   "source": [
    "ts = numpy.linspace(0, 5, 1000)\n",
    "dt = ts[1]"
   ]
  },
  {
   "cell_type": "code",
   "execution_count": 6,
   "metadata": {},
   "outputs": [],
   "source": [
    "y_continuous = []\n",
    "u_continuous = []\n",
    "y = 0\n",
    "sp = 1\n",
    "for t in ts:\n",
    "    e = sp - y\n",
    "    u = Kc*e\n",
    "    dydt = 1/tau*(K*u - y)\n",
    "    \n",
    "    y += dydt*dt\n",
    "    \n",
    "    u_continuous.append(u)\n",
    "    y_continuous.append(y)"
   ]
  },
  {
   "cell_type": "code",
   "execution_count": 7,
   "metadata": {},
   "outputs": [
    {
     "data": {
      "text/plain": [
       "[<matplotlib.lines.Line2D at 0x10b14cc18>]"
      ]
     },
     "execution_count": 7,
     "metadata": {},
     "output_type": "execute_result"
    },
    {
     "data": {
      "image/png": "[encoded data removed]",
      "text/plain": [
       "<matplotlib.figure.Figure at 0x10946f7b8>"
      ]
     },
     "metadata": {},
     "output_type": "display_data"
    }
   ],
   "source": [
    "plt.subplot(2, 1, 1)\n",
    "plt.plot(ts, u_continuous)\n",
    "plt.subplot(2, 1, 2)\n",
    "plt.plot(ts, y_continuous)"
   ]
  },
  {
   "cell_type": "markdown",
   "metadata": {},
   "source": [
    "Now, let's use a discrete version of the same controller. We will assume a Zero Order Hold between the controller and the system."
   ]
  },
  {
   "cell_type": "markdown",
   "metadata": {},
   "source": [
    "The discrete controller will only run at the sampling points. Now, we have an integration timestep and a discrete timestep. We call the integration timestep `dt` and the sampling time $\\Delta t$. We may think that if we use the above `for` loop to update `t`, it will eventually be equal to $\\Delta t$, but this is not true in general. Instead, we set a target for the sampling time and check if we are at a time greater than that time, then set a new time one sampling time in the future."
   ]
  },
  {
   "cell_type": "code",
   "execution_count": 8,
   "metadata": {
    "collapsed": true
   },
   "outputs": [],
   "source": [
    "DeltaT = 0.5  # sampling time"
   ]
  },
  {
   "cell_type": "code",
   "execution_count": 9,
   "metadata": {},
   "outputs": [],
   "source": [
    "u_discrete = []\n",
    "y_discrete = []\n",
    "y = 0\n",
    "sp = 1\n",
    "next_sample = 0\n",
    "for t in ts:\n",
    "    if t >= next_sample:\n",
    "        e = sp - y\n",
    "        u = Kc*e\n",
    "        next_sample += DeltaT\n",
    "    dydt = 1/tau*(K*u - y)\n",
    "    y += dydt*dt\n",
    "    \n",
    "    u_discrete.append(u)\n",
    "    y_discrete.append(y)"
   ]
  },
  {
   "cell_type": "code",
   "execution_count": 10,
   "metadata": {},
   "outputs": [
    {
     "data": {
      "text/plain": [
       "[<matplotlib.lines.Line2D at 0x10b564b00>,\n",
       " <matplotlib.lines.Line2D at 0x10b564cc0>]"
      ]
     },
     "execution_count": 10,
     "metadata": {},
     "output_type": "execute_result"
    },
    {
     "data": {
      "image/png": "[encoded data removed]",
      "text/plain": [
       "<matplotlib.figure.Figure at 0x10b44e470>"
      ]
     },
     "metadata": {},
     "output_type": "display_data"
    }
   ],
   "source": [
    "plt.subplot(2, 1, 1)\n",
    "plt.plot(ts, u_continuous,\n",
    "         ts, u_discrete)\n",
    "plt.subplot(2, 1, 2)\n",
    "plt.plot(ts, y_continuous,\n",
    "         ts, y_discrete)"
   ]
  },
  {
   "cell_type": "markdown",
   "metadata": {
    "collapsed": true
   },
   "source": [
    "Notice the difference? Because the discrete controller only calculates its values at the sampling points and because the ZOH keeps its output constant, the discrete controller takes more action later on, in fact introducing some oscillation where the continuous controller could use arbitrarily large gain."
   ]
  },
  {
   "cell_type": "markdown",
   "metadata": {},
   "source": [
    "Symbolic calculation\n",
    "--------------------\n",
    "\n",
    "Now we will try to replicate that last figure without doing numeric simulation.  The continuous controller is trivially done via the Laplace transform:"
   ]
  },
  {
   "cell_type": "code",
   "execution_count": 11,
   "metadata": {
    "collapsed": true
   },
   "outputs": [],
   "source": [
    "import sympy\n",
    "sympy.init_printing()"
   ]
  },
  {
   "cell_type": "code",
   "execution_count": 12,
   "metadata": {},
   "outputs": [],
   "source": [
    "s = sympy.Symbol('s')\n",
    "t = sympy.Symbol('t', positive=True)\n",
    "\n",
    "Gc = Kc  # controller\n",
    "G = K/(tau*s + 1)  # system\n",
    "\n",
    "G_cl = Gc*G/(1 + Gc*G)\n",
    "\n",
    "rs = 1/s  # step input r(s)\n",
    "\n",
    "ys = rs*G_cl  # system output y(s)\n",
    "es = rs - ys  # error\n",
    "us = Gc*es  # controller output\n",
    "\n",
    "yt = sympy.inverse_laplace_transform(ys, s, t)\n",
    "ut = sympy.inverse_laplace_transform(us, s, t)"
   ]
  },
  {
   "cell_type": "code",
   "execution_count": 13,
   "metadata": {},
   "outputs": [
    {
     "data": {
      "image/png": "[encoded data removed]",
      "text/plain": [
       "<matplotlib.figure.Figure at 0x10cb24518>"
      ]
     },
     "metadata": {},
     "output_type": "display_data"
    },
    {
     "data": {
      "image/png": "[encoded data removed]",
      "text/plain": [
       "<matplotlib.figure.Figure at 0x10cdc33c8>"
      ]
     },
     "metadata": {},
     "output_type": "display_data"
    },
    {
     "data": {
      "text/plain": [
       "<sympy.plotting.plot.Plot at 0x10cdba6d8>"
      ]
     },
     "execution_count": 13,
     "metadata": {},
     "output_type": "execute_result"
    }
   ],
   "source": [
    "sympy.plot(ut, (t, 0, 5))\n",
    "sympy.plot(yt, (t, 0, 5))"
   ]
  },
  {
   "cell_type": "markdown",
   "metadata": {},
   "source": [
    "Now for the discrete controller. First we need some new symbols."
   ]
  },
  {
   "cell_type": "code",
   "execution_count": 14,
   "metadata": {
    "collapsed": true
   },
   "outputs": [],
   "source": [
    "z, q = sympy.symbols('z, q')"
   ]
  },
  {
   "cell_type": "markdown",
   "metadata": {},
   "source": [
    "We get the z transform of a sampled step from the table in the datasheet."
   ]
  },
  {
   "cell_type": "code",
   "execution_count": 15,
   "metadata": {
    "collapsed": true
   },
   "outputs": [],
   "source": [
    "rz = 1/(1 - z**-1)"
   ]
  },
  {
   "cell_type": "markdown",
   "metadata": {},
   "source": [
    "If we rewrite a z-transformed signal as a polynomial $r(z) = a_0 + a_1 z^{-1} + a_2 z^{-2} \\dots$ , the coefficients give the values at the sampling points, so $a_0 = r(0)$, $a_1 = r(\\Delta t)$, $a_2 = r(2\\Delta t)$ and so on. We can obtain these coefficients easily using a Taylor expansion in sympy."
   ]
  },
  {
   "cell_type": "code",
   "execution_count": 16,
   "metadata": {},
   "outputs": [
    {
     "data": {
      "image/png": "[encoded data removed]",
      "text/latex": [
       "$$1 + q + q^{2} + q^{3} + q^{4} + q^{5} + \\mathcal{O}\\left(q^{6}\\right)$$"
      ],
      "text/plain": [
       "         2    3    4    5    ⎛ 6⎞\n",
       "1 + q + q  + q  + q  + q  + O⎝q ⎠"
      ]
     },
     "execution_count": 16,
     "metadata": {},
     "output_type": "execute_result"
    }
   ],
   "source": [
    "rz.subs(z, q**-1).series()"
   ]
  },
  {
   "cell_type": "markdown",
   "metadata": {},
   "source": [
    "We can see clearly that all the coefficients are 1 for the step. Let's define a function for these coefficients."
   ]
  },
  {
   "cell_type": "code",
   "execution_count": 17,
   "metadata": {
    "collapsed": true
   },
   "outputs": [],
   "source": [
    "def sampledvalues(fz, N):\n",
    "    return sympy.poly(fz.subs(z, q**-1).series(q, 0, N).removeO(), q).all_coeffs()[::-1]"
   ]
  },
  {
   "cell_type": "code",
   "execution_count": 18,
   "metadata": {
    "collapsed": true
   },
   "outputs": [],
   "source": [
    "def plotdiscrete(fz, N):\n",
    "    values = sampledvalues(fz, N)\n",
    "    times = [n*DeltaT for n in range(N)]\n",
    "    plt.stem(times, values)"
   ]
  },
  {
   "cell_type": "code",
   "execution_count": 19,
   "metadata": {},
   "outputs": [
    {
     "data": {
      "image/png": "[encoded data removed]",
      "text/plain": [
       "<matplotlib.figure.Figure at 0x10b564ac8>"
      ]
     },
     "metadata": {},
     "output_type": "display_data"
    }
   ],
   "source": [
    "plotdiscrete(rz, 10)"
   ]
  },
  {
   "cell_type": "markdown",
   "metadata": {},
   "source": [
    "Let's move on to the other transfer functions. The controller is simple:"
   ]
  },
  {
   "cell_type": "code",
   "execution_count": 20,
   "metadata": {
    "collapsed": true
   },
   "outputs": [],
   "source": [
    "Gcz = Kc"
   ]
  },
  {
   "cell_type": "markdown",
   "metadata": {},
   "source": [
    "The controller is connected to a hold element ($H$) which is connected to the system itself ($G$). The z-transform of this combination can be written $\\mathcal{Z}\\{H(s)G(s)\\}$. Remember, $H(s) = \\frac{1}{s}(1 - e^{-\\Delta t s})$. Now we can show\n",
    "\n",
    "$$\n",
    "\\newcommand\\Z[1]{\\mathcal{Z}\\left\\{#1\\right\\}}\n",
    "\\begin{align}\\Z{H(s)G(s)} &= \\Z{\\frac{1}{s}(1 - e^{-Ts})G(s)} \\\\\n",
    "                          &= \\Z{\\frac{G(s)}{s}(1 - e^{-Ts})} \\\\\n",
    "                          &= \\Z{F(s) - F(s)e^{-Ts}} \\\\\n",
    "                          &= \\Z{F(s)} - \\Z{F(s)e^{-Ts}} \\\\\n",
    "                          &= F(z) - F(z)z^{-1} \\\\\n",
    "                          &= F(z)(1 - z^{-1})\n",
    "  \\end{align}$$\n",
    "\n",
    "\n",
    "$G(s) = \\frac{K}{\\tau s + 1}$ so the z transform we're looking for will be $F(z) - z^{-1}F(z)$ with $F(z)$ being the transform on the right of the table of $\\frac{1}{s}G(s)$."
   ]
  },
  {
   "cell_type": "code",
   "execution_count": 21,
   "metadata": {},
   "outputs": [],
   "source": [
    "a = 1/tau\n",
    "b = sympy.exp(-a*DeltaT)\n",
    "Fz = K*(1 - b)*z**-1/((1 - z**-1)*(1 - b*z**-1))  # In the datasheet table, this corresponds with (1 - e^{-at})\n",
    "HGz = Fz - z**-1*Fz"
   ]
  },
  {
   "cell_type": "markdown",
   "metadata": {},
   "source": [
    "Let's verify that this is correct by plotting the continuous response along with the discrete values:"
   ]
  },
  {
   "cell_type": "code",
   "execution_count": 22,
   "metadata": {},
   "outputs": [
    {
     "data": {
      "text/plain": [
       "[<matplotlib.lines.Line2D at 0x10d1259b0>]"
      ]
     },
     "execution_count": 22,
     "metadata": {},
     "output_type": "execute_result"
    },
    {
     "data": {
      "image/png": "[encoded data removed]",
      "text/plain": [
       "<matplotlib.figure.Figure at 0x10d521c18>"
      ]
     },
     "metadata": {},
     "output_type": "display_data"
    }
   ],
   "source": [
    "plotdiscrete(rz*HGz, 10)\n",
    "plt.plot(ts, K*(1 - numpy.exp(-ts/tau)))"
   ]
  },
  {
   "cell_type": "markdown",
   "metadata": {},
   "source": [
    "Now we have the discrete transfer functions, we can repeat the same calculation as before."
   ]
  },
  {
   "cell_type": "code",
   "execution_count": 23,
   "metadata": {
    "collapsed": true
   },
   "outputs": [],
   "source": [
    "yz = rz*Gcz*HGz/(1 + Gcz*HGz)"
   ]
  },
  {
   "cell_type": "code",
   "execution_count": 24,
   "metadata": {},
   "outputs": [
    {
     "data": {
      "text/plain": [
       "<matplotlib.legend.Legend at 0x10ce7a710>"
      ]
     },
     "execution_count": 24,
     "metadata": {},
     "output_type": "execute_result"
    },
    {
     "data": {
      "image/png": "[encoded data removed]",
      "text/plain": [
       "<matplotlib.figure.Figure at 0x10d58aa58>"
      ]
     },
     "metadata": {},
     "output_type": "display_data"
    }
   ],
   "source": [
    "plt.plot(ts, y_discrete)\n",
    "plotdiscrete(yz, 10)\n",
    "plt.legend(['Numeric simulation', 'Analytical at sampling points'])"
   ]
  },
  {
   "cell_type": "markdown",
   "metadata": {},
   "source": [
    "So now we have recovered the response we calculated numerically before analytically. Let's see if we can reproduce the numeric values between the sampling points for the continuous system output. Our first step is to construct the Laplace transform of the controller output. Let's look again what that looked like:"
   ]
  },
  {
   "cell_type": "code",
   "execution_count": 25,
   "metadata": {},
   "outputs": [
    {
     "data": {
      "text/plain": [
       "[<matplotlib.lines.Line2D at 0x10d67a470>]"
      ]
     },
     "execution_count": 25,
     "metadata": {},
     "output_type": "execute_result"
    },
    {
     "data": {
      "image/png": "[encoded data removed]",
      "text/plain": [
       "<matplotlib.figure.Figure at 0x10d6dba90>"
      ]
     },
     "metadata": {},
     "output_type": "display_data"
    }
   ],
   "source": [
    "ez = rz - yz\n",
    "uz = Gcz*ez\n",
    "plotdiscrete(uz, 10)\n",
    "plt.plot(ts, u_discrete)"
   ]
  },
  {
   "cell_type": "markdown",
   "metadata": {},
   "source": [
    "These are clearly lots of step signals added together.\n",
    "\n",
    "If we were trying to calculate the response of the system to a single pulse input, it would be simple.\n",
    "\n",
    "Since\n",
    "$$\\begin{align}\n",
    "y(s) &= G(s)u(s) \\\\\n",
    "y(t) &= \\mathcal{L}^{-1}\\{G(s)u(s)\\}\n",
    "\\end{align}$$\n",
    "\n",
    "and a pulse signal of width $\\Delta t$ and height $v$ has Laplace transform $\\frac{v}{s}\\left(1 - e^{-\\Delta t s}\\right) = vH(s)$, the single output would be easy to obtain:"
   ]
  },
  {
   "cell_type": "code",
   "execution_count": 26,
   "metadata": {
    "collapsed": true
   },
   "outputs": [],
   "source": [
    "Hs = 1/s*(1 - sympy.exp(-DeltaT*s))"
   ]
  },
  {
   "cell_type": "code",
   "execution_count": 27,
   "metadata": {},
   "outputs": [],
   "source": [
    "u_single_pulse = 2*Hs\n",
    "y_single_pulse = sympy.inverse_laplace_transform(G*u_single_pulse, s, t)"
   ]
  },
  {
   "cell_type": "code",
   "execution_count": 28,
   "metadata": {},
   "outputs": [
    {
     "data": {
      "image/png": "[encoded data removed]",
      "text/plain": [
       "<matplotlib.figure.Figure at 0x10e202128>"
      ]
     },
     "metadata": {},
     "output_type": "display_data"
    },
    {
     "data": {
      "text/plain": [
       "<sympy.plotting.plot.Plot at 0x10d6db780>"
      ]
     },
     "execution_count": 28,
     "metadata": {},
     "output_type": "execute_result"
    }
   ],
   "source": [
    "sympy.plot(y_single_pulse, (t, 0, 5))"
   ]
  },
  {
   "cell_type": "markdown",
   "metadata": {},
   "source": [
    "For subsequent pulses, we simply shift the pulse one time step up.  So, given\n",
    "\n",
    "$$u(z) = a_0 + a_1 z^{-1} + a_2 z^{-2} + \\cdots = \\sum_{i=0}^{\\infty} a_i z^{-i}$$\n",
    "\n",
    "If the output of the controller is zero-order held so that the held version of the signal is $u_h$, we can write \n",
    "\n",
    "$$ u_h(s) = a_0H(s) + a_1 H(s) e^{-\\Delta t s} + a_2 H(s) e^{-2 \\Delta t s} = \\sum_{i=0}^{\\infty} a_i H(s) e^{-i\\Delta t s} $$"
   ]
  },
  {
   "cell_type": "markdown",
   "metadata": {},
   "source": [
    "This maps quite elegantly to the following generator expression:"
   ]
  },
  {
   "cell_type": "code",
   "execution_count": 29,
   "metadata": {},
   "outputs": [],
   "source": [
    "uhs = sum(ai*Hs*sympy.exp(-i*DeltaT*s) \n",
    "          for i, ai in enumerate(sampledvalues(uz, 10)))"
   ]
  },
  {
   "cell_type": "markdown",
   "metadata": {},
   "source": [
    "Equivalently, we can write"
   ]
  },
  {
   "cell_type": "code",
   "execution_count": 30,
   "metadata": {
    "collapsed": true
   },
   "outputs": [],
   "source": [
    "uhs = 0\n",
    "a = sampledvalues(uz, 10)\n",
    "for i in range(10):\n",
    "    uhs += a[i]*Hs*sympy.exp(-i*DeltaT*s)"
   ]
  },
  {
   "cell_type": "markdown",
   "metadata": {},
   "source": [
    "Now we can construct the continuous response like this:"
   ]
  },
  {
   "cell_type": "code",
   "execution_count": 31,
   "metadata": {},
   "outputs": [],
   "source": [
    "ys = uhs*G"
   ]
  },
  {
   "cell_type": "code",
   "execution_count": 32,
   "metadata": {},
   "outputs": [],
   "source": [
    "yt = sympy.inverse_laplace_transform(ys, s, t)"
   ]
  },
  {
   "cell_type": "code",
   "execution_count": 33,
   "metadata": {},
   "outputs": [
    {
     "data": {
      "text/plain": [
       "[<matplotlib.lines.Line2D at 0x10cdc8780>]"
      ]
     },
     "execution_count": 33,
     "metadata": {},
     "output_type": "execute_result"
    },
    {
     "data": {
      "image/png": "[encoded data removed]",
      "text/plain": [
       "<matplotlib.figure.Figure at 0x10e450128>"
      ]
     },
     "metadata": {},
     "output_type": "display_data"
    }
   ],
   "source": [
    "plt.plot(ts, y_discrete)\n",
    "plt.plot(ts, [sympy.N(yt.subs(t, ti)) for ti in ts], '--')"
   ]
  },
  {
   "cell_type": "markdown",
   "metadata": {},
   "source": [
    "Notice that the analytical solution and numeric solution agree, but make sure you understand what the difference is in approach."
   ]
  }
 ],
 "metadata": {
  "anaconda-cloud": {},
  "kernelspec": {
   "display_name": "Python 3",
   "language": "python",
   "name": "python3"
  },
  "language_info": {
   "codemirror_mode": {
    "name": "ipython",
    "version": 3
   },
   "file_extension": ".py",
   "mimetype": "text/x-python",
   "name": "python",
   "nbconvert_exporter": "python",
   "pygments_lexer": "ipython3",
   "version": "3.6.2"
  }
 },
 "nbformat": 4,
 "nbformat_minor": 1
}
