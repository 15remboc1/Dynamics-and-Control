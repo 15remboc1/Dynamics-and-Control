{
 "metadata": {
  "kernelspec": {
   "display_name": "Python 3",
   "language": "python",
   "name": "python3"
  },
  "language_info": {
   "codemirror_mode": {
    "name": "ipython",
    "version": 3
   },
   "file_extension": ".py",
   "mimetype": "text/x-python",
   "name": "python",
   "nbconvert_exporter": "python",
   "pygments_lexer": "ipython3",
   "version": "3.5.1"
  },
  "name": ""
 },
 "nbformat": 3,
 "nbformat_minor": 0,
 "worksheets": [
  {
   "cells": [
    {
     "cell_type": "code",
     "collapsed": true,
     "input": [
      "import numpy\n",
      "import scipy.signal\n",
      "import scipy.optimize\n",
      "import matplotlib.pyplot as plt\n",
      "from controllers import PIController\n",
      "%matplotlib inline"
     ],
     "language": "python",
     "metadata": {},
     "outputs": [],
     "prompt_number": 1
    },
    {
     "cell_type": "markdown",
     "metadata": {},
     "source": [
      "We will simulate a first order plus dead time system under PI control"
     ]
    },
    {
     "cell_type": "code",
     "collapsed": true,
     "input": [
      "# This is the 1,1 element of a Wood and Berry column (see eq 16-12)\n",
      "K = 12.8\n",
      "tau = 16.7\n",
      "theta = 1"
     ],
     "language": "python",
     "metadata": {},
     "outputs": [],
     "prompt_number": 2
    },
    {
     "cell_type": "code",
     "collapsed": false,
     "input": [
      "ts = numpy.linspace(0, 2*tau, 500)\n",
      "dt = ts[1]\n",
      "r = 1"
     ],
     "language": "python",
     "metadata": {},
     "outputs": [],
     "prompt_number": 3
    },
    {
     "cell_type": "code",
     "collapsed": false,
     "input": [
      "def response(Kc, tau_i):\n",
      "    Gc = PIController(Kc, tau_i, bias=0)\n",
      "    y = 0\n",
      "    ys = numpy.zeros_like(ts)\n",
      "\n",
      "    for i, t in enumerate(ts):\n",
      "        e = r - numpy.interp(t - theta, ts, ys)\n",
      "        \n",
      "        Gc.change_input(t, e)\n",
      "        u = Gc.output\n",
      "\n",
      "        dydt = -1/tau*y + K/tau*u\n",
      "\n",
      "        # integrate\n",
      "        y += dydt*dt\n",
      "        Gc.change_state(Gc.x + Gc.derivative*dt)\n",
      "\n",
      "        ys[i] = y\n",
      "    return ys"
     ],
     "language": "python",
     "metadata": {},
     "outputs": [],
     "prompt_number": 4
    },
    {
     "cell_type": "markdown",
     "metadata": {},
     "source": [
      "What does the setpoint response look like?"
     ]
    },
    {
     "cell_type": "code",
     "collapsed": false,
     "input": [
      "for Kc in [0.5, 1, 2]:\n",
      "    plt.plot(ts, response(Kc, 10), label='$K_c={}$'.format(Kc))\n",
      "plt.axhline(r, label='$y_{sp}$')\n",
      "plt.legend()"
     ],
     "language": "python",
     "metadata": {},
     "outputs": [
      {
       "metadata": {},
       "output_type": "pyout",
       "prompt_number": 5,
       "text": [
        "<matplotlib.legend.Legend at 0x10fda2898>"
       ]
      },
      {
       "metadata": {},
       "output_type": "display_data",
       "png": "[encoded data removed]",
       "text": [
        "<matplotlib.figure.Figure at 0x10e17c7b8>"
       ]
      }
     ],
     "prompt_number": 5
    },
    {
     "cell_type": "markdown",
     "metadata": {},
     "source": [
      "These are the error measures in the book (eq 11-35 to 11-37). Note that the syntax `f(*parameters)` with `parameters=(1, 2)` is equivalent to `f(1, 2)`. "
     ]
    },
    {
     "cell_type": "code",
     "collapsed": true,
     "input": [
      "def iae(parameters):\n",
      "    return scipy.integrate.trapz(numpy.abs(response(*parameters) - r), ts)"
     ],
     "language": "python",
     "metadata": {},
     "outputs": [],
     "prompt_number": 6
    },
    {
     "cell_type": "code",
     "collapsed": true,
     "input": [
      "def ise(parameters):\n",
      "    return scipy.integrate.trapz((response(*parameters) - r)**2, ts)"
     ],
     "language": "python",
     "metadata": {},
     "outputs": [],
     "prompt_number": 7
    },
    {
     "cell_type": "code",
     "collapsed": false,
     "input": [
      "def itae(parameters):\n",
      "    return scipy.integrate.trapz(numpy.abs(response(*parameters) - r)*ts, ts)"
     ],
     "language": "python",
     "metadata": {},
     "outputs": [],
     "prompt_number": 8
    },
    {
     "cell_type": "code",
     "collapsed": true,
     "input": [
      "errfuns = [iae, ise, itae]"
     ],
     "language": "python",
     "metadata": {},
     "outputs": [],
     "prompt_number": 9
    },
    {
     "cell_type": "markdown",
     "metadata": {},
     "source": [
      "Now we can find the optimal parameters for the various error measures. Note that this step takes a very long time to run (>10 minutes on my computer)."
     ]
    },
    {
     "cell_type": "code",
     "collapsed": false,
     "input": [
      "optimal_parameters = {}\n",
      "for error in errfuns:\n",
      "    name = error.__name__.upper()\n",
      "    optimal_parameters[name] = scipy.optimize.minimize(error, [1, 10]).x\n",
      "    print(name, *optimal_parameters[name])\n",
      "    plt.plot(ts, response(*optimal_parameters[name]), label=name)\n",
      "plt.axhline(1, label='setpoint')\n",
      "plt.legend(loc='best')"
     ],
     "language": "python",
     "metadata": {},
     "outputs": [
      {
       "output_type": "stream",
       "stream": "stdout",
       "text": [
        "IAE 0.80686571462 16.6997996014\n",
        "ISE 1.04698004367 25.4750682969\n",
        "ITAE 0.68423614858 16.6999999978\n"
       ]
      },
      {
       "metadata": {},
       "output_type": "pyout",
       "prompt_number": 10,
       "text": [
        "<matplotlib.legend.Legend at 0x110736630>"
       ]
      },
      {
       "metadata": {},
       "output_type": "display_data",
       "png": "[encoded data removed]",
       "text": [
        "<matplotlib.figure.Figure at 0x110334438>"
       ]
      }
     ],
     "prompt_number": 10
    },
    {
     "cell_type": "markdown",
     "metadata": {},
     "source": [
      "In table 11.3, we find the following design relations for ITAE:"
     ]
    },
    {
     "cell_type": "code",
     "collapsed": false,
     "input": [
      "A, B = 0.586, -0.916\n",
      "Kc = A*(theta/tau)**B/K\n",
      "A, B = 1.03, -0.165\n",
      "tau_i = tau/(A + B*(theta/tau))\n",
      "\n",
      "print(Kc, tau_i)"
     ],
     "language": "python",
     "metadata": {},
     "outputs": [
      {
       "output_type": "stream",
       "stream": "stdout",
       "text": [
        "0.6035259299979403 16.370626907724816\n"
       ]
      }
     ],
     "prompt_number": 11
    },
    {
     "cell_type": "markdown",
     "metadata": {},
     "source": [
      "These values correspond with those found through direct minimisation."
     ]
    },
    {
     "cell_type": "code",
     "collapsed": false,
     "input": [
      "plt.plot(ts, response(Kc, tau_i))"
     ],
     "language": "python",
     "metadata": {},
     "outputs": [
      {
       "metadata": {},
       "output_type": "pyout",
       "prompt_number": 12,
       "text": [
        "[<matplotlib.lines.Line2D at 0x1109a2b70>]"
       ]
      },
      {
       "metadata": {},
       "output_type": "display_data",
       "png": "[encoded data removed]",
       "text": [
        "<matplotlib.figure.Figure at 0x1102c9518>"
       ]
      }
     ],
     "prompt_number": 12
    }
   ],
   "metadata": {}
  }
 ]
}
