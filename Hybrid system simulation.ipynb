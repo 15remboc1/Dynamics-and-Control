{
 "cells": [
  {
   "cell_type": "markdown",
   "metadata": {},
   "source": [
    "We covered the idea of simulating an arbitrary transfer function system in a previous notebook. What happens if we have to simulate a controller (specified as a transfer function) and a system specified by differential equations together?"
   ]
  },
  {
   "cell_type": "markdown",
   "metadata": {},
   "source": [
    "Nonlinear tank system\n",
    "---------------------\n",
    "\n",
    "Let's take the classic tank system, with a square root flow relationship on the outflow and a nonlinear valve relationship.\n",
    "\n",
    "<img src=\"tanksystem.png\">\n",
    "\n",
    "$$\\begin{align}\n",
    "  \\frac{dV}{dt} &= (F_{in} - F_{out}) \\\\\n",
    "  h &= \\frac{V}{A} \\\\\n",
    "  f(x) &= \\alpha^{x - 1} \\\\\n",
    "  F_{out} &= K f(x) \\sqrt{h} \\\\\n",
    "  \\end{align}$$\n",
    "\n",
    "\n"
   ]
  },
  {
   "cell_type": "code",
   "execution_count": 2,
   "metadata": {
    "collapsed": true
   },
   "outputs": [],
   "source": [
    "import numpy\n",
    "import matplotlib.pyplot as plt\n",
    "%matplotlib inline"
   ]
  },
  {
   "cell_type": "markdown",
   "metadata": {},
   "source": [
    "Parameters"
   ]
  },
  {
   "cell_type": "code",
   "execution_count": 3,
   "metadata": {
    "collapsed": true
   },
   "outputs": [],
   "source": [
    "A = 2\n",
    "alpha = 20\n",
    "K = 2"
   ]
  },
  {
   "cell_type": "markdown",
   "metadata": {},
   "source": [
    "Initial conditions (notice I'm not starting at steady state)"
   ]
  },
  {
   "cell_type": "code",
   "execution_count": 4,
   "metadata": {},
   "outputs": [],
   "source": [
    "Fin = 1\n",
    "h = 1\n",
    "V = A*h\n",
    "x0 = x = 0.7"
   ]
  },
  {
   "cell_type": "markdown",
   "metadata": {},
   "source": [
    "Valve characterisitic"
   ]
  },
  {
   "cell_type": "code",
   "execution_count": 5,
   "metadata": {
    "collapsed": true
   },
   "outputs": [],
   "source": [
    "def f(x):\n",
    "    return alpha**(x - 1)"
   ]
  },
  {
   "cell_type": "markdown",
   "metadata": {},
   "source": [
    "Integration time"
   ]
  },
  {
   "cell_type": "code",
   "execution_count": 6,
   "metadata": {
    "collapsed": true
   },
   "outputs": [],
   "source": [
    "ts = numpy.linspace(0, 100, 1000)\n",
    "dt = ts[1]"
   ]
  },
  {
   "cell_type": "markdown",
   "metadata": {},
   "source": [
    "Notice that I have reordered the equations here so that they can be evaluated in order to find the volume derivative."
   ]
  },
  {
   "cell_type": "code",
   "execution_count": 7,
   "metadata": {},
   "outputs": [],
   "source": [
    "hs = []\n",
    "for t in ts:\n",
    "    h = V/A\n",
    "    Fout = K*f(x)*numpy.sqrt(h)\n",
    "    dVdt = Fin - Fout\n",
    "    V += dVdt*dt\n",
    "    \n",
    "    hs.append(h)"
   ]
  },
  {
   "cell_type": "code",
   "execution_count": 8,
   "metadata": {},
   "outputs": [
    {
     "data": {
      "text/plain": [
       "[<matplotlib.lines.Line2D at 0x7f277fcf3ba8>]"
      ]
     },
     "execution_count": 8,
     "metadata": {},
     "output_type": "execute_result"
    },
    {
     "data": {
      "image/png": "[encoded data removed]",
      "text/plain": [
       "<matplotlib.figure.Figure at 0x7f2783347c88>"
      ]
     },
     "metadata": {},
     "output_type": "display_data"
    }
   ],
   "source": [
    "plt.plot(ts, hs)"
   ]
  },
  {
   "cell_type": "markdown",
   "metadata": {},
   "source": [
    "PI Control\n",
    "-----------\n",
    "\n",
    "Now we can include a controller controlling the level by manipulating the valve fraction"
   ]
  },
  {
   "cell_type": "code",
   "execution_count": 9,
   "metadata": {
    "collapsed": true
   },
   "outputs": [],
   "source": [
    "import scipy.signal"
   ]
  },
  {
   "cell_type": "markdown",
   "metadata": {},
   "source": [
    "Let's do a PI controller:\n",
    "\n",
    "$$ G_c = K_c(1 + \\frac{1}{\\tau_I s}) = \\frac{K_C \\tau_I s + K_Cs^0}{\\tau_I s + 0s^0} $$"
   ]
  },
  {
   "cell_type": "code",
   "execution_count": 10,
   "metadata": {
    "collapsed": true
   },
   "outputs": [],
   "source": [
    "Kc = -1\n",
    "tau_i = 5\n",
    "\n",
    "Gc = scipy.signal.lti([Kc*tau_i, Kc], [tau_i, 0])"
   ]
  },
  {
   "cell_type": "code",
   "execution_count": 11,
   "metadata": {
    "collapsed": true
   },
   "outputs": [],
   "source": [
    "hsp = 1.3"
   ]
  },
  {
   "cell_type": "code",
   "execution_count": 13,
   "metadata": {},
   "outputs": [],
   "source": [
    "V = 1\n",
    "hs = []\n",
    "xc = numpy.zeros([Gc.A.shape[0], 1])\n",
    "for t in ts:\n",
    "    h = V/A\n",
    "    e = hsp - h  # we cheat a little here - the level we use to calculate the error is from the previous time step\n",
    "    \n",
    "    # e is in the input to the controller, yc is the output\n",
    "    dxcdt = Gc.A.dot(xc) + Gc.B.dot(e)\n",
    "    yc = Gc.C.dot(xc) + Gc.D.dot(e)\n",
    "    \n",
    "    x = x0 + yc[0,0]  # x0 is the controller bias\n",
    "    \n",
    "    Fout = K*f(x)*numpy.sqrt(h)\n",
    "    dVdt = Fin - Fout\n",
    "    \n",
    "    V += dVdt*dt\n",
    "    xc += dxcdt*dt\n",
    "    \n",
    "    hs.append(h)"
   ]
  },
  {
   "cell_type": "code",
   "execution_count": 14,
   "metadata": {},
   "outputs": [
    {
     "data": {
      "text/plain": [
       "[<matplotlib.lines.Line2D at 0x7f2776643438>]"
      ]
     },
     "execution_count": 14,
     "metadata": {},
     "output_type": "execute_result"
    },
    {
     "data": {
      "image/png": "[encoded data removed]",
      "text/plain": [
       "<matplotlib.figure.Figure at 0x7f27766bf6d8>"
      ]
     },
     "metadata": {},
     "output_type": "display_data"
    }
   ],
   "source": [
    "plt.plot(ts, hs)"
   ]
  },
  {
   "cell_type": "code",
   "execution_count": null,
   "metadata": {
    "collapsed": true
   },
   "outputs": [],
   "source": []
  }
 ],
 "metadata": {
  "anaconda-cloud": {},
  "kernelspec": {
   "display_name": "Python 3",
   "language": "python",
   "name": "python3"
  },
  "language_info": {
   "codemirror_mode": {
    "name": "ipython",
    "version": 3
   },
   "file_extension": ".py",
   "mimetype": "text/x-python",
   "name": "python",
   "nbconvert_exporter": "python",
   "pygments_lexer": "ipython3",
   "version": "3.6.1"
  }
 },
 "nbformat": 4,
 "nbformat_minor": 1
}
