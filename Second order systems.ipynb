{
 "cells": [
  {
   "cell_type": "code",
   "execution_count": 1,
   "metadata": {
    "collapsed": true
   },
   "outputs": [],
   "source": [
    "import sympy\n",
    "import matplotlib.pyplot as plt\n",
    "import numpy\n",
    "sympy.init_printing()\n",
    "%matplotlib inline"
   ]
  },
  {
   "cell_type": "code",
   "execution_count": 2,
   "metadata": {
    "collapsed": true
   },
   "outputs": [],
   "source": [
    "tau, zeta, t, w, K = sympy.symbols('tau, zeta, t, w, K', real=True, positive=True)\n",
    "s = sympy.Symbol('s')"
   ]
  },
  {
   "cell_type": "code",
   "execution_count": 3,
   "metadata": {
    "collapsed": true
   },
   "outputs": [],
   "source": [
    "def L(f):\n",
    "    return sympy.laplace_transform(f, t, s, noconds=True)\n",
    "def invL(F):\n",
    "    return sympy.inverse_laplace_transform(F, s, t)"
   ]
  },
  {
   "cell_type": "markdown",
   "metadata": {},
   "source": [
    "This is the standard form for the second order system transfer function"
   ]
  },
  {
   "cell_type": "code",
   "execution_count": 4,
   "metadata": {
    "collapsed": false
   },
   "outputs": [
    {
     "data": {
      "image/png": "[encoded data removed]",
      "text/latex": [
       "$$\\frac{K}{s^{2} \\tau^{2} + 2 s \\tau \\zeta + 1}$$"
      ],
      "text/plain": [
       "         K         \n",
       "───────────────────\n",
       " 2  2              \n",
       "s ⋅τ  + 2⋅s⋅τ⋅ζ + 1"
      ]
     },
     "execution_count": 4,
     "metadata": {},
     "output_type": "execute_result"
    }
   ],
   "source": [
    "G = K/(tau**2*s**2 + 2*tau*zeta*s + 1)\n",
    "G"
   ]
  },
  {
   "cell_type": "markdown",
   "metadata": {},
   "source": [
    "The characteristic equation is the denominator of the transfer function"
   ]
  },
  {
   "cell_type": "code",
   "execution_count": 5,
   "metadata": {
    "collapsed": false
   },
   "outputs": [
    {
     "data": {
      "image/png": "[encoded data removed]",
      "text/latex": [
       "$$s^{2} \\tau^{2} + 2 s \\tau \\zeta + 1 = 0$$"
      ],
      "text/plain": [
       " 2  2                  \n",
       "s ⋅τ  + 2⋅s⋅τ⋅ζ + 1 = 0"
      ]
     },
     "execution_count": 5,
     "metadata": {},
     "output_type": "execute_result"
    }
   ],
   "source": [
    "ce = sympy.Eq(sympy.denom(G), 0)\n",
    "ce"
   ]
  },
  {
   "cell_type": "code",
   "execution_count": 6,
   "metadata": {
    "collapsed": false
   },
   "outputs": [
    {
     "data": {
      "image/png": "[encoded data removed]",
      "text/latex": [
       "$$\\left \\{ \\frac{1}{\\tau} \\left(- \\zeta - \\sqrt{\\zeta - 1} \\sqrt{\\zeta + 1}\\right) : 1, \\quad \\frac{1}{\\tau} \\left(- \\zeta + \\sqrt{\\zeta - 1} \\sqrt{\\zeta + 1}\\right) : 1\\right \\}$$"
      ],
      "text/plain": [
       "⎧       _______   _______            _______   _______   ⎫\n",
       "⎪-ζ - ╲╱ ζ - 1 ⋅╲╱ ζ + 1      -ζ + ╲╱ ζ - 1 ⋅╲╱ ζ + 1    ⎪\n",
       "⎨────────────────────────: 1, ────────────────────────: 1⎬\n",
       "⎪           τ                            τ               ⎪\n",
       "⎩                                                        ⎭"
      ]
     },
     "execution_count": 6,
     "metadata": {},
     "output_type": "execute_result"
    }
   ],
   "source": [
    "roots = sympy.roots(ce, s)\n",
    "roots"
   ]
  },
  {
   "cell_type": "markdown",
   "metadata": {},
   "source": [
    "The shape of the inverse Laplace depends on the nature of the roots, which depends on the value of $\\zeta$"
   ]
  },
  {
   "cell_type": "markdown",
   "metadata": {},
   "source": [
    "Overdamped: $\\zeta>1$. Two distinct real roots"
   ]
  },
  {
   "cell_type": "code",
   "execution_count": 7,
   "metadata": {
    "collapsed": false
   },
   "outputs": [
    {
     "data": {
      "image/png": "[encoded data removed]",
      "text/latex": [
       "$$\\frac{\\sqrt{3} K \\left(e^{\\frac{\\sqrt{3} t}{\\tau}} - 1\\right) \\left(e^{\\frac{\\sqrt{3} t}{\\tau}} + 1\\right)}{6 \\tau e^{\\frac{t}{\\tau} \\left(\\sqrt{3} + 2\\right)}}$$"
      ],
      "text/plain": [
       "        ⎛   ___      ⎞ ⎛   ___      ⎞     ⎛  ___    ⎞ \n",
       "        ⎜ ╲╱ 3 ⋅t    ⎟ ⎜ ╲╱ 3 ⋅t    ⎟  -t⋅⎝╲╱ 3  + 2⎠ \n",
       "        ⎜ ───────    ⎟ ⎜ ───────    ⎟  ───────────────\n",
       "  ___   ⎜    τ       ⎟ ⎜    τ       ⎟         τ       \n",
       "╲╱ 3 ⋅K⋅⎝ℯ        - 1⎠⋅⎝ℯ        + 1⎠⋅ℯ               \n",
       "──────────────────────────────────────────────────────\n",
       "                         6⋅τ                          "
      ]
     },
     "execution_count": 7,
     "metadata": {},
     "output_type": "execute_result"
    }
   ],
   "source": [
    "invL(G.subs({zeta: 2}))"
   ]
  },
  {
   "cell_type": "markdown",
   "metadata": {},
   "source": [
    "Critically damped: $\\zeta=1$. Repeated roots."
   ]
  },
  {
   "cell_type": "code",
   "execution_count": 8,
   "metadata": {
    "collapsed": false
   },
   "outputs": [
    {
     "data": {
      "image/png": "[encoded data removed]",
      "text/latex": [
       "$$\\frac{K t}{\\tau^{2} e^{\\frac{t}{\\tau}}}$$"
      ],
      "text/plain": [
       "     -t \n",
       "     ───\n",
       "      τ \n",
       "K⋅t⋅ℯ   \n",
       "────────\n",
       "    2   \n",
       "   τ    "
      ]
     },
     "execution_count": 8,
     "metadata": {},
     "output_type": "execute_result"
    }
   ],
   "source": [
    "invL(G.subs({zeta: 1}))"
   ]
  },
  {
   "cell_type": "markdown",
   "metadata": {},
   "source": [
    "Underdamped: $0<\\zeta<1$: a complex conjugate pair of roots"
   ]
  },
  {
   "cell_type": "code",
   "execution_count": 9,
   "metadata": {
    "collapsed": false
   },
   "outputs": [
    {
     "data": {
      "image/png": "[encoded data removed]",
      "text/latex": [
       "$$\\frac{1.15470053837925 K}{\\tau e^{\\frac{0.5 t}{\\tau}}} \\sin{\\left (\\frac{0.866025403784439 t}{\\tau} \\right )}$$"
      ],
      "text/plain": [
       "                    -0.5⋅t                          \n",
       "                    ───────                         \n",
       "                       τ       ⎛0.866025403784439⋅t⎞\n",
       "1.15470053837925⋅K⋅ℯ       ⋅sin⎜───────────────────⎟\n",
       "                               ⎝         τ         ⎠\n",
       "────────────────────────────────────────────────────\n",
       "                         τ                          "
      ]
     },
     "execution_count": 9,
     "metadata": {},
     "output_type": "execute_result"
    }
   ],
   "source": [
    "invL(G.subs({zeta: 0.5}))"
   ]
  },
  {
   "cell_type": "markdown",
   "metadata": {},
   "source": [
    "Unfortunately, some values of the parameters have some \"strange\" values for the inverse :-("
   ]
  },
  {
   "cell_type": "code",
   "execution_count": 10,
   "metadata": {
    "collapsed": false
   },
   "outputs": [
    {
     "name": "stdout",
     "output_type": "stream",
     "text": [
      "(0.202*t - 0.404*EulerGamma - 0.404*polygamma(0, 1.0))*exp(-0.2*t)\n",
      "0.198019801980198*meijerg(((0.728681938243239, 0.855476477598345), ()), ((), (-0.271318061756761, -0.144523522401655)), exp(t))\n"
     ]
    }
   ],
   "source": [
    "knownbadvalues = [{K: 5.05, tau: 5., zeta: 1.},\n",
    "                  {K: 5.05, tau: 5.05, zeta: 1.05}\n",
    "                  ]\n",
    "for values in knownbadvalues:\n",
    "    print invL(G.subs(values))"
   ]
  },
  {
   "cell_type": "markdown",
   "metadata": {},
   "source": [
    "Matrix exponential\n",
    "==================\n",
    "A more uniform strategy is to convert the second order differential equation into two first order differential equations and use the matrix exponential for the solution of the step response.\n",
    "\n",
    "We can reason that if \n",
    "$$ G = \\frac{y}{u} = \\frac{K}{\\tau^2 s^2 + 2 \\tau \\zeta s + 1},$$\n",
    "\n",
    "then\n",
    "\n",
    "$$ y (\\tau^2 s^2 + 2 \\tau \\zeta s + 1) = K u $$\n",
    "\n",
    "and introducing an auxiliary variable $z=sy$, we have a system\n",
    "\n",
    "$$ \\begin{align}\n",
    " 2\\tau\\zeta sy + \\tau^2 sz &= K u - y  \\\\\n",
    " sy &= z \n",
    "\\end{align} $$"
   ]
  },
  {
   "cell_type": "markdown",
   "metadata": {},
   "source": [
    "Now,\n",
    "\n",
    "$$ s\\begin{bmatrix} 2\\tau\\zeta & \\tau^2 \\\\ 1 & 0 \\end{bmatrix}\\begin{bmatrix}y\\\\z\\end{bmatrix} = \\begin{bmatrix} -1 & 0 \\\\ 0 & 1 \\end{bmatrix}\\begin{bmatrix}y\\\\z\\end{bmatrix} + \\begin{bmatrix}K\\\\0\\end{bmatrix}u$$\n",
    "\n",
    "$$\\dot{\\mathbf{x}}=A\\mathbf{x} + Bu$$"
   ]
  },
  {
   "cell_type": "code",
   "execution_count": 11,
   "metadata": {
    "collapsed": true
   },
   "outputs": [],
   "source": [
    "LHS = sympy.Matrix([[2*tau*zeta, tau**2],\n",
    "                    [1, 0]])\n",
    "RHS1 = sympy.Matrix([[-1, 0],\n",
    "                    [0, 1]])"
   ]
  },
  {
   "cell_type": "code",
   "execution_count": 12,
   "metadata": {
    "collapsed": false
   },
   "outputs": [
    {
     "data": {
      "image/png": "[encoded data removed]",
      "text/latex": [
       "$$\\left[\\begin{matrix}0 & 1\\\\- \\frac{1}{\\tau^{2}} & - \\frac{2 \\zeta}{\\tau}\\end{matrix}\\right]$$"
      ],
      "text/plain": [
       "⎡ 0     1  ⎤\n",
       "⎢          ⎥\n",
       "⎢-1   -2⋅ζ ⎥\n",
       "⎢───  ─────⎥\n",
       "⎢  2    τ  ⎥\n",
       "⎣ τ        ⎦"
      ]
     },
     "execution_count": 12,
     "metadata": {},
     "output_type": "execute_result"
    }
   ],
   "source": [
    "A = LHS.inv()*RHS1\n",
    "A"
   ]
  },
  {
   "cell_type": "code",
   "execution_count": 13,
   "metadata": {
    "collapsed": false
   },
   "outputs": [
    {
     "data": {
      "image/png": "[encoded data removed]",
      "text/latex": [
       "$$\\left[\\begin{matrix}0\\\\\\frac{K}{\\tau^{2}}\\end{matrix}\\right]$$"
      ],
      "text/plain": [
       "⎡0 ⎤\n",
       "⎢  ⎥\n",
       "⎢K ⎥\n",
       "⎢──⎥\n",
       "⎢ 2⎥\n",
       "⎣τ ⎦"
      ]
     },
     "execution_count": 13,
     "metadata": {},
     "output_type": "execute_result"
    }
   ],
   "source": [
    "B = LHS.inv()*sympy.Matrix([K, 0])\n",
    "B"
   ]
  },
  {
   "cell_type": "markdown",
   "metadata": {
    "collapsed": false
   },
   "source": [
    "Steady state"
   ]
  },
  {
   "cell_type": "code",
   "execution_count": 14,
   "metadata": {
    "collapsed": false
   },
   "outputs": [
    {
     "data": {
      "image/png": "[encoded data removed]",
      "text/latex": [
       "$$\\left[\\begin{matrix}K\\\\0\\end{matrix}\\right]$$"
      ],
      "text/plain": [
       "⎡K⎤\n",
       "⎢ ⎥\n",
       "⎣0⎦"
      ]
     },
     "execution_count": 14,
     "metadata": {},
     "output_type": "execute_result"
    }
   ],
   "source": [
    "x0 = -A.inv()*B\n",
    "x0"
   ]
  },
  {
   "cell_type": "code",
   "execution_count": 15,
   "metadata": {
    "collapsed": false
   },
   "outputs": [],
   "source": [
    "stepresponse = (x0 - sympy.exp(A*t)*x0)[0,0]"
   ]
  },
  {
   "cell_type": "markdown",
   "metadata": {},
   "source": [
    "The eigenvalues of the A matrix are the same as the roots of the characteristic equation."
   ]
  },
  {
   "cell_type": "code",
   "execution_count": 16,
   "metadata": {
    "collapsed": false
   },
   "outputs": [
    {
     "data": {
      "image/png": "[encoded data removed]",
      "text/latex": [
       "$$\\left \\{ \\frac{1}{\\tau} \\left(- \\zeta - \\sqrt{\\zeta - 1} \\sqrt{\\zeta + 1}\\right) : 1, \\quad \\frac{1}{\\tau} \\left(- \\zeta + \\sqrt{\\zeta - 1} \\sqrt{\\zeta + 1}\\right) : 1\\right \\}$$"
      ],
      "text/plain": [
       "⎧       _______   _______            _______   _______   ⎫\n",
       "⎪-ζ - ╲╱ ζ - 1 ⋅╲╱ ζ + 1      -ζ + ╲╱ ζ - 1 ⋅╲╱ ζ + 1    ⎪\n",
       "⎨────────────────────────: 1, ────────────────────────: 1⎬\n",
       "⎪           τ                            τ               ⎪\n",
       "⎩                                                        ⎭"
      ]
     },
     "execution_count": 16,
     "metadata": {},
     "output_type": "execute_result"
    }
   ],
   "source": [
    "A.eigenvals()"
   ]
  },
  {
   "cell_type": "code",
   "execution_count": 17,
   "metadata": {
    "collapsed": false
   },
   "outputs": [
    {
     "name": "stderr",
     "output_type": "stream",
     "text": [
      ":0: FutureWarning: IPython widgets are experimental and may change in the future.\n"
     ]
    }
   ],
   "source": [
    "from IPython.html.widgets import interact"
   ]
  },
  {
   "cell_type": "code",
   "execution_count": 21,
   "metadata": {
    "collapsed": false
   },
   "outputs": [],
   "source": [
    "tmax = 30\n",
    "ts = numpy.linspace(0, tmax, 100)\n",
    "\n",
    "def secondorder(K_in, tau_in, zeta_in):\n",
    "    values = {K: K_in, tau: tau_in, zeta: zeta_in}\n",
    "    AA = A.subs(values)\n",
    "    stepresponse = sympy.re((x0.subs(values) - sympy.exp(AA*t)*x0.subs(values))[0,0])\n",
    "    evalf = sympy.lambdify((t,), stepresponse, modules='numpy')\n",
    "    plt.figure(figsize=(12, 6))\n",
    "    plt.subplot(1, 2, 1)\n",
    "    plt.title('Step response')\n",
    "    tau_height = evalf(tau_in)\n",
    "    plt.plot(ts, evalf(ts))\n",
    "    plt.axhline(K_in)\n",
    "    plt.plot([0, tau_in, tau_in], [tau_height]*2 + [0], alpha=0.4)\n",
    "    plt.text(0, K_in, '$K=${}'.format(K_in))\n",
    "    plt.text(0, tau_height, '{:.3}$K$'.format(tau_height))\n",
    "    plt.text(tau_in, 0, r'$\\tau={:.3}$'.format(tau_in))\n",
    "    plt.ylim(0, 10)\n",
    "    plt.subplot(1, 2, 2)\n",
    "    plt.title('Poles plot')\n",
    "    realpart = [sympy.re(r.subs(values)) for r in roots]\n",
    "    imagpart = [sympy.im(r.subs(values)) for r in roots]\n",
    "    plt.scatter(realpart, imagpart, marker='x', s=30)\n",
    "    plt.axhline(0, color='black')\n",
    "    plt.axvline(0, color='black')\n",
    "    plt.axis([-2, 2, -2, 2])"
   ]
  },
  {
   "cell_type": "code",
   "execution_count": 22,
   "metadata": {
    "collapsed": false
   },
   "outputs": [
    {
     "data": {
      "image/png": "[encoded data removed]",
      "text/plain": [
       "<matplotlib.figure.Figure at 0x10fb5dd90>"
      ]
     },
     "metadata": {},
     "output_type": "display_data"
    }
   ],
   "source": [
    "interact(secondorder, K_in=(0.1, 10.), tau_in=(0., 10.), zeta_in=(0., 2));"
   ]
  }
 ],
 "metadata": {
  "kernelspec": {
   "display_name": "Python 2",
   "language": "python",
   "name": "python2"
  },
  "language_info": {
   "codemirror_mode": {
    "name": "ipython",
    "version": 2
   },
   "file_extension": ".py",
   "mimetype": "text/x-python",
   "name": "python",
   "nbconvert_exporter": "python",
   "pygments_lexer": "ipython2",
   "version": "2.7.2"
  }
 },
 "nbformat": 4,
 "nbformat_minor": 0
}
