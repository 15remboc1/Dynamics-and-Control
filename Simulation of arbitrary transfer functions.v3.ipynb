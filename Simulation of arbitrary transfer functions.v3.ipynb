{
 "metadata": {
  "kernelspec": {
   "display_name": "Python 3",
   "language": "python",
   "name": "python3"
  },
  "language_info": {
   "codemirror_mode": {
    "name": "ipython",
    "version": 3
   },
   "file_extension": ".py",
   "mimetype": "text/x-python",
   "name": "python",
   "nbconvert_exporter": "python",
   "pygments_lexer": "ipython3",
   "version": "3.5.1"
  },
  "name": ""
 },
 "nbformat": 3,
 "nbformat_minor": 0,
 "worksheets": [
  {
   "cells": [
    {
     "cell_type": "markdown",
     "metadata": {},
     "source": [
      "Simulation of arbitrary transfer functions\n",
      "------------------------------------------"
     ]
    },
    {
     "cell_type": "code",
     "collapsed": true,
     "input": [
      "import numpy\n",
      "import matplotlib.pyplot as plt\n",
      "%matplotlib inline"
     ],
     "language": "python",
     "metadata": {},
     "outputs": [],
     "prompt_number": 199
    },
    {
     "cell_type": "markdown",
     "metadata": {},
     "source": [
      "We are very familiar with the Euler integration method by now. Let's recap a quick simulation of a first-order system\n",
      "\n",
      "$$G = \\frac{y(s)}{u(s)} = \\frac{K}{\\tau s + 1}$$\n",
      "\n",
      "We can rewrite this in the time domain as\n",
      "\n",
      "$$ y(s) (\\tau s + 1) = K u(s) $$\n",
      "\n",
      "$$ \\tau \\frac{dy}{dt} + y(t) = K u(t) $$\n",
      "\n",
      "$$ \\frac{dy}{dt} = -\\frac{1}{\\tau}y(t) + \\frac{K}{\\tau}u(t)$$"
     ]
    },
    {
     "cell_type": "code",
     "collapsed": true,
     "input": [
      "K = 1\n",
      "tau = 5"
     ],
     "language": "python",
     "metadata": {},
     "outputs": [],
     "prompt_number": 200
    },
    {
     "cell_type": "code",
     "collapsed": true,
     "input": [
      "def u(t):\n",
      "    if t<1:\n",
      "        return 0\n",
      "    else:\n",
      "        return 1"
     ],
     "language": "python",
     "metadata": {},
     "outputs": [],
     "prompt_number": 201
    },
    {
     "cell_type": "code",
     "collapsed": false,
     "input": [
      "ts = numpy.linspace(0, 10, 1000)\n",
      "dt = ts[1]\n",
      "y = 0\n",
      "ys = []\n",
      "for t in ts:\n",
      "    dydt = -1/tau*y + 1/tau*u(t)\n",
      "    \n",
      "    y += dydt*dt\n",
      "    ys.append(y)"
     ],
     "language": "python",
     "metadata": {},
     "outputs": [],
     "prompt_number": 202
    },
    {
     "cell_type": "code",
     "collapsed": false,
     "input": [
      "plt.plot(ts, ys)"
     ],
     "language": "python",
     "metadata": {},
     "outputs": [
      {
       "metadata": {},
       "output_type": "pyout",
       "prompt_number": 203,
       "text": [
        "[<matplotlib.lines.Line2D at 0x113a589b0>]"
       ]
      },
      {
       "metadata": {},
       "output_type": "display_data",
       "png": "[encoded data removed]",
       "text": [
        "<matplotlib.figure.Figure at 0x1139f2940>"
       ]
      }
     ],
     "prompt_number": 203
    },
    {
     "cell_type": "markdown",
     "metadata": {},
     "source": [
      "Notice in the previous code that all the differential equations were linear and that that none of the coefficients of the variables change over time. Such a system is known as a Linear, Time Invariant (LTI) system. The `scipy.signal` module supplies many functions for dealing with LTI systems"
     ]
    },
    {
     "cell_type": "code",
     "collapsed": false,
     "input": [
      "import scipy.signal"
     ],
     "language": "python",
     "metadata": {},
     "outputs": [],
     "prompt_number": 204
    },
    {
     "cell_type": "markdown",
     "metadata": {},
     "source": [
      "We define an LTI system by passing the coefficients of the numerator and denominator to the `lti` constructor"
     ]
    },
    {
     "cell_type": "code",
     "collapsed": false,
     "input": [
      "G = scipy.signal.lti(K, [tau, 1])"
     ],
     "language": "python",
     "metadata": {},
     "outputs": [],
     "prompt_number": 205
    },
    {
     "cell_type": "markdown",
     "metadata": {},
     "source": [
      "We can obtain the step response of the system by using the `step` method of the object"
     ]
    },
    {
     "cell_type": "code",
     "collapsed": false,
     "input": [
      "_, ys_step = G.step(T=ts)\n",
      "plt.plot(ts, ys_step);"
     ],
     "language": "python",
     "metadata": {},
     "outputs": [
      {
       "metadata": {},
       "output_type": "display_data",
       "png": "[encoded data removed]",
       "text": [
        "<matplotlib.figure.Figure at 0x113913a90>"
       ]
      }
     ],
     "prompt_number": 211
    },
    {
     "cell_type": "markdown",
     "metadata": {},
     "source": [
      "We can also find the response of the system to an arbitrary input signal by using `scipy.signal.lsim()`"
     ]
    },
    {
     "cell_type": "code",
     "collapsed": false,
     "input": [
      "us = [u(t) for t in ts]  # evaluate the input function at all the times\n",
      "_, ys_lsim, xs = scipy.signal.lsim(G, U=us, T=ts)\n",
      "plt.plot(ts, ys_lsim, ts, ys);"
     ],
     "language": "python",
     "metadata": {},
     "outputs": [
      {
       "metadata": {},
       "output_type": "display_data",
       "png": "[encoded data removed]",
       "text": [
        "<matplotlib.figure.Figure at 0x113d4d7b8>"
       ]
      }
     ],
     "prompt_number": 212
    },
    {
     "cell_type": "markdown",
     "metadata": {},
     "source": [
      "We can also use our Euler loop to simulate arbitrary systems using the state space representation\n",
      "\n",
      "$$\\begin{align} \\dot{x} &= Ax + Bu \\\\ y &= Cx + Du \\end{align} $$\n",
      "\n",
      "Luckily the `lti` object we created earlier knows its state space representation."
     ]
    },
    {
     "cell_type": "code",
     "collapsed": false,
     "input": [
      "x = numpy.matrix(numpy.zeros(G.A.shape[0]))\n",
      "ys_statespace = []\n",
      "for t in ts:\n",
      "    xdot = G.A.dot(x) + G.B.dot(u(t))\n",
      "    y = G.C.dot(x) +  G.D.dot(u(t))\n",
      "    \n",
      "    x += xdot*dt\n",
      "    ys_statespace.append(y[0,0])"
     ],
     "language": "python",
     "metadata": {},
     "outputs": [],
     "prompt_number": 213
    },
    {
     "cell_type": "code",
     "collapsed": false,
     "input": [
      "plt.plot(ts, ys,\n",
      "         ts, ys_statespace);"
     ],
     "language": "python",
     "metadata": {},
     "outputs": [
      {
       "metadata": {},
       "output_type": "display_data",
       "png": "[encoded data removed]",
       "text": [
        "<matplotlib.figure.Figure at 0x113d774e0>"
       ]
      }
     ],
     "prompt_number": 214
    },
    {
     "cell_type": "code",
     "collapsed": true,
     "input": [],
     "language": "python",
     "metadata": {},
     "outputs": [],
     "prompt_number": null
    }
   ],
   "metadata": {}
  }
 ]
}
