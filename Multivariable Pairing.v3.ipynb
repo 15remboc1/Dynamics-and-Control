{
 "metadata": {
  "kernelspec": {
   "display_name": "Python 3",
   "language": "python",
   "name": "python3"
  },
  "language_info": {
   "codemirror_mode": {
    "name": "ipython",
    "version": 3
   },
   "file_extension": ".py",
   "mimetype": "text/x-python",
   "name": "python",
   "nbconvert_exporter": "python",
   "pygments_lexer": "ipython3",
   "version": "3.5.1"
  },
  "name": ""
 },
 "nbformat": 3,
 "nbformat_minor": 0,
 "worksheets": [
  {
   "cells": [
    {
     "cell_type": "markdown",
     "metadata": {},
     "source": [
      "Multivariable pairing (RGA)\n",
      "===========================\n",
      "\n",
      "For a 2$\\times$2 system, we have 2 choices of pairing variables for distributed control:\n",
      "\n",
      "<table style=\"border-style: hidden\">\n",
      "<tr><td>Diagonal</td><td>Off-diagonal</td></tr>\n",
      "<tr><td><img src=\"mimo2x2.png\" width=\"80%\"></td><td><img src=\"mimo2x2_off_diagonal.png\" width=\"80%\"></td></tr>\n",
      "<tr><td>$$G_{cd} = \\left[\\begin{array}{cc} G_{c1} & 0 \\\\ 0 & G_{c2} \\end{array}\\right]$$</td><td>$$G_{co} = \\left[\\begin{array}{cc} 0 & G_{c2} \\\\ G_{c1} & 0 \\end{array}\\right]$$</td></tr>\n",
      "</table>"
     ]
    },
    {
     "cell_type": "markdown",
     "metadata": {},
     "source": [
      "RGA\n",
      "---\n",
      "\n",
      "Bristol developed the Relative Gain Array to determine good pairings based on only the plant transfer function matrix $G_p$. The elements of the RGA are defined as\n",
      "\n",
      "$$\\lambda_{ij} \\triangleq = \\frac{(\\partial y_i/\\partial u_j)_u}{(\\partial y_i/\\partial u_j)_y}= \\frac{\\text{open loop gain}}{\\text{closed loop gain}}$$"
     ]
    },
    {
     "cell_type": "markdown",
     "metadata": {},
     "source": [
      "We could build $\\Lambda$ by direct evaluation of the above derivatives near some point given a time-domain model, but if we already have a transfer function model, we can evaluate the steady-state gain matrix $K$ by using the final value theorem."
     ]
    },
    {
     "cell_type": "code",
     "collapsed": true,
     "input": [
      "import sympy\n",
      "sympy.init_printing()"
     ],
     "language": "python",
     "metadata": {},
     "outputs": [],
     "prompt_number": 1
    },
    {
     "cell_type": "code",
     "collapsed": true,
     "input": [
      "s = sympy.Symbol('s')"
     ],
     "language": "python",
     "metadata": {},
     "outputs": [],
     "prompt_number": 2
    },
    {
     "cell_type": "code",
     "collapsed": true,
     "input": [
      "def fopdt(k, theta, tau):\n",
      "    return k*sympy.exp(-theta*s)/(tau*s + 1)"
     ],
     "language": "python",
     "metadata": {},
     "outputs": [],
     "prompt_number": 3
    },
    {
     "cell_type": "markdown",
     "metadata": {},
     "source": [
      "Using the system from example 16.5"
     ]
    },
    {
     "cell_type": "code",
     "collapsed": false,
     "input": [
      "G_p = sympy.Matrix([[fopdt(-2, 1, 10), fopdt(1.5, 1, 1)],\n",
      "                    [fopdt(1.5, 1, 1), fopdt(2, 1, 10)]])\n",
      "G_p"
     ],
     "language": "python",
     "metadata": {},
     "outputs": [
      {
       "latex": [
        "$$\\left[\\begin{matrix}- \\frac{2 e^{- s}}{10 s + 1} & \\frac{1.5 e^{- s}}{s + 1}\\\\\\frac{1.5 e^{- s}}{s + 1} & \\frac{2 e^{- s}}{10 s + 1}\\end{matrix}\\right]$$"
       ],
       "metadata": {},
       "output_type": "pyout",
       "prompt_number": 4,
       "text": [
        "\u23a1    -s         -s \u23a4\n",
        "\u23a2-2\u22c5\u212f      1.5\u22c5\u212f   \u23a5\n",
        "\u23a2\u2500\u2500\u2500\u2500\u2500\u2500\u2500\u2500  \u2500\u2500\u2500\u2500\u2500\u2500\u2500 \u23a5\n",
        "\u23a210\u22c5s + 1   s + 1  \u23a5\n",
        "\u23a2                  \u23a5\n",
        "\u23a2     -s       -s  \u23a5\n",
        "\u23a21.5\u22c5\u212f      2\u22c5\u212f    \u23a5\n",
        "\u23a2\u2500\u2500\u2500\u2500\u2500\u2500\u2500   \u2500\u2500\u2500\u2500\u2500\u2500\u2500\u2500\u23a5\n",
        "\u23a3 s + 1    10\u22c5s + 1\u23a6"
       ]
      }
     ],
     "prompt_number": 4
    },
    {
     "cell_type": "markdown",
     "metadata": {},
     "source": [
      "Unfortunately SymPy doesn't allow us to calculate limits on matrices all at once."
     ]
    },
    {
     "cell_type": "code",
     "collapsed": false,
     "input": [
      "#sympy.limit(G_p, s, 0)"
     ],
     "language": "python",
     "metadata": {},
     "outputs": [],
     "prompt_number": 5
    },
    {
     "cell_type": "markdown",
     "metadata": {},
     "source": [
      "But we can apply a function to the elements"
     ]
    },
    {
     "cell_type": "code",
     "collapsed": true,
     "input": [
      "def gain(G):\n",
      "    return sympy.limit(G, s, 0)"
     ],
     "language": "python",
     "metadata": {},
     "outputs": [],
     "prompt_number": 6
    },
    {
     "cell_type": "code",
     "collapsed": false,
     "input": [
      "K = G_p.applyfunc(gain)\n",
      "K"
     ],
     "language": "python",
     "metadata": {},
     "outputs": [
      {
       "latex": [
        "$$\\left[\\begin{matrix}-2 & 1.5\\\\1.5 & 2\\end{matrix}\\right]$$"
       ],
       "metadata": {},
       "output_type": "pyout",
       "prompt_number": 7,
       "text": [
        "\u23a1-2   1.5\u23a4\n",
        "\u23a2        \u23a5\n",
        "\u23a31.5   2 \u23a6"
       ]
      }
     ],
     "prompt_number": 7
    },
    {
     "cell_type": "markdown",
     "metadata": {},
     "source": [
      "We can then calculate $\\Lambda = K \\otimes H$ where $H = (K^{-1})^{T}$:"
     ]
    },
    {
     "cell_type": "code",
     "collapsed": false,
     "input": [
      "Lambda = K.multiply_elementwise(K.inv().transpose())\n",
      "Lambda"
     ],
     "language": "python",
     "metadata": {},
     "outputs": [
      {
       "latex": [
        "$$\\left[\\begin{matrix}0.64 & 0.36\\\\0.36 & 0.64\\end{matrix}\\right]$$"
       ],
       "metadata": {},
       "output_type": "pyout",
       "prompt_number": 8,
       "text": [
        "\u23a10.64  0.36\u23a4\n",
        "\u23a2          \u23a5\n",
        "\u23a30.36  0.64\u23a6"
       ]
      }
     ],
     "prompt_number": 8
    },
    {
     "cell_type": "markdown",
     "metadata": {},
     "source": [
      "We can do the same calculation (faster) using numpy:"
     ]
    },
    {
     "cell_type": "code",
     "collapsed": true,
     "input": [
      "import numpy"
     ],
     "language": "python",
     "metadata": {},
     "outputs": [],
     "prompt_number": 9
    },
    {
     "cell_type": "code",
     "collapsed": true,
     "input": [
      "def fopdt(k, theta, tau):\n",
      "    return k*numpy.exp(-theta*s)/(tau*s + 1)"
     ],
     "language": "python",
     "metadata": {},
     "outputs": [],
     "prompt_number": 10
    },
    {
     "cell_type": "code",
     "collapsed": true,
     "input": [
      "s = 0"
     ],
     "language": "python",
     "metadata": {},
     "outputs": [],
     "prompt_number": 11
    },
    {
     "cell_type": "code",
     "collapsed": false,
     "input": [
      "K = numpy.matrix([[fopdt(-2, 1, 10), fopdt(1.5, 1, 1)],\n",
      "                  [fopdt(1.5, 1, 1), fopdt(2, 1, 10)]])"
     ],
     "language": "python",
     "metadata": {},
     "outputs": [],
     "prompt_number": 12
    },
    {
     "cell_type": "markdown",
     "metadata": {},
     "source": [
      "The `.A` attribute in matrices is the matrix as a `numpy.array`, which multiplies elementwise by default."
     ]
    },
    {
     "cell_type": "code",
     "collapsed": false,
     "input": [
      "K.A*K.I.T.A"
     ],
     "language": "python",
     "metadata": {},
     "outputs": [
      {
       "metadata": {},
       "output_type": "pyout",
       "prompt_number": 13,
       "text": [
        "array([[ 0.64,  0.36],\n",
        "       [ 0.36,  0.64]])"
       ]
      }
     ],
     "prompt_number": 13
    }
   ],
   "metadata": {}
  }
 ]
}
