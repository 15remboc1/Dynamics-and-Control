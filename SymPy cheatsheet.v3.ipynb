{
 "metadata": {
  "kernelspec": {
   "display_name": "Python 3",
   "language": "python",
   "name": "python3"
  },
  "language_info": {
   "codemirror_mode": {
    "name": "ipython",
    "version": 3
   },
   "file_extension": ".py",
   "mimetype": "text/x-python",
   "name": "python",
   "nbconvert_exporter": "python",
   "pygments_lexer": "ipython3",
   "version": "3.5.1"
  },
  "name": ""
 },
 "nbformat": 3,
 "nbformat_minor": 0,
 "worksheets": [
  {
   "cells": [
    {
     "cell_type": "markdown",
     "metadata": {},
     "source": [
      "Front matter"
     ]
    },
    {
     "cell_type": "code",
     "collapsed": true,
     "input": [
      "from __future__ import division\n",
      "from __future__ import print_function\n",
      "import sympy\n",
      "sympy.init_printing()\n",
      "%matplotlib inline"
     ],
     "language": "python",
     "metadata": {},
     "outputs": [],
     "prompt_number": 1
    },
    {
     "cell_type": "markdown",
     "metadata": {},
     "source": [
      "Define variables"
     ]
    },
    {
     "cell_type": "code",
     "collapsed": true,
     "input": [
      "s = sympy.Symbol('s')\n",
      "tau, K_c = sympy.symbols('tau K_c', positive=True) # we can use real=True or complex=True for other kinds of variables"
     ],
     "language": "python",
     "metadata": {},
     "outputs": [],
     "prompt_number": 15
    },
    {
     "cell_type": "markdown",
     "metadata": {},
     "source": [
      "Example controller and system"
     ]
    },
    {
     "cell_type": "code",
     "collapsed": false,
     "input": [
      "G_c = K_c*((tau*s + 1) / (tau*s))\n",
      "GvGpGm = 5 / ((10*s + 1)**2)"
     ],
     "language": "python",
     "metadata": {},
     "outputs": [],
     "prompt_number": 16
    },
    {
     "cell_type": "markdown",
     "metadata": {},
     "source": [
      "Simplification"
     ]
    },
    {
     "cell_type": "code",
     "collapsed": false,
     "input": [
      "chareq = (GvGpGm*G_c + 1).simplify()\n",
      "chareq *= sympy.denom(chareq.together())"
     ],
     "language": "python",
     "metadata": {},
     "outputs": [],
     "prompt_number": 19
    },
    {
     "cell_type": "markdown",
     "metadata": {},
     "source": [
      "Convert to polynomial in s"
     ]
    },
    {
     "cell_type": "code",
     "collapsed": false,
     "input": [
      "chareq = sympy.poly(chareq.together(), s)"
     ],
     "language": "python",
     "metadata": {},
     "outputs": [],
     "prompt_number": 26
    },
    {
     "cell_type": "markdown",
     "metadata": {},
     "source": [
      "Calculate the Routh Array"
     ]
    },
    {
     "cell_type": "code",
     "collapsed": true,
     "input": [
      "def matrix_from_rows_and_columns(M, rows, columns):\n",
      "    return sympy.Matrix([[M[r, c] for c in columns] for r in rows])\n",
      "        \n",
      "def routh(p):\n",
      "    coefficients = p.all_coeffs()\n",
      "    N = len(coefficients)\n",
      "    M = sympy.zeros(N, (N+1)//2+1)\n",
      "    r1 = coefficients[0::2]\n",
      "    r2 = coefficients[1::2]\n",
      "    M[0,:len(r1)] = [r1]\n",
      "    M[1,:len(r2)] = [r2]\n",
      "    for i in range(2, N):\n",
      "        for j in range(N//2):\n",
      "            S = matrix_from_rows_and_columns(M, [i-2, i-1], [0, j+1])\n",
      "            M[i,j] = (-S.det()/M[i-1,0]).simplify()\n",
      "    return M[:,:-1]"
     ],
     "language": "python",
     "metadata": {},
     "outputs": [],
     "prompt_number": 27
    },
    {
     "cell_type": "code",
     "collapsed": false,
     "input": [
      "R = routh(chareq)"
     ],
     "language": "python",
     "metadata": {},
     "outputs": [],
     "prompt_number": 30
    },
    {
     "cell_type": "code",
     "collapsed": true,
     "input": [],
     "language": "python",
     "metadata": {},
     "outputs": [],
     "prompt_number": null
    }
   ],
   "metadata": {}
  }
 ]
}
