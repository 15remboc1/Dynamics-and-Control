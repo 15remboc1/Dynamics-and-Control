{
 "metadata": {
  "kernelspec": {
   "display_name": "Python 3",
   "language": "python",
   "name": "python3"
  },
  "language_info": {
   "codemirror_mode": {
    "name": "ipython",
    "version": 3
   },
   "file_extension": ".py",
   "mimetype": "text/x-python",
   "name": "python",
   "nbconvert_exporter": "python",
   "pygments_lexer": "ipython3",
   "version": "3.5.1"
  },
  "name": ""
 },
 "nbformat": 3,
 "nbformat_minor": 0,
 "worksheets": [
  {
   "cells": [
    {
     "cell_type": "markdown",
     "metadata": {},
     "source": [
      "Front matter"
     ]
    },
    {
     "cell_type": "code",
     "collapsed": true,
     "input": [
      "from __future__ import division\n",
      "from __future__ import print_function\n",
      "import sympy\n",
      "sympy.init_printing()\n",
      "%matplotlib inline"
     ],
     "language": "python",
     "metadata": {},
     "outputs": [],
     "prompt_number": 1
    },
    {
     "cell_type": "markdown",
     "metadata": {},
     "source": [
      "Define variables"
     ]
    },
    {
     "cell_type": "code",
     "collapsed": true,
     "input": [
      "s = sympy.Symbol('s')\n",
      "tau, K_c = sympy.symbols('tau K_c', positive=True) # we can use real=True or complex=True for other kinds of variables"
     ],
     "language": "python",
     "metadata": {},
     "outputs": [],
     "prompt_number": 2
    },
    {
     "cell_type": "markdown",
     "metadata": {},
     "source": [
      "Example controller and system"
     ]
    },
    {
     "cell_type": "code",
     "collapsed": false,
     "input": [
      "G_c = K_c*((tau*s + 1) / (tau*s))\n",
      "GvGpGm = 5 / ((10*s + 1)**2)"
     ],
     "language": "python",
     "metadata": {},
     "outputs": [],
     "prompt_number": 3
    },
    {
     "cell_type": "markdown",
     "metadata": {},
     "source": [
      "Simplification"
     ]
    },
    {
     "cell_type": "code",
     "collapsed": false,
     "input": [
      "chareq = (GvGpGm*G_c + 1).simplify()\n",
      "chareq *= sympy.denom(chareq.together())"
     ],
     "language": "python",
     "metadata": {},
     "outputs": [],
     "prompt_number": 4
    },
    {
     "cell_type": "markdown",
     "metadata": {},
     "source": [
      "Convert to polynomial in s"
     ]
    },
    {
     "cell_type": "code",
     "collapsed": false,
     "input": [
      "chareq = sympy.poly(chareq.together(), s)"
     ],
     "language": "python",
     "metadata": {},
     "outputs": [],
     "prompt_number": 5
    },
    {
     "cell_type": "markdown",
     "metadata": {},
     "source": [
      "Calculate the Routh Array"
     ]
    },
    {
     "cell_type": "code",
     "collapsed": true,
     "input": [
      "def routh(p):\n",
      "    \"\"\" Construct the Routh-Hurwitz array given a polynomial in s\"\"\"\n",
      "    coefficients = p.all_coeffs()\n",
      "    N = len(coefficients)\n",
      "    M = sympy.zeros(N, (N+1)//2 + 1)\n",
      "\n",
      "    r1 = coefficients[0::2]\n",
      "    r2 = coefficients[1::2]\n",
      "    M[0, :len(r1)] = [r1]\n",
      "    M[1, :len(r2)] = [r2]\n",
      "    for i in range(2, N):\n",
      "        for j in range(N//2):\n",
      "            S = M[[i-2, i-1], [0, j+1]]\n",
      "            M[i, j] = sympy.simplify(-S.det()/M[i-1,0])\n",
      "    return M[:, :-1]"
     ],
     "language": "python",
     "metadata": {},
     "outputs": [],
     "prompt_number": 6
    },
    {
     "cell_type": "code",
     "collapsed": false,
     "input": [
      "routh(chareq)"
     ],
     "language": "python",
     "metadata": {},
     "outputs": [
      {
       "latex": [
        "$$\\left[\\begin{matrix}100 \\tau & 5 K_{c} \\tau + \\tau\\\\20 \\tau & 5 K_{c}\\\\5 K_{c} \\tau - 25 K_{c} + \\tau & 0\\\\5 K_{c} & 0\\end{matrix}\\right]$$"
       ],
       "metadata": {},
       "output_type": "pyout",
       "prompt_number": 7,
       "text": [
        "\u23a1       100\u22c5\u03c4          5\u22c5K_c\u22c5\u03c4 + \u03c4\u23a4\n",
        "\u23a2                                 \u23a5\n",
        "\u23a2        20\u22c5\u03c4             5\u22c5K_c   \u23a5\n",
        "\u23a2                                 \u23a5\n",
        "\u23a25\u22c5K_c\u22c5\u03c4 - 25\u22c5K_c + \u03c4       0     \u23a5\n",
        "\u23a2                                 \u23a5\n",
        "\u23a3       5\u22c5K_c               0     \u23a6"
       ]
      }
     ],
     "prompt_number": 7
    }
   ],
   "metadata": {}
  }
 ]
}
