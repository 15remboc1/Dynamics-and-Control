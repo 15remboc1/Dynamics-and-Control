{
 "metadata": {
  "anaconda-cloud": {},
  "kernelspec": {
   "display_name": "Python [default]",
   "language": "python",
   "name": "python3"
  },
  "language_info": {
   "codemirror_mode": {
    "name": "ipython",
    "version": 3
   },
   "file_extension": ".py",
   "mimetype": "text/x-python",
   "name": "python",
   "nbconvert_exporter": "python",
   "pygments_lexer": "ipython3",
   "version": "3.5.2"
  },
  "name": ""
 },
 "nbformat": 3,
 "nbformat_minor": 0,
 "worksheets": [
  {
   "cells": [
    {
     "cell_type": "markdown",
     "metadata": {},
     "source": [
      "Standard process inputs\n",
      "============"
     ]
    },
    {
     "cell_type": "code",
     "collapsed": true,
     "input": [
      "import sympy\n",
      "sympy.init_printing()\n",
      "%matplotlib inline"
     ],
     "language": "python",
     "metadata": {},
     "outputs": [],
     "prompt_number": 1
    },
    {
     "cell_type": "markdown",
     "metadata": {},
     "source": [
      "## Step\n",
      "\n",
      "A step input of magnitude $M$ can be written as\n",
      "$$u_S(t)=\\begin{cases}\n",
      "    0&  t<0,\\\\\n",
      "    M&  t\\geq 0\n",
      "\\end{cases}$$\n",
      "\n",
      "Sympy supplies a unit step function called `Heaviside`, which is typeset as $\\theta(t)$"
     ]
    },
    {
     "cell_type": "code",
     "collapsed": true,
     "input": [
      "t = sympy.symbols('t')"
     ],
     "language": "python",
     "metadata": {},
     "outputs": [],
     "prompt_number": 2
    },
    {
     "cell_type": "code",
     "collapsed": false,
     "input": [
      "S = sympy.Heaviside"
     ],
     "language": "python",
     "metadata": {},
     "outputs": [],
     "prompt_number": 3
    },
    {
     "cell_type": "code",
     "collapsed": true,
     "input": [
      "M = 2"
     ],
     "language": "python",
     "metadata": {},
     "outputs": [],
     "prompt_number": 4
    },
    {
     "cell_type": "code",
     "collapsed": false,
     "input": [
      "sympy.plot(M*S(t))"
     ],
     "language": "python",
     "metadata": {},
     "outputs": [
      {
       "metadata": {},
       "output_type": "display_data",
       "png": "[encoded data removed]",
       "text": [
        "<matplotlib.figure.Figure at 0x10a836b38>"
       ]
      },
      {
       "metadata": {},
       "output_type": "pyout",
       "prompt_number": 5,
       "text": [
        "<sympy.plotting.plot.Plot at 0x10a8369e8>"
       ]
      }
     ],
     "prompt_number": 5
    },
    {
     "cell_type": "heading",
     "level": 2,
     "metadata": {},
     "source": [
      "Scaling and translation"
     ]
    },
    {
     "cell_type": "markdown",
     "metadata": {},
     "source": [
      "We can scale and translate the step function in the normal way"
     ]
    },
    {
     "cell_type": "code",
     "collapsed": true,
     "input": [
      "M, s = sympy.symbols('M, s')"
     ],
     "language": "python",
     "metadata": {},
     "outputs": [],
     "prompt_number": 6
    },
    {
     "cell_type": "code",
     "collapsed": false,
     "input": [
      "sympy.laplace_transform(S(t), t, s, noconds=True)"
     ],
     "language": "python",
     "metadata": {},
     "outputs": [
      {
       "latex": [
        "$$\\frac{1}{s}$$"
       ],
       "metadata": {},
       "output_type": "pyout",
       "png": "[encoded data removed]",
       "prompt_number": 7,
       "text": [
        "1\n",
        "\u2500\n",
        "s"
       ]
      }
     ],
     "prompt_number": 7
    },
    {
     "cell_type": "code",
     "collapsed": true,
     "input": [
      "def L(f):\n",
      "    return sympy.laplace_transform(f, t, s, noconds=True)\n",
      "def invL(F):\n",
      "    return sympy.inverse_laplace_transform(F, s, t)"
     ],
     "language": "python",
     "metadata": {},
     "outputs": [],
     "prompt_number": 8
    },
    {
     "cell_type": "code",
     "collapsed": false,
     "input": [
      "L(M*S(t))"
     ],
     "language": "python",
     "metadata": {},
     "outputs": [
      {
       "latex": [
        "$$\\frac{M}{s}$$"
       ],
       "metadata": {},
       "output_type": "pyout",
       "png": "[encoded data removed]",
       "prompt_number": 9,
       "text": [
        "M\n",
        "\u2500\n",
        "s"
       ]
      }
     ],
     "prompt_number": 9
    },
    {
     "cell_type": "code",
     "collapsed": true,
     "input": [
      "from ipywidgets import interact"
     ],
     "language": "python",
     "metadata": {},
     "outputs": [],
     "prompt_number": 10
    },
    {
     "cell_type": "code",
     "collapsed": true,
     "input": [
      "def translated_step(scale, y_translation, t_translation):\n",
      "    f = scale*S(t - t_translation) + y_translation\n",
      "    print(\"f =\", f, \"  \u2112(f) =\", L(f))\n",
      "    sympy.plot(f,\n",
      "              (t, -10, 10),\n",
      "              ylim=(-2, 4))"
     ],
     "language": "python",
     "metadata": {},
     "outputs": [],
     "prompt_number": 11
    },
    {
     "cell_type": "code",
     "collapsed": false,
     "input": [
      "interact(translated_step, \n",
      "         scale=(0.5, 3.), \n",
      "         y_translation=(-1., 1.), \n",
      "         t_translation=(0., 5.))"
     ],
     "language": "python",
     "metadata": {},
     "outputs": [
      {
       "output_type": "stream",
       "stream": "stdout",
       "text": [
        "f = 1.75*Heaviside(t - 2.5)   \u2112(f) = 1.75*exp(-2.5*s)/s\n"
       ]
      },
      {
       "metadata": {},
       "output_type": "display_data",
       "png": "[encoded data removed]",
       "text": [
        "<matplotlib.figure.Figure at 0x10cb8d710>"
       ]
      },
      {
       "metadata": {},
       "output_type": "pyout",
       "prompt_number": 12,
       "text": [
        "<function __main__.translated_step>"
       ]
      }
     ],
     "prompt_number": 12
    },
    {
     "cell_type": "markdown",
     "metadata": {},
     "source": [
      "We can constuct any piecewise constant function by adding together step functions shifted in time."
     ]
    },
    {
     "cell_type": "markdown",
     "metadata": {},
     "source": [
      "## Rectangular pulse\n",
      "\n",
      "We can construct a rectangular pulse, of height $h$ and width $t_w$,\n",
      "\n",
      "$$u_{RP}(t)=\\begin{cases}\n",
      "    0&  t<0,\\\\\n",
      "    h& 0 \\leq t < t_w\\\\\n",
      "    0&  t \\geq t_w\n",
      "\\end{cases}$$\n",
      "\n",
      "by using shifted versions of the step, so that"
     ]
    },
    {
     "cell_type": "code",
     "collapsed": true,
     "input": [
      "h, t_w = sympy.symbols('h, t_w')\n",
      "u_RP = h*(S(t - 0) - S(t - t_w))"
     ],
     "language": "python",
     "metadata": {},
     "outputs": [],
     "prompt_number": 13
    },
    {
     "cell_type": "code",
     "collapsed": false,
     "input": [
      "sympy.plot(u_RP.subs({h: 1, t_w: 2}))"
     ],
     "language": "python",
     "metadata": {},
     "outputs": [
      {
       "metadata": {},
       "output_type": "display_data",
       "png": "[encoded data removed]",
       "text": [
        "<matplotlib.figure.Figure at 0x10cbc3f98>"
       ]
      },
      {
       "metadata": {},
       "output_type": "pyout",
       "prompt_number": 14,
       "text": [
        "<sympy.plotting.plot.Plot at 0x10cbe7908>"
       ]
      }
     ],
     "prompt_number": 14
    },
    {
     "cell_type": "code",
     "collapsed": false,
     "input": [
      "L(u_RP)"
     ],
     "language": "python",
     "metadata": {},
     "outputs": [
      {
       "latex": [
        "$$\\frac{h}{s} - \\frac{h}{s} e^{- s t_{w}}$$"
       ],
       "metadata": {},
       "output_type": "pyout",
       "png": "[encoded data removed]",
       "prompt_number": 15,
       "text": [
        "       -s\u22c5t_w\n",
        "h   h\u22c5\u212f      \n",
        "\u2500 - \u2500\u2500\u2500\u2500\u2500\u2500\u2500\u2500\u2500\n",
        "s       s    "
       ]
      }
     ],
     "prompt_number": 15
    },
    {
     "cell_type": "heading",
     "level": 2,
     "metadata": {},
     "source": [
      "Ramp"
     ]
    },
    {
     "cell_type": "code",
     "collapsed": false,
     "input": [
      "ramp = sympy.integrate(S(t))\n",
      "ramp"
     ],
     "language": "python",
     "metadata": {},
     "outputs": [
      {
       "latex": [
        "$$t \\theta\\left(t\\right)$$"
       ],
       "metadata": {},
       "output_type": "pyout",
       "png": "[encoded data removed]",
       "prompt_number": 16,
       "text": [
        "t\u22c5Heaviside(t)"
       ]
      }
     ],
     "prompt_number": 16
    },
    {
     "cell_type": "code",
     "collapsed": false,
     "input": [
      "sympy.plot(ramp)"
     ],
     "language": "python",
     "metadata": {},
     "outputs": [
      {
       "metadata": {},
       "output_type": "display_data",
       "png": "[encoded data removed]",
       "text": [
        "<matplotlib.figure.Figure at 0x10cba9ac8>"
       ]
      },
      {
       "metadata": {},
       "output_type": "pyout",
       "prompt_number": 17,
       "text": [
        "<sympy.plotting.plot.Plot at 0x10cd0ccc0>"
       ]
      }
     ],
     "prompt_number": 17
    },
    {
     "cell_type": "code",
     "collapsed": false,
     "input": [
      "L(ramp)"
     ],
     "language": "python",
     "metadata": {},
     "outputs": [
      {
       "latex": [
        "$$\\frac{1}{s^{2}}$$"
       ],
       "metadata": {},
       "output_type": "pyout",
       "png": "[encoded data removed]",
       "prompt_number": 18,
       "text": [
        "1 \n",
        "\u2500\u2500\n",
        " 2\n",
        "s "
       ]
      }
     ],
     "prompt_number": 18
    },
    {
     "cell_type": "markdown",
     "metadata": {},
     "source": [
      "We can construct any continuous piecewise linear function by adding together ramp functions shifted in time."
     ]
    },
    {
     "cell_type": "heading",
     "level": 2,
     "metadata": {},
     "source": [
      "Triangular pulse"
     ]
    },
    {
     "cell_type": "markdown",
     "metadata": {},
     "source": [
      "For instance, we can construct a triangular pulse by adding three ramps together."
     ]
    },
    {
     "cell_type": "code",
     "collapsed": true,
     "input": [
      "r1 = t*S(t - 0)\n",
      "r2 = -2*(t - t_w/2)*S(t - t_w/2)\n",
      "r3 = (t - t_w)*S(t - t_w)\n",
      "u_TP = 2/t_w*(r1 + r2 + r3)"
     ],
     "language": "python",
     "metadata": {},
     "outputs": [],
     "prompt_number": 19
    },
    {
     "cell_type": "code",
     "collapsed": false,
     "input": [
      "u_TP"
     ],
     "language": "python",
     "metadata": {},
     "outputs": [
      {
       "latex": [
        "$$\\frac{1}{t_{w}} \\left(2 t \\theta\\left(t\\right) + 2 \\left(- 2 t + t_{w}\\right) \\theta\\left(t - \\frac{t_{w}}{2}\\right) + 2 \\left(t - t_{w}\\right) \\theta\\left(t - t_{w}\\right)\\right)$$"
       ],
       "metadata": {},
       "output_type": "pyout",
       "png": "[encoded data removed]",
       "prompt_number": 20,
       "text": [
        "  \u239b                                       \u239b    t_w\u239e                           \n",
        "2\u22c5\u239ct\u22c5Heaviside(t) + (-2\u22c5t + t_w)\u22c5Heaviside\u239ct - \u2500\u2500\u2500\u239f + (t - t_w)\u22c5Heaviside(t - \n",
        "  \u239d                                       \u239d     2 \u23a0                           \n",
        "\u2500\u2500\u2500\u2500\u2500\u2500\u2500\u2500\u2500\u2500\u2500\u2500\u2500\u2500\u2500\u2500\u2500\u2500\u2500\u2500\u2500\u2500\u2500\u2500\u2500\u2500\u2500\u2500\u2500\u2500\u2500\u2500\u2500\u2500\u2500\u2500\u2500\u2500\u2500\u2500\u2500\u2500\u2500\u2500\u2500\u2500\u2500\u2500\u2500\u2500\u2500\u2500\u2500\u2500\u2500\u2500\u2500\u2500\u2500\u2500\u2500\u2500\u2500\u2500\u2500\u2500\u2500\u2500\u2500\u2500\u2500\u2500\u2500\u2500\u2500\u2500\u2500\u2500\n",
        "                                        t_w                                   \n",
        "\n",
        "    \u239e\n",
        "t_w)\u239f\n",
        "    \u23a0\n",
        "\u2500\u2500\u2500\u2500\u2500\n",
        "     "
       ]
      }
     ],
     "prompt_number": 20
    },
    {
     "cell_type": "code",
     "collapsed": false,
     "input": [
      "sympy.plot(u_TP.subs({t_w: 2}), (t, -1, 4))"
     ],
     "language": "python",
     "metadata": {},
     "outputs": [
      {
       "metadata": {},
       "output_type": "display_data",
       "png": "[encoded data removed]",
       "text": [
        "<matplotlib.figure.Figure at 0x10d03bc50>"
       ]
      },
      {
       "metadata": {},
       "output_type": "pyout",
       "prompt_number": 21,
       "text": [
        "<sympy.plotting.plot.Plot at 0x10d03bf98>"
       ]
      }
     ],
     "prompt_number": 21
    },
    {
     "cell_type": "code",
     "collapsed": false,
     "input": [
      "L(u_TP.subs({t_w: 2})).expand()"
     ],
     "language": "python",
     "metadata": {},
     "outputs": [
      {
       "latex": [
        "$$\\frac{1}{s^{2}} - \\frac{2}{s^{2}} e^{- s} + \\frac{1}{s^{2}} e^{- 2 s}$$"
       ],
       "metadata": {},
       "output_type": "pyout",
       "png": "[encoded data removed]",
       "prompt_number": 22,
       "text": [
        "        -s    -2\u22c5s\n",
        "1    2\u22c5\u212f     \u212f    \n",
        "\u2500\u2500 - \u2500\u2500\u2500\u2500\u2500 + \u2500\u2500\u2500\u2500\u2500\n",
        " 2      2       2 \n",
        "s      s       s  "
       ]
      }
     ],
     "prompt_number": 22
    },
    {
     "cell_type": "markdown",
     "metadata": {},
     "source": [
      "Notice that there are three ramps here (one may have expected only two). It becomes more clear when we think about the derivative of this function:"
     ]
    },
    {
     "cell_type": "code",
     "collapsed": false,
     "input": [
      "sympy.plot(u_TP.diff(t).subs({t_w: 2}), (t, -1, 4), ylim=(-1.1, 1.1))"
     ],
     "language": "python",
     "metadata": {},
     "outputs": [
      {
       "metadata": {},
       "output_type": "display_data",
       "png": "[encoded data removed]",
       "text": [
        "<matplotlib.figure.Figure at 0x10cb4b908>"
       ]
      },
      {
       "metadata": {},
       "output_type": "pyout",
       "prompt_number": 23,
       "text": [
        "<sympy.plotting.plot.Plot at 0x10cd8b390>"
       ]
      }
     ],
     "prompt_number": 23
    },
    {
     "cell_type": "markdown",
     "metadata": {},
     "source": [
      "This shows that there would be three steps required to model the derivative, which means three ramps for the original function."
     ]
    },
    {
     "cell_type": "markdown",
     "metadata": {},
     "source": [
      "## General rule\n",
      "\n",
      "In general we can write any piecewise linear function using as many ramps as there are changes of slope plus as many steps as there are discontinuities."
     ]
    }
   ],
   "metadata": {}
  }
 ]
}
