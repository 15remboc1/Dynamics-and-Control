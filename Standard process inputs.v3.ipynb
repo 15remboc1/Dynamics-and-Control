{
 "metadata": {
  "kernelspec": {
   "display_name": "Python 2",
   "language": "python",
   "name": "python2"
  },
  "language_info": {
   "codemirror_mode": {
    "name": "ipython",
    "version": 2
   },
   "file_extension": ".py",
   "mimetype": "text/x-python",
   "name": "python",
   "nbconvert_exporter": "python",
   "pygments_lexer": "ipython2",
   "version": "2.7.2"
  },
  "name": ""
 },
 "nbformat": 3,
 "nbformat_minor": 0,
 "worksheets": [
  {
   "cells": [
    {
     "cell_type": "markdown",
     "metadata": {},
     "source": [
      "Standard process inputs\n",
      "============"
     ]
    },
    {
     "cell_type": "code",
     "collapsed": true,
     "input": [
      "import sympy\n",
      "sympy.init_printing()\n",
      "#import matplotlib.pyplot as plt\n",
      "%matplotlib inline"
     ],
     "language": "python",
     "metadata": {},
     "outputs": [],
     "prompt_number": 84
    },
    {
     "cell_type": "markdown",
     "metadata": {},
     "source": [
      "## Step\n",
      "\n",
      "A step input of magnitude $M$ can be written as\n",
      "$$u_S(t)=\\begin{cases}\n",
      "    0&  t<0,\\\\\n",
      "    M&  t\\geq 0\n",
      "\\end{cases}$$\n",
      "\n",
      "Sympy supplies a unit step function called `Heaviside`, which is typeset as $\\theta(t)$"
     ]
    },
    {
     "cell_type": "code",
     "collapsed": true,
     "input": [
      "t = sympy.symbols('t')"
     ],
     "language": "python",
     "metadata": {},
     "outputs": [],
     "prompt_number": 85
    },
    {
     "cell_type": "code",
     "collapsed": false,
     "input": [
      "S = sympy.Heaviside"
     ],
     "language": "python",
     "metadata": {},
     "outputs": [],
     "prompt_number": 86
    },
    {
     "cell_type": "code",
     "collapsed": true,
     "input": [
      "M = 2"
     ],
     "language": "python",
     "metadata": {},
     "outputs": [],
     "prompt_number": 87
    },
    {
     "cell_type": "code",
     "collapsed": false,
     "input": [
      "sympy.plot(M*S(t))"
     ],
     "language": "python",
     "metadata": {},
     "outputs": [
      {
       "metadata": {},
       "output_type": "display_data",
       "png": "[encoded data removed]",
       "text": [
        "<matplotlib.figure.Figure at 0x11007a350>"
       ]
      },
      {
       "metadata": {},
       "output_type": "pyout",
       "prompt_number": 88,
       "text": [
        "<sympy.plotting.plot.Plot at 0x10dfb9450>"
       ]
      }
     ],
     "prompt_number": 88
    },
    {
     "cell_type": "code",
     "collapsed": false,
     "input": [
      "sympy.plot(S(t-4))"
     ],
     "language": "python",
     "metadata": {},
     "outputs": [
      {
       "metadata": {},
       "output_type": "display_data",
       "png": "[encoded data removed]",
       "text": [
        "<matplotlib.figure.Figure at 0x11009a8d0>"
       ]
      },
      {
       "metadata": {},
       "output_type": "pyout",
       "prompt_number": 89,
       "text": [
        "<sympy.plotting.plot.Plot at 0x10fa2f610>"
       ]
      }
     ],
     "prompt_number": 89
    },
    {
     "cell_type": "code",
     "collapsed": true,
     "input": [
      "M, s = sympy.symbols('M, s')"
     ],
     "language": "python",
     "metadata": {},
     "outputs": [],
     "prompt_number": 90
    },
    {
     "cell_type": "code",
     "collapsed": true,
     "input": [
      "def L(f):\n",
      "    return sympy.laplace_transform(f, t, s, noconds=True)\n",
      "def invL(F):\n",
      "    return sympy.inverse_laplace_transform(F, s, t)"
     ],
     "language": "python",
     "metadata": {},
     "outputs": [],
     "prompt_number": 91
    },
    {
     "cell_type": "code",
     "collapsed": false,
     "input": [
      "L(M*S(t))"
     ],
     "language": "python",
     "metadata": {},
     "outputs": [
      {
       "latex": [
        "$$\\frac{M}{s}$$"
       ],
       "metadata": {},
       "output_type": "pyout",
       "png": "[encoded data removed]",
       "prompt_number": 92,
       "text": [
        "M\n",
        "\u2500\n",
        "s"
       ]
      }
     ],
     "prompt_number": 92
    },
    {
     "cell_type": "heading",
     "level": 2,
     "metadata": {},
     "source": [
      "Ramp"
     ]
    },
    {
     "cell_type": "code",
     "collapsed": false,
     "input": [
      "ramp = sympy.integrate(S(t))\n",
      "ramp"
     ],
     "language": "python",
     "metadata": {},
     "outputs": [
      {
       "latex": [
        "$$t \\theta\\left(t\\right)$$"
       ],
       "metadata": {},
       "output_type": "pyout",
       "png": "[encoded data removed]",
       "prompt_number": 93,
       "text": [
        "t\u22c5Heaviside(t)"
       ]
      }
     ],
     "prompt_number": 93
    },
    {
     "cell_type": "code",
     "collapsed": false,
     "input": [
      "sympy.plot(ramp)"
     ],
     "language": "python",
     "metadata": {},
     "outputs": [
      {
       "metadata": {},
       "output_type": "display_data",
       "png": "[encoded data removed]",
       "text": [
        "<matplotlib.figure.Figure at 0x10f9f8710>"
       ]
      },
      {
       "metadata": {},
       "output_type": "pyout",
       "prompt_number": 72,
       "text": [
        "<sympy.plotting.plot.Plot at 0x10f9f85d0>"
       ]
      }
     ],
     "prompt_number": 72
    },
    {
     "cell_type": "code",
     "collapsed": false,
     "input": [
      "L(ramp)"
     ],
     "language": "python",
     "metadata": {},
     "outputs": [
      {
       "latex": [
        "$$\\frac{1}{s^{2}}$$"
       ],
       "metadata": {},
       "output_type": "pyout",
       "png": "[encoded data removed]",
       "prompt_number": 94,
       "text": [
        "1 \n",
        "\u2500\u2500\n",
        " 2\n",
        "s "
       ]
      }
     ],
     "prompt_number": 94
    },
    {
     "cell_type": "markdown",
     "metadata": {},
     "source": [
      "## Rectangular pulse\n",
      "\n",
      "We can construct a rectangular pulse, of height $h$ and width $t_w$,\n",
      "\n",
      "$$u_{RP}(t)=\\begin{cases}\n",
      "    0&  t<0,\\\\\n",
      "    h& 0 \\leq t < t_w\\\\\n",
      "    0&  t \\geq t_w\n",
      "\\end{cases}$$\n",
      "\n",
      "by using shifted versions of the step, so that"
     ]
    },
    {
     "cell_type": "code",
     "collapsed": true,
     "input": [
      "h, t_w = sympy.symbols('h, t_w')\n",
      "u_RP = h*(S(t - 0) - S(t - t_w))"
     ],
     "language": "python",
     "metadata": {},
     "outputs": [],
     "prompt_number": 95
    },
    {
     "cell_type": "code",
     "collapsed": false,
     "input": [
      "sympy.plot(u_RP.subs({h: 1, t_w: 2}))"
     ],
     "language": "python",
     "metadata": {},
     "outputs": [
      {
       "metadata": {},
       "output_type": "display_data",
       "png": "[encoded data removed]",
       "text": [
        "<matplotlib.figure.Figure at 0x10fa2d710>"
       ]
      },
      {
       "metadata": {},
       "output_type": "pyout",
       "prompt_number": 75,
       "text": [
        "<sympy.plotting.plot.Plot at 0x10fa2ff50>"
       ]
      }
     ],
     "prompt_number": 75
    },
    {
     "cell_type": "code",
     "collapsed": false,
     "input": [
      "L(u_RP)"
     ],
     "language": "python",
     "metadata": {},
     "outputs": [
      {
       "latex": [
        "$$\\frac{h}{s} - \\frac{h}{s} e^{- s t_{w}}$$"
       ],
       "metadata": {},
       "output_type": "pyout",
       "png": "[encoded data removed]",
       "prompt_number": 96,
       "text": [
        "       -s\u22c5t_w\n",
        "h   h\u22c5\u212f      \n",
        "\u2500 - \u2500\u2500\u2500\u2500\u2500\u2500\u2500\u2500\u2500\n",
        "s       s    "
       ]
      }
     ],
     "prompt_number": 96
    },
    {
     "cell_type": "heading",
     "level": 2,
     "metadata": {},
     "source": [
      "Triangular pulse"
     ]
    },
    {
     "cell_type": "code",
     "collapsed": true,
     "input": [
      "r1 = t*S(t)\n",
      "r2 = -2*(t - t_w/2)*S(t - t_w/2)\n",
      "r3 = (t - t_w)*S(t - t_w)\n",
      "u_TP = 2/t_w*(r1 + r2 + r3)"
     ],
     "language": "python",
     "metadata": {},
     "outputs": [],
     "prompt_number": 97
    },
    {
     "cell_type": "code",
     "collapsed": false,
     "input": [
      "u_TP"
     ],
     "language": "python",
     "metadata": {},
     "outputs": [
      {
       "latex": [
        "$$\\frac{1}{t_{w}} \\left(2 t \\theta\\left(t\\right) + 2 \\left(- 2 t + t_{w}\\right) \\theta\\left(t - \\frac{t_{w}}{2}\\right) + 2 \\left(t - t_{w}\\right) \\theta\\left(t - t_{w}\\right)\\right)$$"
       ],
       "metadata": {},
       "output_type": "pyout",
       "png": "[encoded data removed]",
       "prompt_number": 98,
       "text": [
        "  \u239b                                       \u239b    t_w\u239e                           \n",
        "2\u22c5\u239ct\u22c5Heaviside(t) + (-2\u22c5t + t_w)\u22c5Heaviside\u239ct - \u2500\u2500\u2500\u239f + (t - t_w)\u22c5Heaviside(t - \n",
        "  \u239d                                       \u239d     2 \u23a0                           \n",
        "\u2500\u2500\u2500\u2500\u2500\u2500\u2500\u2500\u2500\u2500\u2500\u2500\u2500\u2500\u2500\u2500\u2500\u2500\u2500\u2500\u2500\u2500\u2500\u2500\u2500\u2500\u2500\u2500\u2500\u2500\u2500\u2500\u2500\u2500\u2500\u2500\u2500\u2500\u2500\u2500\u2500\u2500\u2500\u2500\u2500\u2500\u2500\u2500\u2500\u2500\u2500\u2500\u2500\u2500\u2500\u2500\u2500\u2500\u2500\u2500\u2500\u2500\u2500\u2500\u2500\u2500\u2500\u2500\u2500\u2500\u2500\u2500\u2500\u2500\u2500\u2500\u2500\u2500\n",
        "                                        t_w                                   \n",
        "\n",
        "    \u239e\n",
        "t_w)\u239f\n",
        "    \u23a0\n",
        "\u2500\u2500\u2500\u2500\u2500\n",
        "     "
       ]
      }
     ],
     "prompt_number": 98
    },
    {
     "cell_type": "code",
     "collapsed": false,
     "input": [
      "sympy.plot(u_TP.subs({t_w: 2}))"
     ],
     "language": "python",
     "metadata": {},
     "outputs": [
      {
       "metadata": {},
       "output_type": "display_data",
       "png": "[encoded data removed]",
       "text": [
        "<matplotlib.figure.Figure at 0x10de0bb90>"
       ]
      },
      {
       "metadata": {},
       "output_type": "pyout",
       "prompt_number": 99,
       "text": [
        "<sympy.plotting.plot.Plot at 0x10df7d7d0>"
       ]
      }
     ],
     "prompt_number": 99
    },
    {
     "cell_type": "code",
     "collapsed": false,
     "input": [
      "L(u_TP.subs({t_w: 2})).expand()"
     ],
     "language": "python",
     "metadata": {},
     "outputs": [
      {
       "latex": [
        "$$\\frac{1}{s^{2}} - \\frac{2}{s^{2}} e^{- s} + \\frac{1}{s^{2}} e^{- 2 s}$$"
       ],
       "metadata": {},
       "output_type": "pyout",
       "png": "[encoded data removed]",
       "prompt_number": 102,
       "text": [
        "        -s    -2\u22c5s\n",
        "1    2\u22c5\u212f     \u212f    \n",
        "\u2500\u2500 - \u2500\u2500\u2500\u2500\u2500 + \u2500\u2500\u2500\u2500\u2500\n",
        " 2      2       2 \n",
        "s      s       s  "
       ]
      }
     ],
     "prompt_number": 102
    },
    {
     "cell_type": "code",
     "collapsed": true,
     "input": [],
     "language": "python",
     "metadata": {},
     "outputs": [],
     "prompt_number": null
    }
   ],
   "metadata": {}
  }
 ]
}
