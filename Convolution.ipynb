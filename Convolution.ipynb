{
 "cells": [
  {
   "cell_type": "markdown",
   "metadata": {},
   "source": [
    "Convolution and transfer functions\n",
    "===================\n",
    "\n",
    "So far, we have calculated the response of systems by finding the Laplace transforms of the input and the system (transfer function), multiplying them and then finding the inverse Laplace transform of the result.\n",
    "\n",
    "<img width=\"200em\" src=\"transfer_function_block_diagram.png\">"
   ]
  },
  {
   "cell_type": "markdown",
   "metadata": {},
   "source": [
    "We have been using the idea that, with the nomenclature of the diagram shown above, \n",
    "\n",
    "$$ Y(s) = G(s) U(s). \\qquad(1) $$\n",
    "\n",
    "But, if we follow the nomenclature, then $\\mathcal{L}\\{u(t)\\} = U(s)$ and $\\mathcal{L}\\{y(t)\\} = Y(s)$ and similarly there is some $g(t)$ such that $\\mathcal{L}\\{g(t)\\} = G(s)$. So far we have not really used $g(t)$ explicitly, but we know that the time-domain version of equation 1 is given by\n",
    "\n",
    "$$ y(t) = (g * u)(t) $$\n",
    "\n",
    "where $*$ denotes [convolution](https://en.wikipedia.org/wiki/Convolution), which is defined by the following integral:\n",
    "\n",
    "$$ (g * u)(t) = \\int_{-\\infty}^\\infty g(\\tau) u(t - \\tau) \\mathrm{d} \\tau =  \\int_{-\\infty}^\\infty u(\\tau) g(t - \\tau) \\mathrm{d} \\tau$$\n",
    "\n",
    "Since we are primarily concerned with functions where $g(t)=0, t<0$, the integral bounds can be written as\n",
    "\n",
    "$$ (g * u)(t) = \\int_0^t g(\\tau) u(t - \\tau) \\mathrm{d} \\tau =  \\int_0^t u(\\tau) g(t - \\tau) \\mathrm{d} \\tau$$\n"
   ]
  },
  {
   "cell_type": "markdown",
   "metadata": {
    "collapsed": true
   },
   "source": [
    "This gives us a whole new way to think about the response of a system to an input. Let's revisit the first order step response by thinking about convolution."
   ]
  },
  {
   "cell_type": "code",
   "execution_count": 2,
   "metadata": {
    "collapsed": true
   },
   "outputs": [],
   "source": [
    "import sympy\n",
    "sympy.init_printing()\n",
    "%matplotlib inline"
   ]
  },
  {
   "cell_type": "code",
   "execution_count": 41,
   "metadata": {
    "collapsed": false
   },
   "outputs": [],
   "source": [
    "s = sympy.Symbol('s')\n",
    "t = sympy.Symbol('t', real=True)\n",
    "tau = sympy.Symbol('tau', real=True, positive=True)"
   ]
  },
  {
   "cell_type": "markdown",
   "metadata": {},
   "source": [
    "We start by considering the first order transfer function:"
   ]
  },
  {
   "cell_type": "code",
   "execution_count": 42,
   "metadata": {
    "collapsed": true
   },
   "outputs": [],
   "source": [
    "G = 1/(tau*s + 1)"
   ]
  },
  {
   "cell_type": "markdown",
   "metadata": {},
   "source": [
    "We can interpret g(t) as the *impulse response* of the system, since $\\mathcal{L}\\{\\delta(t)\\}=1$ (in words, the Laplace transform of the Dirac delta is one). So, if $u(t)=\\delta(t)$, then $U(s)=1$, so $Y(s)=G(s)$ and therefore $y(t)=g(t)$. This is what the impulse response of the first order system looks like with $\\tau=1$."
   ]
  },
  {
   "cell_type": "code",
   "execution_count": 43,
   "metadata": {
    "collapsed": false
   },
   "outputs": [
    {
     "data": {
      "image/png": "[encoded data removed]",
      "text/latex": [
       "$$e^{- t} \\theta\\left(t\\right)$$"
      ],
      "text/plain": [
       " -t             \n",
       "ℯ  ⋅Heaviside(t)"
      ]
     },
     "execution_count": 43,
     "metadata": {},
     "output_type": "execute_result"
    }
   ],
   "source": [
    "g = sympy.inverse_laplace_transform(G.subs({tau: 1}), s, t)\n",
    "g"
   ]
  },
  {
   "cell_type": "code",
   "execution_count": 44,
   "metadata": {
    "collapsed": false
   },
   "outputs": [
    {
     "data": {
      "image/png": "[encoded data removed]",
      "text/plain": [
       "<matplotlib.figure.Figure at 0x10d87e650>"
      ]
     },
     "metadata": {},
     "output_type": "display_data"
    },
    {
     "data": {
      "text/plain": [
       "<sympy.plotting.plot.Plot at 0x10c996350>"
      ]
     },
     "execution_count": 44,
     "metadata": {},
     "output_type": "execute_result"
    }
   ],
   "source": [
    "sympy.plot(g, (t, -1, 10))"
   ]
  },
  {
   "cell_type": "markdown",
   "metadata": {},
   "source": [
    "Earlier, we calculated the step response of the system by calculating $U(s)=\\frac{1}{s}$, therefore $Y(s) = \\frac{G(s)}{s}$ and then calculating the inverse Laplace:"
   ]
  },
  {
   "cell_type": "code",
   "execution_count": 19,
   "metadata": {
    "collapsed": false
   },
   "outputs": [
    {
     "data": {
      "image/png": "[encoded data removed]",
      "text/latex": [
       "$$\\theta\\left(t\\right) - e^{- t} \\theta\\left(t\\right)$$"
      ],
      "text/plain": [
       "                -t             \n",
       "Heaviside(t) - ℯ  ⋅Heaviside(t)"
      ]
     },
     "execution_count": 19,
     "metadata": {},
     "output_type": "execute_result"
    }
   ],
   "source": [
    "stepresponse = sympy.inverse_laplace_transform(G.subs({tau: 1})/s, s, t)\n",
    "stepresponse"
   ]
  },
  {
   "cell_type": "code",
   "execution_count": 29,
   "metadata": {
    "collapsed": false
   },
   "outputs": [
    {
     "data": {
      "image/png": "[encoded data removed]",
      "text/plain": [
       "<matplotlib.figure.Figure at 0x10caaed10>"
      ]
     },
     "metadata": {},
     "output_type": "display_data"
    },
    {
     "data": {
      "text/plain": [
       "<sympy.plotting.plot.Plot at 0x10caaed50>"
      ]
     },
     "execution_count": 29,
     "metadata": {},
     "output_type": "execute_result"
    }
   ],
   "source": [
    "sympy.plot(stepresponse, (t, -1, 10), ylim=(0, 1.1))"
   ]
  },
  {
   "cell_type": "markdown",
   "metadata": {},
   "source": [
    "We can get the same result by convolving the unit step function with the impulse response. Unfortunately, we will have to do it numerically since SymPy doesn't appear to be able to evaluate the integral analitically:"
   ]
  },
  {
   "cell_type": "code",
   "execution_count": 30,
   "metadata": {
    "collapsed": false
   },
   "outputs": [
    {
     "data": {
      "image/png": "[encoded data removed]",
      "text/latex": [
       "$$\\theta\\left(t - \\tau\\right)$$"
      ],
      "text/plain": [
       "Heaviside(t - τ)"
      ]
     },
     "execution_count": 30,
     "metadata": {},
     "output_type": "execute_result"
    }
   ],
   "source": [
    "sympy.Heaviside(t - tau)"
   ]
  },
  {
   "cell_type": "code",
   "execution_count": 31,
   "metadata": {
    "collapsed": false
   },
   "outputs": [
    {
     "data": {
      "image/png": "[encoded data removed]",
      "text/latex": [
       "$$\\int_{-\\infty}^{\\infty} \\frac{1}{e^{\\tau}} \\theta\\left(t - \\tau\\right)\\, d\\tau$$"
      ],
      "text/plain": [
       "∞                         \n",
       "⌠                         \n",
       "⎮   -τ                    \n",
       "⎮  ℯ  ⋅Heaviside(t - τ) dτ\n",
       "⌡                         \n",
       "-∞                        "
      ]
     },
     "execution_count": 31,
     "metadata": {},
     "output_type": "execute_result"
    }
   ],
   "source": [
    "sympy.integrate(g.subs({t: tau})*sympy.Heaviside(t - tau), (tau, -sympy.oo, sympy.oo))"
   ]
  },
  {
   "cell_type": "code",
   "execution_count": 36,
   "metadata": {
    "collapsed": true
   },
   "outputs": [],
   "source": [
    "import numpy\n",
    "import matplotlib.pyplot as plt"
   ]
  },
  {
   "cell_type": "code",
   "execution_count": 73,
   "metadata": {
    "collapsed": true
   },
   "outputs": [],
   "source": [
    "tt = numpy.linspace(0, 10, 100)\n",
    "dt = tt[1]  # space between timesteps "
   ]
  },
  {
   "cell_type": "markdown",
   "metadata": {},
   "source": [
    "We evaluate the impulse response:"
   ]
  },
  {
   "cell_type": "code",
   "execution_count": 74,
   "metadata": {
    "collapsed": true
   },
   "outputs": [],
   "source": [
    "gt = numpy.exp(-tt)"
   ]
  },
  {
   "cell_type": "code",
   "execution_count": 75,
   "metadata": {
    "collapsed": true
   },
   "outputs": [],
   "source": [
    "ut = numpy.ones_like(tt)"
   ]
  },
  {
   "cell_type": "code",
   "execution_count": 76,
   "metadata": {
    "collapsed": false
   },
   "outputs": [
    {
     "data": {
      "image/png": "[encoded data removed]",
      "text/latex": [
       "$$\\left ( 0.0, \\quad 1.1\\right )$$"
      ],
      "text/plain": [
       "(0.0, 1.1)"
      ]
     },
     "execution_count": 76,
     "metadata": {},
     "output_type": "execute_result"
    },
    {
     "data": {
      "image/png": "[encoded data removed]",
      "text/plain": [
       "<matplotlib.figure.Figure at 0x1100e7e90>"
      ]
     },
     "metadata": {},
     "output_type": "display_data"
    }
   ],
   "source": [
    "plt.plot(tt, ut, tt, gt)\n",
    "plt.ylim(ymax=1.1)"
   ]
  },
  {
   "cell_type": "markdown",
   "metadata": {},
   "source": [
    "The `numpy.convolve` function calculates the discrete convolution, that is\n",
    "\n",
    "$$ \\sum_{m = -\\infty}^{\\infty} g[m] u[n - m] $$\n",
    "\n",
    "Notice that this is calculated as the pure product, so we still have to multiply by the sampling interval if we want to approximate the integral."
   ]
  },
  {
   "cell_type": "code",
   "execution_count": 81,
   "metadata": {
    "collapsed": true
   },
   "outputs": [],
   "source": [
    "full_convolution = numpy.convolve(gt, ut)"
   ]
  },
  {
   "cell_type": "markdown",
   "metadata": {},
   "source": [
    "Also notice that the default behaviour is for the convolution to be calculated over a larger time then originally, so this contains the step response up and down"
   ]
  },
  {
   "cell_type": "code",
   "execution_count": 83,
   "metadata": {
    "collapsed": false
   },
   "outputs": [
    {
     "data": {
      "text/plain": [
       "[<matplotlib.lines.Line2D at 0x110b2d550>]"
      ]
     },
     "execution_count": 83,
     "metadata": {},
     "output_type": "execute_result"
    },
    {
     "data": {
      "image/png": "[encoded data removed]",
      "text/plain": [
       "<matplotlib.figure.Figure at 0x1104a5150>"
      ]
     },
     "metadata": {},
     "output_type": "display_data"
    }
   ],
   "source": [
    "plt.plot(full_convolution)"
   ]
  },
  {
   "cell_type": "markdown",
   "metadata": {},
   "source": [
    "To get the correct integral and just the first part, we can do this:m"
   ]
  },
  {
   "cell_type": "code",
   "execution_count": 88,
   "metadata": {
    "collapsed": true
   },
   "outputs": [],
   "source": [
    "yt = full_convolution[:len(tt)]*dt"
   ]
  },
  {
   "cell_type": "code",
   "execution_count": 89,
   "metadata": {
    "collapsed": false
   },
   "outputs": [
    {
     "data": {
      "text/plain": [
       "[<matplotlib.lines.Line2D at 0x1106160d0>]"
      ]
     },
     "execution_count": 89,
     "metadata": {},
     "output_type": "execute_result"
    },
    {
     "data": {
      "image/png": "[encoded data removed]",
      "text/plain": [
       "<matplotlib.figure.Figure at 0x110bce110>"
      ]
     },
     "metadata": {},
     "output_type": "display_data"
    }
   ],
   "source": [
    "plt.plot(tt, yt)"
   ]
  },
  {
   "cell_type": "markdown",
   "metadata": {},
   "source": [
    "Notice that this allows us to calculate the response of a system to an arbitrarily complex input numerically. It also gives us a whole new way to think about how a system will behave by thinking about what its impulse response looks like."
   ]
  },
  {
   "cell_type": "code",
   "execution_count": null,
   "metadata": {
    "collapsed": true
   },
   "outputs": [],
   "source": []
  }
 ],
 "metadata": {
  "kernelspec": {
   "display_name": "Python 2",
   "language": "python",
   "name": "python2"
  },
  "language_info": {
   "codemirror_mode": {
    "name": "ipython",
    "version": 2
   },
   "file_extension": ".py",
   "mimetype": "text/x-python",
   "name": "python",
   "nbconvert_exporter": "python",
   "pygments_lexer": "ipython2",
   "version": "2.7.2"
  }
 },
 "nbformat": 4,
 "nbformat_minor": 0
}
