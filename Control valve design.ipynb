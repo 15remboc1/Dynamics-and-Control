{
 "cells": [
  {
   "cell_type": "markdown",
   "metadata": {},
   "source": [
    "Control valve design\n",
    "====================\n",
    "\n",
    "This is example 8.2 in Seborg, but worked a little differently to allow choice of $R$ and $C_{cv}$"
   ]
  },
  {
   "cell_type": "code",
   "execution_count": 1,
   "metadata": {
    "collapsed": false
   },
   "outputs": [],
   "source": [
    "import numpy\n",
    "import scipy.optimize\n",
    "import matplotlib.pyplot as plt\n",
    "from ipywidgets import interact\n",
    "%matplotlib inline"
   ]
  },
  {
   "cell_type": "code",
   "execution_count": 2,
   "metadata": {
    "collapsed": true
   },
   "outputs": [],
   "source": [
    "# Constant pump head\n",
    "DeltaPa = 40\n",
    "# Guess for q\n",
    "q0 = 100"
   ]
  },
  {
   "cell_type": "markdown",
   "metadata": {},
   "source": [
    "The MEB reduces to quadratic form:\n",
    "\n",
    "$$ \\Delta P_a = \\Delta P_{hc} + \\Delta P_{v} $$\n",
    "$$ \\Delta P_a - a_{hc}q^2 - a_{v}q^2 = 0$$\n"
   ]
  },
  {
   "cell_type": "code",
   "execution_count": 3,
   "metadata": {
    "collapsed": true
   },
   "outputs": [],
   "source": [
    "def MEBcoeffs(l, R, Ccv, characteristic='eqperc'):\n",
    "    ahc = 30/200**2\n",
    "    if characteristic == 'linear':\n",
    "        fl = l\n",
    "    elif characteristic == 'eqperc':\n",
    "        fl = R**(l - 1)\n",
    "    av = (1/(Ccv*fl))**2\n",
    "    \n",
    "    return [-ahc - av, 0, DeltaPa]"
   ]
  },
  {
   "cell_type": "code",
   "execution_count": 4,
   "metadata": {
    "collapsed": true
   },
   "outputs": [],
   "source": [
    "def positive(x):\n",
    "    return x[x>0][0]"
   ]
  },
  {
   "cell_type": "code",
   "execution_count": 5,
   "metadata": {
    "collapsed": true
   },
   "outputs": [],
   "source": [
    "ls = numpy.linspace(0.01, 1)"
   ]
  },
  {
   "cell_type": "code",
   "execution_count": 6,
   "metadata": {
    "collapsed": false
   },
   "outputs": [],
   "source": [
    "def curve(R, Ccv, characteristic):\n",
    "    qs = [positive(numpy.roots(MEBcoeffs(l, R, Ccv, characteristic))) for l in ls]\n",
    "    plt.plot(ls, qs)\n",
    "    plt.plot([0, 1], [0, max(qs)])\n",
    "    plt.xlabel('Valve lift (l)')\n",
    "    plt.ylabel('q')\n",
    "    plt.ylim([0, 250])"
   ]
  },
  {
   "cell_type": "code",
   "execution_count": 7,
   "metadata": {
    "collapsed": false
   },
   "outputs": [
    {
     "data": {
      "image/png": "[encoded data removed]",
      "text/plain": [
       "<matplotlib.figure.Figure at 0x10a67af98>"
      ]
     },
     "metadata": {},
     "output_type": "display_data"
    }
   ],
   "source": [
    "curve(50, 20, 'eqperc')"
   ]
  },
  {
   "cell_type": "code",
   "execution_count": 8,
   "metadata": {
    "collapsed": false
   },
   "outputs": [
    {
     "data": {
      "text/plain": [
       "<function __main__.curve>"
      ]
     },
     "execution_count": 8,
     "metadata": {},
     "output_type": "execute_result"
    },
    {
     "data": {
      "image/png": "[encoded data removed]",
      "text/plain": [
       "<matplotlib.figure.Figure at 0x10a6a1c50>"
      ]
     },
     "metadata": {},
     "output_type": "display_data"
    }
   ],
   "source": [
    "interact(curve, \n",
    "         R=(5., 100.), \n",
    "         Ccv=(5., 200.), \n",
    "         characteristic=['linear', 'eqperc'])"
   ]
  },
  {
   "cell_type": "code",
   "execution_count": null,
   "metadata": {
    "collapsed": true
   },
   "outputs": [],
   "source": []
  }
 ],
 "metadata": {
  "anaconda-cloud": {},
  "kernelspec": {
   "display_name": "Python [default]",
   "language": "python",
   "name": "python3"
  },
  "language_info": {
   "codemirror_mode": {
    "name": "ipython",
    "version": 3
   },
   "file_extension": ".py",
   "mimetype": "text/x-python",
   "name": "python",
   "nbconvert_exporter": "python",
   "pygments_lexer": "ipython3",
   "version": "3.5.2"
  }
 },
 "nbformat": 4,
 "nbformat_minor": 0
}
