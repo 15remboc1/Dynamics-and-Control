{
 "cells": [
  {
   "cell_type": "markdown",
   "metadata": {},
   "source": [
    "Let's reduce this big block diagram to one input-output relationship\n",
    "\n",
    "<img src=\"bigblockdiagram.png\">"
   ]
  },
  {
   "cell_type": "code",
   "execution_count": 1,
   "metadata": {
    "collapsed": false
   },
   "outputs": [],
   "source": [
    "import sympy\n",
    "sympy.init_printing()"
   ]
  },
  {
   "cell_type": "code",
   "execution_count": 2,
   "metadata": {
    "collapsed": true
   },
   "outputs": [],
   "source": [
    "(R, V1, V2, V3, V4, V5, V6, V7, V8, C,\n",
    " G1, G2, G3, H1, H2, H3) = sympy.symbols('R, V1, V2, V3, V4, V5, V6, V7, V8, C,'\n",
    "                                         'G1, G2, G3, H1, H2, H3')\n",
    "unknowns = V1, V2, V3, V4, V5, V6, V7, V8, C"
   ]
  },
  {
   "cell_type": "code",
   "execution_count": 5,
   "metadata": {
    "collapsed": false
   },
   "outputs": [],
   "source": [
    "eqs = [# Blocks\n",
    "       V2 - G1*V1,\n",
    "       V4 - G2*V3,\n",
    "       C - G3*V5,\n",
    "       V6 - H1*V4,\n",
    "       V7 - H2*V4,\n",
    "       V8 - H3*C,\n",
    "       # Sums\n",
    "       V1 - (R - V6),\n",
    "       V3 - (V2 - V7),\n",
    "       V5 - (V4 + V3 - V8),\n",
    "       ]"
   ]
  },
  {
   "cell_type": "code",
   "execution_count": 6,
   "metadata": {
    "collapsed": false
   },
   "outputs": [
    {
     "data": {
      "image/png": "[encoded data removed]",
      "text/latex": [
       "$$\\left \\{ C : \\frac{G_{1} G_{3} R \\left(G_{2} + 1\\right)}{G_{1} G_{2} G_{3} H_{1} H_{3} + G_{1} G_{2} H_{1} + G_{2} G_{3} H_{2} H_{3} + G_{2} H_{2} + G_{3} H_{3} + 1}, \\quad V_{1} : \\frac{R \\left(G_{2} H_{2} + 1\\right)}{G_{1} G_{2} H_{1} + G_{2} H_{2} + 1}, \\quad V_{2} : \\frac{G_{1} R \\left(G_{2} H_{2} + 1\\right)}{G_{1} G_{2} H_{1} + G_{2} H_{2} + 1}, \\quad V_{3} : \\frac{G_{1} R}{G_{1} G_{2} H_{1} + G_{2} H_{2} + 1}, \\quad V_{4} : \\frac{G_{1} G_{2} R}{G_{1} G_{2} H_{1} + G_{2} H_{2} + 1}, \\quad V_{5} : \\frac{G_{1} R \\left(G_{2} + 1\\right)}{G_{1} G_{2} G_{3} H_{1} H_{3} + G_{1} G_{2} H_{1} + G_{2} G_{3} H_{2} H_{3} + G_{2} H_{2} + G_{3} H_{3} + 1}, \\quad V_{6} : \\frac{G_{1} G_{2} H_{1} R}{G_{1} G_{2} H_{1} + G_{2} H_{2} + 1}, \\quad V_{7} : \\frac{G_{1} G_{2} H_{2} R}{G_{1} G_{2} H_{1} + G_{2} H_{2} + 1}, \\quad V_{8} : \\frac{G_{1} G_{3} H_{3} R \\left(G_{2} + 1\\right)}{G_{1} G_{2} G_{3} H_{1} H_{3} + G_{1} G_{2} H_{1} + G_{2} G_{3} H_{2} H_{3} + G_{2} H_{2} + G_{3} H_{3} + 1}\\right \\}$$"
      ],
      "text/plain": [
       "⎧                         G₁⋅G₃⋅R⋅(G₂ + 1)                              R⋅(G₂⋅\n",
       "⎨C: ───────────────────────────────────────────────────────────, V₁: ─────────\n",
       "⎩   G₁⋅G₂⋅G₃⋅H₁⋅H₃ + G₁⋅G₂⋅H₁ + G₂⋅G₃⋅H₂⋅H₃ + G₂⋅H₂ + G₃⋅H₃ + 1      G₁⋅G₂⋅H₁ \n",
       "\n",
       "H₂ + 1)            G₁⋅R⋅(G₂⋅H₂ + 1)                G₁⋅R                    G₁⋅\n",
       "───────────, V₂: ────────────────────, V₃: ────────────────────, V₄: ─────────\n",
       "+ G₂⋅H₂ + 1      G₁⋅G₂⋅H₁ + G₂⋅H₂ + 1      G₁⋅G₂⋅H₁ + G₂⋅H₂ + 1      G₁⋅G₂⋅H₁ \n",
       "\n",
       "G₂⋅R                                    G₁⋅R⋅(G₂ + 1)                         \n",
       "───────────, V₅: ───────────────────────────────────────────────────────────, \n",
       "+ G₂⋅H₂ + 1      G₁⋅G₂⋅G₃⋅H₁⋅H₃ + G₁⋅G₂⋅H₁ + G₂⋅G₃⋅H₂⋅H₃ + G₂⋅H₂ + G₃⋅H₃ + 1  \n",
       "\n",
       "         G₁⋅G₂⋅H₁⋅R                G₁⋅G₂⋅H₂⋅R                               G₁\n",
       "V₆: ────────────────────, V₇: ────────────────────, V₈: ──────────────────────\n",
       "    G₁⋅G₂⋅H₁ + G₂⋅H₂ + 1      G₁⋅G₂⋅H₁ + G₂⋅H₂ + 1      G₁⋅G₂⋅G₃⋅H₁⋅H₃ + G₁⋅G₂\n",
       "\n",
       "⋅G₃⋅H₃⋅R⋅(G₂ + 1)                    ⎫\n",
       "─────────────────────────────────────⎬\n",
       "⋅H₁ + G₂⋅G₃⋅H₂⋅H₃ + G₂⋅H₂ + G₃⋅H₃ + 1⎭"
      ]
     },
     "execution_count": 6,
     "metadata": {},
     "output_type": "execute_result"
    }
   ],
   "source": [
    "sol = sympy.solve(eqs, unknowns)\n",
    "sol"
   ]
  },
  {
   "cell_type": "code",
   "execution_count": 8,
   "metadata": {
    "collapsed": false
   },
   "outputs": [
    {
     "name": "stdout",
     "output_type": "stream",
     "text": [
      "G1*G3*R*(G2 + 1)/((G3*H3 + 1)*(G1*G2*H1 + G2*H2 + 1))\n"
     ]
    }
   ],
   "source": [
    "print sol[C].factor()"
   ]
  },
  {
   "cell_type": "code",
   "execution_count": null,
   "metadata": {
    "collapsed": true
   },
   "outputs": [],
   "source": []
  }
 ],
 "metadata": {
  "kernelspec": {
   "display_name": "Python 2",
   "language": "python",
   "name": "python2"
  },
  "language_info": {
   "codemirror_mode": {
    "name": "ipython",
    "version": 2
   },
   "file_extension": ".py",
   "mimetype": "text/x-python",
   "name": "python",
   "nbconvert_exporter": "python",
   "pygments_lexer": "ipython2",
   "version": "2.7.2"
  }
 },
 "nbformat": 4,
 "nbformat_minor": 0
}
