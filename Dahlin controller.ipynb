{
 "cells": [
  {
   "cell_type": "markdown",
   "metadata": {},
   "source": [
    "Dahlin controller\n",
    "=================\n",
    "\n",
    "︠We will replicate the controller output in figure 17.11a"
   ]
  },
  {
   "cell_type": "code",
   "execution_count": 77,
   "metadata": {
    "collapsed": true
   },
   "outputs": [],
   "source": [
    "import sympy\n",
    "sympy.init_printing()"
   ]
  },
  {
   "cell_type": "markdown",
   "metadata": {},
   "source": [
    "Discretise the system\n",
    "--------------------------------"
   ]
  },
  {
   "cell_type": "markdown",
   "metadata": {},
   "source": [
    "We need to find the corresponding z transform of the hold element and the system. Since $H=1/s(1 - e^{-Ts})$, we can find $F=G/s$, from there $f(t)$ and then work out the $z$ transform"
   ]
  },
  {
   "cell_type": "code",
   "execution_count": 139,
   "metadata": {
    "collapsed": false
   },
   "outputs": [
    {
     "data": {
      "image/png": "[encoded data removed]",
      "text/latex": [
       "$$\\frac{\\theta\\left(t\\right)}{15} \\left(\\frac{\\Gamma{\\left(\\frac{1}{5} \\right)} \\Gamma{\\left(\\frac{1}{3} \\right)}}{\\Gamma{\\left(\\frac{6}{5} \\right)} \\Gamma{\\left(\\frac{4}{3} \\right)}} + \\frac{e^{- \\frac{t}{3}} \\Gamma{\\left(- \\frac{1}{3} \\right)} \\Gamma{\\left(- \\frac{2}{15} \\right)}}{\\Gamma{\\left(\\frac{2}{3} \\right)} \\Gamma{\\left(\\frac{13}{15} \\right)}} + \\frac{e^{- \\frac{t}{5}} \\Gamma{\\left(- \\frac{1}{5} \\right)} \\Gamma{\\left(\\frac{2}{15} \\right)}}{\\Gamma{\\left(\\frac{4}{5} \\right)} \\Gamma{\\left(\\frac{17}{15} \\right)}}\\right)$$"
      ],
      "text/plain": [
       "⎛                 -t                      -t                 ⎞             \n",
       "⎜                 ───                     ───                ⎟             \n",
       "⎜                  3                       5                 ⎟             \n",
       "⎜Γ(1/5)⋅Γ(1/3)   ℯ   ⋅Γ(-1/3)⋅Γ(-2/15)   ℯ   ⋅Γ(-1/5)⋅Γ(2/15)⎟             \n",
       "⎜───────────── + ───────────────────── + ────────────────────⎟⋅Heaviside(t)\n",
       "⎜Γ(6/5)⋅Γ(4/3)                ⎛13⎞                   ⎛17⎞    ⎟             \n",
       "⎜                     Γ(2/3)⋅Γ⎜──⎟           Γ(4/5)⋅Γ⎜──⎟    ⎟             \n",
       "⎝                             ⎝15⎠                   ⎝15⎠    ⎠             \n",
       "───────────────────────────────────────────────────────────────────────────\n",
       "                                     15                                    "
      ]
     },
     "execution_count": 139,
     "metadata": {},
     "output_type": "execute_result"
    }
   ],
   "source": [
    "s, t = sympy.symbols('s, t')\n",
    "Gs = 1/(15*s**2 + 8*s + 1)\n",
    "f = sympy.inverse_laplace_transform(Gs/s, s, t).simplify()\n",
    "f"
   ]
  },
  {
   "cell_type": "code",
   "execution_count": 140,
   "metadata": {
    "collapsed": true
   },
   "outputs": [],
   "source": [
    "z, q = sympy.symbols('z, q')"
   ]
  },
  {
   "cell_type": "markdown",
   "metadata": {},
   "source": [
    "Now the sampling rate"
   ]
  },
  {
   "cell_type": "code",
   "execution_count": 141,
   "metadata": {
    "collapsed": false
   },
   "outputs": [],
   "source": [
    "T = 1"
   ]
  },
  {
   "cell_type": "markdown",
   "metadata": {},
   "source": [
    "We can see that $f(t)$ is the sum of 1 and two exponentials. It is easy to determine the corresponding z transforms from the table"
   ]
  },
  {
   "cell_type": "code",
   "execution_count": 65,
   "metadata": {
    "collapsed": true
   },
   "outputs": [],
   "source": [
    "def expz(a):\n",
    "    b = sympy.exp(-a*T)\n",
    "    return 1/(1 - b*z**-1)"
   ]
  },
  {
   "cell_type": "code",
   "execution_count": 66,
   "metadata": {
    "collapsed": false
   },
   "outputs": [],
   "source": [
    "Fz = -5/2*expz(1/5)  + 3/2*expz(1/3) + 1/(1 - z**-1)"
   ]
  },
  {
   "cell_type": "code",
   "execution_count": 67,
   "metadata": {
    "collapsed": false
   },
   "outputs": [
    {
     "data": {
      "image/png": "[encoded data removed]",
      "text/latex": [
       "$$\\frac{1.5}{1 - \\frac{0.716531310573789}{z}} - \\frac{2.5}{1 - \\frac{0.818730753077982}{z}} + \\frac{1}{1 - \\frac{1}{z}}$$"
      ],
      "text/plain": [
       "         1.5                     2.5              1  \n",
       "───────────────────── - ───────────────────── + ─────\n",
       "    0.716531310573789       0.818730753077982       1\n",
       "1 - ─────────────────   1 - ─────────────────   1 - ─\n",
       "            z                       z               z"
      ]
     },
     "execution_count": 67,
     "metadata": {},
     "output_type": "execute_result"
    }
   ],
   "source": [
    "Fz"
   ]
  },
  {
   "cell_type": "markdown",
   "metadata": {},
   "source": [
    "Let's see if we did that right"
   ]
  },
  {
   "cell_type": "code",
   "execution_count": 131,
   "metadata": {
    "collapsed": false
   },
   "outputs": [],
   "source": [
    "def discretecoeffs(Gz, N):\n",
    "    Gq = Gz.subs({z: q**-1})\n",
    "    poly = sympy.poly(sympy.series(Gq, q, 0, n=N).removeO(), q)\n",
    "    return list(reversed(poly.all_coeffs()))\n",
    "\n",
    "def plotdiscrete(Gz, N):\n",
    "    times, values = zip(*[(T*power, v) for power, v in enumerate(discretecoeffs(Gz, N))])\n",
    "    plt.plot(times, values, '.')"
   ]
  },
  {
   "cell_type": "code",
   "execution_count": 132,
   "metadata": {
    "collapsed": true
   },
   "outputs": [],
   "source": [
    "import matplotlib.pyplot as plt\n",
    "%matplotlib inline"
   ]
  },
  {
   "cell_type": "code",
   "execution_count": 133,
   "metadata": {
    "collapsed": true
   },
   "outputs": [],
   "source": [
    "import numpy"
   ]
  },
  {
   "cell_type": "code",
   "execution_count": 157,
   "metadata": {
    "collapsed": true
   },
   "outputs": [],
   "source": [
    "ts = numpy.linspace(0, 10)"
   ]
  },
  {
   "cell_type": "code",
   "execution_count": 135,
   "metadata": {
    "collapsed": false
   },
   "outputs": [
    {
     "data": {
      "text/plain": [
       "[<matplotlib.lines.Line2D at 0x112f12710>]"
      ]
     },
     "execution_count": 135,
     "metadata": {},
     "output_type": "execute_result"
    },
    {
     "data": {
      "image/png": "[encoded data removed]",
      "text/plain": [
       "<matplotlib.figure.Figure at 0x1128e1748>"
      ]
     },
     "metadata": {},
     "output_type": "display_data"
    }
   ],
   "source": [
    "plotdiscrete(Fz, 10)\n",
    "plt.plot(ts, [sympy.N(f.subs(t, ti+0.001)) for ti in ts])"
   ]
  },
  {
   "cell_type": "markdown",
   "metadata": {},
   "source": [
    "Here is the transform of the system and the hold element"
   ]
  },
  {
   "cell_type": "code",
   "execution_count": 107,
   "metadata": {
    "collapsed": false
   },
   "outputs": [],
   "source": [
    "HG_z = Fz*(1 - z**-1)"
   ]
  },
  {
   "cell_type": "markdown",
   "metadata": {},
   "source": [
    "Dahlin Controller\n",
    "-----------------\n",
    "\n",
    "The desired closed loop response is first order"
   ]
  },
  {
   "cell_type": "code",
   "execution_count": 108,
   "metadata": {
    "collapsed": true
   },
   "outputs": [],
   "source": [
    "theta = 0 # system dead time \n",
    "lam = 1 # Dahlin's lambda\n",
    "h = theta # Dahlin's h\n",
    "T = 1 # Sampling interval"
   ]
  },
  {
   "cell_type": "markdown",
   "metadata": {},
   "source": [
    "First order response in eq 17-63"
   ]
  },
  {
   "cell_type": "code",
   "execution_count": 109,
   "metadata": {
    "collapsed": false
   },
   "outputs": [],
   "source": [
    "N = theta/T\n",
    "A = sympy.exp(-T/lam)\n",
    "yclz = (1 - A)*z**(-N-1)/(1 - A*z**-1)"
   ]
  },
  {
   "cell_type": "code",
   "execution_count": 120,
   "metadata": {
    "collapsed": true
   },
   "outputs": [],
   "source": [
    "K = (1/HG_z*yclz/(1 - yclz)).simplify()"
   ]
  },
  {
   "cell_type": "code",
   "execution_count": 111,
   "metadata": {
    "collapsed": false
   },
   "outputs": [
    {
     "data": {
      "image/png": "[encoded data removed]",
      "text/latex": [
       "$$\\frac{0.632120558828558 z^{2} - 0.970470713623842 z + 0.370831136111342}{0.0279700831657292 z^{2} - 0.00455601047319787 z - 0.0234140726925314}$$"
      ],
      "text/plain": [
       "    ⎛                   2                                          ⎞\n",
       "1.0⋅⎝0.632120558828558⋅z  - 0.970470713623842⋅z + 0.370831136111342⎠\n",
       "────────────────────────────────────────────────────────────────────\n",
       "                     2                                              \n",
       " 0.0279700831657292⋅z  - 0.00455601047319787⋅z - 0.0234140726925314 "
      ]
     },
     "execution_count": 111,
     "metadata": {},
     "output_type": "execute_result"
    }
   ],
   "source": [
    "K"
   ]
  },
  {
   "cell_type": "code",
   "execution_count": 124,
   "metadata": {
    "collapsed": false
   },
   "outputs": [],
   "source": [
    "#K = 0.632/(1 - z*-1) * (1 - 1.5353*z**-1 + 0.5866*z**-2)/(0.028 + 0.0234*z**-1)"
   ]
  },
  {
   "cell_type": "markdown",
   "metadata": {},
   "source": [
    "We will model the control response to a unit step in reference signal"
   ]
  },
  {
   "cell_type": "code",
   "execution_count": 125,
   "metadata": {
    "collapsed": false
   },
   "outputs": [],
   "source": [
    "rz = 1/(1 - z**-1) # unit step in z"
   ]
  },
  {
   "cell_type": "markdown",
   "metadata": {},
   "source": [
    "Now we can calculate the z-domain version of the controller output"
   ]
  },
  {
   "cell_type": "code",
   "execution_count": 126,
   "metadata": {
    "collapsed": true
   },
   "outputs": [],
   "source": [
    "uz = K/(1 + K*HG_z)*rz"
   ]
  },
  {
   "cell_type": "code",
   "execution_count": 152,
   "metadata": {
    "collapsed": true
   },
   "outputs": [],
   "source": [
    "N = 10"
   ]
  },
  {
   "cell_type": "code",
   "execution_count": 153,
   "metadata": {
    "collapsed": false
   },
   "outputs": [
    {
     "data": {
      "image/png": "[encoded data removed]",
      "text/plain": [
       "<matplotlib.figure.Figure at 0x114380080>"
      ]
     },
     "metadata": {},
     "output_type": "display_data"
    }
   ],
   "source": [
    "plotdiscrete(uz, N)"
   ]
  },
  {
   "cell_type": "markdown",
   "metadata": {},
   "source": [
    "Continuous response\n",
    "-------------------\n",
    "\n",
    "By design the controlled variable follows an exponential at the sampling points."
   ]
  },
  {
   "cell_type": "code",
   "execution_count": 176,
   "metadata": {
    "collapsed": true
   },
   "outputs": [],
   "source": [
    "yz = K*HG_z/(1 + K*HG_z)*rz"
   ]
  },
  {
   "cell_type": "code",
   "execution_count": 177,
   "metadata": {
    "collapsed": false
   },
   "outputs": [
    {
     "data": {
      "text/plain": [
       "[<matplotlib.lines.Line2D at 0x11429e2e8>]"
      ]
     },
     "execution_count": 177,
     "metadata": {},
     "output_type": "execute_result"
    },
    {
     "data": {
      "image/png": "[encoded data removed]",
      "text/plain": [
       "<matplotlib.figure.Figure at 0x1142a0cf8>"
      ]
     },
     "metadata": {},
     "output_type": "display_data"
    }
   ],
   "source": [
    "plotdiscrete(yz, N)\n",
    "plt.plot(ts, 1 - numpy.exp(-ts))"
   ]
  },
  {
   "cell_type": "markdown",
   "metadata": {},
   "source": [
    "But what does it really look like between data points? First, let's construct the response of the system to a single sampling time length pulse input"
   ]
  },
  {
   "cell_type": "code",
   "execution_count": 178,
   "metadata": {
    "collapsed": false
   },
   "outputs": [],
   "source": [
    "p = f - f.subs(t, t-T)"
   ]
  },
  {
   "cell_type": "markdown",
   "metadata": {},
   "source": [
    "Note that there is a slight issue with finding the value of this function at zero, so we avoid that point in plotting"
   ]
  },
  {
   "cell_type": "code",
   "execution_count": 180,
   "metadata": {
    "collapsed": false
   },
   "outputs": [
    {
     "data": {
      "image/png": "[encoded data removed]",
      "text/plain": [
       "<matplotlib.figure.Figure at 0x10bb76588>"
      ]
     },
     "metadata": {},
     "output_type": "display_data"
    },
    {
     "data": {
      "text/plain": [
       "<sympy.plotting.plot.Plot at 0x112f01048>"
      ]
     },
     "execution_count": 180,
     "metadata": {},
     "output_type": "execute_result"
    }
   ],
   "source": [
    "sympy.plot(p, (t, 0.001, 10))"
   ]
  },
  {
   "cell_type": "markdown",
   "metadata": {},
   "source": [
    "Let's get the values of the controller output as a list:"
   ]
  },
  {
   "cell_type": "code",
   "execution_count": 182,
   "metadata": {
    "collapsed": false
   },
   "outputs": [],
   "source": [
    "u = discretecoeffs(uz, N)"
   ]
  },
  {
   "cell_type": "markdown",
   "metadata": {},
   "source": [
    "Now, we calculate the output of the system as the sum of the various pulse inputs."
   ]
  },
  {
   "cell_type": "code",
   "execution_count": 184,
   "metadata": {
    "collapsed": false
   },
   "outputs": [],
   "source": [
    "plots = []\n",
    "yt = numpy.zeros_like(ts)\n",
    "for i in range(0, N):\n",
    "    yt += [float(sympy.N(u[i]*p.subs(t, ti-i + 0.01))) for ti in ts]"
   ]
  },
  {
   "cell_type": "markdown",
   "metadata": {},
   "source": [
    "Finally, we present the discrete system response, the designed response and the analytical continuous response on the same graph."
   ]
  },
  {
   "cell_type": "code",
   "execution_count": 185,
   "metadata": {
    "collapsed": false
   },
   "outputs": [
    {
     "data": {
      "text/plain": [
       "[<matplotlib.lines.Line2D at 0x10d9c2128>]"
      ]
     },
     "execution_count": 185,
     "metadata": {},
     "output_type": "execute_result"
    },
    {
     "data": {
      "image/png": "[encoded data removed]",
      "text/plain": [
       "<matplotlib.figure.Figure at 0x114306278>"
      ]
     },
     "metadata": {},
     "output_type": "display_data"
    }
   ],
   "source": [
    "plotdiscrete(yz, 10)\n",
    "plt.plot(ts, 1 - numpy.exp(-ts))\n",
    "plt.plot(ts, yt)"
   ]
  }
 ],
 "metadata": {
  "kernelspec": {
   "display_name": "Python 3",
   "language": "python",
   "name": "python3"
  },
  "language_info": {
   "codemirror_mode": {
    "name": "ipython",
    "version": 3
   },
   "file_extension": ".py",
   "mimetype": "text/x-python",
   "name": "python",
   "nbconvert_exporter": "python",
   "pygments_lexer": "ipython3",
   "version": "3.5.1"
  }
 },
 "nbformat": 4,
 "nbformat_minor": 0
}
