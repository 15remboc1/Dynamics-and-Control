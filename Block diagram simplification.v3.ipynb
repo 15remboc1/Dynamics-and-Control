{
 "metadata": {
  "kernelspec": {
   "display_name": "Python 2",
   "language": "python",
   "name": "python2"
  },
  "language_info": {
   "codemirror_mode": {
    "name": "ipython",
    "version": 2
   },
   "file_extension": ".py",
   "mimetype": "text/x-python",
   "name": "python",
   "nbconvert_exporter": "python",
   "pygments_lexer": "ipython2",
   "version": "2.7.2"
  },
  "name": ""
 },
 "nbformat": 3,
 "nbformat_minor": 0,
 "worksheets": [
  {
   "cells": [
    {
     "cell_type": "markdown",
     "metadata": {},
     "source": [
      "Let's reduce this big block diagram to one input-output relationship\n",
      "\n",
      "<img src=\"bigblockdiagram.png\">"
     ]
    },
    {
     "cell_type": "code",
     "collapsed": false,
     "input": [
      "import sympy\n",
      "sympy.init_printing()"
     ],
     "language": "python",
     "metadata": {},
     "outputs": [],
     "prompt_number": 1
    },
    {
     "cell_type": "code",
     "collapsed": true,
     "input": [
      "(R, V1, V2, V3, V4, V5, V6, V7, V8, C,\n",
      " G1, G2, G3, H1, H2, H3) = sympy.symbols('R, V1, V2, V3, V4, V5, V6, V7, V8, C,'\n",
      "                                         'G1, G2, G3, H1, H2, H3')\n",
      "unknowns = V1, V2, V3, V4, V5, V6, V7, V8, C"
     ],
     "language": "python",
     "metadata": {},
     "outputs": [],
     "prompt_number": 2
    },
    {
     "cell_type": "code",
     "collapsed": false,
     "input": [
      "eqs = [# Blocks\n",
      "       V2 - G1*V3,\n",
      "       V4 - G2*V3,\n",
      "       C - G3*V5,\n",
      "       V6 - H1*V4,\n",
      "       V7 - H2*V4,\n",
      "       V8 - H3*C,\n",
      "       # Sums\n",
      "       V1 - (R - V6),\n",
      "       V3 - (V2 - V7),\n",
      "       V5 - (V4 + V3 - V8),\n",
      "       ]"
     ],
     "language": "python",
     "metadata": {},
     "outputs": [],
     "prompt_number": 8
    },
    {
     "cell_type": "code",
     "collapsed": false,
     "input": [
      "sol = sympy.solve(eqs, unknowns)\n",
      "sol"
     ],
     "language": "python",
     "metadata": {},
     "outputs": [
      {
       "latex": [
        "$$\\left \\{ C : 0, \\quad V_{1} : R, \\quad V_{2} : 0, \\quad V_{3} : 0, \\quad V_{4} : 0, \\quad V_{5} : 0, \\quad V_{6} : 0, \\quad V_{7} : 0, \\quad V_{8} : 0\\right \\}$$"
       ],
       "metadata": {},
       "output_type": "pyout",
       "png": "[encoded data removed]",
       "prompt_number": 9,
       "text": [
        "{C: 0, V\u2081: R, V\u2082: 0, V\u2083: 0, V\u2084: 0, V\u2085: 0, V\u2086: 0, V\u2087: 0, V\u2088: 0}"
       ]
      }
     ],
     "prompt_number": 9
    },
    {
     "cell_type": "code",
     "collapsed": false,
     "input": [
      "sol[C].factor()"
     ],
     "language": "python",
     "metadata": {},
     "outputs": [
      {
       "latex": [
        "$$0$$"
       ],
       "metadata": {},
       "output_type": "pyout",
       "png": "[encoded data removed]",
       "prompt_number": 10,
       "text": [
        "0"
       ]
      }
     ],
     "prompt_number": 10
    }
   ],
   "metadata": {}
  }
 ]
}
