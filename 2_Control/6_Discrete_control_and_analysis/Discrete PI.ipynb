{
 "cells": [
  {
   "cell_type": "markdown",
   "metadata": {},
   "source": [
    "# Discrete PI with ITAE parameters\n",
    "This notebook reproduces Figure 17.10 in Seborg et al."
   ]
  },
  {
   "cell_type": "code",
   "execution_count": 1,
   "metadata": {},
   "outputs": [],
   "source": [
    "import sys\n",
    "sys.path.append('../../lib/')\n",
    "import blocksim\n",
    "import fopdtitae"
   ]
  },
  {
   "cell_type": "code",
   "execution_count": 2,
   "metadata": {},
   "outputs": [],
   "source": [
    "import numpy\n",
    "import matplotlib.pyplot as plt\n",
    "%matplotlib inline"
   ]
  },
  {
   "cell_type": "code",
   "execution_count": 3,
   "metadata": {},
   "outputs": [],
   "source": [
    "class DiscretePI(blocksim.Block):\n",
    "    def __init__(self, name, inputname, outputname, K, tau_I, deltat):\n",
    "        super().__init__(name, inputname, outputname)\n",
    "\n",
    "        self.K = K\n",
    "        self.tau_I = tau_I\n",
    "        self.deltat = deltat\n",
    "        self.reset()\n",
    "\n",
    "    def reset(self):\n",
    "        self.state = 0\n",
    "        self.output = 0\n",
    "        self.eint = 0\n",
    "        self.nextsample = 0\n",
    "        \n",
    "    def change_input(self, t, e):\n",
    "        if t >= self.nextsample:\n",
    "            self.eint += e*self.deltat\n",
    "            self.output = self.K*(e + self.eint/self.tau_I)\n",
    "            self.nextsample += self.deltat\n",
    "            \n",
    "        return self.output\n",
    "    \n",
    "    def change_state(self, x):\n",
    "        self.state = x\n",
    "        \n",
    "    def derivative(self, e):\n",
    "        return 0"
   ]
  },
  {
   "cell_type": "code",
   "execution_count": 4,
   "metadata": {},
   "outputs": [],
   "source": [
    "class DiscretePI_vel(DiscretePI):\n",
    "    def reset(self):\n",
    "        self.state = 0\n",
    "        self.output = 0\n",
    "        self.e_k_1 = 0\n",
    "        self.nextsample = 0\n",
    "        \n",
    "    def change_input(self, t, e_k):\n",
    "        if t >= self.nextsample:\n",
    "            self.output += self.K*((e_k - self.e_k_1) + self.deltat/self.tau_I*e_k) \n",
    "            \n",
    "            self.e_k_1 = e_k\n",
    "            self.nextsample += self.deltat\n",
    "\n",
    "        return self.output"
   ]
  },
  {
   "cell_type": "markdown",
   "metadata": {},
   "source": [
    "The system is\n",
    "\n",
    "$$ G = G_v G_p G_m = \\frac{-20 e^{-s}}{5s + 1} = \\frac{K_p e^{-\\theta s}}{\\tau_p s + 1}$$\n",
    "\n",
    "It is not explicitly stated in the example, but $G_d = G$ is assumed."
   ]
  },
  {
   "cell_type": "code",
   "execution_count": 13,
   "metadata": {},
   "outputs": [],
   "source": [
    "Kp = -20\n",
    "taup = 5\n",
    "theta = 1"
   ]
  },
  {
   "cell_type": "code",
   "execution_count": 14,
   "metadata": {},
   "outputs": [],
   "source": [
    "G = blocksim.LTI('G', 'u', 'yu',\n",
    "                 Kp, [taup, 1], theta)"
   ]
  },
  {
   "cell_type": "code",
   "execution_count": 15,
   "metadata": {},
   "outputs": [],
   "source": [
    "Gd = blocksim.LTI('G', 'd', 'yd',\n",
    "                  Kp, [taup, 1], theta)"
   ]
  },
  {
   "cell_type": "markdown",
   "metadata": {},
   "source": [
    "Note we can't just do `G = Gd` because we need new names and a new state for the block."
   ]
  },
  {
   "cell_type": "code",
   "execution_count": 16,
   "metadata": {},
   "outputs": [],
   "source": [
    "sums = {'y': ('+yu', '+yd'),\n",
    "        'e': ('-y', '+r')}"
   ]
  },
  {
   "cell_type": "code",
   "execution_count": 9,
   "metadata": {},
   "outputs": [],
   "source": [
    "inputs = {'r': lambda t: 0,\n",
    "          'd': lambda t: 1}"
   ]
  },
  {
   "cell_type": "code",
   "execution_count": 10,
   "metadata": {},
   "outputs": [],
   "source": [
    "ts = numpy.linspace(0, 15, 2000)"
   ]
  },
  {
   "cell_type": "code",
   "execution_count": 11,
   "metadata": {},
   "outputs": [],
   "source": [
    "deltats = [0.05, 0.25, 0.5, 1]"
   ]
  },
  {
   "cell_type": "code",
   "execution_count": 12,
   "metadata": {},
   "outputs": [
    {
     "data": {
      "text/plain": [
       "<matplotlib.legend.Legend at 0x1c11e89e10>"
      ]
     },
     "execution_count": 12,
     "metadata": {},
     "output_type": "execute_result"
    },
    {
     "data": {
      "image/png": "[encoded data removed]",
      "text/plain": [
       "<matplotlib.figure.Figure at 0x1c09bf41d0>"
      ]
     },
     "metadata": {},
     "output_type": "display_data"
    }
   ],
   "source": [
    "for deltat in deltats:\n",
    "    Kc, tau_I = fopdtitae.parameters(Kp, taup, theta + deltat/2)\n",
    "    Gc = DiscretePI('Gc', 'e', 'u',\n",
    "                    Kc, tau_I, deltat)\n",
    "    diagram = blocksim.Diagram([G, Gd, Gc], sums, inputs)\n",
    "    outputs = diagram.simulate(ts)\n",
    "    plt.plot(ts, outputs['y'], label='∆t={}'.format(deltat))\n",
    "plt.legend()"
   ]
  },
  {
   "cell_type": "code",
   "execution_count": null,
   "metadata": {},
   "outputs": [],
   "source": []
  }
 ],
 "metadata": {
  "kernelspec": {
   "display_name": "Python 3",
   "language": "python",
   "name": "python3"
  },
  "language_info": {
   "codemirror_mode": {
    "name": "ipython",
    "version": 3
   },
   "file_extension": ".py",
   "mimetype": "text/x-python",
   "name": "python",
   "nbconvert_exporter": "python",
   "pygments_lexer": "ipython3",
   "version": "3.6.4"
  }
 },
 "nbformat": 4,
 "nbformat_minor": 2
}
