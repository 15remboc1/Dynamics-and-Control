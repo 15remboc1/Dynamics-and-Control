{
 "cells": [
  {
   "cell_type": "code",
   "execution_count": 1,
   "metadata": {
    "collapsed": true
   },
   "outputs": [],
   "source": [
    "import sympy\n",
    "sympy.init_printing()\n",
    "%matplotlib inline"
   ]
  },
  {
   "cell_type": "markdown",
   "metadata": {},
   "source": [
    "# Multivariable Stability analysis"
   ]
  },
  {
   "cell_type": "code",
   "execution_count": 2,
   "metadata": {},
   "outputs": [],
   "source": [
    "s = sympy.Symbol('s')"
   ]
  },
  {
   "cell_type": "code",
   "execution_count": 3,
   "metadata": {},
   "outputs": [
    {
     "data": {
      "image/png": "[encoded data removed]",
      "text/latex": [
       "$$\\left[\\begin{matrix}\\frac{2}{10 s + 1} & \\frac{3}{2 \\left(s + 1\\right)}\\\\\\frac{3}{2 \\left(s + 1\\right)} & \\frac{2}{10 s + 1}\\end{matrix}\\right]$$"
      ],
      "text/plain": [
       "⎡   2           3    ⎤\n",
       "⎢────────   ─────────⎥\n",
       "⎢10⋅s + 1   2⋅(s + 1)⎥\n",
       "⎢                    ⎥\n",
       "⎢    3         2     ⎥\n",
       "⎢─────────  ──────── ⎥\n",
       "⎣2⋅(s + 1)  10⋅s + 1 ⎦"
      ]
     },
     "execution_count": 3,
     "metadata": {},
     "output_type": "execute_result"
    }
   ],
   "source": [
    "Gp = sympy.Matrix([[2/(10*s + 1), sympy.Rational('1.5')/(s + 1)],\n",
    "                   [sympy.Rational('1.5')/(s + 1), 2/(10*s + 1)]])\n",
    "Gp"
   ]
  },
  {
   "cell_type": "code",
   "execution_count": 4,
   "metadata": {
    "collapsed": true
   },
   "outputs": [],
   "source": [
    "K_c1, K_c2 = sympy.symbols('K_c1, K_c2')"
   ]
  },
  {
   "cell_type": "code",
   "execution_count": 5,
   "metadata": {},
   "outputs": [],
   "source": [
    "Gc = sympy.Matrix([[K_c1, 0],\n",
    "                   [0, K_c2]])"
   ]
  },
  {
   "cell_type": "markdown",
   "metadata": {},
   "source": [
    "For the off-diagonal case:"
   ]
  },
  {
   "cell_type": "code",
   "execution_count": 6,
   "metadata": {},
   "outputs": [],
   "source": [
    "# Gc = sympy.Matrix([[0, K_c2],\n",
    "#                    [K_c1, 0]])"
   ]
  },
  {
   "cell_type": "code",
   "execution_count": 7,
   "metadata": {},
   "outputs": [],
   "source": [
    "I = sympy.Matrix([[1, 0],\n",
    "                  [0, 1]])"
   ]
  },
  {
   "cell_type": "code",
   "execution_count": 8,
   "metadata": {},
   "outputs": [],
   "source": [
    "charpoly = sympy.poly(sympy.numer((I + Gp*Gc).det().together()), s)"
   ]
  },
  {
   "cell_type": "code",
   "execution_count": 9,
   "metadata": {},
   "outputs": [
    {
     "name": "stdout",
     "output_type": "stream",
     "text": [
      "0 400\n",
      "1 80*K_c1 + 80*K_c2 + 880\n",
      "2 -884*K_c1*K_c2 + 168*K_c1 + 168*K_c2 + 564\n",
      "3 -148*K_c1*K_c2 + 96*K_c1 + 96*K_c2 + 88\n",
      "4 7*K_c1*K_c2 + 8*K_c1 + 8*K_c2 + 4\n"
     ]
    }
   ],
   "source": [
    "for i, a in enumerate(charpoly.all_coeffs()):\n",
    "    print(i, a)"
   ]
  },
  {
   "cell_type": "code",
   "execution_count": 10,
   "metadata": {
    "collapsed": true
   },
   "outputs": [],
   "source": [
    "from routh import routh"
   ]
  },
  {
   "cell_type": "code",
   "execution_count": 1,
   "metadata": {},
   "outputs": [
    {
     "name": "stdout",
     "output_type": "stream",
     "text": [
      "import sympy\n",
      "\n",
      "def routh(p):\n",
      "    \"\"\" Construct the Routh-Hurwitz array given a polynomial in s\"\"\"\n",
      "    coefficients = p.all_coeffs()\n",
      "    N = len(coefficients)\n",
      "    M = sympy.zeros(N, (N+1)//2 + 1)\n",
      "\n",
      "    r1 = coefficients[0::2]\n",
      "    r2 = coefficients[1::2]\n",
      "    M[0, :len(r1)] = [r1]\n",
      "    M[1, :len(r2)] = [r2]\n",
      "    for i in range(2, N):\n",
      "        for j in range(N//2):\n",
      "            S = M[[i-2, i-1], [0, j+1]]\n",
      "            M[i, j] = sympy.simplify(-S.det()/M[i-1,0])\n",
      "    return M[:, :-1]\n"
     ]
    }
   ],
   "source": [
    "!cat routh.py"
   ]
  },
  {
   "cell_type": "code",
   "execution_count": 13,
   "metadata": {},
   "outputs": [],
   "source": [
    "R = routh(charpoly)"
   ]
  },
  {
   "cell_type": "code",
   "execution_count": 14,
   "metadata": {},
   "outputs": [
    {
     "data": {
      "image/png": "[encoded data removed]",
      "text/latex": [
       "$$400$$"
      ],
      "text/plain": [
       "400"
      ]
     },
     "execution_count": 14,
     "metadata": {},
     "output_type": "execute_result"
    }
   ],
   "source": [
    "R[0, 0]"
   ]
  },
  {
   "cell_type": "markdown",
   "metadata": {},
   "source": [
    "All the remaining elements of the left hand row must be positive (the same sign as the first element)"
   ]
  },
  {
   "cell_type": "code",
   "execution_count": 15,
   "metadata": {
    "collapsed": true
   },
   "outputs": [],
   "source": [
    "requirements = True\n",
    "for r in R[1:, 0]:\n",
    "    requirements = sympy.And(requirements, r > 0)"
   ]
  },
  {
   "cell_type": "code",
   "execution_count": 16,
   "metadata": {},
   "outputs": [
    {
     "data": {
      "image/png": "[encoded data removed]",
      "text/plain": [
       "<matplotlib.figure.Figure at 0x7faae96539e8>"
      ]
     },
     "metadata": {},
     "output_type": "display_data"
    },
    {
     "data": {
      "text/plain": [
       "<sympy.plotting.plot.Plot at 0x7faae9653748>"
      ]
     },
     "execution_count": 16,
     "metadata": {},
     "output_type": "execute_result"
    }
   ],
   "source": [
    "sympy.plot_implicit(requirements, (K_c2, -2, 7), (K_c1, -2, 7))"
   ]
  }
 ],
 "metadata": {
  "anaconda-cloud": {},
  "kernelspec": {
   "display_name": "Python 3",
   "language": "python",
   "name": "python3"
  },
  "language_info": {
   "codemirror_mode": {
    "name": "ipython",
    "version": 3
   },
   "file_extension": ".py",
   "mimetype": "text/x-python",
   "name": "python",
   "nbconvert_exporter": "python",
   "pygments_lexer": "ipython3",
   "version": "3.6.4"
  }
 },
 "nbformat": 4,
 "nbformat_minor": 2
}
