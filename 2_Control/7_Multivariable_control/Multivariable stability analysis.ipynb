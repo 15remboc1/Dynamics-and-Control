{
 "cells": [
  {
   "cell_type": "markdown",
   "metadata": {},
   "source": [
    "## Multivariable Stability analysis"
   ]
  },
  {
   "cell_type": "code",
   "execution_count": 1,
   "metadata": {},
   "outputs": [],
   "source": [
    "import sympy\n",
    "sympy.init_printing()\n",
    "%matplotlib inline"
   ]
  },
  {
   "cell_type": "code",
   "execution_count": 2,
   "metadata": {},
   "outputs": [],
   "source": [
    "s = sympy.Symbol('s')"
   ]
  },
  {
   "cell_type": "markdown",
   "metadata": {},
   "source": [
    "This matrix is from example 16.2 in Seborg"
   ]
  },
  {
   "cell_type": "code",
   "execution_count": 3,
   "metadata": {},
   "outputs": [
    {
     "data": {
      "text/latex": [
       "$$\\left[\\begin{matrix}\\frac{2}{10 s + 1} & \\frac{3}{2 \\left(s + 1\\right)}\\\\\\frac{3}{2 \\left(s + 1\\right)} & \\frac{2}{10 s + 1}\\end{matrix}\\right]$$"
      ],
      "text/plain": [
       "⎡   2           3    ⎤\n",
       "⎢────────   ─────────⎥\n",
       "⎢10⋅s + 1   2⋅(s + 1)⎥\n",
       "⎢                    ⎥\n",
       "⎢    3         2     ⎥\n",
       "⎢─────────  ──────── ⎥\n",
       "⎣2⋅(s + 1)  10⋅s + 1 ⎦"
      ]
     },
     "execution_count": 3,
     "metadata": {},
     "output_type": "execute_result"
    }
   ],
   "source": [
    "Gp = sympy.Matrix([[2/(10*s + 1), sympy.Rational('1.5')/(s + 1)],\n",
    "                   [sympy.Rational('1.5')/(s + 1), 2/(10*s + 1)]])\n",
    "Gp"
   ]
  },
  {
   "cell_type": "code",
   "execution_count": 4,
   "metadata": {},
   "outputs": [],
   "source": [
    "K_c1, K_c2 = sympy.symbols('K_c1, K_c2')"
   ]
  },
  {
   "cell_type": "code",
   "execution_count": 5,
   "metadata": {},
   "outputs": [],
   "source": [
    "Gc = sympy.Matrix([[K_c1, 0],\n",
    "                   [0, K_c2]])"
   ]
  },
  {
   "cell_type": "markdown",
   "metadata": {},
   "source": [
    "For the off-diagonal case:"
   ]
  },
  {
   "cell_type": "code",
   "execution_count": 6,
   "metadata": {},
   "outputs": [],
   "source": [
    "# Gc = sympy.Matrix([[0, K_c2],\n",
    "#                    [K_c1, 0]])"
   ]
  },
  {
   "cell_type": "code",
   "execution_count": 7,
   "metadata": {},
   "outputs": [],
   "source": [
    "I = sympy.Matrix([[1, 0],\n",
    "                  [0, 1]])"
   ]
  },
  {
   "cell_type": "markdown",
   "metadata": {},
   "source": [
    "The characteristic equation can be obtained from the $|I + GpGc|$. I divide by 4 here to obtain a final constant of 1 like in the example to make comparison easier. Make sure you understand that any constant multiple of the characteristic equation will have the same poles and zeros."
   ]
  },
  {
   "cell_type": "code",
   "execution_count": 8,
   "metadata": {},
   "outputs": [],
   "source": [
    "charpoly = sympy.poly(sympy.numer((I + Gp*Gc).det().cancel())/4, s)"
   ]
  },
  {
   "cell_type": "markdown",
   "metadata": {},
   "source": [
    "Compare with Equation 16-20:"
   ]
  },
  {
   "cell_type": "code",
   "execution_count": 9,
   "metadata": {},
   "outputs": [],
   "source": [
    "charpoly2 = sympy.poly(\n",
    "    sympy.numer(\n",
    "        ((1 + Gc[0,0]*Gp[0,0])*(1 + Gc[1,1]*Gp[1,1]) - Gc[0,0]*Gc[1,1]*Gp[0,1]*Gp[1,0]).cancel()\n",
    "    )/4, s)"
   ]
  },
  {
   "cell_type": "code",
   "execution_count": 10,
   "metadata": {},
   "outputs": [
    {
     "data": {
      "text/plain": [
       "True"
      ]
     },
     "execution_count": 10,
     "metadata": {},
     "output_type": "execute_result"
    }
   ],
   "source": [
    "charpoly == charpoly2"
   ]
  },
  {
   "cell_type": "code",
   "execution_count": 11,
   "metadata": {},
   "outputs": [
    {
     "name": "stdout",
     "output_type": "stream",
     "text": [
      "0 100\n",
      "1 20*K_c1 + 20*K_c2 + 220\n",
      "2 -221*K_c1*K_c2 + 42*K_c1 + 42*K_c2 + 141\n",
      "3 -37*K_c1*K_c2 + 24*K_c1 + 24*K_c2 + 22\n",
      "4 7*K_c1*K_c2/4 + 2*K_c1 + 2*K_c2 + 1\n"
     ]
    }
   ],
   "source": [
    "for i, a in enumerate(charpoly.all_coeffs()):\n",
    "    print(i, a)"
   ]
  },
  {
   "cell_type": "markdown",
   "metadata": {},
   "source": [
    "We will use the routh function defined in `routh.py`. Here is the contents of the file:"
   ]
  },
  {
   "cell_type": "code",
   "execution_count": 12,
   "metadata": {},
   "outputs": [
    {
     "name": "stdout",
     "output_type": "stream",
     "text": [
      "import sympy\r\n",
      "\r\n",
      "def routh(p):\r\n",
      "    \"\"\" Construct the Routh-Hurwitz array given a polynomial in s\"\"\"\r\n",
      "    coefficients = p.all_coeffs()\r\n",
      "    N = len(coefficients)\r\n",
      "    M = sympy.zeros(N, (N+1)//2 + 1)\r\n",
      "\r\n",
      "    r1 = coefficients[0::2]\r\n",
      "    r2 = coefficients[1::2]\r\n",
      "    M[0, :len(r1)] = [r1]\r\n",
      "    M[1, :len(r2)] = [r2]\r\n",
      "    for i in range(2, N):\r\n",
      "        for j in range(N//2):\r\n",
      "            S = M[[i-2, i-1], [0, j+1]]\r\n",
      "            M[i, j] = sympy.simplify(-S.det()/M[i-1,0])\r\n",
      "    return M[:, :-1]\r\n"
     ]
    }
   ],
   "source": [
    "%cat routh.py"
   ]
  },
  {
   "cell_type": "code",
   "execution_count": 13,
   "metadata": {},
   "outputs": [],
   "source": [
    "from routh import routh"
   ]
  },
  {
   "cell_type": "code",
   "execution_count": 14,
   "metadata": {},
   "outputs": [],
   "source": [
    "R = routh(charpoly)"
   ]
  },
  {
   "cell_type": "code",
   "execution_count": 15,
   "metadata": {},
   "outputs": [
    {
     "data": {
      "image/png": "[encoded data removed]",
      "text/latex": [
       "$$100$$"
      ],
      "text/plain": [
       "100"
      ]
     },
     "execution_count": 15,
     "metadata": {},
     "output_type": "execute_result"
    }
   ],
   "source": [
    "R[0, 0]"
   ]
  },
  {
   "cell_type": "markdown",
   "metadata": {},
   "source": [
    "All the remaining elements of the left hand row must be positive (the same sign as the first element)"
   ]
  },
  {
   "cell_type": "code",
   "execution_count": 16,
   "metadata": {},
   "outputs": [],
   "source": [
    "requirements = True\n",
    "for r in R[1:, 0]:\n",
    "    requirements = sympy.And(requirements, r>0)"
   ]
  },
  {
   "cell_type": "markdown",
   "metadata": {},
   "source": [
    "The graph below is supposed to match the textbook, but as of 2018-06-04 it does not. "
   ]
  },
  {
   "cell_type": "code",
   "execution_count": 17,
   "metadata": {},
   "outputs": [
    {
     "data": {
      "image/png": "[encoded data removed]",
      "text/plain": [
       "<Figure size 432x288 with 1 Axes>"
      ]
     },
     "metadata": {},
     "output_type": "display_data"
    },
    {
     "data": {
      "text/plain": [
       "<sympy.plotting.plot.Plot at 0x109614240>"
      ]
     },
     "execution_count": 17,
     "metadata": {},
     "output_type": "execute_result"
    }
   ],
   "source": [
    "sympy.plot_implicit(requirements, (K_c2, -2, 7), (K_c1, -2, 4))"
   ]
  }
 ],
 "metadata": {
  "anaconda-cloud": {},
  "kernelspec": {
   "display_name": "Python 3",
   "language": "python",
   "name": "python3"
  },
  "language_info": {
   "codemirror_mode": {
    "name": "ipython",
    "version": 3
   },
   "file_extension": ".py",
   "mimetype": "text/x-python",
   "name": "python",
   "nbconvert_exporter": "python",
   "pygments_lexer": "ipython3",
   "version": "3.6.5"
  }
 },
 "nbformat": 4,
 "nbformat_minor": 2
}
