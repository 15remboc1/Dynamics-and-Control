{
 "cells": [
  {
   "cell_type": "markdown",
   "metadata": {},
   "source": [
    "# ITAE parameters for FOPDT system\n",
    "\n",
    "This notebook calculates the values of the PI/PID controller settings based on Table 11.3 of Sebord, Edgar, Melichamp and Lewin (itself based on Smith and Corripio, 1997)."
   ]
  },
  {
   "cell_type": "markdown",
   "metadata": {},
   "source": [
    "There are three different design relationships"
   ]
  },
  {
   "cell_type": "code",
   "execution_count": 25,
   "metadata": {},
   "outputs": [],
   "source": [
    "def f1(K, tau, theta, A, B):\n",
    "    Y = A*(theta/tau)**B\n",
    "    Kc = Y/K\n",
    "    return Kc"
   ]
  },
  {
   "cell_type": "code",
   "execution_count": 26,
   "metadata": {},
   "outputs": [],
   "source": [
    "def f2(K, tau, theta, A, B):\n",
    "    Y = A*(theta/tau)**B\n",
    "    tau_x = tau/Y\n",
    "    return tau_x"
   ]
  },
  {
   "cell_type": "code",
   "execution_count": 27,
   "metadata": {},
   "outputs": [],
   "source": [
    "def f3(K, tau, theta, A, B):\n",
    "    Y = A + B*(theta/tau)\n",
    "    tau_I = tau/Y\n",
    "    return tau_I"
   ]
  },
  {
   "cell_type": "markdown",
   "metadata": {},
   "source": [
    "I use a dictionary to allow lookup of the coefficients and the relation to use"
   ]
  },
  {
   "cell_type": "code",
   "execution_count": 28,
   "metadata": {},
   "outputs": [],
   "source": [
    "table = {'Disturbance': {'PI': {'P': {'A': 0.859, 'B': -0.977, 'relation': f1},\n",
    "                                'I': {'A': 0.674, 'B': -0.68, 'relation': f2}},\n",
    "                         'PID': {'P': {'A': 1.357, 'B': -0.947, 'relation': f1},\n",
    "                                 'I': {'A': 0.842, 'B': -0.738, 'relation': f2},\n",
    "                                 'D': {'A': 0.381, 'B': 0.995, 'relation': f2}}},\n",
    "         'Set point': {'PI': {'P': {'A': 0.586, 'B': -0.916, 'relation': f1},\n",
    "                              'I': {'A': 1.03, 'B': -0.165, 'relation': f3}}},\n",
    "                       'PID': {'P': {'A': 0.965, 'B': -0.85, 'relation': f1},\n",
    "                               'I': {'A': 0.796, 'B': -0.1465, 'relation': f3},\n",
    "                               'D': {'A': 0.308, 'B': 0.929, 'relation': f2}}}"
   ]
  },
  {
   "cell_type": "markdown",
   "metadata": {},
   "source": [
    "Another dictionary for the names of the modes"
   ]
  },
  {
   "cell_type": "code",
   "execution_count": 29,
   "metadata": {},
   "outputs": [],
   "source": [
    "names = {'P': 'Kc', 'I': 'tau_I', 'D': 'tau_D'}"
   ]
  },
  {
   "cell_type": "markdown",
   "metadata": {},
   "source": [
    "This is the function which does the calculations. You can check the values in Example 11.5:"
   ]
  },
  {
   "cell_type": "code",
   "execution_count": 18,
   "metadata": {},
   "outputs": [],
   "source": [
    "def tablefunction(K, tau, theta=1.07, type_of_input='Disturbance', type_of_controller='PI'):\n",
    "    for mode in type_of_controller:\n",
    "        entry = table[type_of_input][type_of_controller][mode]\n",
    "        f = entry['relation']\n",
    "        value = f(K, tau, theta, entry['A'], entry['B'])\n",
    "        print(f'{names[mode]} = {value}')"
   ]
  },
  {
   "cell_type": "code",
   "execution_count": 30,
   "metadata": {},
   "outputs": [
    {
     "name": "stdout",
     "output_type": "stream",
     "text": [
      "Kc = 2.9719324064107253\n",
      "tau_I = 2.745987615154182\n"
     ]
    }
   ],
   "source": [
    "tablefunction(1.54, 5.93, 1.07, 'Disturbance', 'PI')"
   ]
  },
  {
   "cell_type": "markdown",
   "metadata": {},
   "source": [
    "# Interactive version"
   ]
  },
  {
   "cell_type": "code",
   "execution_count": 31,
   "metadata": {},
   "outputs": [],
   "source": [
    "from ipywidgets import interact, FloatText"
   ]
  },
  {
   "cell_type": "code",
   "execution_count": 32,
   "metadata": {},
   "outputs": [
    {
     "data": {
      "application/vnd.jupyter.widget-view+json": {
       "model_id": "e5ef814d2e4e40949db97b61d7dae2b4",
       "version_major": 2,
       "version_minor": 0
      },
      "text/html": [
       "<p>Failed to display Jupyter Widget of type <code>interactive</code>.</p>\n",
       "<p>\n",
       "  If you're reading this message in the Jupyter Notebook or JupyterLab Notebook, it may mean\n",
       "  that the widgets JavaScript is still loading. If this message persists, it\n",
       "  likely means that the widgets JavaScript library is either not installed or\n",
       "  not enabled. See the <a href=\"https://ipywidgets.readthedocs.io/en/stable/user_install.html\">Jupyter\n",
       "  Widgets Documentation</a> for setup instructions.\n",
       "</p>\n",
       "<p>\n",
       "  If you're reading this message in another frontend (for example, a static\n",
       "  rendering on GitHub or <a href=\"https://nbviewer.jupyter.org/\">NBViewer</a>),\n",
       "  it may mean that your frontend doesn't currently support widgets.\n",
       "</p>\n"
      ],
      "text/plain": [
       "interactive(children=(FloatText(value=1.54, description='K'), FloatText(value=5.93, description='tau'), FloatText(value=1.07, description='theta'), Dropdown(description='type_of_input', options=('Disturbance', 'Set point'), value='Disturbance'), Dropdown(description='type_of_controller', options=('PI', 'PID'), value='PI'), Output()), _dom_classes=('widget-interact',))"
      ]
     },
     "metadata": {},
     "output_type": "display_data"
    }
   ],
   "source": [
    "interact(tablefunction,\n",
    "         K=FloatText(value=1.54), tau=FloatText(value=5.93), theta=FloatText(value=1.07),\n",
    "         type_of_input=['Disturbance', 'Set point'], type_of_controller=['PI', 'PID']);"
   ]
  },
  {
   "cell_type": "code",
   "execution_count": null,
   "metadata": {},
   "outputs": [],
   "source": []
  }
 ],
 "metadata": {
  "kernelspec": {
   "display_name": "Python 3",
   "language": "python",
   "name": "python3"
  },
  "language_info": {
   "codemirror_mode": {
    "name": "ipython",
    "version": 3
   },
   "file_extension": ".py",
   "mimetype": "text/x-python",
   "name": "python",
   "nbconvert_exporter": "python",
   "pygments_lexer": "ipython3",
   "version": "3.6.4"
  }
 },
 "nbformat": 4,
 "nbformat_minor": 2
}
