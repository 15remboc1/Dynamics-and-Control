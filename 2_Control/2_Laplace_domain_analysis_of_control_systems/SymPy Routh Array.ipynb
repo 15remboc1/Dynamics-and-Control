{
 "cells": [
  {
   "cell_type": "code",
   "execution_count": 1,
   "metadata": {
    "collapsed": false
   },
   "outputs": [],
   "source": [
    "import sympy\n",
    "\n",
    "sympy.init_printing()"
   ]
  },
  {
   "cell_type": "markdown",
   "metadata": {},
   "source": [
    "The [Routh-Hurwitz stabilbility criterion](https://en.wikipedia.org/wiki/Routh%E2%80%93Hurwitz_stability_criterion) provides an efficient check of stability for closed loop systems which avoids calculating the roots of a higher-order polynomial."
   ]
  },
  {
   "cell_type": "code",
   "execution_count": 2,
   "metadata": {
    "collapsed": false
   },
   "outputs": [],
   "source": [
    "s = sympy.Symbol('s')"
   ]
  },
  {
   "cell_type": "code",
   "execution_count": 3,
   "metadata": {
    "collapsed": false
   },
   "outputs": [],
   "source": [
    "a_0, a_1, a_2, a_3, a_4 = sympy.symbols('a_0:5')\n",
    "p = a_0 + a_1*s**1 + a_2*s**2 + a_3*s**3 + a_4*s**4"
   ]
  },
  {
   "cell_type": "markdown",
   "metadata": {},
   "source": [
    "Note that we have to convert the expression above to a `Poly` object to recover all the coefficients."
   ]
  },
  {
   "cell_type": "code",
   "execution_count": 4,
   "metadata": {
    "collapsed": false
   },
   "outputs": [
    {
     "data": {
      "image/png": "[encoded data removed]",
      "text/latex": [
       "$$\\operatorname{Poly}{\\left( a_{0} + a_{1} s + a_{2} s^{2} + a_{3} s^{3} + a_{4} s^{4}, s, domain=\\mathbb{Z}\\left[a_{0}, a_{1}, a_{2}, a_{3}, a_{4}\\right] \\right)}$$"
      ],
      "text/plain": [
       "Poly(a_4*s**4 + a_3*s**3 + a_2*s**2 + a_1*s + a_0, s, domain='ZZ[a_0,a_1,a_2,a\n",
       "_3,a_4]')"
      ]
     },
     "execution_count": 4,
     "metadata": {},
     "output_type": "execute_result"
    }
   ],
   "source": [
    "p = sympy.Poly(p, s)\n",
    "p"
   ]
  },
  {
   "cell_type": "markdown",
   "metadata": {},
   "source": [
    "This function constructs the Routh array as given in Seborg."
   ]
  },
  {
   "cell_type": "code",
   "execution_count": 5,
   "metadata": {
    "collapsed": false
   },
   "outputs": [],
   "source": [
    "def routh(p):\n",
    "    \"\"\" Construct the Routh-Hurwitz array given a polynomial in s\"\"\"\n",
    "    coefficients = p.all_coeffs()\n",
    "    N = len(coefficients)\n",
    "    M = sympy.zeros(N, (N+1)//2 + 1)\n",
    "\n",
    "    r1 = coefficients[0::2]\n",
    "    r2 = coefficients[1::2]\n",
    "    M[0, :len(r1)] = [r1]\n",
    "    M[1, :len(r2)] = [r2]\n",
    "    for i in range(2, N):\n",
    "        for j in range(N//2):\n",
    "            S = M[[i-2, i-1], [0, j+1]]\n",
    "            M[i, j] = sympy.simplify(-S.det()/M[i-1,0])\n",
    "    return M[:, :-1]"
   ]
  },
  {
   "cell_type": "code",
   "execution_count": 6,
   "metadata": {
    "collapsed": false
   },
   "outputs": [
    {
     "data": {
      "image/png": "[encoded data removed]",
      "text/latex": [
       "$$\\left[\\begin{matrix}a_{4} & a_{2} & a_{0}\\\\a_{3} & a_{1} & 0\\\\- \\frac{a_{1} a_{4}}{a_{3}} + a_{2} & a_{0} & 0\\\\\\frac{a_{1}^{2} a_{4} + a_{3} \\left(a_{0} a_{3} - a_{1} a_{2}\\right)}{a_{1} a_{4} - a_{2} a_{3}} & 0 & 0\\\\a_{0} & 0 & 0\\end{matrix}\\right]$$"
      ],
      "text/plain": [
       "⎡            a₄               a₂  a₀⎤\n",
       "⎢                                   ⎥\n",
       "⎢            a₃               a₁  0 ⎥\n",
       "⎢                                   ⎥\n",
       "⎢         a₁⋅a₄                     ⎥\n",
       "⎢       - ───── + a₂          a₀  0 ⎥\n",
       "⎢           a₃                      ⎥\n",
       "⎢                                   ⎥\n",
       "⎢  2                                ⎥\n",
       "⎢a₁ ⋅a₄ + a₃⋅(a₀⋅a₃ - a₁⋅a₂)        ⎥\n",
       "⎢───────────────────────────  0   0 ⎥\n",
       "⎢       a₁⋅a₄ - a₂⋅a₃               ⎥\n",
       "⎢                                   ⎥\n",
       "⎣            a₀               0   0 ⎦"
      ]
     },
     "execution_count": 6,
     "metadata": {},
     "output_type": "execute_result"
    }
   ],
   "source": [
    "routh(p)"
   ]
  },
  {
   "cell_type": "code",
   "execution_count": null,
   "metadata": {
    "collapsed": true
   },
   "outputs": [],
   "source": []
  }
 ],
 "metadata": {
  "anaconda-cloud": {},
  "kernelspec": {
   "display_name": "Python [default]",
   "language": "python",
   "name": "python3"
  },
  "language_info": {
   "codemirror_mode": {
    "name": "ipython",
    "version": 3
   },
   "file_extension": ".py",
   "mimetype": "text/x-python",
   "name": "python",
   "nbconvert_exporter": "python",
   "pygments_lexer": "ipython3",
   "version": "3.5.2"
  }
 },
 "nbformat": 4,
 "nbformat_minor": 0
}
