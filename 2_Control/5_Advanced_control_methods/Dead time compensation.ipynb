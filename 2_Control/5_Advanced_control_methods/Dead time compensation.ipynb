{
 "cells": [
  {
   "cell_type": "code",
   "execution_count": 1,
   "metadata": {},
   "outputs": [],
   "source": [
    "import matplotlib.pyplot as plt\n",
    "%matplotlib inline"
   ]
  },
  {
   "cell_type": "code",
   "execution_count": 2,
   "metadata": {},
   "outputs": [],
   "source": [
    "import numpy"
   ]
  },
  {
   "cell_type": "code",
   "execution_count": 3,
   "metadata": {},
   "outputs": [],
   "source": [
    "# This is a temporary fix until we get the library onto PyPI\n",
    "import sys, os\n",
    "sys.path.append(os.path.abspath('../../lib'))\n",
    "import blocksim"
   ]
  },
  {
   "cell_type": "markdown",
   "metadata": {},
   "source": [
    "# Dead time reduces control performance"
   ]
  },
  {
   "cell_type": "markdown",
   "metadata": {},
   "source": [
    "Let's first build a standard control loop with a disturbance.\n",
    "\n",
    "<img src='../../assets/standard_feedback.png' width=\"60%\">"
   ]
  },
  {
   "cell_type": "markdown",
   "metadata": {},
   "source": [
    "We'll use the system and simulate the control performance with and without deadtime.\n",
    "$K_m=G_c=G_m=1$ and $$G_p = \\frac{e^{\\theta s}}{(5s + 1)(3s + 2)}$$"
   ]
  },
  {
   "cell_type": "code",
   "execution_count": 4,
   "metadata": {},
   "outputs": [],
   "source": [
    "inputs = {'ysp': lambda t: 1 if t>0 else 0,\n",
    "          'd': lambda t: 1 if t>40 else 0}"
   ]
  },
  {
   "cell_type": "code",
   "execution_count": 5,
   "metadata": {},
   "outputs": [],
   "source": [
    "sums = {'y': ('+yu', '+yd'),\n",
    "        'e': ('+ysp', '-y'),\n",
    "        }"
   ]
  },
  {
   "cell_type": "markdown",
   "metadata": {},
   "source": [
    "For the dead time free system, we can use a high gain PI controller"
   ]
  },
  {
   "cell_type": "code",
   "execution_count": 6,
   "metadata": {},
   "outputs": [],
   "source": [
    "Gp1 = blocksim.LTI('Gp', 'p', 'yu',\n",
    "                   1, numpy.convolve([5, 1], [3, 1]))"
   ]
  },
  {
   "cell_type": "code",
   "execution_count": 7,
   "metadata": {},
   "outputs": [],
   "source": [
    "Gc1 = blocksim.PI('Gc', 'e', 'p',\n",
    "                  3.02, 6.5)"
   ]
  },
  {
   "cell_type": "markdown",
   "metadata": {},
   "source": [
    "For the system with dead time we need to detune the controller"
   ]
  },
  {
   "cell_type": "code",
   "execution_count": 8,
   "metadata": {},
   "outputs": [],
   "source": [
    "Gp2 = blocksim.LTI('Gp', 'p', 'yu',\n",
    "                   1, numpy.convolve([5, 1], [3, 1]), delay=2)"
   ]
  },
  {
   "cell_type": "code",
   "execution_count": 9,
   "metadata": {},
   "outputs": [],
   "source": [
    "Gc2 = blocksim.PI('Gc', 'e', 'p',\n",
    "                  1.23, 7)"
   ]
  },
  {
   "cell_type": "code",
   "execution_count": 10,
   "metadata": {},
   "outputs": [],
   "source": [
    "Gd = blocksim.LTI('Gd', 'd', 'yd',\n",
    "                   1, numpy.convolve([5, 1], [3, 1]), delay=2)"
   ]
  },
  {
   "cell_type": "code",
   "execution_count": 11,
   "metadata": {},
   "outputs": [],
   "source": [
    "diagrams = [blocksim.Diagram([Gp1, Gc1, Gd], sums, inputs),\n",
    "            blocksim.Diagram([Gp2, Gc2, Gd], sums, inputs)]"
   ]
  },
  {
   "cell_type": "code",
   "execution_count": 12,
   "metadata": {},
   "outputs": [],
   "source": [
    "ts = numpy.linspace(0, 80, 2000)"
   ]
  },
  {
   "cell_type": "code",
   "execution_count": 13,
   "metadata": {},
   "outputs": [],
   "source": [
    "outputs = []"
   ]
  },
  {
   "cell_type": "code",
   "execution_count": 14,
   "metadata": {},
   "outputs": [
    {
     "data": {
      "text/plain": [
       "<matplotlib.legend.Legend at 0x1139c7978>"
      ]
     },
     "execution_count": 14,
     "metadata": {},
     "output_type": "execute_result"
    },
    {
     "data": {
      "image/png": "[encoded data removed]",
      "text/plain": [
       "<matplotlib.figure.Figure at 0x10efee4a8>"
      ]
     },
     "metadata": {},
     "output_type": "display_data"
    }
   ],
   "source": [
    "for diagram in diagrams:\n",
    "    outputs.append(diagram.simulate(ts))\n",
    "    plt.plot(ts, outputs[-1]['y'])\n",
    "plt.legend(['Dead time free', 'With dead time'])"
   ]
  },
  {
   "cell_type": "markdown",
   "metadata": {},
   "source": [
    "# Smith Predictor"
   ]
  },
  {
   "cell_type": "markdown",
   "metadata": {},
   "source": [
    "The Smith predictor or dead time compensator uses a dead time free model to do most of the control ($\\widetilde{G}^*$} and then subtracts the delayed prediction from the measurement to react only on the unhandled dynamics."
   ]
  },
  {
   "cell_type": "markdown",
   "metadata": {},
   "source": [
    "<img src=\"../../assets/smith.png\" width=\"80%\">"
   ]
  },
  {
   "cell_type": "code",
   "execution_count": 15,
   "metadata": {},
   "outputs": [],
   "source": [
    "sums = {'y': ('+yd', '+yu'),\n",
    "        'y-ytilde2': ('-ytilde2', '+y'),\n",
    "        'e': ('+ysp', '-y-ytilde2'),\n",
    "        'eprime': ('+e', '-ytilde1'),\n",
    "       }"
   ]
  },
  {
   "cell_type": "markdown",
   "metadata": {},
   "source": [
    "We'll use the dead time containing model from before"
   ]
  },
  {
   "cell_type": "code",
   "execution_count": 16,
   "metadata": {},
   "outputs": [],
   "source": [
    "G = Gp2\n",
    "G.name = 'G'"
   ]
  },
  {
   "cell_type": "markdown",
   "metadata": {},
   "source": [
    "But the controller which was tuned on the dead time free model"
   ]
  },
  {
   "cell_type": "code",
   "execution_count": 17,
   "metadata": {},
   "outputs": [],
   "source": [
    "Gc = Gc1\n",
    "Gc.inputname = 'eprime'"
   ]
  },
  {
   "cell_type": "code",
   "execution_count": 18,
   "metadata": {},
   "outputs": [],
   "source": [
    "Gtildestar = blocksim.LTI('Gtildestar', 'p', 'ytilde1',\n",
    "                          1, numpy.convolve([5, 1], [3, 1]))"
   ]
  },
  {
   "cell_type": "code",
   "execution_count": 19,
   "metadata": {},
   "outputs": [],
   "source": [
    "delay = blocksim.Deadtime('Delay', 'ytilde1', 'ytilde2', 2)"
   ]
  },
  {
   "cell_type": "code",
   "execution_count": 20,
   "metadata": {},
   "outputs": [],
   "source": [
    "blocks = [Gc, G, Gd, Gtildestar, delay]"
   ]
  },
  {
   "cell_type": "code",
   "execution_count": 21,
   "metadata": {},
   "outputs": [
    {
     "data": {
      "text/plain": [
       "PI: eprime →[ Gc ]→ p\n",
       "LTI: p →[ G ]→ yu\n",
       "LTI: d →[ Gd ]→ yd\n",
       "LTI: p →[ Gtildestar ]→ ytilde1\n",
       "Deadtime: ytilde1 →[ Delay ]→ ytilde2"
      ]
     },
     "execution_count": 21,
     "metadata": {},
     "output_type": "execute_result"
    }
   ],
   "source": [
    "diagram = blocksim.Diagram(blocks, sums, inputs)\n",
    "diagram"
   ]
  },
  {
   "cell_type": "code",
   "execution_count": 22,
   "metadata": {},
   "outputs": [],
   "source": [
    "outputs.append(diagram.simulate(ts))"
   ]
  },
  {
   "cell_type": "code",
   "execution_count": 23,
   "metadata": {},
   "outputs": [
    {
     "data": {
      "text/plain": [
       "[<matplotlib.lines.Line2D at 0x1139906a0>]"
      ]
     },
     "execution_count": 23,
     "metadata": {},
     "output_type": "execute_result"
    },
    {
     "data": {
      "image/png": "[encoded data removed]",
      "text/plain": [
       "<matplotlib.figure.Figure at 0x113990cf8>"
      ]
     },
     "metadata": {},
     "output_type": "display_data"
    }
   ],
   "source": [
    "plt.plot(ts, outputs[0]['y'])\n",
    "plt.plot(ts, outputs[2]['y'])"
   ]
  },
  {
   "cell_type": "markdown",
   "metadata": {},
   "source": [
    "We see that the Smith Predictor gives us almost the same performance as the dead time free system, but that it cannot compensate for the delay in the disturbance output because it doesn't have an undelayed measurement of it."
   ]
  },
  {
   "cell_type": "code",
   "execution_count": null,
   "metadata": {},
   "outputs": [],
   "source": []
  }
 ],
 "metadata": {
  "kernelspec": {
   "display_name": "Python 3",
   "language": "python",
   "name": "python3"
  },
  "language_info": {
   "codemirror_mode": {
    "name": "ipython",
    "version": 3
   },
   "file_extension": ".py",
   "mimetype": "text/x-python",
   "name": "python",
   "nbconvert_exporter": "python",
   "pygments_lexer": "ipython3",
   "version": "3.6.4"
  }
 },
 "nbformat": 4,
 "nbformat_minor": 2
}
