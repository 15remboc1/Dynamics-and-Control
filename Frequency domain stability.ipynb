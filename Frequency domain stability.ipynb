{
 "cells": [
  {
   "cell_type": "code",
   "execution_count": 1,
   "metadata": {
    "collapsed": false
   },
   "outputs": [],
   "source": [
    "import numpy\n",
    "from matplotlib import pyplot as plt\n",
    "%matplotlib inline"
   ]
  },
  {
   "cell_type": "markdown",
   "metadata": {},
   "source": [
    "Locating poles and zeros of a complex function\n",
    "-------------------------------\n",
    "\n",
    "Let's construct a complex transfer function by specifying the poles, zeros and gain separately."
   ]
  },
  {
   "cell_type": "code",
   "execution_count": 2,
   "metadata": {
    "collapsed": true
   },
   "outputs": [],
   "source": [
    "zeros = [1]\n",
    "poles = [-1 + 1j, -1 - 1j]\n",
    "gain = 1"
   ]
  },
  {
   "cell_type": "code",
   "execution_count": 3,
   "metadata": {
    "collapsed": true
   },
   "outputs": [],
   "source": [
    "def polynomial(roots, s):\n",
    "    retval = 1\n",
    "    for r in roots:\n",
    "        retval *= s - r\n",
    "    return retval"
   ]
  },
  {
   "cell_type": "code",
   "execution_count": 4,
   "metadata": {
    "collapsed": true
   },
   "outputs": [],
   "source": [
    "def G(s):\n",
    "    return gain*polynomial(zeros, s)/polynomial(poles, s)"
   ]
  },
  {
   "cell_type": "markdown",
   "metadata": {},
   "source": [
    "It will be useful for us to be able to plot a complex curve easily"
   ]
  },
  {
   "cell_type": "code",
   "execution_count": 5,
   "metadata": {
    "collapsed": true
   },
   "outputs": [],
   "source": [
    "def plotcomplex(curve, color='blue', marker=None):\n",
    "    plt.plot(numpy.real(curve), numpy.imag(curve), color=color, marker=marker)"
   ]
  },
  {
   "cell_type": "code",
   "execution_count": 6,
   "metadata": {
    "collapsed": true
   },
   "outputs": [],
   "source": [
    "def plotpz():\n",
    "    for p in poles:\n",
    "        plotcomplex(p, color='red', marker='x')\n",
    "    for z in zeros:\n",
    "        plotcomplex(z, color='red', marker='o')\n"
   ]
  },
  {
   "cell_type": "markdown",
   "metadata": {},
   "source": [
    "This function will change the axes to be a cross through the origin and have an equal aspect ratio (so that a circle appears as a circle)"
   ]
  },
  {
   "cell_type": "code",
   "execution_count": 7,
   "metadata": {
    "collapsed": true
   },
   "outputs": [],
   "source": [
    "def fixaxis(size=5):\n",
    "    \"\"\" Change to cross-style axes through the origin and fix size\"\"\"\n",
    "    plt.axis([-size, size, -size, size])\n",
    "    ax = plt.gca()\n",
    "    # from http://stackoverflow.com/questions/25689238/show-origin-axis-x-y-in-matplotlib-plot\n",
    "    ax.spines['left'].set_position('zero')\n",
    "\n",
    "    # turn off the right spine/ticks\n",
    "    ax.spines['right'].set_color('none')\n",
    "    ax.yaxis.tick_left()\n",
    "\n",
    "    # set the y-spine\n",
    "    ax.spines['bottom'].set_position('zero')\n",
    "\n",
    "    # turn off the top spine/ticks\n",
    "    ax.spines['top'].set_color('none')\n",
    "    ax.xaxis.tick_bottom()\n",
    "    \n",
    "    # Set axis to equal aspect ratio\n",
    "    ax.set_aspect('equal')"
   ]
  },
  {
   "cell_type": "markdown",
   "metadata": {},
   "source": [
    "Let's construct a circular contour and see how the image of the contour moves around as the contour moves around. The image is $G(s)$ as $s$ goes through a countour"
   ]
  },
  {
   "cell_type": "code",
   "execution_count": 8,
   "metadata": {
    "collapsed": true
   },
   "outputs": [],
   "source": [
    "from ipywidgets import interact"
   ]
  },
  {
   "cell_type": "code",
   "execution_count": 9,
   "metadata": {
    "collapsed": false
   },
   "outputs": [],
   "source": [
    "def plotsituation(contour):\n",
    "    plotcomplex(contour)\n",
    "    plotcomplex(G(contour), color='red')\n",
    "    plotpz()\n",
    "    fixaxis()"
   ]
  },
  {
   "cell_type": "code",
   "execution_count": 10,
   "metadata": {
    "collapsed": true
   },
   "outputs": [],
   "source": [
    "theta = numpy.linspace(0, 2*numpy.pi, 1000)"
   ]
  },
  {
   "cell_type": "code",
   "execution_count": 11,
   "metadata": {
    "collapsed": true
   },
   "outputs": [],
   "source": [
    "def argumentprinciple(centerreal=(-2., 2.), centerimag=(-2., 2.), radius=(0.5, 3)):\n",
    "    contour = radius*numpy.exp(1j*theta) + centerreal + 1j*centerimag\n",
    "    plotsituation(contour)    "
   ]
  },
  {
   "cell_type": "code",
   "execution_count": 12,
   "metadata": {
    "collapsed": false
   },
   "outputs": [
    {
     "data": {
      "text/plain": [
       "<function __main__.argumentprinciple>"
      ]
     },
     "execution_count": 12,
     "metadata": {},
     "output_type": "execute_result"
    },
    {
     "data": {
      "image/png": "[encoded data removed]",
      "text/plain": [
       "<matplotlib.figure.Figure at 0x109476ba8>"
      ]
     },
     "metadata": {},
     "output_type": "display_data"
    }
   ],
   "source": [
    "interact(argumentprinciple)"
   ]
  },
  {
   "cell_type": "markdown",
   "metadata": {},
   "source": [
    "You should be able to verify the Cauchy argument principle using the interaction above:\n",
    "\n",
    "As $s$ describes a simple contour enclosing $N_p$ poles and $N_z$ zeros, the image $G(s)$ encircles the origin $w = N_z - N_p$ times. $w$ is the [winding number](https://en.wikipedia.org/wiki/Winding_number)."
   ]
  },
  {
   "cell_type": "markdown",
   "metadata": {},
   "source": [
    "Closed loop stability\n",
    "---------------------\n",
    "Normally we will be looking at transfer functions of the form\n",
    "\n",
    "$$\\frac{GK}{1 + GK}$$\n",
    "\n",
    "So we will want to check if the denominator of the above $(1 + GK)$ has roots in the RHP. To do this we can construct a special contour called the Nyquist D contour which encloses the whole of the RHP. It starts at the origin, then goes up to infinity, circles around at infinite distance from the origin in a clockwise direction, and then comes back up the imaginary axis.  For most functions, the part at infinity just maps $1 + GK$ to 1 as $GK$ goes to zero as s goes to infinity.\n",
    "\n",
    " "
   ]
  },
  {
   "cell_type": "code",
   "execution_count": 13,
   "metadata": {
    "collapsed": false
   },
   "outputs": [],
   "source": [
    "omega = numpy.logspace(-2, 2, 1000)\n",
    "Dcontour = numpy.concatenate([1j*omega, -1j*omega[::-1]]) # We're ignoring the infinite arc"
   ]
  },
  {
   "cell_type": "markdown",
   "metadata": {},
   "source": [
    "Let's assume that $K=1$ and check if our system will be closed loop stable"
   ]
  },
  {
   "cell_type": "code",
   "execution_count": 14,
   "metadata": {
    "collapsed": true
   },
   "outputs": [],
   "source": [
    "K = 1"
   ]
  },
  {
   "cell_type": "code",
   "execution_count": 15,
   "metadata": {
    "collapsed": false
   },
   "outputs": [
    {
     "data": {
      "image/png": "[encoded data removed]",
      "text/plain": [
       "<matplotlib.figure.Figure at 0x10b50ad68>"
      ]
     },
     "metadata": {},
     "output_type": "display_data"
    }
   ],
   "source": [
    "plotcomplex(K*G(Dcontour) + 1)\n",
    "fixaxis(2)"
   ]
  },
  {
   "cell_type": "markdown",
   "metadata": {},
   "source": [
    "Counting encirclements of the origin of $1 + GK$ is the same as counting encirclements of $-1$ by $GK$:"
   ]
  },
  {
   "cell_type": "code",
   "execution_count": 16,
   "metadata": {
    "collapsed": false
   },
   "outputs": [],
   "source": [
    "def nyquistplot(K):\n",
    "    plotcomplex(K*G(Dcontour))\n",
    "    plotcomplex(-1, color='red', marker='o')\n",
    "    fixaxis(size=2)"
   ]
  },
  {
   "cell_type": "code",
   "execution_count": 17,
   "metadata": {
    "collapsed": false
   },
   "outputs": [
    {
     "data": {
      "image/png": "[encoded data removed]",
      "text/plain": [
       "<matplotlib.figure.Figure at 0x10b52c1d0>"
      ]
     },
     "metadata": {},
     "output_type": "display_data"
    }
   ],
   "source": [
    "nyquistplot(K=1)"
   ]
  },
  {
   "cell_type": "markdown",
   "metadata": {},
   "source": [
    "This enables us to reason easily about the effect of the controller gain on stability:"
   ]
  },
  {
   "cell_type": "code",
   "execution_count": 18,
   "metadata": {
    "collapsed": false
   },
   "outputs": [
    {
     "data": {
      "text/plain": [
       "<function __main__.nyquistplot>"
      ]
     },
     "execution_count": 18,
     "metadata": {},
     "output_type": "execute_result"
    },
    {
     "data": {
      "image/png": "[encoded data removed]",
      "text/plain": [
       "<matplotlib.figure.Figure at 0x10b5fd5c0>"
      ]
     },
     "metadata": {},
     "output_type": "display_data"
    }
   ],
   "source": [
    "interact(nyquistplot, K=(0.5, 5.))"
   ]
  },
  {
   "cell_type": "markdown",
   "metadata": {},
   "source": [
    "Nyquist stability criterion\n",
    "---------------------------\n",
    "\n",
    "Let $N_P$ be the number of poles of KG(s) encircled by the D contour and $N_Z$ be the number of zeros of $1+KG(s)$ encircled by the D contour. $N_Z$ is the number of poles of the closed loop system in the right half plane. The resultant image shall encircle (clock-wise) the point $(-1+j0)$ $w$ times such that $w = N_Z - N_P$.\n",
    "\n",
    "For a stable $G$ this boils down to spotting when the Nyquist plot encircles the -1 point."
   ]
  },
  {
   "cell_type": "markdown",
   "metadata": {},
   "source": [
    "Bode stability criterion\n",
    "------------------------\n",
    "\n",
    "Nyquist plots are hard to draw by hand, though, so we often use the Bode stability criterion instead. This works by noticing that, in order for the Nyquist graph to encircle the -1 point, the phase angle must reach -180 ° and the magnitude must be bigger than 1. We can draw a Bode diagram and a Nyquist diagram next to each other to see the effect of changing gains."
   ]
  },
  {
   "cell_type": "code",
   "execution_count": 19,
   "metadata": {
    "collapsed": false
   },
   "outputs": [],
   "source": [
    "def bodeplot(K):\n",
    "    plt.figure(figsize=(10,5))\n",
    "    freqresp = K*G(1j*omega)\n",
    "    plt.subplot(2, 2, 1)\n",
    "    plt.loglog(omega, numpy.abs(freqresp))\n",
    "    plt.ylim([0.1, 10])\n",
    "    plt.axhline(1)\n",
    "    plt.subplot(2, 2, 3)\n",
    "    plt.semilogx(omega, numpy.unwrap(numpy.angle(freqresp)) - numpy.angle(freqresp[0])) # We know the angle should start at 0\n",
    "    plt.axhline(-numpy.pi)\n",
    "    plt.subplot(1, 2, 2)\n",
    "    nyquistplot(K)"
   ]
  },
  {
   "cell_type": "code",
   "execution_count": 20,
   "metadata": {
    "collapsed": false
   },
   "outputs": [
    {
     "data": {
      "text/plain": [
       "<function __main__.bodeplot>"
      ]
     },
     "execution_count": 20,
     "metadata": {},
     "output_type": "execute_result"
    },
    {
     "data": {
      "image/png": "[encoded data removed]",
      "text/plain": [
       "<matplotlib.figure.Figure at 0x10b233b00>"
      ]
     },
     "metadata": {},
     "output_type": "display_data"
    }
   ],
   "source": [
    "interact(bodeplot, K=(0.5, 5.))"
   ]
  }
 ],
 "metadata": {
  "anaconda-cloud": {},
  "kernelspec": {
   "display_name": "Python [default]",
   "language": "python",
   "name": "python3"
  },
  "language_info": {
   "codemirror_mode": {
    "name": "ipython",
    "version": 3
   },
   "file_extension": ".py",
   "mimetype": "text/x-python",
   "name": "python",
   "nbconvert_exporter": "python",
   "pygments_lexer": "ipython3",
   "version": "3.5.2"
  }
 },
 "nbformat": 4,
 "nbformat_minor": 0
}
