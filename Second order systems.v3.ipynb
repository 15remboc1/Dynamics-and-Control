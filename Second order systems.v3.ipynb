{
 "metadata": {
  "kernelspec": {
   "display_name": "Python 2",
   "language": "python",
   "name": "python2"
  },
  "language_info": {
   "codemirror_mode": {
    "name": "ipython",
    "version": 2
   },
   "file_extension": ".py",
   "mimetype": "text/x-python",
   "name": "python",
   "nbconvert_exporter": "python",
   "pygments_lexer": "ipython2",
   "version": "2.7.2"
  },
  "name": ""
 },
 "nbformat": 3,
 "nbformat_minor": 0,
 "worksheets": [
  {
   "cells": [
    {
     "cell_type": "code",
     "collapsed": true,
     "input": [
      "import sympy\n",
      "import matplotlib.pyplot as plt\n",
      "import numpy\n",
      "sympy.init_printing()\n",
      "%matplotlib inline"
     ],
     "language": "python",
     "metadata": {},
     "outputs": [],
     "prompt_number": 1
    },
    {
     "cell_type": "code",
     "collapsed": true,
     "input": [
      "tau, zeta, t, w, K = sympy.symbols('tau, zeta, t, w, K', real=True, positive=True)\n",
      "s = sympy.Symbol('s')"
     ],
     "language": "python",
     "metadata": {},
     "outputs": [],
     "prompt_number": 2
    },
    {
     "cell_type": "code",
     "collapsed": true,
     "input": [
      "def L(f):\n",
      "    return sympy.laplace_transform(f, t, s, noconds=True)\n",
      "def invL(F):\n",
      "    return sympy.inverse_laplace_transform(F, s, t)"
     ],
     "language": "python",
     "metadata": {},
     "outputs": [],
     "prompt_number": 3
    },
    {
     "cell_type": "markdown",
     "metadata": {},
     "source": [
      "This is the standard form for the second order system transfer function"
     ]
    },
    {
     "cell_type": "code",
     "collapsed": false,
     "input": [
      "G = K/(tau**2*s**2 + 2*tau*zeta*s + 1)\n",
      "G"
     ],
     "language": "python",
     "metadata": {},
     "outputs": [
      {
       "latex": [
        "$$\\frac{K}{s^{2} \\tau^{2} + 2 s \\tau \\zeta + 1}$$"
       ],
       "metadata": {},
       "output_type": "pyout",
       "png": "[encoded data removed]",
       "prompt_number": 4,
       "text": [
        "         K         \n",
        "\u2500\u2500\u2500\u2500\u2500\u2500\u2500\u2500\u2500\u2500\u2500\u2500\u2500\u2500\u2500\u2500\u2500\u2500\u2500\n",
        " 2  2              \n",
        "s \u22c5\u03c4  + 2\u22c5s\u22c5\u03c4\u22c5\u03b6 + 1"
       ]
      }
     ],
     "prompt_number": 4
    },
    {
     "cell_type": "markdown",
     "metadata": {},
     "source": [
      "Unfortunately, SymPy cannot calculate this inverse directly without knowing more about the parameters."
     ]
    },
    {
     "cell_type": "code",
     "collapsed": false,
     "input": [
      "# This will break:\n",
      "# invL(G)\n",
      "\n",
      "# The error message is\n",
      "# TypeError: cannot determine truth value of\n",
      "# -zeta/tau - sqrt(zeta + 1)*cos(atan2(0, zeta - 1)/2)*sqrt(Abs(zeta - 1))/tau < oo\n"
     ],
     "language": "python",
     "metadata": {},
     "outputs": [],
     "prompt_number": 5
    },
    {
     "cell_type": "markdown",
     "metadata": {},
     "source": [
      "The characteristic equation is the denominator of the transfer function"
     ]
    },
    {
     "cell_type": "code",
     "collapsed": false,
     "input": [
      "ce = sympy.Eq(sympy.denom(G), 0)\n",
      "ce"
     ],
     "language": "python",
     "metadata": {},
     "outputs": [
      {
       "latex": [
        "$$s^{2} \\tau^{2} + 2 s \\tau \\zeta + 1 = 0$$"
       ],
       "metadata": {},
       "output_type": "pyout",
       "png": "[encoded data removed]",
       "prompt_number": 6,
       "text": [
        " 2  2                  \n",
        "s \u22c5\u03c4  + 2\u22c5s\u22c5\u03c4\u22c5\u03b6 + 1 = 0"
       ]
      }
     ],
     "prompt_number": 6
    },
    {
     "cell_type": "code",
     "collapsed": false,
     "input": [
      "roots = sympy.roots(ce, s)\n",
      "roots"
     ],
     "language": "python",
     "metadata": {},
     "outputs": [
      {
       "latex": [
        "$$\\left \\{ \\frac{1}{\\tau} \\left(- \\zeta - \\sqrt{\\zeta - 1} \\sqrt{\\zeta + 1}\\right) : 1, \\quad \\frac{1}{\\tau} \\left(- \\zeta + \\sqrt{\\zeta - 1} \\sqrt{\\zeta + 1}\\right) : 1\\right \\}$$"
       ],
       "metadata": {},
       "output_type": "pyout",
       "png": "[encoded data removed]",
       "prompt_number": 7,
       "text": [
        "\u23a7       _______   _______            _______   _______   \u23ab\n",
        "\u23aa-\u03b6 - \u2572\u2571 \u03b6 - 1 \u22c5\u2572\u2571 \u03b6 + 1      -\u03b6 + \u2572\u2571 \u03b6 - 1 \u22c5\u2572\u2571 \u03b6 + 1    \u23aa\n",
        "\u23a8\u2500\u2500\u2500\u2500\u2500\u2500\u2500\u2500\u2500\u2500\u2500\u2500\u2500\u2500\u2500\u2500\u2500\u2500\u2500\u2500\u2500\u2500\u2500\u2500: 1, \u2500\u2500\u2500\u2500\u2500\u2500\u2500\u2500\u2500\u2500\u2500\u2500\u2500\u2500\u2500\u2500\u2500\u2500\u2500\u2500\u2500\u2500\u2500\u2500: 1\u23ac\n",
        "\u23aa           \u03c4                            \u03c4               \u23aa\n",
        "\u23a9                                                        \u23ad"
       ]
      }
     ],
     "prompt_number": 7
    },
    {
     "cell_type": "markdown",
     "metadata": {},
     "source": [
      "The shape of the inverse Laplace depends on the nature of the roots, which depends on the value of $\\zeta$"
     ]
    },
    {
     "cell_type": "markdown",
     "metadata": {},
     "source": [
      "Overdamped: $\\zeta>1$. Two distinct real roots"
     ]
    },
    {
     "cell_type": "code",
     "collapsed": false,
     "input": [
      "G"
     ],
     "language": "python",
     "metadata": {},
     "outputs": [
      {
       "latex": [
        "$$\\frac{K}{s^{2} \\tau^{2} + 2 s \\tau \\zeta + 1}$$"
       ],
       "metadata": {},
       "output_type": "pyout",
       "png": "[encoded data removed]",
       "prompt_number": 8,
       "text": [
        "         K         \n",
        "\u2500\u2500\u2500\u2500\u2500\u2500\u2500\u2500\u2500\u2500\u2500\u2500\u2500\u2500\u2500\u2500\u2500\u2500\u2500\n",
        " 2  2              \n",
        "s \u22c5\u03c4  + 2\u22c5s\u22c5\u03c4\u22c5\u03b6 + 1"
       ]
      }
     ],
     "prompt_number": 8
    },
    {
     "cell_type": "code",
     "collapsed": false,
     "input": [
      "invL(G.subs({zeta: 2}))"
     ],
     "language": "python",
     "metadata": {},
     "outputs": [
      {
       "latex": [
        "$$\\frac{\\sqrt{3} K \\left(e^{\\frac{\\sqrt{3} t}{\\tau}} - 1\\right) \\left(e^{\\frac{\\sqrt{3} t}{\\tau}} + 1\\right)}{6 \\tau e^{\\frac{t}{\\tau} \\left(\\sqrt{3} + 2\\right)}}$$"
       ],
       "metadata": {},
       "output_type": "pyout",
       "png": "[encoded data removed]",
       "prompt_number": 9,
       "text": [
        "        \u239b   ___      \u239e \u239b   ___      \u239e     \u239b  ___    \u239e \n",
        "        \u239c \u2572\u2571 3 \u22c5t    \u239f \u239c \u2572\u2571 3 \u22c5t    \u239f  -t\u22c5\u239d\u2572\u2571 3  + 2\u23a0 \n",
        "        \u239c \u2500\u2500\u2500\u2500\u2500\u2500\u2500    \u239f \u239c \u2500\u2500\u2500\u2500\u2500\u2500\u2500    \u239f  \u2500\u2500\u2500\u2500\u2500\u2500\u2500\u2500\u2500\u2500\u2500\u2500\u2500\u2500\u2500\n",
        "  ___   \u239c    \u03c4       \u239f \u239c    \u03c4       \u239f         \u03c4       \n",
        "\u2572\u2571 3 \u22c5K\u22c5\u239d\u212f        - 1\u23a0\u22c5\u239d\u212f        + 1\u23a0\u22c5\u212f               \n",
        "\u2500\u2500\u2500\u2500\u2500\u2500\u2500\u2500\u2500\u2500\u2500\u2500\u2500\u2500\u2500\u2500\u2500\u2500\u2500\u2500\u2500\u2500\u2500\u2500\u2500\u2500\u2500\u2500\u2500\u2500\u2500\u2500\u2500\u2500\u2500\u2500\u2500\u2500\u2500\u2500\u2500\u2500\u2500\u2500\u2500\u2500\u2500\u2500\u2500\u2500\u2500\u2500\u2500\u2500\n",
        "                         6\u22c5\u03c4                          "
       ]
      }
     ],
     "prompt_number": 9
    },
    {
     "cell_type": "markdown",
     "metadata": {},
     "source": [
      "Critically damped: $\\zeta=1$. Repeated roots."
     ]
    },
    {
     "cell_type": "code",
     "collapsed": false,
     "input": [
      "invL(G.subs({zeta: 1}))"
     ],
     "language": "python",
     "metadata": {},
     "outputs": [
      {
       "latex": [
        "$$\\frac{K t}{\\tau^{2} e^{\\frac{t}{\\tau}}}$$"
       ],
       "metadata": {},
       "output_type": "pyout",
       "png": "[encoded data removed]",
       "prompt_number": 10,
       "text": [
        "     -t \n",
        "     \u2500\u2500\u2500\n",
        "      \u03c4 \n",
        "K\u22c5t\u22c5\u212f   \n",
        "\u2500\u2500\u2500\u2500\u2500\u2500\u2500\u2500\n",
        "    2   \n",
        "   \u03c4    "
       ]
      }
     ],
     "prompt_number": 10
    },
    {
     "cell_type": "markdown",
     "metadata": {},
     "source": [
      "Underdamped: $0<\\zeta<1$: a complex conjugate pair of roots"
     ]
    },
    {
     "cell_type": "code",
     "collapsed": false,
     "input": [
      "r = invL(G.subs({zeta: 0.5}))\n",
      "r"
     ],
     "language": "python",
     "metadata": {},
     "outputs": [
      {
       "latex": [
        "$$\\frac{1.15470053837925 K}{\\tau e^{\\frac{0.5 t}{\\tau}}} \\sin{\\left (\\frac{0.866025403784439 t}{\\tau} \\right )}$$"
       ],
       "metadata": {},
       "output_type": "pyout",
       "png": "[encoded data removed]",
       "prompt_number": 11,
       "text": [
        "                    -0.5\u22c5t                          \n",
        "                    \u2500\u2500\u2500\u2500\u2500\u2500\u2500                         \n",
        "                       \u03c4       \u239b0.866025403784439\u22c5t\u239e\n",
        "1.15470053837925\u22c5K\u22c5\u212f       \u22c5sin\u239c\u2500\u2500\u2500\u2500\u2500\u2500\u2500\u2500\u2500\u2500\u2500\u2500\u2500\u2500\u2500\u2500\u2500\u2500\u2500\u239f\n",
        "                               \u239d         \u03c4         \u23a0\n",
        "\u2500\u2500\u2500\u2500\u2500\u2500\u2500\u2500\u2500\u2500\u2500\u2500\u2500\u2500\u2500\u2500\u2500\u2500\u2500\u2500\u2500\u2500\u2500\u2500\u2500\u2500\u2500\u2500\u2500\u2500\u2500\u2500\u2500\u2500\u2500\u2500\u2500\u2500\u2500\u2500\u2500\u2500\u2500\u2500\u2500\u2500\u2500\u2500\u2500\u2500\u2500\u2500\n",
        "                         \u03c4                          "
       ]
      }
     ],
     "prompt_number": 11
    },
    {
     "cell_type": "code",
     "collapsed": false,
     "input": [
      "sympy.plot(r.subs({tau: 1, K: 1}), (t, 0, 10))"
     ],
     "language": "python",
     "metadata": {},
     "outputs": [
      {
       "metadata": {},
       "output_type": "display_data",
       "png": "[encoded data removed]",
       "text": [
        "<matplotlib.figure.Figure at 0x10fa2c350>"
       ]
      },
      {
       "metadata": {},
       "output_type": "pyout",
       "prompt_number": 12,
       "text": [
        "<sympy.plotting.plot.Plot at 0x10c91c2d0>"
       ]
      }
     ],
     "prompt_number": 12
    },
    {
     "cell_type": "markdown",
     "metadata": {},
     "source": [
      "Unfortunately, some values of the parameters have some \"strange\" values for the inverse :-("
     ]
    },
    {
     "cell_type": "code",
     "collapsed": false,
     "input": [
      "knownbadvalues = [{K: 5.05, tau: 5., zeta: 1.},\n",
      "                  {K: 5.05, tau: 5.05, zeta: 1.05}\n",
      "                  ]\n",
      "def rationalize(d):\n",
      "    return {key: sympy.Rational(int(value*1000), 1000) for key, value in d.iteritems()}\n",
      "\n",
      "for values in knownbadvalues:\n",
      "    print invL(1/s*G.subs(rationalize(values)))"
     ],
     "language": "python",
     "metadata": {},
     "outputs": [
      {
       "output_type": "stream",
       "stream": "stdout",
       "text": [
        "-101*t*exp(-t/5)/100 + 101*gamma(1/5)**2/(500*gamma(6/5)**2) - 101*exp(-t/5)/20\n",
        "(-102010*sqrt(41)*exp(2*sqrt(41)*t/101)*sin(pi*(-sqrt(41)/101 + 21/101))*cos(pi*(-sqrt(41)/101 + 59/202))*gamma(-21/101 + sqrt(41)/101)*gamma(-sqrt(41)/101 + 80/101)**2*gamma(-sqrt(41)/101 + 122/101)*gamma(sqrt(41)/101 + 122/101) - 82820*exp(t*(sqrt(41) + 21)/101)*sin(pi*(-sqrt(41)/101 + 21/101))*cos(pi*(-sqrt(41)/101 + 59/202))*gamma(-sqrt(41)/101 + 21/101)*gamma(-sqrt(41)/101 + 80/101)**2*gamma(sqrt(41)/101 + 21/101)*gamma(sqrt(41)/101 + 80/101) + 4000*sqrt(41)*pi**2*gamma(-21/101 - sqrt(41)/101))*exp(-t*(sqrt(41) + 21)/101)/(41*pi**2*(-21 + sqrt(41))*(sqrt(41) + 21)*gamma(-sqrt(41)/101 + 80/101))\n"
       ]
      }
     ],
     "prompt_number": 13
    },
    {
     "cell_type": "markdown",
     "metadata": {},
     "source": [
      "Matrix exponential\n",
      "==================\n",
      "A more uniform strategy is to convert the second order differential equation into two first order differential equations and use the matrix exponential for the solution of the step response.\n",
      "\n",
      "We can reason that if \n",
      "$$ G = \\frac{y}{u} = \\frac{K}{\\tau^2 s^2 + 2 \\tau \\zeta s + 1},$$\n",
      "\n",
      "then\n",
      "\n",
      "$$ y (\\tau^2 s^2 + 2 \\tau \\zeta s + 1) = K u $$\n",
      "\n",
      "and introducing an auxiliary variable $z=sy$, we have a system\n",
      "\n",
      "$$ \\begin{align}\n",
      " 2\\tau\\zeta sy + \\tau^2 sz &= K u - y  \\\\\n",
      " sy &= z \n",
      "\\end{align} $$"
     ]
    },
    {
     "cell_type": "markdown",
     "metadata": {},
     "source": [
      "Now,\n",
      "\n",
      "$$ s\\begin{bmatrix} 2\\tau\\zeta & \\tau^2 \\\\ 1 & 0 \\end{bmatrix}\\begin{bmatrix}y\\\\z\\end{bmatrix} = \\begin{bmatrix} -1 & 0 \\\\ 0 & 1 \\end{bmatrix}\\begin{bmatrix}y\\\\z\\end{bmatrix} + \\begin{bmatrix}K\\\\0\\end{bmatrix}u$$\n",
      "\n",
      "$$\\dot{\\mathbf{x}}=A\\mathbf{x} + B\\textbf{u}$$\n",
      "$$y = C\\mathbf{x} + D\\mathbf{u}$$"
     ]
    },
    {
     "cell_type": "markdown",
     "metadata": {},
     "source": [
      "We can see easily that $C=[1~~0]$ and also $D=[0~~0]$"
     ]
    },
    {
     "cell_type": "code",
     "collapsed": true,
     "input": [
      "LHS = sympy.Matrix([[2*tau*zeta, tau**2],\n",
      "                    [1, 0]])\n",
      "RHS1 = sympy.Matrix([[-1, 0],\n",
      "                    [0, 1]])"
     ],
     "language": "python",
     "metadata": {},
     "outputs": [],
     "prompt_number": 14
    },
    {
     "cell_type": "code",
     "collapsed": false,
     "input": [
      "A = LHS.inv()*RHS1\n",
      "A"
     ],
     "language": "python",
     "metadata": {},
     "outputs": [
      {
       "latex": [
        "$$\\left[\\begin{matrix}0 & 1\\\\- \\frac{1}{\\tau^{2}} & - \\frac{2 \\zeta}{\\tau}\\end{matrix}\\right]$$"
       ],
       "metadata": {},
       "output_type": "pyout",
       "png": "[encoded data removed]",
       "prompt_number": 15,
       "text": [
        "\u23a1 0     1  \u23a4\n",
        "\u23a2          \u23a5\n",
        "\u23a2-1   -2\u22c5\u03b6 \u23a5\n",
        "\u23a2\u2500\u2500\u2500  \u2500\u2500\u2500\u2500\u2500\u23a5\n",
        "\u23a2  2    \u03c4  \u23a5\n",
        "\u23a3 \u03c4        \u23a6"
       ]
      }
     ],
     "prompt_number": 15
    },
    {
     "cell_type": "code",
     "collapsed": false,
     "input": [
      "B = LHS.inv()*sympy.Matrix([K, 0])\n",
      "B"
     ],
     "language": "python",
     "metadata": {},
     "outputs": [
      {
       "latex": [
        "$$\\left[\\begin{matrix}0\\\\\\frac{K}{\\tau^{2}}\\end{matrix}\\right]$$"
       ],
       "metadata": {},
       "output_type": "pyout",
       "png": "[encoded data removed]",
       "prompt_number": 16,
       "text": [
        "\u23a10 \u23a4\n",
        "\u23a2  \u23a5\n",
        "\u23a2K \u23a5\n",
        "\u23a2\u2500\u2500\u23a5\n",
        "\u23a2 2\u23a5\n",
        "\u23a3\u03c4 \u23a6"
       ]
      }
     ],
     "prompt_number": 16
    },
    {
     "cell_type": "markdown",
     "metadata": {
      "collapsed": false
     },
     "source": [
      "Steady state"
     ]
    },
    {
     "cell_type": "code",
     "collapsed": false,
     "input": [
      "x0 = -A.inv()*B\n",
      "x0"
     ],
     "language": "python",
     "metadata": {},
     "outputs": [
      {
       "latex": [
        "$$\\left[\\begin{matrix}K\\\\0\\end{matrix}\\right]$$"
       ],
       "metadata": {},
       "output_type": "pyout",
       "png": "[encoded data removed]",
       "prompt_number": 17,
       "text": [
        "\u23a1K\u23a4\n",
        "\u23a2 \u23a5\n",
        "\u23a30\u23a6"
       ]
      }
     ],
     "prompt_number": 17
    },
    {
     "cell_type": "code",
     "collapsed": false,
     "input": [
      "stepresponse = (x0 - sympy.exp(A*t)*x0)[0,0]"
     ],
     "language": "python",
     "metadata": {},
     "outputs": [],
     "prompt_number": 18
    },
    {
     "cell_type": "markdown",
     "metadata": {},
     "source": [
      "The eigenvalues of the A matrix are the same as the roots of the characteristic equation."
     ]
    },
    {
     "cell_type": "code",
     "collapsed": false,
     "input": [
      "A.eigenvals()"
     ],
     "language": "python",
     "metadata": {},
     "outputs": [
      {
       "latex": [
        "$$\\left \\{ \\frac{1}{\\tau} \\left(- \\zeta - \\sqrt{\\zeta - 1} \\sqrt{\\zeta + 1}\\right) : 1, \\quad \\frac{1}{\\tau} \\left(- \\zeta + \\sqrt{\\zeta - 1} \\sqrt{\\zeta + 1}\\right) : 1\\right \\}$$"
       ],
       "metadata": {},
       "output_type": "pyout",
       "png": "[encoded data removed]",
       "prompt_number": 19,
       "text": [
        "\u23a7       _______   _______            _______   _______   \u23ab\n",
        "\u23aa-\u03b6 - \u2572\u2571 \u03b6 - 1 \u22c5\u2572\u2571 \u03b6 + 1      -\u03b6 + \u2572\u2571 \u03b6 - 1 \u22c5\u2572\u2571 \u03b6 + 1    \u23aa\n",
        "\u23a8\u2500\u2500\u2500\u2500\u2500\u2500\u2500\u2500\u2500\u2500\u2500\u2500\u2500\u2500\u2500\u2500\u2500\u2500\u2500\u2500\u2500\u2500\u2500\u2500: 1, \u2500\u2500\u2500\u2500\u2500\u2500\u2500\u2500\u2500\u2500\u2500\u2500\u2500\u2500\u2500\u2500\u2500\u2500\u2500\u2500\u2500\u2500\u2500\u2500: 1\u23ac\n",
        "\u23aa           \u03c4                            \u03c4               \u23aa\n",
        "\u23a9                                                        \u23ad"
       ]
      }
     ],
     "prompt_number": 19
    },
    {
     "cell_type": "code",
     "collapsed": false,
     "input": [
      "from IPython.html.widgets import interact"
     ],
     "language": "python",
     "metadata": {},
     "outputs": [
      {
       "output_type": "stream",
       "stream": "stderr",
       "text": [
        ":0: FutureWarning: IPython widgets are experimental and may change in the future.\n"
       ]
      }
     ],
     "prompt_number": 20
    },
    {
     "cell_type": "code",
     "collapsed": false,
     "input": [
      "tmax = 30\n",
      "ts = numpy.linspace(0, tmax, 100)\n",
      "\n",
      "def secondorder(K_in, tau_in, zeta_in):\n",
      "    values = {K: K_in, tau: tau_in, zeta: zeta_in}\n",
      "    AA = A.subs(values)\n",
      "    stepresponse = sympy.re((x0.subs(values) - sympy.exp(AA*t)*x0.subs(values))[0,0])\n",
      "    evalf = sympy.lambdify((t,), stepresponse, modules=['numpy', 'sympy', 'mpmath'])\n",
      "    plt.figure(figsize=(12, 6))\n",
      "    plt.subplot(1, 2, 1)\n",
      "    plt.title('Step response')\n",
      "    tau_height = evalf(tau_in)\n",
      "    plt.plot(ts, evalf(ts))\n",
      "    plt.axhline(K_in)\n",
      "    plt.plot([0, tau_in, tau_in], [tau_height]*2 + [0], alpha=0.4)\n",
      "    plt.text(0, K_in, '$K=${}'.format(K_in))\n",
      "    plt.text(0, tau_height, '{:.3}$K$'.format(tau_height))\n",
      "    plt.text(tau_in, 0, r'$\\tau={:.3}$'.format(tau_in))\n",
      "    plt.ylim(0, 10)\n",
      "    plt.subplot(1, 2, 2)\n",
      "    plt.title('Poles plot')\n",
      "    realpart = [sympy.re(r.subs(values)) for r in roots]\n",
      "    imagpart = [sympy.im(r.subs(values)) for r in roots]\n",
      "    plt.scatter(realpart, imagpart, marker='x', s=30)\n",
      "    plt.axhline(0, color='black')\n",
      "    plt.axvline(0, color='black')\n",
      "    plt.axis([-2, 2, -2, 2])"
     ],
     "language": "python",
     "metadata": {},
     "outputs": [],
     "prompt_number": 21
    },
    {
     "cell_type": "code",
     "collapsed": false,
     "input": [
      "interact(secondorder, K_in=(0.1, 10.), tau_in=(0., 10.), zeta_in=(0., 2));"
     ],
     "language": "python",
     "metadata": {},
     "outputs": [
      {
       "metadata": {},
       "output_type": "display_data",
       "png": "[encoded data removed]",
       "text": [
        "<matplotlib.figure.Figure at 0x1119896d0>"
       ]
      }
     ],
     "prompt_number": 22
    },
    {
     "cell_type": "code",
     "collapsed": true,
     "input": [],
     "language": "python",
     "metadata": {},
     "outputs": [],
     "prompt_number": null
    }
   ],
   "metadata": {}
  }
 ]
}
