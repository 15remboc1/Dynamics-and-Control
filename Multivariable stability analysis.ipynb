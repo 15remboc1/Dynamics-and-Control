{
 "cells": [
  {
   "cell_type": "code",
   "execution_count": 1,
   "metadata": {
    "collapsed": true
   },
   "outputs": [],
   "source": [
    "import sympy\n",
    "sympy.init_printing()\n",
    "%matplotlib inline"
   ]
  },
  {
   "cell_type": "markdown",
   "metadata": {},
   "source": [
    "Stability analysis\n",
    "------------------"
   ]
  },
  {
   "cell_type": "code",
   "execution_count": 2,
   "metadata": {
    "collapsed": false
   },
   "outputs": [],
   "source": [
    "s = sympy.Symbol('s')"
   ]
  },
  {
   "cell_type": "code",
   "execution_count": 3,
   "metadata": {
    "collapsed": false
   },
   "outputs": [
    {
     "data": {
      "image/png": "[encoded data removed]",
      "text/latex": [
       "$$\\left[\\begin{matrix}\\frac{2}{10 s + 1} & \\frac{3}{2 s + 2}\\\\\\frac{3}{2 s + 2} & \\frac{2}{10 s + 1}\\end{matrix}\\right]$$"
      ],
      "text/plain": [
       "⎡   2           3    ⎤\n",
       "⎢────────   ─────────⎥\n",
       "⎢10⋅s + 1   2⋅(s + 1)⎥\n",
       "⎢                    ⎥\n",
       "⎢    3         2     ⎥\n",
       "⎢─────────  ──────── ⎥\n",
       "⎣2⋅(s + 1)  10⋅s + 1 ⎦"
      ]
     },
     "execution_count": 3,
     "metadata": {},
     "output_type": "execute_result"
    }
   ],
   "source": [
    "Gp = sympy.Matrix([[2/(10*s + 1), sympy.Rational('1.5')/(s + 1)],\n",
    "                   [sympy.Rational('1.5')/(s + 1), 2/(10*s + 1)]])\n",
    "Gp"
   ]
  },
  {
   "cell_type": "code",
   "execution_count": 4,
   "metadata": {
    "collapsed": true
   },
   "outputs": [],
   "source": [
    "K_c1, K_c2 = sympy.symbols('K_c1, K_c2')"
   ]
  },
  {
   "cell_type": "code",
   "execution_count": 5,
   "metadata": {
    "collapsed": false
   },
   "outputs": [],
   "source": [
    "Gc = sympy.Matrix([[K_c1, 0],\n",
    "                   [0, K_c2]])"
   ]
  },
  {
   "cell_type": "markdown",
   "metadata": {},
   "source": [
    "For the off-diagonal case:"
   ]
  },
  {
   "cell_type": "code",
   "execution_count": 6,
   "metadata": {
    "collapsed": false
   },
   "outputs": [],
   "source": [
    "# Gc = sympy.Matrix([[0, K_c2],\n",
    "#                    [K_c1, 0]])"
   ]
  },
  {
   "cell_type": "code",
   "execution_count": 7,
   "metadata": {
    "collapsed": false
   },
   "outputs": [],
   "source": [
    "I = sympy.Matrix([[1, 0],\n",
    "                  [0, 1]])"
   ]
  },
  {
   "cell_type": "code",
   "execution_count": 8,
   "metadata": {
    "collapsed": false
   },
   "outputs": [],
   "source": [
    "charpoly = sympy.poly(sympy.numer((I + Gp*Gc).det().together()), s)"
   ]
  },
  {
   "cell_type": "code",
   "execution_count": 9,
   "metadata": {
    "collapsed": false
   },
   "outputs": [
    {
     "name": "stdout",
     "output_type": "stream",
     "text": [
      "0 4000\n",
      "1 800*K_c1 + 800*K_c2 + 9200\n",
      "2 -8840*K_c1*K_c2 + 1760*K_c1 + 1760*K_c2 + 6520\n",
      "3 -2364*K_c1*K_c2 + 1128*K_c1 + 1128*K_c2 + 1444\n",
      "4 -78*K_c1*K_c2 + 176*K_c1 + 176*K_c2 + 128\n",
      "5 7*K_c1*K_c2 + 8*K_c1 + 8*K_c2 + 4\n"
     ]
    }
   ],
   "source": [
    "for i, a in enumerate(charpoly.all_coeffs()):\n",
    "    print(i, a)"
   ]
  },
  {
   "cell_type": "code",
   "execution_count": 10,
   "metadata": {
    "collapsed": true
   },
   "outputs": [],
   "source": [
    "from control_utils import routh"
   ]
  },
  {
   "cell_type": "code",
   "execution_count": 11,
   "metadata": {
    "collapsed": false
   },
   "outputs": [
    {
     "name": "stdout",
     "output_type": "stream",
     "text": [
      "import sympy\r\n",
      "\r\n",
      "def routh(p):\r\n",
      "    \"\"\" Construct the Routh-Hurwitz array given a polynomial in s\"\"\"\r\n",
      "    coefficients = p.all_coeffs()\r\n",
      "    N = len(coefficients)\r\n",
      "    M = sympy.zeros(N, (N+1)//2 + 1)\r\n",
      "\r\n",
      "    r1 = coefficients[0::2]\r\n",
      "    r2 = coefficients[1::2]\r\n",
      "    M[0, :len(r1)] = [r1]\r\n",
      "    M[1, :len(r2)] = [r2]\r\n",
      "    for i in range(2, N):\r\n",
      "        for j in range(N//2):\r\n",
      "            S = M[[i-2, i-1], [0, j+1]]\r\n",
      "            M[i, j] = sympy.simplify(-S.det()/M[i-1,0])\r\n",
      "    return M[:, :-1]\r\n"
     ]
    }
   ],
   "source": [
    "!cat control_utils.py"
   ]
  },
  {
   "cell_type": "code",
   "execution_count": 12,
   "metadata": {
    "collapsed": false
   },
   "outputs": [],
   "source": [
    "R = routh(charpoly)"
   ]
  },
  {
   "cell_type": "code",
   "execution_count": 13,
   "metadata": {
    "collapsed": false
   },
   "outputs": [
    {
     "data": {
      "image/png": "[encoded data removed]",
      "text/latex": [
       "$$4000$$"
      ],
      "text/plain": [
       "4000"
      ]
     },
     "execution_count": 13,
     "metadata": {},
     "output_type": "execute_result"
    }
   ],
   "source": [
    "R[0, 0]"
   ]
  },
  {
   "cell_type": "markdown",
   "metadata": {},
   "source": [
    "All the remaining elements of the left hand row must be positive (the same sign as the first element)"
   ]
  },
  {
   "cell_type": "code",
   "execution_count": 14,
   "metadata": {
    "collapsed": true
   },
   "outputs": [],
   "source": [
    "requirements = True\n",
    "for r in R[1:, 0]:\n",
    "    requirements = sympy.And(requirements, r > 0)"
   ]
  },
  {
   "cell_type": "code",
   "execution_count": 15,
   "metadata": {
    "collapsed": false
   },
   "outputs": [
    {
     "data": {
      "image/png": "[encoded data removed]",
      "text/plain": [
       "<matplotlib.figure.Figure at 0x104aeae80>"
      ]
     },
     "metadata": {},
     "output_type": "display_data"
    },
    {
     "data": {
      "text/plain": [
       "<sympy.plotting.plot.Plot at 0x105de37f0>"
      ]
     },
     "execution_count": 15,
     "metadata": {},
     "output_type": "execute_result"
    }
   ],
   "source": [
    "sympy.plot_implicit(requirements, (K_c2, -2, 7), (K_c1, -2, 7))"
   ]
  },
  {
   "cell_type": "code",
   "execution_count": null,
   "metadata": {
    "collapsed": true
   },
   "outputs": [],
   "source": []
  }
 ],
 "metadata": {
  "anaconda-cloud": {},
  "kernelspec": {
   "display_name": "Python [default]",
   "language": "python",
   "name": "python3"
  },
  "language_info": {
   "codemirror_mode": {
    "name": "ipython",
    "version": 3
   },
   "file_extension": ".py",
   "mimetype": "text/x-python",
   "name": "python",
   "nbconvert_exporter": "python",
   "pygments_lexer": "ipython3",
   "version": "3.5.2"
  }
 },
 "nbformat": 4,
 "nbformat_minor": 0
}
