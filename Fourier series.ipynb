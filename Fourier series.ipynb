{
 "cells": [
  {
   "cell_type": "code",
   "execution_count": 1,
   "metadata": {
    "collapsed": true
   },
   "outputs": [],
   "source": [
    "import sympy\n",
    "sympy.init_printing()\n",
    "%matplotlib inline"
   ]
  },
  {
   "cell_type": "markdown",
   "metadata": {},
   "source": [
    "Fourier series\n",
    "=========\n",
    "\n",
    "We can approximate a periodic function of period P to arbitrary accuracy by adding sine and cosine terms (disguised via the Euler formula in the complex exponential): \n",
    "\n",
    "$$ S_N(t) = \\sum_{n=-N}^N c_n \\exp \\left( \\frac{i 2\\pi n t}{P}\\right) $$ \n",
    "\n",
    "with \n",
    "\n",
    "$$ c_n = \\frac{1}{P} \\int_{t_0}^{t_0 + P} f(t) \\exp \\left( \\frac{-i 2\\pi n t}{P}\\right) \\mathrm{d}t $$"
   ]
  },
  {
   "cell_type": "markdown",
   "metadata": {},
   "source": [
    "The following two functions attempt to match the notation above as closely as possible using sympy functions"
   ]
  },
  {
   "cell_type": "code",
   "execution_count": 2,
   "metadata": {
    "collapsed": false
   },
   "outputs": [],
   "source": [
    "i2pi = sympy.I*2*sympy.pi\n",
    "exp = sympy.exp"
   ]
  },
  {
   "cell_type": "code",
   "execution_count": 3,
   "metadata": {
    "collapsed": false
   },
   "outputs": [],
   "source": [
    "def S(N):\n",
    "    return sum(c(n)*exp(i2pi*n*t/P) for n in range(-N, N+1)).expand(complex=True).simplify()"
   ]
  },
  {
   "cell_type": "code",
   "execution_count": 4,
   "metadata": {
    "collapsed": true
   },
   "outputs": [],
   "source": [
    "def c(n):\n",
    "    return (sympy.integrate(\n",
    "               f(t)*exp((-i2pi * n * t)/P), \n",
    "               (t, t0, t0 + P))/P)"
   ]
  },
  {
   "cell_type": "markdown",
   "metadata": {},
   "source": [
    "These functions work quite well for a periodic sawtooth function:"
   ]
  },
  {
   "cell_type": "code",
   "execution_count": 5,
   "metadata": {
    "collapsed": true
   },
   "outputs": [],
   "source": [
    "def f(t):\n",
    "    return t"
   ]
  },
  {
   "cell_type": "code",
   "execution_count": 6,
   "metadata": {
    "collapsed": true
   },
   "outputs": [],
   "source": [
    "P = 20\n",
    "t0 = -10"
   ]
  },
  {
   "cell_type": "code",
   "execution_count": 7,
   "metadata": {
    "collapsed": false
   },
   "outputs": [],
   "source": [
    "t = sympy.Symbol('t', real=True)"
   ]
  },
  {
   "cell_type": "code",
   "execution_count": 8,
   "metadata": {
    "collapsed": true
   },
   "outputs": [],
   "source": [
    "N = 6"
   ]
  },
  {
   "cell_type": "code",
   "execution_count": 9,
   "metadata": {
    "collapsed": false
   },
   "outputs": [
    {
     "data": {
      "image/png": "[encoded data removed]",
      "text/latex": [
       "$$\\frac{20}{\\pi} \\sin{\\left (\\frac{\\pi t}{10} \\right )} - \\frac{10}{\\pi} \\sin{\\left (\\frac{\\pi t}{5} \\right )} + \\frac{20}{3 \\pi} \\sin{\\left (\\frac{3 \\pi}{10} t \\right )} - \\frac{5}{\\pi} \\sin{\\left (\\frac{2 \\pi}{5} t \\right )} + \\frac{4}{\\pi} \\sin{\\left (\\frac{\\pi t}{2} \\right )} - \\frac{10}{3 \\pi} \\sin{\\left (\\frac{3 \\pi}{5} t \\right )}$$"
      ],
      "text/plain": [
       "      ⎛π⋅t⎞         ⎛π⋅t⎞         ⎛3⋅π⋅t⎞        ⎛2⋅π⋅t⎞        ⎛π⋅t⎞         \n",
       "20⋅sin⎜───⎟   10⋅sin⎜───⎟   20⋅sin⎜─────⎟   5⋅sin⎜─────⎟   4⋅sin⎜───⎟   10⋅sin\n",
       "      ⎝ 10⎠         ⎝ 5 ⎠         ⎝  10 ⎠        ⎝  5  ⎠        ⎝ 2 ⎠         \n",
       "─────────── - ─────────── + ───────────── - ──────────── + ────────── - ──────\n",
       "     π             π             3⋅π             π             π             3\n",
       "\n",
       "⎛3⋅π⋅t⎞\n",
       "⎜─────⎟\n",
       "⎝  5  ⎠\n",
       "───────\n",
       "⋅π     "
      ]
     },
     "execution_count": 9,
     "metadata": {},
     "output_type": "execute_result"
    }
   ],
   "source": [
    "analytic_approx = S(N).expand()\n",
    "analytic_approx"
   ]
  },
  {
   "cell_type": "markdown",
   "metadata": {},
   "source": [
    "Notice that the function we defined was just $y=t$, but Fourier series always approximates periodic signals. We can see the bit we approximated repeating if we plot over a larger interval"
   ]
  },
  {
   "cell_type": "code",
   "execution_count": 10,
   "metadata": {
    "collapsed": false
   },
   "outputs": [
    {
     "data": {
      "image/png": "[encoded data removed]",
      "text/plain": [
       "<matplotlib.figure.Figure at 0x10c2bcc90>"
      ]
     },
     "metadata": {},
     "output_type": "display_data"
    }
   ],
   "source": [
    "interval = (t, t0-P, t0+2*P)\n",
    "p1 = sympy.plot(f(t), interval, show=False)\n",
    "p2 = sympy.plot(analytic_approx, interval, show=False)\n",
    "p2[0].line_color = 'red'\n",
    "p1.extend(p2)\n",
    "p1.show()"
   ]
  },
  {
   "cell_type": "markdown",
   "metadata": {},
   "source": [
    "Unfortunately, this notationally elegant approach does not appear to work for `f = sympy.Heaviside`, and is also quite slow. The `sympy.mpmath` library supplies a numeric equivalent."
   ]
  },
  {
   "cell_type": "code",
   "execution_count": 11,
   "metadata": {
    "collapsed": true
   },
   "outputs": [],
   "source": [
    "import sympy.mpmath"
   ]
  },
  {
   "cell_type": "code",
   "execution_count": 12,
   "metadata": {
    "collapsed": false
   },
   "outputs": [
    {
     "data": {
      "image/png": "[encoded data removed]",
      "text/plain": [
       "<matplotlib.figure.Figure at 0x10c471dd0>"
      ]
     },
     "metadata": {},
     "output_type": "display_data"
    }
   ],
   "source": [
    "cs = sympy.mpmath.fourier(f, [t0, t0+P], N)\n",
    "\n",
    "def numeric_approx(t):\n",
    "    return sympy.mpmath.fourierval(cs, [t0, t0+P], t)\n",
    "\n",
    "sympy.mpmath.plot([f, numeric_approx], [t0, t0+P])"
   ]
  },
  {
   "cell_type": "markdown",
   "metadata": {},
   "source": [
    "The coefficients returned by the `sympy.mpmath.fourier` functions are for the cosine and sine terms in this alternate representation of $S_N$\n",
    "\n",
    "$$s_N(t) = \\sum_{n=0}^N \\left(a_n \\cos\\left(\\frac{2\\pi nt}{P}\\right) + b_n \\sin\\left(\\frac{2\\pi nt}{P}\\right)\\right)$$\n",
    "\n"
   ]
  },
  {
   "cell_type": "markdown",
   "metadata": {},
   "source": [
    "We can see the similarity clearly by showing the expression we obtained before multiplied out and numerically evaluated"
   ]
  },
  {
   "cell_type": "code",
   "execution_count": 13,
   "metadata": {
    "collapsed": false
   },
   "outputs": [
    {
     "data": {
      "text/plain": [
       "([mpf('0.0'),\n",
       "  mpf('0.0'),\n",
       "  mpf('0.0'),\n",
       "  mpf('0.0'),\n",
       "  mpf('0.0'),\n",
       "  mpf('0.0'),\n",
       "  mpf('0.0')],\n",
       " [mpf('0.0'),\n",
       "  mpf('6.366197723675814'),\n",
       "  mpf('-3.183098861837907'),\n",
       "  mpf('2.1220659078919377'),\n",
       "  mpf('-1.5915494309189535'),\n",
       "  mpf('1.2732395447351628'),\n",
       "  mpf('-1.0610329539459689')])"
      ]
     },
     "execution_count": 13,
     "metadata": {},
     "output_type": "execute_result"
    }
   ],
   "source": [
    "cs"
   ]
  },
  {
   "cell_type": "code",
   "execution_count": 14,
   "metadata": {
    "collapsed": false
   },
   "outputs": [
    {
     "data": {
      "image/png": "[encoded data removed]",
      "text/latex": [
       "$$6.36619772367581 \\sin{\\left (\\frac{\\pi t}{10} \\right )} - 3.18309886183791 \\sin{\\left (\\frac{\\pi t}{5} \\right )} + 2.12206590789194 \\sin{\\left (\\frac{3 \\pi}{10} t \\right )} - 1.59154943091895 \\sin{\\left (\\frac{2 \\pi}{5} t \\right )} + 1.27323954473516 \\sin{\\left (\\frac{\\pi t}{2} \\right )} - 1.06103295394597 \\sin{\\left (\\frac{3 \\pi}{5} t \\right )}$$"
      ],
      "text/plain": [
       "                    ⎛π⋅t⎞                             ⎛π⋅t⎞                   \n",
       "6.36619772367581⋅sin⎜───⎟ - -3.18309886183791⋅(-1)⋅sin⎜───⎟ + 2.12206590789194\n",
       "                    ⎝ 10⎠                             ⎝ 5 ⎠                   \n",
       "\n",
       "    ⎛3⋅π⋅t⎞                             ⎛2⋅π⋅t⎞                       ⎛π⋅t⎞   \n",
       "⋅sin⎜─────⎟ - -1.59154943091895⋅(-1)⋅sin⎜─────⎟ + 1.27323954473516⋅sin⎜───⎟ - \n",
       "    ⎝  10 ⎠                             ⎝  5  ⎠                       ⎝ 2 ⎠   \n",
       "\n",
       "                          ⎛3⋅π⋅t⎞\n",
       "-1.06103295394597⋅(-1)⋅sin⎜─────⎟\n",
       "                          ⎝  5  ⎠"
      ]
     },
     "execution_count": 14,
     "metadata": {},
     "output_type": "execute_result"
    }
   ],
   "source": [
    "sympy.N(analytic_approx)"
   ]
  },
  {
   "cell_type": "markdown",
   "metadata": {},
   "source": [
    "Notice that all the cosine coefficients are zero. This is true in general for odd functions."
   ]
  },
  {
   "cell_type": "markdown",
   "metadata": {},
   "source": [
    "Step function\n",
    "------------\n",
    "Let's now switch to the Heaviside step and draw the various sinusoids in the approximation more explicitly."
   ]
  },
  {
   "cell_type": "code",
   "execution_count": 15,
   "metadata": {
    "collapsed": true
   },
   "outputs": [],
   "source": [
    "import matplotlib.pyplot as plt\n",
    "import numpy\n",
    "%matplotlib inline"
   ]
  },
  {
   "cell_type": "code",
   "execution_count": 16,
   "metadata": {
    "collapsed": true
   },
   "outputs": [],
   "source": [
    "N = 20"
   ]
  },
  {
   "cell_type": "code",
   "execution_count": 17,
   "metadata": {
    "collapsed": true
   },
   "outputs": [],
   "source": [
    "@numpy.vectorize\n",
    "def f(t):\n",
    "    if t < 0:\n",
    "        return 0\n",
    "    else:\n",
    "        return 1"
   ]
  },
  {
   "cell_type": "code",
   "execution_count": 18,
   "metadata": {
    "collapsed": false
   },
   "outputs": [
    {
     "data": {
      "text/plain": [
       "([mpf('0.5'),\n",
       "  mpf('0.0'),\n",
       "  mpf('0.0'),\n",
       "  mpf('0.0'),\n",
       "  mpf('0.0'),\n",
       "  mpf('0.0'),\n",
       "  mpf('0.0'),\n",
       "  mpf('0.0'),\n",
       "  mpf('0.0'),\n",
       "  mpf('0.0'),\n",
       "  mpf('0.0'),\n",
       "  mpf('0.0'),\n",
       "  mpf('0.0'),\n",
       "  mpf('0.0'),\n",
       "  mpf('0.0'),\n",
       "  mpf('0.0'),\n",
       "  mpf('0.0'),\n",
       "  mpf('0.0'),\n",
       "  mpf('0.0'),\n",
       "  mpf('0.0'),\n",
       "  mpf('0.0')],\n",
       " [mpf('0.0'),\n",
       "  mpf('0.63675856242795037'),\n",
       "  mpf('0.0002778345608862911'),\n",
       "  mpf('0.21262398013873579'),\n",
       "  mpf('0.00055771310594110598'),\n",
       "  mpf('0.12802302327076248'),\n",
       "  mpf('0.00084172518315335683'),\n",
       "  mpf('0.091931640154520794'),\n",
       "  mpf('0.0011320535572161288'),\n",
       "  mpf('0.072015836887865267'),\n",
       "  mpf('0.0014310262052054015'),\n",
       "  mpf('0.059459060405769593'),\n",
       "  mpf('0.0017411752581774926'),\n",
       "  mpf('0.050872056499090879'),\n",
       "  mpf('0.0020653060695558258'),\n",
       "  mpf('0.044674904291434447'),\n",
       "  mpf('0.0024065804723679999'),\n",
       "  mpf('0.040032978763113902'),\n",
       "  mpf('0.002768619592788056'),\n",
       "  mpf('0.036465018126357898'),\n",
       "  mpf('0.0031556335077388429')])"
      ]
     },
     "execution_count": 18,
     "metadata": {},
     "output_type": "execute_result"
    }
   ],
   "source": [
    "cs = sympy.mpmath.fourier(f, [t0, t0+P], N)\n",
    "cs"
   ]
  },
  {
   "cell_type": "markdown",
   "metadata": {},
   "source": [
    "We see that all the cosine terms but the first are zero, so the first cosine coefficient represents a constant being added to the sine series."
   ]
  },
  {
   "cell_type": "code",
   "execution_count": 19,
   "metadata": {
    "collapsed": true
   },
   "outputs": [],
   "source": [
    "constant = cs[0][0]\n",
    "sinecoefficients = cs[1]"
   ]
  },
  {
   "cell_type": "markdown",
   "metadata": {},
   "source": [
    "I'm constructing two dimensional arrays here which will allow my formulae to work nicely when broadcasting. I'll use the convention that the time dimension is in the columns and each sine response is in the rows."
   ]
  },
  {
   "cell_type": "code",
   "execution_count": 20,
   "metadata": {
    "collapsed": true
   },
   "outputs": [],
   "source": [
    "tt = numpy.linspace(t0, t0 + P, 1000)\n",
    "t2d = tt[numpy.newaxis]  # two dimensional time array, time in the columns"
   ]
  },
  {
   "cell_type": "code",
   "execution_count": 21,
   "metadata": {
    "collapsed": false
   },
   "outputs": [],
   "source": [
    "# two dimensional arrays for the sine coefficients and n - they vary in the rows\n",
    "an = numpy.array(sinecoefficients)[:, numpy.newaxis]\n",
    "n = numpy.arange(N+1)[:, numpy.newaxis]"
   ]
  },
  {
   "cell_type": "markdown",
   "metadata": {},
   "source": [
    "This way I can build a whole array of sine responses automatically. "
   ]
  },
  {
   "cell_type": "code",
   "execution_count": 22,
   "metadata": {
    "collapsed": false
   },
   "outputs": [],
   "source": [
    "sines = an*numpy.sin(2*numpy.pi*n*t2d/P)"
   ]
  },
  {
   "cell_type": "code",
   "execution_count": 23,
   "metadata": {
    "collapsed": false
   },
   "outputs": [
    {
     "data": {
      "text/plain": [
       "[<matplotlib.lines.Line2D at 0x10c3a0990>]"
      ]
     },
     "execution_count": 23,
     "metadata": {},
     "output_type": "execute_result"
    },
    {
     "data": {
      "image/png": "[encoded data removed]",
      "text/plain": [
       "<matplotlib.figure.Figure at 0x105a22e50>"
      ]
     },
     "metadata": {},
     "output_type": "display_data"
    }
   ],
   "source": [
    "plt.plot(tt, f(tt))\n",
    "plt.plot(tt, sines.T, color='blue', alpha=0.7)\n",
    "plt.axhline(constant, color='blue', alpha=0.7)\n",
    "plt.plot(tt, sum(sines) + constant)"
   ]
  },
  {
   "cell_type": "markdown",
   "metadata": {},
   "source": [
    "We can see that the sum of the sines approximates the step function."
   ]
  },
  {
   "cell_type": "markdown",
   "metadata": {},
   "source": [
    "Step response via Frequency response\n",
    "=================\n",
    "\n",
    "Let's calculate the step response of a second order system in a new way by using the frequency response of the transfer function and the Fourier series of the step input."
   ]
  },
  {
   "cell_type": "code",
   "execution_count": 24,
   "metadata": {
    "collapsed": true
   },
   "outputs": [],
   "source": [
    "s = sympy.Symbol('s')"
   ]
  },
  {
   "cell_type": "code",
   "execution_count": 25,
   "metadata": {
    "collapsed": true
   },
   "outputs": [],
   "source": [
    "tau = 1\n",
    "zeta = sympy.Rational(1, 2)"
   ]
  },
  {
   "cell_type": "code",
   "execution_count": 26,
   "metadata": {
    "collapsed": true
   },
   "outputs": [],
   "source": [
    "G = 1/(tau**2*s**2 + 2*tau*zeta*s + 1)\n",
    "g = sympy.inverse_laplace_transform(G/s, s, t)"
   ]
  },
  {
   "cell_type": "markdown",
   "metadata": {},
   "source": [
    "This next cell takes a long time to complete, but it is the only way I have found to get a workable numeric list to plot the output. Ideally, I would have liked to use `sympy.lambdify`, but it chokes the evaluation of some of these values."
   ]
  },
  {
   "cell_type": "code",
   "execution_count": 27,
   "metadata": {
    "collapsed": false
   },
   "outputs": [
    {
     "name": "stdout",
     "output_type": "stream",
     "text": [
      "CPU times: user 48.4 s, sys: 318 ms, total: 48.7 s\n",
      "Wall time: 49.4 s\n"
     ]
    }
   ],
   "source": [
    "%%time\n",
    "gtvalues = [complex(g.subs({t: thist})).real for thist in tt]"
   ]
  },
  {
   "cell_type": "markdown",
   "metadata": {},
   "source": [
    "We can see the familiar second order step response:"
   ]
  },
  {
   "cell_type": "code",
   "execution_count": 28,
   "metadata": {
    "collapsed": false
   },
   "outputs": [
    {
     "data": {
      "text/plain": [
       "[<matplotlib.lines.Line2D at 0x10e219d50>]"
      ]
     },
     "execution_count": 28,
     "metadata": {},
     "output_type": "execute_result"
    },
    {
     "data": {
      "image/png": "[encoded data removed]",
      "text/plain": [
       "<matplotlib.figure.Figure at 0x10b6f6b90>"
      ]
     },
     "metadata": {},
     "output_type": "display_data"
    }
   ],
   "source": [
    "plt.plot(tt, gtvalues)"
   ]
  },
  {
   "cell_type": "markdown",
   "metadata": {},
   "source": [
    "Now, let's try to get the same answer by exploiting the frequency response of the transfer function. First, we need a function which can evaluate the transfer function at particular values and return a numeric result. I use the extra argument to make the function able to work with numpy arrays"
   ]
  },
  {
   "cell_type": "code",
   "execution_count": 29,
   "metadata": {
    "collapsed": true
   },
   "outputs": [],
   "source": [
    "Geval = sympy.lambdify(s, G, 'numpy')"
   ]
  },
  {
   "cell_type": "markdown",
   "metadata": {},
   "source": [
    "Now, we need to build an array for the frequencies of the Fourier series. Remember we had terms of the form $\\sin\\left(\\frac{2\\pi n t}{P}\\right) = \\sin(\\omega t)$ in the Fourier series."
   ]
  },
  {
   "cell_type": "code",
   "execution_count": 30,
   "metadata": {
    "collapsed": false
   },
   "outputs": [],
   "source": [
    "omega = 2*n*numpy.pi/P"
   ]
  },
  {
   "cell_type": "markdown",
   "metadata": {},
   "source": [
    "We evaluate the frequency response of the transfer function at the Fourier frequencies by using the substitution $s=\\omega i$. The complex number is `j` in Python."
   ]
  },
  {
   "cell_type": "code",
   "execution_count": 31,
   "metadata": {
    "collapsed": false
   },
   "outputs": [],
   "source": [
    "freqresp = Geval(omega*1j)"
   ]
  },
  {
   "cell_type": "code",
   "execution_count": 32,
   "metadata": {
    "collapsed": true
   },
   "outputs": [],
   "source": [
    "K = gain = numpy.abs(freqresp)"
   ]
  },
  {
   "cell_type": "code",
   "execution_count": 33,
   "metadata": {
    "collapsed": true
   },
   "outputs": [],
   "source": [
    "phi = phase = numpy.angle(freqresp)"
   ]
  },
  {
   "cell_type": "markdown",
   "metadata": {},
   "source": [
    "Now, we build the approximation of the respone by simply multiplying by the gain $K$ and shifting by the phase $\\phi$:\n",
    "\n",
    "$$ r(t) = K a_n \\sin(2 \\pi n t / P + \\phi) $$"
   ]
  },
  {
   "cell_type": "code",
   "execution_count": 34,
   "metadata": {
    "collapsed": false
   },
   "outputs": [],
   "source": [
    "shiftedsines = K*an*numpy.sin(2*numpy.pi*n*t2d/P + phi)"
   ]
  },
  {
   "cell_type": "code",
   "execution_count": 35,
   "metadata": {
    "collapsed": false
   },
   "outputs": [
    {
     "data": {
      "image/png": "[encoded data removed]",
      "text/latex": [
       "$$\\left ( 0, \\quad 10\\right )$$"
      ],
      "text/plain": [
       "(0, 10)"
      ]
     },
     "execution_count": 35,
     "metadata": {},
     "output_type": "execute_result"
    },
    {
     "data": {
      "image/png": "[encoded data removed]",
      "text/plain": [
       "<matplotlib.figure.Figure at 0x10d615710>"
      ]
     },
     "metadata": {},
     "output_type": "display_data"
    }
   ],
   "source": [
    "plt.plot(tt, gtvalues)\n",
    "plt.plot(tt, sines.T, color='blue', alpha=0.7)\n",
    "plt.plot(tt, shiftedsines.T, color='green', alpha=0.7)\n",
    "plt.plot(tt, sum(shiftedsines) + constant, color='green')\n",
    "plt.xlim(0, t0 + P)"
   ]
  },
  {
   "cell_type": "code",
   "execution_count": null,
   "metadata": {
    "collapsed": true
   },
   "outputs": [],
   "source": []
  }
 ],
 "metadata": {
  "kernelspec": {
   "display_name": "Python 2",
   "language": "python",
   "name": "python2"
  },
  "language_info": {
   "codemirror_mode": {
    "name": "ipython",
    "version": 2
   },
   "file_extension": ".py",
   "mimetype": "text/x-python",
   "name": "python",
   "nbconvert_exporter": "python",
   "pygments_lexer": "ipython2",
   "version": "2.7.2"
  }
 },
 "nbformat": 4,
 "nbformat_minor": 0
}
