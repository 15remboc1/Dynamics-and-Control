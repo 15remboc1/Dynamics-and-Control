{
 "cells": [
  {
   "cell_type": "markdown",
   "metadata": {},
   "source": [
    "# Objects\n",
    "\n",
    "Have a look at the [Hybrd system simulation](Hybrid%20system%20simulation.ipynb) notebook before reading this one.\n",
    "\n",
    "In the `for` loop we used to implement the Euler integration in that notebook, it was clear that we were working with two systems - the tank system and the controller. We can see some similarities between the two systems: both of them have an input ($x$ for the tank, $e$ for the controller) and an output ($h$ for the tank, $x$ for the controller), both of them have an internal state ($V$ and the integral of the error). However, we ended up having to repeat many calculations for the two of them, and the code corresponding to the two systems ended up in different places between the two of them.\n",
    "\n",
    "Objects allow us to group each system's equations and data together so that our loop can be cleaner and the parts of the code that are specific to each system can be all in one place."
   ]
  },
  {
   "cell_type": "code",
   "execution_count": 17,
   "metadata": {
    "collapsed": true
   },
   "outputs": [],
   "source": [
    "import numpy\n",
    "import scipy.signal\n",
    "import matplotlib.pyplot as plt\n",
    "%matplotlib inline"
   ]
  },
  {
   "cell_type": "markdown",
   "metadata": {},
   "source": [
    "## Tank system\n",
    "\n",
    "We start by defining a `class` for the tank system:"
   ]
  },
  {
   "cell_type": "code",
   "execution_count": 18,
   "metadata": {
    "collapsed": true
   },
   "outputs": [],
   "source": [
    "class TankSystem:\n",
    "    def __init__(self, A, alpha, K, V, Fi):\n",
    "        \"\"\" This special function gets called when an object of this class is created\"\"\"\n",
    "        self.A = A\n",
    "        self.alpha = alpha\n",
    "        self.K = K\n",
    "        self.Fi = Fi\n",
    "        self.change_state(V)\n",
    "    \n",
    "    def f(self, x):\n",
    "        return self.alpha**(x - 1)\n",
    "    \n",
    "    def change_input(self, x):\n",
    "        self.Fo = self.K*self.f(x)*numpy.sqrt(self.h)\n",
    "        \n",
    "    def change_state(self, V):\n",
    "        self.state = self.V = V\n",
    "        self.output = self.h = self.V/self.A\n",
    "\n",
    "    def derivative(self, x):\n",
    "        self.change_input(x)\n",
    "        dVdt = self.Fi - self.Fo\n",
    "        return dVdt"
   ]
  },
  {
   "cell_type": "markdown",
   "metadata": {},
   "source": [
    "The functions defined inside the class are known as `methods` and are called as `object.method(arguments)`. You may imagine that `object.method(arguments)` gets translated to `method(object, arguments)` before it is called, so the `self` argument to methods will be the object whose method is called."
   ]
  },
  {
   "cell_type": "markdown",
   "metadata": {},
   "source": [
    "## PI Controller\n",
    "\n",
    "And another for the PI controller."
   ]
  },
  {
   "cell_type": "code",
   "execution_count": 19,
   "metadata": {
    "collapsed": true
   },
   "outputs": [],
   "source": [
    "class PIController:\n",
    "    def __init__(self, Kc, tau_i, bias):\n",
    "        self.Kc = Kc\n",
    "        self.G = scipy.signal.lti([Kc*tau_i, Kc], [tau_i, 0])\n",
    "        self.Gss = self.G.to_ss()\n",
    "        self.change_state(numpy.zeros((self.Gss.A.shape[0], 1)))\n",
    "        self.bias = self.output = bias\n",
    "        self.y = self.bias\n",
    "        \n",
    "    def change_input(self, u):\n",
    "        self.y = self.Gss.C.dot(self.x) + self.Gss.D.dot(u) + self.bias\n",
    "        self.output = self.y[0, 0]  # because y is a matrix, and we want a scalar output\n",
    "    \n",
    "    def change_state(self, x):\n",
    "        self.x = self.state = x\n",
    "    \n",
    "    def derivative(self, e):\n",
    "        return self.Gss.A.dot(self.x) + self.Gss.B.dot(e)"
   ]
  },
  {
   "cell_type": "code",
   "execution_count": 20,
   "metadata": {
    "collapsed": true
   },
   "outputs": [],
   "source": [
    "ts = numpy.linspace(0, 100, 1000)\n",
    "dt = ts[1]"
   ]
  },
  {
   "cell_type": "code",
   "execution_count": 21,
   "metadata": {
    "collapsed": true
   },
   "outputs": [],
   "source": [
    "sp = 1.3"
   ]
  },
  {
   "cell_type": "markdown",
   "metadata": {},
   "source": [
    "## Generic integration\n",
    "\n",
    "Now we can integrate. Notice that in the code below there is no specific reference to tanks or PI controllers. To change the type of controller or the system, we can change the kinds of objects we create as `system` and `controller`"
   ]
  },
  {
   "cell_type": "code",
   "execution_count": 22,
   "metadata": {
    "collapsed": true
   },
   "outputs": [],
   "source": [
    "def control_simulation(system, controller):\n",
    "    outputs = []\n",
    "    for t in ts:\n",
    "        system.change_input(controller.output)\n",
    "\n",
    "        e = sp - system.output\n",
    "\n",
    "        controller.change_input(e)\n",
    "\n",
    "        system.change_state(system.state + system.derivative(controller.output)*dt)\n",
    "        controller.change_state(controller.state + controller.derivative(e)*dt)\n",
    "\n",
    "        outputs.append(system.output)\n",
    "    return outputs"
   ]
  },
  {
   "cell_type": "code",
   "execution_count": 23,
   "metadata": {
    "collapsed": true
   },
   "outputs": [],
   "source": [
    "system = TankSystem(A=2, alpha=20, K=2, V=2, Fi=1)\n",
    "controller = PIController(Kc=-1, tau_i=5, bias=0.7)"
   ]
  },
  {
   "cell_type": "code",
   "execution_count": 24,
   "metadata": {
    "collapsed": true
   },
   "outputs": [],
   "source": [
    "outputs = control_simulation(system, controller)"
   ]
  },
  {
   "cell_type": "code",
   "execution_count": 25,
   "metadata": {
    "collapsed": false
   },
   "outputs": [
    {
     "data": {
      "text/plain": [
       "[<matplotlib.lines.Line2D at 0x7f4fc29535d0>]"
      ]
     },
     "execution_count": 25,
     "metadata": {},
     "output_type": "execute_result"
    },
    {
     "data": {
      "image/png": "[encoded data removed]",
      "text/plain": [
       "<matplotlib.figure.Figure at 0x7f4fc2a014d0>"
      ]
     },
     "metadata": {},
     "output_type": "display_data"
    }
   ],
   "source": [
    "plt.plot(ts, outputs)"
   ]
  },
  {
   "cell_type": "markdown",
   "metadata": {},
   "source": [
    "This allows us to simulate different situations easily."
   ]
  },
  {
   "cell_type": "code",
   "execution_count": 26,
   "metadata": {
    "collapsed": false
   },
   "outputs": [
    {
     "data": {
      "image/png": "[encoded data removed]",
      "text/plain": [
       "<matplotlib.figure.Figure at 0x7f4fc29515d0>"
      ]
     },
     "metadata": {},
     "output_type": "display_data"
    }
   ],
   "source": [
    "outputs = control_simulation(system=TankSystem(A=2, alpha=10, K=2, V=2, Fi=1), \n",
    "                             controller=PIController(Kc=-2, tau_i=5, bias=0.5))\n",
    "plt.plot(ts, outputs);"
   ]
  },
  {
   "cell_type": "markdown",
   "metadata": {},
   "source": [
    "## Re-using the interface\n",
    "\n",
    "Note that we could also define a completely new system. The controller doesn't \"know\" it is a level controller in this case, so let's build a class which would represent an LTI system under control:"
   ]
  },
  {
   "cell_type": "code",
   "execution_count": 27,
   "metadata": {
    "collapsed": true
   },
   "outputs": [],
   "source": [
    "class LtiSystem:\n",
    "    def __init__(self, numerator, denominator):\n",
    "        self.G = scipy.signal.lti(numerator, denominator)\n",
    "        self.Gss = self.G.to_ss()\n",
    "        self.change_state(numpy.zeros((self.Gss.A.shape[0], 1)))\n",
    "        self.y = self.output = 0\n",
    "        \n",
    "    def change_input(self, u):\n",
    "        self.y = self.Gss.C.dot(self.x) + self.Gss.D.dot(u)\n",
    "        self.output = self.y[0, 0]\n",
    "    \n",
    "    def change_state(self, x):\n",
    "        self.x = self.state = x\n",
    "    \n",
    "    def derivative(self, e):\n",
    "        return self.Gss.A.dot(self.x) + self.Gss.B.dot(e)"
   ]
  },
  {
   "cell_type": "markdown",
   "metadata": {},
   "source": [
    "Now we can simulate the response of an arbitrary LTI system to an arbitrary controller as long as we have classes to represent their behaviour!"
   ]
  },
  {
   "cell_type": "code",
   "execution_count": 28,
   "metadata": {
    "collapsed": false
   },
   "outputs": [
    {
     "data": {
      "text/plain": [
       "[<matplotlib.lines.Line2D at 0x7f4fc29acc10>]"
      ]
     },
     "execution_count": 28,
     "metadata": {},
     "output_type": "execute_result"
    },
    {
     "data": {
      "image/png": "[encoded data removed]",
      "text/plain": [
       "<matplotlib.figure.Figure at 0x7f4fc28c1490>"
      ]
     },
     "metadata": {},
     "output_type": "display_data"
    }
   ],
   "source": [
    "outputs = control_simulation(system=LtiSystem(1, [1, 1]), \n",
    "                             controller=PIController(Kc=1, tau_i=10, bias=0))\n",
    "plt.plot(ts, outputs)"
   ]
  },
  {
   "cell_type": "markdown",
   "metadata": {},
   "source": [
    "Look how easy it becomes to compare control performance:"
   ]
  },
  {
   "cell_type": "code",
   "execution_count": 32,
   "metadata": {
    "collapsed": false
   },
   "outputs": [
    {
     "data": {
      "text/plain": [
       "<matplotlib.legend.Legend at 0x7f4fc27ea650>"
      ]
     },
     "execution_count": 32,
     "metadata": {},
     "output_type": "execute_result"
    },
    {
     "data": {
      "image/png": "[encoded data removed]",
      "text/plain": [
       "<matplotlib.figure.Figure at 0x7f4fc27ea290>"
      ]
     },
     "metadata": {},
     "output_type": "display_data"
    }
   ],
   "source": [
    "system = TankSystem(A=2, alpha=10, K=2, V=2, Fi=1)\n",
    "\n",
    "controllers = [PIController(Kc=K, tau_i=10, bias=0) for K in [-1, -2, -10]]\n",
    "for controller in controllers:\n",
    "    outputs = control_simulation(system, controller)\n",
    "    plt.plot(ts, outputs, label=r'$K_c={}$'.format(controller.Kc))\n",
    "plt.legend()"
   ]
  }
 ],
 "metadata": {
  "anaconda-cloud": {},
  "kernelspec": {
   "display_name": "Python 2",
   "language": "python",
   "name": "python2"
  },
  "language_info": {
   "codemirror_mode": {
    "name": "ipython",
    "version": 2
   },
   "file_extension": ".py",
   "mimetype": "text/x-python",
   "name": "python",
   "nbconvert_exporter": "python",
   "pygments_lexer": "ipython2",
   "version": "2.7.12"
  }
 },
 "nbformat": 4,
 "nbformat_minor": 1
}
