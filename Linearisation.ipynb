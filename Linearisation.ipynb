{
 "cells": [
  {
   "cell_type": "code",
   "execution_count": 1,
   "metadata": {
    "collapsed": false
   },
   "outputs": [],
   "source": [
    "import sympy\n",
    "sympy.init_printing()"
   ]
  },
  {
   "cell_type": "markdown",
   "metadata": {},
   "source": [
    "Valve equation\n",
    "=========="
   ]
  },
  {
   "cell_type": "markdown",
   "metadata": {},
   "source": [
    "Let's linearise the nasty nonlinear term in the equation percentage valve relationship in T3 Problem 5 (or T2 problem 4)\n",
    "\n",
    "$$ F = C_v \\alpha^{x - 1} $$"
   ]
  },
  {
   "cell_type": "markdown",
   "metadata": {},
   "source": [
    "First we introduce the requisite symbols"
   ]
  },
  {
   "cell_type": "code",
   "execution_count": 2,
   "metadata": {
    "collapsed": false
   },
   "outputs": [],
   "source": [
    "F, C_v, alpha, x = sympy.symbols('F, C_v, alpha, x')"
   ]
  },
  {
   "cell_type": "code",
   "execution_count": 3,
   "metadata": {
    "collapsed": false
   },
   "outputs": [
    {
     "data": {
      "image/png": "[encoded data removed]",
      "text/latex": [
       "$$- C_{v} \\alpha^{x - 1} + F$$"
      ],
      "text/plain": [
       "      x - 1    \n",
       "- Cᵥ⋅α      + F"
      ]
     },
     "execution_count": 3,
     "metadata": {},
     "output_type": "execute_result"
    }
   ],
   "source": [
    "eq = F - C_v*alpha**(x - 1)\n",
    "eq"
   ]
  },
  {
   "cell_type": "markdown",
   "metadata": {},
   "source": [
    "We also introduce \"barred\" versions of the variables. I'm using $\\LaTeX$ notation here to make the typesetting pretty, but you can just use `xbar` as the name as well. Note that I am using \"raw strings\" that start with an `r` so that the backslash is not interpreted as an [escape character](https://en.wikipedia.org/wiki/Escape_character)."
   ]
  },
  {
   "cell_type": "code",
   "execution_count": 4,
   "metadata": {
    "collapsed": true
   },
   "outputs": [],
   "source": [
    "Fbar, xbar = sympy.symbols(r'\\bar{F}, \\bar{x}')"
   ]
  },
  {
   "cell_type": "markdown",
   "metadata": {},
   "source": [
    "For single variable expressions, we can use `sympy.series` to linearise for us. Note that he help for `sympy.series` references the help for `sympy.Expr.series`, which has a lot more detail about the operation of this function"
   ]
  },
  {
   "cell_type": "code",
   "execution_count": 5,
   "metadata": {
    "collapsed": true
   },
   "outputs": [],
   "source": [
    "sympy.series?"
   ]
  },
  {
   "cell_type": "code",
   "execution_count": 6,
   "metadata": {
    "collapsed": true
   },
   "outputs": [],
   "source": [
    "sympy.Expr.series?"
   ]
  },
  {
   "cell_type": "markdown",
   "metadata": {},
   "source": [
    "Calling series by itself will result in an error term (the one with an $\\mathcal{O}$). This is useful to estimate the error of the approximation."
   ]
  },
  {
   "cell_type": "code",
   "execution_count": 7,
   "metadata": {
    "collapsed": false
   },
   "outputs": [
    {
     "data": {
      "image/png": "[encoded data removed]",
      "text/latex": [
       "$$F - \\frac{C_{v}}{\\alpha} e^{\\bar{x} \\log{\\left (\\alpha \\right )}} - \\frac{C_{v}}{\\alpha} \\left(- \\bar{x} + x\\right) e^{\\bar{x} \\log{\\left (\\alpha \\right )}} \\log{\\left (\\alpha \\right )} + \\mathcal{O}\\left(\\left(- \\bar{x} + x\\right)^{2}; x\\rightarrow\\bar{x}\\right)$$"
      ],
      "text/plain": [
       "        \\bar{x}⋅log(α)                      \\bar{x}⋅log(α)                    \n",
       "    Cᵥ⋅ℯ                 Cᵥ⋅(-\\bar{x} + x)⋅ℯ              ⋅log(α)    ⎛        \n",
       "F - ────────────────── - ──────────────────────────────────────── + O⎝(-\\bar{x\n",
       "            α                               α                                 \n",
       "\n",
       "                     \n",
       "      2             ⎞\n",
       "} + x) ; x → \\bar{x}⎠\n",
       "                     "
      ]
     },
     "execution_count": 7,
     "metadata": {},
     "output_type": "execute_result"
    }
   ],
   "source": [
    "sympy.series(eq, x, xbar, 2)"
   ]
  },
  {
   "cell_type": "markdown",
   "metadata": {},
   "source": [
    "But mostly we will be interested in the expression rather than the error, so we will remove that term with the `removeO` method:"
   ]
  },
  {
   "cell_type": "code",
   "execution_count": 8,
   "metadata": {
    "collapsed": false
   },
   "outputs": [
    {
     "data": {
      "image/png": "[encoded data removed]",
      "text/latex": [
       "$$- \\frac{C_{v}}{\\alpha} \\left(- \\bar{x} + x\\right) e^{\\bar{x} \\log{\\left (\\alpha \\right )}} \\log{\\left (\\alpha \\right )} - \\frac{C_{v}}{\\alpha} e^{\\bar{x} \\log{\\left (\\alpha \\right )}} + F$$"
      ],
      "text/plain": [
       "                     \\bar{x}⋅log(α)              \\bar{x}⋅log(α)    \n",
       "  Cᵥ⋅(-\\bar{x} + x)⋅ℯ              ⋅log(α)   Cᵥ⋅ℯ                  \n",
       "- ──────────────────────────────────────── - ────────────────── + F\n",
       "                     α                               α             "
      ]
     },
     "execution_count": 8,
     "metadata": {},
     "output_type": "execute_result"
    }
   ],
   "source": [
    "lineq = sympy.series(eq, x, xbar, 2).removeO()\n",
    "lineq"
   ]
  },
  {
   "cell_type": "markdown",
   "metadata": {},
   "source": [
    "Rewriting in terms of devation variables\n",
    "--------------\n",
    "\n",
    "While we are here, we can also rewrite in terms of deviation variables:"
   ]
  },
  {
   "cell_type": "code",
   "execution_count": 9,
   "metadata": {
    "collapsed": true
   },
   "outputs": [],
   "source": [
    "xprime, Fprime = sympy.symbols(\"x', F'\")"
   ]
  },
  {
   "cell_type": "code",
   "execution_count": 10,
   "metadata": {
    "collapsed": false
   },
   "outputs": [
    {
     "data": {
      "image/png": "[encoded data removed]",
      "text/latex": [
       "$$- \\frac{C_{v} x'}{\\alpha} e^{\\bar{x} \\log{\\left (\\alpha \\right )}} \\log{\\left (\\alpha \\right )} - \\frac{C_{v}}{\\alpha} e^{\\bar{x} \\log{\\left (\\alpha \\right )}} + F' + \\bar{F}$$"
      ],
      "text/plain": [
       "         \\bar{x}⋅log(α)              \\bar{x}⋅log(α)               \n",
       "  Cᵥ⋅x'⋅ℯ              ⋅log(α)   Cᵥ⋅ℯ                             \n",
       "- ──────────────────────────── - ────────────────── + F' + \\bar{F}\n",
       "               α                         α                        "
      ]
     },
     "execution_count": 10,
     "metadata": {},
     "output_type": "execute_result"
    }
   ],
   "source": [
    "lineq_deviation = lineq.subs({x: xprime + xbar, \n",
    "                              F: Fprime + Fbar})\n",
    "lineq_deviation"
   ]
  },
  {
   "cell_type": "markdown",
   "metadata": {},
   "source": [
    "We can use the knowledge about the relationship betwee $\\bar{x}$ and $\\bar{F}$ to simplify a little more:"
   ]
  },
  {
   "cell_type": "code",
   "execution_count": 11,
   "metadata": {
    "collapsed": false
   },
   "outputs": [],
   "source": [
    "steady = eq.subs({x: xbar, F: Fbar})"
   ]
  },
  {
   "cell_type": "code",
   "execution_count": 12,
   "metadata": {
    "collapsed": false
   },
   "outputs": [
    {
     "data": {
      "image/png": "[encoded data removed]",
      "text/latex": [
       "$$C_{v} \\alpha^{\\bar{x} - 1} - \\frac{C_{v} x'}{\\alpha} e^{\\bar{x} \\log{\\left (\\alpha \\right )}} \\log{\\left (\\alpha \\right )} - \\frac{C_{v}}{\\alpha} e^{\\bar{x} \\log{\\left (\\alpha \\right )}} + F'$$"
      ],
      "text/plain": [
       "                         \\bar{x}⋅log(α)              \\bar{x}⋅log(α)     \n",
       "    \\bar{x} - 1   Cᵥ⋅x'⋅ℯ              ⋅log(α)   Cᵥ⋅ℯ                   \n",
       "Cᵥ⋅α            - ──────────────────────────── - ────────────────── + F'\n",
       "                               α                         α              "
      ]
     },
     "execution_count": 12,
     "metadata": {},
     "output_type": "execute_result"
    }
   ],
   "source": [
    "simplified = lineq_deviation - steady\n",
    "simplified"
   ]
  },
  {
   "cell_type": "markdown",
   "metadata": {},
   "source": [
    "We can solve this equation for $x'$, ready to substitute into the next equation."
   ]
  },
  {
   "cell_type": "code",
   "execution_count": 13,
   "metadata": {
    "collapsed": false
   },
   "outputs": [
    {
     "data": {
      "image/png": "[encoded data removed]",
      "text/latex": [
       "$$\\frac{e^{- \\bar{x} \\log{\\left (\\alpha \\right )}}}{C_{v} \\log{\\left (\\alpha \\right )}} \\left(C_{v} \\alpha^{\\bar{x}} - C_{v} e^{\\bar{x} \\log{\\left (\\alpha \\right )}} + F' \\alpha\\right)$$"
      ],
      "text/plain": [
       "⎛    \\bar{x}       \\bar{x}⋅log(α)       ⎞  -\\bar{x}⋅log(α)\n",
       "⎝Cᵥ⋅α        - Cᵥ⋅ℯ               + F'⋅α⎠⋅ℯ               \n",
       "──────────────────────────────────────────────────────────\n",
       "                        Cᵥ⋅log(α)                         "
      ]
     },
     "execution_count": 13,
     "metadata": {},
     "output_type": "execute_result"
    }
   ],
   "source": [
    "sympy.solve(simplified, xprime)[0]"
   ]
  },
  {
   "cell_type": "markdown",
   "metadata": {
    "collapsed": true
   },
   "source": [
    "Multiple variables\n",
    "---------------\n",
    "\n",
    "Unfortunately, SymPy doesn't have a built-in function for multivariate Taylor series, and consecutive application of the `series` function doesn't do exactly what we want."
   ]
  },
  {
   "cell_type": "code",
   "execution_count": 14,
   "metadata": {
    "collapsed": true
   },
   "outputs": [],
   "source": [
    "variables = x, y, z = sympy.symbols('x, y, z')\n",
    "bars = xbar, ybar, zbar = sympy.symbols(r'\\bar{x}, \\bar{y}, \\bar{z}')"
   ]
  },
  {
   "cell_type": "code",
   "execution_count": 15,
   "metadata": {
    "collapsed": true
   },
   "outputs": [],
   "source": [
    "eq = x*y*z"
   ]
  },
  {
   "cell_type": "markdown",
   "metadata": {},
   "source": [
    "Note that the other variables are assumed to be constant here, so we don't recover the answer we are looking for."
   ]
  },
  {
   "cell_type": "code",
   "execution_count": 16,
   "metadata": {
    "collapsed": false
   },
   "outputs": [
    {
     "data": {
      "image/png": "[encoded data removed]",
      "text/latex": [
       "$$\\bar{y} x z + x z \\left(- \\bar{y} + y\\right)$$"
      ],
      "text/plain": [
       "\\bar{y}⋅x⋅z + x⋅z⋅(-\\bar{y} + y)"
      ]
     },
     "execution_count": 16,
     "metadata": {},
     "output_type": "execute_result"
    }
   ],
   "source": [
    "eq.series(x, xbar, 2).removeO().series(y, ybar, 2).removeO()"
   ]
  },
  {
   "cell_type": "markdown",
   "metadata": {},
   "source": [
    "This function applies the rule basically as it is written in the textbook:"
   ]
  },
  {
   "cell_type": "code",
   "execution_count": 17,
   "metadata": {
    "collapsed": true
   },
   "outputs": [],
   "source": [
    "def linearise(eq, variables, bars):\n",
    "    vars_and_bars = list(zip(variables, bars))\n",
    "    # This is the constant term\n",
    "    result = eq.subs(vars_and_bars)\n",
    "    # now, we take the derivative with respect to each variable, evaluated at the steady state:\n",
    "    for variable, bar in vars_and_bars:\n",
    "        result += (variable - bar)*eq.diff(variable).subs(vars_and_bars)\n",
    "    return result"
   ]
  },
  {
   "cell_type": "code",
   "execution_count": 18,
   "metadata": {
    "collapsed": false
   },
   "outputs": [
    {
     "data": {
      "image/png": "[encoded data removed]",
      "text/latex": [
       "$$\\bar{x} \\bar{y} \\bar{z} + \\bar{x} \\bar{y} \\left(- \\bar{z} + z\\right) + \\bar{x} \\bar{z} \\left(- \\bar{y} + y\\right) + \\bar{y} \\bar{z} \\left(- \\bar{x} + x\\right)$$"
      ],
      "text/plain": [
       "\\bar{x}⋅\\bar{y}⋅\\bar{z} + \\bar{x}⋅\\bar{y}⋅(-\\bar{z} + z) + \\bar{x}⋅\\bar{z}⋅(-\\\n",
       "bar{y} + y) + \\bar{y}⋅\\bar{z}⋅(-\\bar{x} + x)"
      ]
     },
     "execution_count": 18,
     "metadata": {},
     "output_type": "execute_result"
    }
   ],
   "source": [
    "linearise(eq, variables, bars)"
   ]
  }
 ],
 "metadata": {
  "anaconda-cloud": {},
  "kernelspec": {
   "display_name": "Python 3",
   "language": "python",
   "name": "python3"
  },
  "language_info": {
   "codemirror_mode": {
    "name": "ipython",
    "version": 3
   },
   "file_extension": ".py",
   "mimetype": "text/x-python",
   "name": "python",
   "nbconvert_exporter": "python",
   "pygments_lexer": "ipython3",
   "version": "3.6.0"
  }
 },
 "nbformat": 4,
 "nbformat_minor": 0
}
