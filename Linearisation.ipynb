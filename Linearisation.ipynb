{
 "cells": [
  {
   "cell_type": "code",
   "execution_count": 1,
   "metadata": {
    "collapsed": true
   },
   "outputs": [],
   "source": [
    "import sympy\n",
    "sympy.init_printing()"
   ]
  },
  {
   "cell_type": "markdown",
   "metadata": {},
   "source": [
    "Valve equation\n",
    "=========="
   ]
  },
  {
   "cell_type": "markdown",
   "metadata": {},
   "source": [
    "Let's linearise the nasty nonlinear term in the equation percentage valve relationship in T3 Problem 5 (or T2 problem 4)\n",
    "\n",
    "$$ F = C_v \\alpha^{x - 1} $$"
   ]
  },
  {
   "cell_type": "markdown",
   "metadata": {},
   "source": [
    "First we introduce the requisite symbols. Notice that we specify constraints on these variables, this will make simplifications better later on."
   ]
  },
  {
   "cell_type": "code",
   "execution_count": 2,
   "metadata": {
    "collapsed": true
   },
   "outputs": [],
   "source": [
    "F, C_v, alpha, x = sympy.symbols('F, C_v, alpha, x', positive=True)"
   ]
  },
  {
   "cell_type": "code",
   "execution_count": 3,
   "metadata": {},
   "outputs": [
    {
     "data": {
      "image/png": "[encoded data removed]",
      "text/latex": [
       "$$- C_{v} \\alpha^{x - 1} + F$$"
      ],
      "text/plain": [
       "      x - 1    \n",
       "- Cᵥ⋅α      + F"
      ]
     },
     "execution_count": 3,
     "metadata": {},
     "output_type": "execute_result"
    }
   ],
   "source": [
    "eq = F - C_v*alpha**(x - 1)\n",
    "eq"
   ]
  },
  {
   "cell_type": "markdown",
   "metadata": {},
   "source": [
    "We also introduce \"barred\" versions of the variables. Sympy automatically constructs these to typesetting nicely."
   ]
  },
  {
   "cell_type": "code",
   "execution_count": 4,
   "metadata": {
    "collapsed": true
   },
   "outputs": [],
   "source": [
    "Fbar, xbar = sympy.symbols('Fbar, xbar', positive=True)"
   ]
  },
  {
   "cell_type": "markdown",
   "metadata": {},
   "source": [
    "For single variable expressions, we can use `sympy.series` to linearise for us. Note that he help for `sympy.series` references the help for `sympy.Expr.series`, which has a lot more detail about the operation of this function"
   ]
  },
  {
   "cell_type": "code",
   "execution_count": 5,
   "metadata": {
    "collapsed": true
   },
   "outputs": [],
   "source": [
    "sympy.series?"
   ]
  },
  {
   "cell_type": "code",
   "execution_count": 6,
   "metadata": {
    "collapsed": true
   },
   "outputs": [],
   "source": [
    "sympy.Expr.series?"
   ]
  },
  {
   "cell_type": "markdown",
   "metadata": {},
   "source": [
    "Calling series by itself will result in an error term (the one with an $\\mathcal{O}$). This is useful to estimate the error of the approximation."
   ]
  },
  {
   "cell_type": "code",
   "execution_count": 7,
   "metadata": {},
   "outputs": [
    {
     "data": {
      "image/png": "[encoded data removed]",
      "text/latex": [
       "$$F - \\frac{C_{v}}{\\alpha} e^{\\bar{x} \\log{\\left (\\alpha \\right )}} - \\frac{C_{v}}{\\alpha} \\left(x - \\bar{x}\\right) e^{\\bar{x} \\log{\\left (\\alpha \\right )}} \\log{\\left (\\alpha \\right )} + \\mathcal{O}\\left(\\left(x - \\bar{x}\\right)^{2}; x\\rightarrow\\bar{x}\\right)$$"
      ],
      "text/plain": [
       "        x̅⋅log(α)                x̅⋅log(α)                              \n",
       "    Cᵥ⋅ℯ            Cᵥ⋅(x - x̅)⋅ℯ         ⋅log(α)    ⎛        2        ⎞\n",
       "F - ───────────── - ───────────────────────────── + O⎝(x - x̅) ; x → x̅⎠\n",
       "          α                       α                                     "
      ]
     },
     "execution_count": 7,
     "metadata": {},
     "output_type": "execute_result"
    }
   ],
   "source": [
    "sympy.series(eq, x, xbar, 2)"
   ]
  },
  {
   "cell_type": "markdown",
   "metadata": {},
   "source": [
    "But mostly we will be interested in the expression rather than the error, so we will remove that term with the `removeO` method:"
   ]
  },
  {
   "cell_type": "code",
   "execution_count": 8,
   "metadata": {},
   "outputs": [
    {
     "data": {
      "image/png": "[encoded data removed]",
      "text/latex": [
       "$$- \\frac{C_{v}}{\\alpha} \\left(x - \\bar{x}\\right) e^{\\bar{x} \\log{\\left (\\alpha \\right )}} \\log{\\left (\\alpha \\right )} - \\frac{C_{v}}{\\alpha} e^{\\bar{x} \\log{\\left (\\alpha \\right )}} + F$$"
      ],
      "text/plain": [
       "               x̅⋅log(α)              x̅⋅log(α)    \n",
       "  Cᵥ⋅(x - x̅)⋅ℯ         ⋅log(α)   Cᵥ⋅ℯ             \n",
       "- ───────────────────────────── - ───────────── + F\n",
       "                α                       α          "
      ]
     },
     "execution_count": 8,
     "metadata": {},
     "output_type": "execute_result"
    }
   ],
   "source": [
    "lineq = sympy.series(eq, x, xbar, 2).removeO()\n",
    "lineq"
   ]
  },
  {
   "cell_type": "markdown",
   "metadata": {},
   "source": [
    "Rewriting in terms of devation variables\n",
    "--------------\n",
    "\n",
    "While we are here, we can also rewrite in terms of deviation variables:"
   ]
  },
  {
   "cell_type": "code",
   "execution_count": 9,
   "metadata": {
    "collapsed": true
   },
   "outputs": [],
   "source": [
    "xprime, Fprime = sympy.symbols(\"x', F'\", positive=True)"
   ]
  },
  {
   "cell_type": "code",
   "execution_count": 10,
   "metadata": {},
   "outputs": [
    {
     "data": {
      "image/png": "[encoded data removed]",
      "text/latex": [
       "$$- \\frac{C_{v} x'}{\\alpha} e^{\\bar{x} \\log{\\left (\\alpha \\right )}} \\log{\\left (\\alpha \\right )} - \\frac{C_{v}}{\\alpha} e^{\\bar{x} \\log{\\left (\\alpha \\right )}} + F' + \\bar{F}$$"
      ],
      "text/plain": [
       "         x̅⋅log(α)              x̅⋅log(α)          \n",
       "  Cᵥ⋅x'⋅ℯ         ⋅log(α)   Cᵥ⋅ℯ                   \n",
       "- ─────────────────────── - ───────────── + F' + F̅\n",
       "             α                    α                "
      ]
     },
     "execution_count": 10,
     "metadata": {},
     "output_type": "execute_result"
    }
   ],
   "source": [
    "lineq_deviation = lineq.subs({x: xprime + xbar, \n",
    "                              F: Fprime + Fbar})\n",
    "lineq_deviation"
   ]
  },
  {
   "cell_type": "markdown",
   "metadata": {},
   "source": [
    "We can use the knowledge about the relationship betwee $\\bar{x}$ and $\\bar{F}$ to simplify a little more:"
   ]
  },
  {
   "cell_type": "code",
   "execution_count": 11,
   "metadata": {},
   "outputs": [
    {
     "data": {
      "image/png": "[encoded data removed]",
      "text/latex": [
       "$$- C_{v} \\alpha^{\\bar{x} - 1} + \\bar{F}$$"
      ],
      "text/plain": [
       "      x̅ - 1     \n",
       "- Cᵥ⋅α       + F̅"
      ]
     },
     "execution_count": 11,
     "metadata": {},
     "output_type": "execute_result"
    }
   ],
   "source": [
    "steady = eq.subs({x: xbar, F: Fbar})\n",
    "steady"
   ]
  },
  {
   "cell_type": "code",
   "execution_count": 12,
   "metadata": {},
   "outputs": [],
   "source": [
    "simplified = lineq_deviation - steady"
   ]
  },
  {
   "cell_type": "code",
   "execution_count": 13,
   "metadata": {},
   "outputs": [
    {
     "data": {
      "image/png": "[encoded data removed]",
      "text/latex": [
       "$$F' - \\frac{1}{\\alpha} \\log{\\left (\\alpha^{C_{v} \\alpha^{\\bar{x}} x'} \\right )}$$"
      ],
      "text/plain": [
       "        ⎛     x̅   ⎞\n",
       "        ⎜ Cᵥ⋅α  ⋅x'⎟\n",
       "     log⎝α         ⎠\n",
       "F' - ───────────────\n",
       "            α       "
      ]
     },
     "execution_count": 13,
     "metadata": {},
     "output_type": "execute_result"
    }
   ],
   "source": [
    "simplified.simplify()"
   ]
  },
  {
   "cell_type": "markdown",
   "metadata": {},
   "source": [
    "We can solve this equation for $x'$, ready to substitute into the next equation."
   ]
  },
  {
   "cell_type": "code",
   "execution_count": 14,
   "metadata": {},
   "outputs": [
    {
     "data": {
      "image/png": "[encoded data removed]",
      "text/latex": [
       "$$\\frac{F' \\alpha}{C_{v} \\alpha^{\\bar{x}} \\log{\\left (\\alpha \\right )}}$$"
      ],
      "text/plain": [
       "      -x̅\n",
       "F'⋅α⋅α   \n",
       "─────────\n",
       "Cᵥ⋅log(α)"
      ]
     },
     "execution_count": 14,
     "metadata": {},
     "output_type": "execute_result"
    }
   ],
   "source": [
    "sympy.solve(simplified, xprime)[0].expand()"
   ]
  },
  {
   "cell_type": "markdown",
   "metadata": {},
   "source": [
    "# A note about simplification\n",
    "\n",
    "You will note that we specified `positive=True` for all our symbols when we created them. This is because the default assumptions about variables in SymPy are that they are complex. And for complex numbers, `log` is not a 1-to-1 function. See if you understand the following:"
   ]
  },
  {
   "cell_type": "code",
   "execution_count": 15,
   "metadata": {},
   "outputs": [
    {
     "data": {
      "image/png": "[encoded data removed]",
      "text/latex": [
       "$$e^{\\bar{x} \\log{\\left (\\alpha \\right )}}$$"
      ],
      "text/plain": [
       " x̅⋅log(α)\n",
       "ℯ         "
      ]
     },
     "execution_count": 15,
     "metadata": {},
     "output_type": "execute_result"
    }
   ],
   "source": [
    "xbar, alpha = sympy.symbols('xbar, alpha')\n",
    "sympy.exp(xbar*sympy.log(alpha)).simplify()"
   ]
  },
  {
   "cell_type": "code",
   "execution_count": 16,
   "metadata": {},
   "outputs": [
    {
     "data": {
      "image/png": "[encoded data removed]",
      "text/latex": [
       "$$\\alpha^{\\bar{x}}$$"
      ],
      "text/plain": [
       " x̅\n",
       "α  "
      ]
     },
     "execution_count": 16,
     "metadata": {},
     "output_type": "execute_result"
    }
   ],
   "source": [
    "xbar, alpha = sympy.symbols('xbar, alpha', positive=True)\n",
    "sympy.exp(xbar*sympy.log(alpha)).simplify()"
   ]
  },
  {
   "cell_type": "markdown",
   "metadata": {
    "collapsed": true
   },
   "source": [
    "Multiple variables\n",
    "---------------\n",
    "\n",
    "Unfortunately, SymPy doesn't have a built-in function for multivariate Taylor series, and consecutive application of the `series` function doesn't do exactly what we want."
   ]
  },
  {
   "cell_type": "code",
   "execution_count": 17,
   "metadata": {
    "collapsed": true
   },
   "outputs": [],
   "source": [
    "variables = x, y, z = sympy.symbols('x, y, z')\n",
    "bars = xbar, ybar, zbar = sympy.symbols('xbar, ybar, zbar')"
   ]
  },
  {
   "cell_type": "code",
   "execution_count": 18,
   "metadata": {
    "collapsed": true
   },
   "outputs": [],
   "source": [
    "eq = x*y*z"
   ]
  },
  {
   "cell_type": "markdown",
   "metadata": {},
   "source": [
    "Note that the other variables are assumed to be constant here, so we don't recover the answer we are looking for."
   ]
  },
  {
   "cell_type": "code",
   "execution_count": 19,
   "metadata": {},
   "outputs": [
    {
     "data": {
      "image/png": "[encoded data removed]",
      "text/latex": [
       "$$x \\bar{y} z + x z \\left(y - \\bar{y}\\right)$$"
      ],
      "text/plain": [
       "x⋅y̅⋅z + x⋅z⋅(y - y̅)"
      ]
     },
     "execution_count": 19,
     "metadata": {},
     "output_type": "execute_result"
    }
   ],
   "source": [
    "eq.series(x, xbar, 2).removeO().series(y, ybar, 2).removeO()"
   ]
  },
  {
   "cell_type": "markdown",
   "metadata": {},
   "source": [
    "This function applies the rule basically as it is written in the textbook:"
   ]
  },
  {
   "cell_type": "code",
   "execution_count": 20,
   "metadata": {
    "collapsed": true
   },
   "outputs": [],
   "source": [
    "def linearise(eq, variables, bars):\n",
    "    vars_and_bars = list(zip(variables, bars))\n",
    "    # This is the constant term\n",
    "    result = eq.subs(vars_and_bars)\n",
    "    # now, we take the derivative with respect to each variable, evaluated at the steady state:\n",
    "    for variable, bar in vars_and_bars:\n",
    "        result += (variable - bar)*eq.diff(variable).subs(vars_and_bars)\n",
    "    return result"
   ]
  },
  {
   "cell_type": "code",
   "execution_count": 21,
   "metadata": {},
   "outputs": [
    {
     "data": {
      "image/png": "[encoded data removed]",
      "text/latex": [
       "$$\\bar{x} \\bar{y} \\bar{z} + \\bar{x} \\bar{y} \\left(z - \\bar{z}\\right) + \\bar{x} \\bar{z} \\left(y - \\bar{y}\\right) + \\bar{y} \\bar{z} \\left(x - \\bar{x}\\right)$$"
      ],
      "text/plain": [
       "x̅⋅y̅⋅z̅ + x̅⋅y̅⋅(z - z̅) + x̅⋅z̅⋅(y - y̅) + y̅⋅z̅⋅(x - x̅)"
      ]
     },
     "execution_count": 21,
     "metadata": {},
     "output_type": "execute_result"
    }
   ],
   "source": [
    "linearise(eq, variables, bars)"
   ]
  }
 ],
 "metadata": {
  "anaconda-cloud": {},
  "kernelspec": {
   "display_name": "Python 3",
   "language": "python",
   "name": "python3"
  },
  "language_info": {
   "codemirror_mode": {
    "name": "ipython",
    "version": 3
   },
   "file_extension": ".py",
   "mimetype": "text/x-python",
   "name": "python",
   "nbconvert_exporter": "python",
   "pygments_lexer": "ipython3",
   "version": "3.6.1"
  }
 },
 "nbformat": 4,
 "nbformat_minor": 1
}
