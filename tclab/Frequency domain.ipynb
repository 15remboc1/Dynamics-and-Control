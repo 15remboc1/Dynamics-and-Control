{
 "cells": [
  {
   "cell_type": "markdown",
   "metadata": {},
   "source": [
    "# TCLab in the frequency domain"
   ]
  },
  {
   "cell_type": "code",
   "execution_count": 18,
   "metadata": {},
   "outputs": [],
   "source": [
    "import numpy"
   ]
  },
  {
   "cell_type": "code",
   "execution_count": 19,
   "metadata": {},
   "outputs": [],
   "source": [
    "%matplotlib inline"
   ]
  },
  {
   "cell_type": "code",
   "execution_count": 20,
   "metadata": {},
   "outputs": [],
   "source": [
    "tau_p = 150\n",
    "K_p = 0.33\n",
    "theta = 15"
   ]
  },
  {
   "cell_type": "code",
   "execution_count": 21,
   "metadata": {},
   "outputs": [],
   "source": [
    "omega = numpy.logspace(-3, -2)\n",
    "s = omega*1j"
   ]
  },
  {
   "cell_type": "code",
   "execution_count": 22,
   "metadata": {},
   "outputs": [],
   "source": [
    "G = K_p/(tau_p*s + 1)*numpy.exp(-theta*s)"
   ]
  },
  {
   "cell_type": "code",
   "execution_count": 23,
   "metadata": {},
   "outputs": [],
   "source": [
    "import matplotlib.pyplot as plt"
   ]
  },
  {
   "cell_type": "markdown",
   "metadata": {},
   "source": [
    "Let's choose 5 logarithmically spaced points around the corner frequency"
   ]
  },
  {
   "cell_type": "code",
   "execution_count": 24,
   "metadata": {},
   "outputs": [],
   "source": [
    "freqs = numpy.logspace(-2.8, -2, 5)"
   ]
  },
  {
   "cell_type": "code",
   "execution_count": 25,
   "metadata": {},
   "outputs": [],
   "source": [
    "def plotfreqs(ax):\n",
    "    for freq in freqs:\n",
    "        ax.axvline(freq)"
   ]
  },
  {
   "cell_type": "code",
   "execution_count": 26,
   "metadata": {},
   "outputs": [],
   "source": [
    "def bode(omega, G, gainax=None, phaseax=None, phasecorr=0):\n",
    "    if gainax is None:\n",
    "        fig, (gainax, phaseax) = plt.subplots(2, 1, sharex=True)\n",
    "    gainax.loglog(omega, numpy.abs(G))\n",
    "    angle = numpy.angle(G)\n",
    "    phaseax.semilogx(omega, numpy.unwrap(angle) + phasecorr)\n",
    "    return gainax, phaseax"
   ]
  },
  {
   "cell_type": "code",
   "execution_count": 27,
   "metadata": {},
   "outputs": [
    {
     "data": {
      "image/png": "[encoded data removed]",
      "text/plain": [
       "<matplotlib.figure.Figure at 0x109f29a90>"
      ]
     },
     "metadata": {},
     "output_type": "display_data"
    }
   ],
   "source": [
    "gainax, phaseax = bode(omega, G)\n",
    "plotfreqs(gainax)"
   ]
  },
  {
   "cell_type": "markdown",
   "metadata": {},
   "source": [
    "## Direct frequency domain tests"
   ]
  },
  {
   "cell_type": "code",
   "execution_count": 28,
   "metadata": {},
   "outputs": [],
   "source": [
    "Qbar = 50\n",
    "deltaQ = A = 10"
   ]
  },
  {
   "cell_type": "markdown",
   "metadata": {},
   "source": [
    "How long does one sine wave take to repeat? \n",
    "\n",
    "$$P = 2\\pi/\\omega$$"
   ]
  },
  {
   "cell_type": "code",
   "execution_count": 29,
   "metadata": {},
   "outputs": [],
   "source": [
    "P = 2*numpy.pi/freqs"
   ]
  },
  {
   "cell_type": "markdown",
   "metadata": {},
   "source": [
    "We'll do a couple of repeats."
   ]
  },
  {
   "cell_type": "code",
   "execution_count": 30,
   "metadata": {},
   "outputs": [],
   "source": [
    "nperiods = 3"
   ]
  },
  {
   "cell_type": "code",
   "execution_count": 31,
   "metadata": {},
   "outputs": [],
   "source": [
    "switch_times = numpy.concatenate([[0], numpy.cumsum(P*nperiods)])"
   ]
  },
  {
   "cell_type": "code",
   "execution_count": 32,
   "metadata": {},
   "outputs": [
    {
     "data": {
      "text/plain": [
       "array([    0.        , 11893.26574888, 19397.409123  , 24132.20349893,\n",
       "       27119.65678502, 29004.61237718])"
      ]
     },
     "execution_count": 32,
     "metadata": {},
     "output_type": "execute_result"
    }
   ],
   "source": [
    "switch_times"
   ]
  },
  {
   "cell_type": "code",
   "execution_count": 33,
   "metadata": {},
   "outputs": [],
   "source": [
    "from tclab import runexperiment, labtime"
   ]
  },
  {
   "cell_type": "code",
   "execution_count": 34,
   "metadata": {},
   "outputs": [],
   "source": [
    "def send_sine_wave(t, lab):\n",
    "    print(f'\\rTime: {t} Last sleep: {labtime.lastsleep} ', end='')\n",
    "    step = numpy.max(numpy.nonzero(switch_times <= t))\n",
    "    lab.Q1(Qbar + A*numpy.sin(freqs[step]*(t - switch_times[step])))"
   ]
  },
  {
   "cell_type": "code",
   "execution_count": 35,
   "metadata": {},
   "outputs": [
    {
     "data": {
      "text/plain": [
       "29004.612377178186"
      ]
     },
     "execution_count": 35,
     "metadata": {},
     "output_type": "execute_result"
    }
   ],
   "source": [
    "totaltime = sum(nperiods*P)\n",
    "totaltime"
   ]
  },
  {
   "cell_type": "markdown",
   "metadata": {},
   "source": [
    "Experiment will take this many hours"
   ]
  },
  {
   "cell_type": "code",
   "execution_count": 36,
   "metadata": {},
   "outputs": [
    {
     "data": {
      "text/plain": [
       "8.056836771438386"
      ]
     },
     "execution_count": 36,
     "metadata": {},
     "output_type": "execute_result"
    }
   ],
   "source": [
    "totaltime/60/60"
   ]
  },
  {
   "cell_type": "markdown",
   "metadata": {},
   "source": [
    "Looks like we'll be running it overnight."
   ]
  },
  {
   "cell_type": "code",
   "execution_count": 57,
   "metadata": {},
   "outputs": [
    {
     "name": "stdout",
     "output_type": "stream",
     "text": [
      "TCLab version 0.4.6dev\n",
      "NHduino connected on port /dev/cu.wchusbserial1410 at 115200 baud.\n",
      "TCLab Firmware 1.3.0 Arduino Uno.\n",
      "Time: 4872.0 Last sleep: 0.8694100379943848 TCLab disconnected successfully.\n",
      "CPU times: user 15.5 s, sys: 28 s, total: 43.6 s\n",
      "Wall time: 1h 21min 16s\n"
     ]
    }
   ],
   "source": [
    "%%time\n",
    "experiment = runexperiment(send_sine_wave, connected=True, \n",
    "                           plot=False, twindow=1000,\n",
    "                           time=int(totaltime), \n",
    "                           speedup=1,\n",
    "                           dbfile='sinetest.db')"
   ]
  },
  {
   "cell_type": "code",
   "execution_count": 37,
   "metadata": {},
   "outputs": [],
   "source": [
    "import tclab"
   ]
  },
  {
   "cell_type": "code",
   "execution_count": 38,
   "metadata": {},
   "outputs": [],
   "source": [
    "h = tclab.Historian((('Q1', lambda: [0, 0, 0, 0]), \n",
    "                     ('Q2', None),\n",
    "                     ('T1', None),\n",
    "                     ('T2', None)), dbfile='sinetest.db')"
   ]
  },
  {
   "cell_type": "code",
   "execution_count": 39,
   "metadata": {},
   "outputs": [],
   "source": [
    "# h = experiment.historian"
   ]
  },
  {
   "cell_type": "code",
   "execution_count": 40,
   "metadata": {},
   "outputs": [
    {
     "data": {
      "text/plain": [
       "[(2, '2018-03-06 18:45:27', 13710),\n",
       " (12, '2018-03-07 14:55:43', 2001),\n",
       " (15, '2018-03-07 18:43:39', 7526),\n",
       " (25, '2018-03-08 05:34:09', 5523),\n",
       " (27, '2018-03-08 07:10:23', 4873),\n",
       " (28, '2018-03-08 12:59:29', 55),\n",
       " (29, '2018-03-08 13:00:31', 116),\n",
       " (30, '2018-03-08 13:02:35', 1001),\n",
       " (31, '2018-03-08 13:25:17', 2001),\n",
       " (32, '2018-03-08 14:30:19', 0),\n",
       " (33, '2018-03-08 14:30:32', 891),\n",
       " (34, '2018-03-08 14:46:08', 536),\n",
       " (35, '2018-03-08 14:55:18', 132),\n",
       " (36, '2018-03-08 15:02:28', 2001),\n",
       " (37, '2018-03-09 04:37:56', 0),\n",
       " (38, '2018-03-09 04:39:17', 0),\n",
       " (39, '2018-03-09 04:45:49', 0),\n",
       " (40, '2018-03-09 04:46:44', 0),\n",
       " (41, '2018-03-09 08:22:48', 0),\n",
       " (42, '2018-03-09 08:23:20', 0)]"
      ]
     },
     "execution_count": 40,
     "metadata": {},
     "output_type": "execute_result"
    }
   ],
   "source": [
    "h.get_sessions()"
   ]
  },
  {
   "cell_type": "code",
   "execution_count": 41,
   "metadata": {},
   "outputs": [],
   "source": [
    "import pandas"
   ]
  },
  {
   "cell_type": "code",
   "execution_count": 42,
   "metadata": {},
   "outputs": [],
   "source": [
    "%matplotlib inline"
   ]
  },
  {
   "cell_type": "code",
   "execution_count": 43,
   "metadata": {},
   "outputs": [],
   "source": [
    "# h = experiment.historian"
   ]
  },
  {
   "cell_type": "code",
   "execution_count": 44,
   "metadata": {},
   "outputs": [],
   "source": [
    "sine_sessions = [2, 15, 25, 27]"
   ]
  },
  {
   "cell_type": "code",
   "execution_count": 45,
   "metadata": {},
   "outputs": [],
   "source": [
    "def sinefit(session, freq, Tbar=40, inphase=0, gain=0.4, phase=0):\n",
    "    h.load_session(session)\n",
    "    t = numpy.array(h.t)\n",
    "    Q1 = numpy.array(h.logdict['Q1'])\n",
    "    Q1_sine = A*numpy.sin(t*freq + inphase)\n",
    "    T1 = numpy.array(h.logdict['T1'])\n",
    "    T1_sine = A*gain*numpy.sin(t*freq + inphase + phase)\n",
    "    plt.plot(t, Q1 - Qbar, color='blue', alpha=0.4)\n",
    "    plt.plot(t, Q1_sine, color='blue')\n",
    "    plt.plot(t, T1 - Tbar, color='red', alpha=0.4)\n",
    "    plt.plot(t, T1_sine, color='red')\n",
    "    plt.ylim(-A, A)\n",
    "    print(f'Gain={gain}, Phase={phase-inphase}')"
   ]
  },
  {
   "cell_type": "code",
   "execution_count": 46,
   "metadata": {},
   "outputs": [
    {
     "name": "stdout",
     "output_type": "stream",
     "text": [
      "Gain=0.3, Phase=0\n"
     ]
    },
    {
     "data": {
      "image/png": "[encoded data removed]",
      "text/plain": [
       "<matplotlib.figure.Figure at 0x109f29a20>"
      ]
     },
     "metadata": {},
     "output_type": "display_data"
    }
   ],
   "source": [
    "sinefit(2, freqs[0], 40, 0, 0.3, 0, )"
   ]
  },
  {
   "cell_type": "code",
   "execution_count": 47,
   "metadata": {},
   "outputs": [],
   "source": [
    "from ipywidgets import interact"
   ]
  },
  {
   "cell_type": "code",
   "execution_count": 48,
   "metadata": {},
   "outputs": [
    {
     "data": {
      "application/vnd.jupyter.widget-view+json": {
       "model_id": "f49bbe28dfba4cc69e7f11d4cd7f6567",
       "version_major": 2,
       "version_minor": 0
      },
      "text/html": [
       "<p>Failed to display Jupyter Widget of type <code>interactive</code>.</p>\n",
       "<p>\n",
       "  If you're reading this message in the Jupyter Notebook or JupyterLab Notebook, it may mean\n",
       "  that the widgets JavaScript is still loading. If this message persists, it\n",
       "  likely means that the widgets JavaScript library is either not installed or\n",
       "  not enabled. See the <a href=\"https://ipywidgets.readthedocs.io/en/stable/user_install.html\">Jupyter\n",
       "  Widgets Documentation</a> for setup instructions.\n",
       "</p>\n",
       "<p>\n",
       "  If you're reading this message in another frontend (for example, a static\n",
       "  rendering on GitHub or <a href=\"https://nbviewer.jupyter.org/\">NBViewer</a>),\n",
       "  it may mean that your frontend doesn't currently support widgets.\n",
       "</p>\n"
      ],
      "text/plain": [
       "interactive(children=(Dropdown(description='session', options=(2, 15, 25, 27), value=2), Dropdown(description='freq', options=(0.001584893192461114, 0.002511886431509582, 0.003981071705534973, 0.00630957344480193, 0.01), value=0.001584893192461114), FloatSlider(value=40.0, description='Tbar', max=50.0, min=30.0), FloatSlider(value=0.0, description='inphase', max=6.283185307179586), FloatSlider(value=0.4, description='gain', max=1.0, step=0.01), FloatSlider(value=0.0, description='phase', max=0.0, min=-6.283185307179586), Output()), _dom_classes=('widget-interact',))"
      ]
     },
     "metadata": {},
     "output_type": "display_data"
    },
    {
     "data": {
      "text/plain": [
       "<function __main__.sinefit>"
      ]
     },
     "execution_count": 48,
     "metadata": {},
     "output_type": "execute_result"
    }
   ],
   "source": [
    "interact(sinefit, \n",
    "         session=sine_sessions, \n",
    "         freq=freqs, \n",
    "         Tbar=(30., 50.), \n",
    "         inphase=(0, 2*numpy.pi),\n",
    "         gain=(0., 1., 0.01),\n",
    "         phase=(-2*numpy.pi, 0),)"
   ]
  },
  {
   "cell_type": "code",
   "execution_count": 124,
   "metadata": {},
   "outputs": [],
   "source": [
    "gains = [0.3, 0.32, 0.25, 0.24, 0.19]\n",
    "phases = [-0.28, -0.38, -0.58, -0.88, -1.28]"
   ]
  },
  {
   "cell_type": "code",
   "execution_count": 158,
   "metadata": {},
   "outputs": [
    {
     "data": {
      "text/plain": [
       "<matplotlib.collections.PathCollection at 0x11a430ba8>"
      ]
     },
     "execution_count": 158,
     "metadata": {},
     "output_type": "execute_result"
    },
    {
     "data": {
      "image/png": "[encoded data removed]",
      "text/plain": [
       "<matplotlib.figure.Figure at 0x1188a3e48>"
      ]
     },
     "metadata": {},
     "output_type": "display_data"
    }
   ],
   "source": [
    "gainax, phaseax = bode(omega, G)\n",
    "gainax.scatter(freqs, gains, color='red')\n",
    "phaseax.scatter(freqs, phases, color='red')"
   ]
  },
  {
   "cell_type": "markdown",
   "metadata": {},
   "source": [
    "## FFT based bode diagram"
   ]
  },
  {
   "cell_type": "code",
   "execution_count": 174,
   "metadata": {},
   "outputs": [],
   "source": [
    "next_values = {'time': 0, 'value': +A}\n",
    "def random_noise(t, lab):\n",
    "    if t > next_values['time']:\n",
    "        next_values['time'] += numpy.random.uniform(50, 300)\n",
    "        next_values['value'] = -A if next_values['value'] == +A else +A\n",
    "    lab.Q1(Qbar + next_values['value'])"
   ]
  },
  {
   "cell_type": "code",
   "execution_count": 175,
   "metadata": {},
   "outputs": [
    {
     "data": {
      "text/plain": [
       "{'time': 0, 'value': 10}"
      ]
     },
     "execution_count": 175,
     "metadata": {},
     "output_type": "execute_result"
    }
   ],
   "source": [
    "next_values"
   ]
  },
  {
   "cell_type": "code",
   "execution_count": 176,
   "metadata": {},
   "outputs": [],
   "source": [
    "%matplotlib notebook"
   ]
  },
  {
   "cell_type": "code",
   "execution_count": 177,
   "metadata": {},
   "outputs": [
    {
     "name": "stdout",
     "output_type": "stream",
     "text": [
      "TCLab version 0.4.6dev\n",
      "NHduino connected on port /dev/cu.wchusbserial1410 at 115200 baud.\n",
      "TCLab Firmware 1.3.0 Arduino Uno.\n"
     ]
    },
    {
     "data": {
      "application/javascript": [
       "/* Put everything inside the global mpl namespace */\n",
       "window.mpl = {};\n",
       "\n",
       "\n",
       "mpl.get_websocket_type = function() {\n",
       "    if (typeof(WebSocket) !== 'undefined') {\n",
       "        return WebSocket;\n",
       "    } else if (typeof(MozWebSocket) !== 'undefined') {\n",
       "        return MozWebSocket;\n",
       "    } else {\n",
       "        alert('Your browser does not have WebSocket support.' +\n",
       "              'Please try Chrome, Safari or Firefox ≥ 6. ' +\n",
       "              'Firefox 4 and 5 are also supported but you ' +\n",
       "              'have to enable WebSockets in about:config.');\n",
       "    };\n",
       "}\n",
       "\n",
       "mpl.figure = function(figure_id, websocket, ondownload, parent_element) {\n",
       "    this.id = figure_id;\n",
       "\n",
       "    this.ws = websocket;\n",
       "\n",
       "    this.supports_binary = (this.ws.binaryType != undefined);\n",
       "\n",
       "    if (!this.supports_binary) {\n",
       "        var warnings = document.getElementById(\"mpl-warnings\");\n",
       "        if (warnings) {\n",
       "            warnings.style.display = 'block';\n",
       "            warnings.textContent = (\n",
       "                \"This browser does not support binary websocket messages. \" +\n",
       "                    \"Performance may be slow.\");\n",
       "        }\n",
       "    }\n",
       "\n",
       "    this.imageObj = new Image();\n",
       "\n",
       "    this.context = undefined;\n",
       "    this.message = undefined;\n",
       "    this.canvas = undefined;\n",
       "    this.rubberband_canvas = undefined;\n",
       "    this.rubberband_context = undefined;\n",
       "    this.format_dropdown = undefined;\n",
       "\n",
       "    this.image_mode = 'full';\n",
       "\n",
       "    this.root = $('<div/>');\n",
       "    this._root_extra_style(this.root)\n",
       "    this.root.attr('style', 'display: inline-block');\n",
       "\n",
       "    $(parent_element).append(this.root);\n",
       "\n",
       "    this._init_header(this);\n",
       "    this._init_canvas(this);\n",
       "    this._init_toolbar(this);\n",
       "\n",
       "    var fig = this;\n",
       "\n",
       "    this.waiting = false;\n",
       "\n",
       "    this.ws.onopen =  function () {\n",
       "            fig.send_message(\"supports_binary\", {value: fig.supports_binary});\n",
       "            fig.send_message(\"send_image_mode\", {});\n",
       "            if (mpl.ratio != 1) {\n",
       "                fig.send_message(\"set_dpi_ratio\", {'dpi_ratio': mpl.ratio});\n",
       "            }\n",
       "            fig.send_message(\"refresh\", {});\n",
       "        }\n",
       "\n",
       "    this.imageObj.onload = function() {\n",
       "            if (fig.image_mode == 'full') {\n",
       "                // Full images could contain transparency (where diff images\n",
       "                // almost always do), so we need to clear the canvas so that\n",
       "                // there is no ghosting.\n",
       "                fig.context.clearRect(0, 0, fig.canvas.width, fig.canvas.height);\n",
       "            }\n",
       "            fig.context.drawImage(fig.imageObj, 0, 0);\n",
       "        };\n",
       "\n",
       "    this.imageObj.onunload = function() {\n",
       "        fig.ws.close();\n",
       "    }\n",
       "\n",
       "    this.ws.onmessage = this._make_on_message_function(this);\n",
       "\n",
       "    this.ondownload = ondownload;\n",
       "}\n",
       "\n",
       "mpl.figure.prototype._init_header = function() {\n",
       "    var titlebar = $(\n",
       "        '<div class=\"ui-dialog-titlebar ui-widget-header ui-corner-all ' +\n",
       "        'ui-helper-clearfix\"/>');\n",
       "    var titletext = $(\n",
       "        '<div class=\"ui-dialog-title\" style=\"width: 100%; ' +\n",
       "        'text-align: center; padding: 3px;\"/>');\n",
       "    titlebar.append(titletext)\n",
       "    this.root.append(titlebar);\n",
       "    this.header = titletext[0];\n",
       "}\n",
       "\n",
       "\n",
       "\n",
       "mpl.figure.prototype._canvas_extra_style = function(canvas_div) {\n",
       "\n",
       "}\n",
       "\n",
       "\n",
       "mpl.figure.prototype._root_extra_style = function(canvas_div) {\n",
       "\n",
       "}\n",
       "\n",
       "mpl.figure.prototype._init_canvas = function() {\n",
       "    var fig = this;\n",
       "\n",
       "    var canvas_div = $('<div/>');\n",
       "\n",
       "    canvas_div.attr('style', 'position: relative; clear: both; outline: 0');\n",
       "\n",
       "    function canvas_keyboard_event(event) {\n",
       "        return fig.key_event(event, event['data']);\n",
       "    }\n",
       "\n",
       "    canvas_div.keydown('key_press', canvas_keyboard_event);\n",
       "    canvas_div.keyup('key_release', canvas_keyboard_event);\n",
       "    this.canvas_div = canvas_div\n",
       "    this._canvas_extra_style(canvas_div)\n",
       "    this.root.append(canvas_div);\n",
       "\n",
       "    var canvas = $('<canvas/>');\n",
       "    canvas.addClass('mpl-canvas');\n",
       "    canvas.attr('style', \"left: 0; top: 0; z-index: 0; outline: 0\")\n",
       "\n",
       "    this.canvas = canvas[0];\n",
       "    this.context = canvas[0].getContext(\"2d\");\n",
       "\n",
       "    var backingStore = this.context.backingStorePixelRatio ||\n",
       "\tthis.context.webkitBackingStorePixelRatio ||\n",
       "\tthis.context.mozBackingStorePixelRatio ||\n",
       "\tthis.context.msBackingStorePixelRatio ||\n",
       "\tthis.context.oBackingStorePixelRatio ||\n",
       "\tthis.context.backingStorePixelRatio || 1;\n",
       "\n",
       "    mpl.ratio = (window.devicePixelRatio || 1) / backingStore;\n",
       "\n",
       "    var rubberband = $('<canvas/>');\n",
       "    rubberband.attr('style', \"position: absolute; left: 0; top: 0; z-index: 1;\")\n",
       "\n",
       "    var pass_mouse_events = true;\n",
       "\n",
       "    canvas_div.resizable({\n",
       "        start: function(event, ui) {\n",
       "            pass_mouse_events = false;\n",
       "        },\n",
       "        resize: function(event, ui) {\n",
       "            fig.request_resize(ui.size.width, ui.size.height);\n",
       "        },\n",
       "        stop: function(event, ui) {\n",
       "            pass_mouse_events = true;\n",
       "            fig.request_resize(ui.size.width, ui.size.height);\n",
       "        },\n",
       "    });\n",
       "\n",
       "    function mouse_event_fn(event) {\n",
       "        if (pass_mouse_events)\n",
       "            return fig.mouse_event(event, event['data']);\n",
       "    }\n",
       "\n",
       "    rubberband.mousedown('button_press', mouse_event_fn);\n",
       "    rubberband.mouseup('button_release', mouse_event_fn);\n",
       "    // Throttle sequential mouse events to 1 every 20ms.\n",
       "    rubberband.mousemove('motion_notify', mouse_event_fn);\n",
       "\n",
       "    rubberband.mouseenter('figure_enter', mouse_event_fn);\n",
       "    rubberband.mouseleave('figure_leave', mouse_event_fn);\n",
       "\n",
       "    canvas_div.on(\"wheel\", function (event) {\n",
       "        event = event.originalEvent;\n",
       "        event['data'] = 'scroll'\n",
       "        if (event.deltaY < 0) {\n",
       "            event.step = 1;\n",
       "        } else {\n",
       "            event.step = -1;\n",
       "        }\n",
       "        mouse_event_fn(event);\n",
       "    });\n",
       "\n",
       "    canvas_div.append(canvas);\n",
       "    canvas_div.append(rubberband);\n",
       "\n",
       "    this.rubberband = rubberband;\n",
       "    this.rubberband_canvas = rubberband[0];\n",
       "    this.rubberband_context = rubberband[0].getContext(\"2d\");\n",
       "    this.rubberband_context.strokeStyle = \"#000000\";\n",
       "\n",
       "    this._resize_canvas = function(width, height) {\n",
       "        // Keep the size of the canvas, canvas container, and rubber band\n",
       "        // canvas in synch.\n",
       "        canvas_div.css('width', width)\n",
       "        canvas_div.css('height', height)\n",
       "\n",
       "        canvas.attr('width', width * mpl.ratio);\n",
       "        canvas.attr('height', height * mpl.ratio);\n",
       "        canvas.attr('style', 'width: ' + width + 'px; height: ' + height + 'px;');\n",
       "\n",
       "        rubberband.attr('width', width);\n",
       "        rubberband.attr('height', height);\n",
       "    }\n",
       "\n",
       "    // Set the figure to an initial 600x600px, this will subsequently be updated\n",
       "    // upon first draw.\n",
       "    this._resize_canvas(600, 600);\n",
       "\n",
       "    // Disable right mouse context menu.\n",
       "    $(this.rubberband_canvas).bind(\"contextmenu\",function(e){\n",
       "        return false;\n",
       "    });\n",
       "\n",
       "    function set_focus () {\n",
       "        canvas.focus();\n",
       "        canvas_div.focus();\n",
       "    }\n",
       "\n",
       "    window.setTimeout(set_focus, 100);\n",
       "}\n",
       "\n",
       "mpl.figure.prototype._init_toolbar = function() {\n",
       "    var fig = this;\n",
       "\n",
       "    var nav_element = $('<div/>')\n",
       "    nav_element.attr('style', 'width: 100%');\n",
       "    this.root.append(nav_element);\n",
       "\n",
       "    // Define a callback function for later on.\n",
       "    function toolbar_event(event) {\n",
       "        return fig.toolbar_button_onclick(event['data']);\n",
       "    }\n",
       "    function toolbar_mouse_event(event) {\n",
       "        return fig.toolbar_button_onmouseover(event['data']);\n",
       "    }\n",
       "\n",
       "    for(var toolbar_ind in mpl.toolbar_items) {\n",
       "        var name = mpl.toolbar_items[toolbar_ind][0];\n",
       "        var tooltip = mpl.toolbar_items[toolbar_ind][1];\n",
       "        var image = mpl.toolbar_items[toolbar_ind][2];\n",
       "        var method_name = mpl.toolbar_items[toolbar_ind][3];\n",
       "\n",
       "        if (!name) {\n",
       "            // put a spacer in here.\n",
       "            continue;\n",
       "        }\n",
       "        var button = $('<button/>');\n",
       "        button.addClass('ui-button ui-widget ui-state-default ui-corner-all ' +\n",
       "                        'ui-button-icon-only');\n",
       "        button.attr('role', 'button');\n",
       "        button.attr('aria-disabled', 'false');\n",
       "        button.click(method_name, toolbar_event);\n",
       "        button.mouseover(tooltip, toolbar_mouse_event);\n",
       "\n",
       "        var icon_img = $('<span/>');\n",
       "        icon_img.addClass('ui-button-icon-primary ui-icon');\n",
       "        icon_img.addClass(image);\n",
       "        icon_img.addClass('ui-corner-all');\n",
       "\n",
       "        var tooltip_span = $('<span/>');\n",
       "        tooltip_span.addClass('ui-button-text');\n",
       "        tooltip_span.html(tooltip);\n",
       "\n",
       "        button.append(icon_img);\n",
       "        button.append(tooltip_span);\n",
       "\n",
       "        nav_element.append(button);\n",
       "    }\n",
       "\n",
       "    var fmt_picker_span = $('<span/>');\n",
       "\n",
       "    var fmt_picker = $('<select/>');\n",
       "    fmt_picker.addClass('mpl-toolbar-option ui-widget ui-widget-content');\n",
       "    fmt_picker_span.append(fmt_picker);\n",
       "    nav_element.append(fmt_picker_span);\n",
       "    this.format_dropdown = fmt_picker[0];\n",
       "\n",
       "    for (var ind in mpl.extensions) {\n",
       "        var fmt = mpl.extensions[ind];\n",
       "        var option = $(\n",
       "            '<option/>', {selected: fmt === mpl.default_extension}).html(fmt);\n",
       "        fmt_picker.append(option)\n",
       "    }\n",
       "\n",
       "    // Add hover states to the ui-buttons\n",
       "    $( \".ui-button\" ).hover(\n",
       "        function() { $(this).addClass(\"ui-state-hover\");},\n",
       "        function() { $(this).removeClass(\"ui-state-hover\");}\n",
       "    );\n",
       "\n",
       "    var status_bar = $('<span class=\"mpl-message\"/>');\n",
       "    nav_element.append(status_bar);\n",
       "    this.message = status_bar[0];\n",
       "}\n",
       "\n",
       "mpl.figure.prototype.request_resize = function(x_pixels, y_pixels) {\n",
       "    // Request matplotlib to resize the figure. Matplotlib will then trigger a resize in the client,\n",
       "    // which will in turn request a refresh of the image.\n",
       "    this.send_message('resize', {'width': x_pixels, 'height': y_pixels});\n",
       "}\n",
       "\n",
       "mpl.figure.prototype.send_message = function(type, properties) {\n",
       "    properties['type'] = type;\n",
       "    properties['figure_id'] = this.id;\n",
       "    this.ws.send(JSON.stringify(properties));\n",
       "}\n",
       "\n",
       "mpl.figure.prototype.send_draw_message = function() {\n",
       "    if (!this.waiting) {\n",
       "        this.waiting = true;\n",
       "        this.ws.send(JSON.stringify({type: \"draw\", figure_id: this.id}));\n",
       "    }\n",
       "}\n",
       "\n",
       "\n",
       "mpl.figure.prototype.handle_save = function(fig, msg) {\n",
       "    var format_dropdown = fig.format_dropdown;\n",
       "    var format = format_dropdown.options[format_dropdown.selectedIndex].value;\n",
       "    fig.ondownload(fig, format);\n",
       "}\n",
       "\n",
       "\n",
       "mpl.figure.prototype.handle_resize = function(fig, msg) {\n",
       "    var size = msg['size'];\n",
       "    if (size[0] != fig.canvas.width || size[1] != fig.canvas.height) {\n",
       "        fig._resize_canvas(size[0], size[1]);\n",
       "        fig.send_message(\"refresh\", {});\n",
       "    };\n",
       "}\n",
       "\n",
       "mpl.figure.prototype.handle_rubberband = function(fig, msg) {\n",
       "    var x0 = msg['x0'] / mpl.ratio;\n",
       "    var y0 = (fig.canvas.height - msg['y0']) / mpl.ratio;\n",
       "    var x1 = msg['x1'] / mpl.ratio;\n",
       "    var y1 = (fig.canvas.height - msg['y1']) / mpl.ratio;\n",
       "    x0 = Math.floor(x0) + 0.5;\n",
       "    y0 = Math.floor(y0) + 0.5;\n",
       "    x1 = Math.floor(x1) + 0.5;\n",
       "    y1 = Math.floor(y1) + 0.5;\n",
       "    var min_x = Math.min(x0, x1);\n",
       "    var min_y = Math.min(y0, y1);\n",
       "    var width = Math.abs(x1 - x0);\n",
       "    var height = Math.abs(y1 - y0);\n",
       "\n",
       "    fig.rubberband_context.clearRect(\n",
       "        0, 0, fig.canvas.width, fig.canvas.height);\n",
       "\n",
       "    fig.rubberband_context.strokeRect(min_x, min_y, width, height);\n",
       "}\n",
       "\n",
       "mpl.figure.prototype.handle_figure_label = function(fig, msg) {\n",
       "    // Updates the figure title.\n",
       "    fig.header.textContent = msg['label'];\n",
       "}\n",
       "\n",
       "mpl.figure.prototype.handle_cursor = function(fig, msg) {\n",
       "    var cursor = msg['cursor'];\n",
       "    switch(cursor)\n",
       "    {\n",
       "    case 0:\n",
       "        cursor = 'pointer';\n",
       "        break;\n",
       "    case 1:\n",
       "        cursor = 'default';\n",
       "        break;\n",
       "    case 2:\n",
       "        cursor = 'crosshair';\n",
       "        break;\n",
       "    case 3:\n",
       "        cursor = 'move';\n",
       "        break;\n",
       "    }\n",
       "    fig.rubberband_canvas.style.cursor = cursor;\n",
       "}\n",
       "\n",
       "mpl.figure.prototype.handle_message = function(fig, msg) {\n",
       "    fig.message.textContent = msg['message'];\n",
       "}\n",
       "\n",
       "mpl.figure.prototype.handle_draw = function(fig, msg) {\n",
       "    // Request the server to send over a new figure.\n",
       "    fig.send_draw_message();\n",
       "}\n",
       "\n",
       "mpl.figure.prototype.handle_image_mode = function(fig, msg) {\n",
       "    fig.image_mode = msg['mode'];\n",
       "}\n",
       "\n",
       "mpl.figure.prototype.updated_canvas_event = function() {\n",
       "    // Called whenever the canvas gets updated.\n",
       "    this.send_message(\"ack\", {});\n",
       "}\n",
       "\n",
       "// A function to construct a web socket function for onmessage handling.\n",
       "// Called in the figure constructor.\n",
       "mpl.figure.prototype._make_on_message_function = function(fig) {\n",
       "    return function socket_on_message(evt) {\n",
       "        if (evt.data instanceof Blob) {\n",
       "            /* FIXME: We get \"Resource interpreted as Image but\n",
       "             * transferred with MIME type text/plain:\" errors on\n",
       "             * Chrome.  But how to set the MIME type?  It doesn't seem\n",
       "             * to be part of the websocket stream */\n",
       "            evt.data.type = \"image/png\";\n",
       "\n",
       "            /* Free the memory for the previous frames */\n",
       "            if (fig.imageObj.src) {\n",
       "                (window.URL || window.webkitURL).revokeObjectURL(\n",
       "                    fig.imageObj.src);\n",
       "            }\n",
       "\n",
       "            fig.imageObj.src = (window.URL || window.webkitURL).createObjectURL(\n",
       "                evt.data);\n",
       "            fig.updated_canvas_event();\n",
       "            fig.waiting = false;\n",
       "            return;\n",
       "        }\n",
       "        else if (typeof evt.data === 'string' && evt.data.slice(0, 21) == \"data:image/png;base64\") {\n",
       "            fig.imageObj.src = evt.data;\n",
       "            fig.updated_canvas_event();\n",
       "            fig.waiting = false;\n",
       "            return;\n",
       "        }\n",
       "\n",
       "        var msg = JSON.parse(evt.data);\n",
       "        var msg_type = msg['type'];\n",
       "\n",
       "        // Call the  \"handle_{type}\" callback, which takes\n",
       "        // the figure and JSON message as its only arguments.\n",
       "        try {\n",
       "            var callback = fig[\"handle_\" + msg_type];\n",
       "        } catch (e) {\n",
       "            console.log(\"No handler for the '\" + msg_type + \"' message type: \", msg);\n",
       "            return;\n",
       "        }\n",
       "\n",
       "        if (callback) {\n",
       "            try {\n",
       "                // console.log(\"Handling '\" + msg_type + \"' message: \", msg);\n",
       "                callback(fig, msg);\n",
       "            } catch (e) {\n",
       "                console.log(\"Exception inside the 'handler_\" + msg_type + \"' callback:\", e, e.stack, msg);\n",
       "            }\n",
       "        }\n",
       "    };\n",
       "}\n",
       "\n",
       "// from http://stackoverflow.com/questions/1114465/getting-mouse-location-in-canvas\n",
       "mpl.findpos = function(e) {\n",
       "    //this section is from http://www.quirksmode.org/js/events_properties.html\n",
       "    var targ;\n",
       "    if (!e)\n",
       "        e = window.event;\n",
       "    if (e.target)\n",
       "        targ = e.target;\n",
       "    else if (e.srcElement)\n",
       "        targ = e.srcElement;\n",
       "    if (targ.nodeType == 3) // defeat Safari bug\n",
       "        targ = targ.parentNode;\n",
       "\n",
       "    // jQuery normalizes the pageX and pageY\n",
       "    // pageX,Y are the mouse positions relative to the document\n",
       "    // offset() returns the position of the element relative to the document\n",
       "    var x = e.pageX - $(targ).offset().left;\n",
       "    var y = e.pageY - $(targ).offset().top;\n",
       "\n",
       "    return {\"x\": x, \"y\": y};\n",
       "};\n",
       "\n",
       "/*\n",
       " * return a copy of an object with only non-object keys\n",
       " * we need this to avoid circular references\n",
       " * http://stackoverflow.com/a/24161582/3208463\n",
       " */\n",
       "function simpleKeys (original) {\n",
       "  return Object.keys(original).reduce(function (obj, key) {\n",
       "    if (typeof original[key] !== 'object')\n",
       "        obj[key] = original[key]\n",
       "    return obj;\n",
       "  }, {});\n",
       "}\n",
       "\n",
       "mpl.figure.prototype.mouse_event = function(event, name) {\n",
       "    var canvas_pos = mpl.findpos(event)\n",
       "\n",
       "    if (name === 'button_press')\n",
       "    {\n",
       "        this.canvas.focus();\n",
       "        this.canvas_div.focus();\n",
       "    }\n",
       "\n",
       "    var x = canvas_pos.x * mpl.ratio;\n",
       "    var y = canvas_pos.y * mpl.ratio;\n",
       "\n",
       "    this.send_message(name, {x: x, y: y, button: event.button,\n",
       "                             step: event.step,\n",
       "                             guiEvent: simpleKeys(event)});\n",
       "\n",
       "    /* This prevents the web browser from automatically changing to\n",
       "     * the text insertion cursor when the button is pressed.  We want\n",
       "     * to control all of the cursor setting manually through the\n",
       "     * 'cursor' event from matplotlib */\n",
       "    event.preventDefault();\n",
       "    return false;\n",
       "}\n",
       "\n",
       "mpl.figure.prototype._key_event_extra = function(event, name) {\n",
       "    // Handle any extra behaviour associated with a key event\n",
       "}\n",
       "\n",
       "mpl.figure.prototype.key_event = function(event, name) {\n",
       "\n",
       "    // Prevent repeat events\n",
       "    if (name == 'key_press')\n",
       "    {\n",
       "        if (event.which === this._key)\n",
       "            return;\n",
       "        else\n",
       "            this._key = event.which;\n",
       "    }\n",
       "    if (name == 'key_release')\n",
       "        this._key = null;\n",
       "\n",
       "    var value = '';\n",
       "    if (event.ctrlKey && event.which != 17)\n",
       "        value += \"ctrl+\";\n",
       "    if (event.altKey && event.which != 18)\n",
       "        value += \"alt+\";\n",
       "    if (event.shiftKey && event.which != 16)\n",
       "        value += \"shift+\";\n",
       "\n",
       "    value += 'k';\n",
       "    value += event.which.toString();\n",
       "\n",
       "    this._key_event_extra(event, name);\n",
       "\n",
       "    this.send_message(name, {key: value,\n",
       "                             guiEvent: simpleKeys(event)});\n",
       "    return false;\n",
       "}\n",
       "\n",
       "mpl.figure.prototype.toolbar_button_onclick = function(name) {\n",
       "    if (name == 'download') {\n",
       "        this.handle_save(this, null);\n",
       "    } else {\n",
       "        this.send_message(\"toolbar_button\", {name: name});\n",
       "    }\n",
       "};\n",
       "\n",
       "mpl.figure.prototype.toolbar_button_onmouseover = function(tooltip) {\n",
       "    this.message.textContent = tooltip;\n",
       "};\n",
       "mpl.toolbar_items = [[\"Home\", \"Reset original view\", \"fa fa-home icon-home\", \"home\"], [\"Back\", \"Back to  previous view\", \"fa fa-arrow-left icon-arrow-left\", \"back\"], [\"Forward\", \"Forward to next view\", \"fa fa-arrow-right icon-arrow-right\", \"forward\"], [\"\", \"\", \"\", \"\"], [\"Pan\", \"Pan axes with left mouse, zoom with right\", \"fa fa-arrows icon-move\", \"pan\"], [\"Zoom\", \"Zoom to rectangle\", \"fa fa-square-o icon-check-empty\", \"zoom\"], [\"\", \"\", \"\", \"\"], [\"Download\", \"Download plot\", \"fa fa-floppy-o icon-save\", \"download\"]];\n",
       "\n",
       "mpl.extensions = [\"eps\", \"pdf\", \"png\", \"ps\", \"raw\", \"svg\"];\n",
       "\n",
       "mpl.default_extension = \"png\";var comm_websocket_adapter = function(comm) {\n",
       "    // Create a \"websocket\"-like object which calls the given IPython comm\n",
       "    // object with the appropriate methods. Currently this is a non binary\n",
       "    // socket, so there is still some room for performance tuning.\n",
       "    var ws = {};\n",
       "\n",
       "    ws.close = function() {\n",
       "        comm.close()\n",
       "    };\n",
       "    ws.send = function(m) {\n",
       "        //console.log('sending', m);\n",
       "        comm.send(m);\n",
       "    };\n",
       "    // Register the callback with on_msg.\n",
       "    comm.on_msg(function(msg) {\n",
       "        //console.log('receiving', msg['content']['data'], msg);\n",
       "        // Pass the mpl event to the overriden (by mpl) onmessage function.\n",
       "        ws.onmessage(msg['content']['data'])\n",
       "    });\n",
       "    return ws;\n",
       "}\n",
       "\n",
       "mpl.mpl_figure_comm = function(comm, msg) {\n",
       "    // This is the function which gets called when the mpl process\n",
       "    // starts-up an IPython Comm through the \"matplotlib\" channel.\n",
       "\n",
       "    var id = msg.content.data.id;\n",
       "    // Get hold of the div created by the display call when the Comm\n",
       "    // socket was opened in Python.\n",
       "    var element = $(\"#\" + id);\n",
       "    var ws_proxy = comm_websocket_adapter(comm)\n",
       "\n",
       "    function ondownload(figure, format) {\n",
       "        window.open(figure.imageObj.src);\n",
       "    }\n",
       "\n",
       "    var fig = new mpl.figure(id, ws_proxy,\n",
       "                           ondownload,\n",
       "                           element.get(0));\n",
       "\n",
       "    // Call onopen now - mpl needs it, as it is assuming we've passed it a real\n",
       "    // web socket which is closed, not our websocket->open comm proxy.\n",
       "    ws_proxy.onopen();\n",
       "\n",
       "    fig.parent_element = element.get(0);\n",
       "    fig.cell_info = mpl.find_output_cell(\"<div id='\" + id + \"'></div>\");\n",
       "    if (!fig.cell_info) {\n",
       "        console.error(\"Failed to find cell for figure\", id, fig);\n",
       "        return;\n",
       "    }\n",
       "\n",
       "    var output_index = fig.cell_info[2]\n",
       "    var cell = fig.cell_info[0];\n",
       "\n",
       "};\n",
       "\n",
       "mpl.figure.prototype.handle_close = function(fig, msg) {\n",
       "    var width = fig.canvas.width/mpl.ratio\n",
       "    fig.root.unbind('remove')\n",
       "\n",
       "    // Update the output cell to use the data from the current canvas.\n",
       "    fig.push_to_output();\n",
       "    var dataURL = fig.canvas.toDataURL();\n",
       "    // Re-enable the keyboard manager in IPython - without this line, in FF,\n",
       "    // the notebook keyboard shortcuts fail.\n",
       "    IPython.keyboard_manager.enable()\n",
       "    $(fig.parent_element).html('<img src=\"' + dataURL + '\" width=\"' + width + '\">');\n",
       "    fig.close_ws(fig, msg);\n",
       "}\n",
       "\n",
       "mpl.figure.prototype.close_ws = function(fig, msg){\n",
       "    fig.send_message('closing', msg);\n",
       "    // fig.ws.close()\n",
       "}\n",
       "\n",
       "mpl.figure.prototype.push_to_output = function(remove_interactive) {\n",
       "    // Turn the data on the canvas into data in the output cell.\n",
       "    var width = this.canvas.width/mpl.ratio\n",
       "    var dataURL = this.canvas.toDataURL();\n",
       "    this.cell_info[1]['text/html'] = '<img src=\"' + dataURL + '\" width=\"' + width + '\">';\n",
       "}\n",
       "\n",
       "mpl.figure.prototype.updated_canvas_event = function() {\n",
       "    // Tell IPython that the notebook contents must change.\n",
       "    IPython.notebook.set_dirty(true);\n",
       "    this.send_message(\"ack\", {});\n",
       "    var fig = this;\n",
       "    // Wait a second, then push the new image to the DOM so\n",
       "    // that it is saved nicely (might be nice to debounce this).\n",
       "    setTimeout(function () { fig.push_to_output() }, 1000);\n",
       "}\n",
       "\n",
       "mpl.figure.prototype._init_toolbar = function() {\n",
       "    var fig = this;\n",
       "\n",
       "    var nav_element = $('<div/>')\n",
       "    nav_element.attr('style', 'width: 100%');\n",
       "    this.root.append(nav_element);\n",
       "\n",
       "    // Define a callback function for later on.\n",
       "    function toolbar_event(event) {\n",
       "        return fig.toolbar_button_onclick(event['data']);\n",
       "    }\n",
       "    function toolbar_mouse_event(event) {\n",
       "        return fig.toolbar_button_onmouseover(event['data']);\n",
       "    }\n",
       "\n",
       "    for(var toolbar_ind in mpl.toolbar_items){\n",
       "        var name = mpl.toolbar_items[toolbar_ind][0];\n",
       "        var tooltip = mpl.toolbar_items[toolbar_ind][1];\n",
       "        var image = mpl.toolbar_items[toolbar_ind][2];\n",
       "        var method_name = mpl.toolbar_items[toolbar_ind][3];\n",
       "\n",
       "        if (!name) { continue; };\n",
       "\n",
       "        var button = $('<button class=\"btn btn-default\" href=\"#\" title=\"' + name + '\"><i class=\"fa ' + image + ' fa-lg\"></i></button>');\n",
       "        button.click(method_name, toolbar_event);\n",
       "        button.mouseover(tooltip, toolbar_mouse_event);\n",
       "        nav_element.append(button);\n",
       "    }\n",
       "\n",
       "    // Add the status bar.\n",
       "    var status_bar = $('<span class=\"mpl-message\" style=\"text-align:right; float: right;\"/>');\n",
       "    nav_element.append(status_bar);\n",
       "    this.message = status_bar[0];\n",
       "\n",
       "    // Add the close button to the window.\n",
       "    var buttongrp = $('<div class=\"btn-group inline pull-right\"></div>');\n",
       "    var button = $('<button class=\"btn btn-mini btn-primary\" href=\"#\" title=\"Stop Interaction\"><i class=\"fa fa-power-off icon-remove icon-large\"></i></button>');\n",
       "    button.click(function (evt) { fig.handle_close(fig, {}); } );\n",
       "    button.mouseover('Stop Interaction', toolbar_mouse_event);\n",
       "    buttongrp.append(button);\n",
       "    var titlebar = this.root.find($('.ui-dialog-titlebar'));\n",
       "    titlebar.prepend(buttongrp);\n",
       "}\n",
       "\n",
       "mpl.figure.prototype._root_extra_style = function(el){\n",
       "    var fig = this\n",
       "    el.on(\"remove\", function(){\n",
       "\tfig.close_ws(fig, {});\n",
       "    });\n",
       "}\n",
       "\n",
       "mpl.figure.prototype._canvas_extra_style = function(el){\n",
       "    // this is important to make the div 'focusable\n",
       "    el.attr('tabindex', 0)\n",
       "    // reach out to IPython and tell the keyboard manager to turn it's self\n",
       "    // off when our div gets focus\n",
       "\n",
       "    // location in version 3\n",
       "    if (IPython.notebook.keyboard_manager) {\n",
       "        IPython.notebook.keyboard_manager.register_events(el);\n",
       "    }\n",
       "    else {\n",
       "        // location in version 2\n",
       "        IPython.keyboard_manager.register_events(el);\n",
       "    }\n",
       "\n",
       "}\n",
       "\n",
       "mpl.figure.prototype._key_event_extra = function(event, name) {\n",
       "    var manager = IPython.notebook.keyboard_manager;\n",
       "    if (!manager)\n",
       "        manager = IPython.keyboard_manager;\n",
       "\n",
       "    // Check for shift+enter\n",
       "    if (event.shiftKey && event.which == 13) {\n",
       "        this.canvas_div.blur();\n",
       "        event.shiftKey = false;\n",
       "        // Send a \"J\" for go to next cell\n",
       "        event.which = 74;\n",
       "        event.keyCode = 74;\n",
       "        manager.command_mode();\n",
       "        manager.handle_keydown(event);\n",
       "    }\n",
       "}\n",
       "\n",
       "mpl.figure.prototype.handle_save = function(fig, msg) {\n",
       "    fig.ondownload(fig, null);\n",
       "}\n",
       "\n",
       "\n",
       "mpl.find_output_cell = function(html_output) {\n",
       "    // Return the cell and output element which can be found *uniquely* in the notebook.\n",
       "    // Note - this is a bit hacky, but it is done because the \"notebook_saving.Notebook\"\n",
       "    // IPython event is triggered only after the cells have been serialised, which for\n",
       "    // our purposes (turning an active figure into a static one), is too late.\n",
       "    var cells = IPython.notebook.get_cells();\n",
       "    var ncells = cells.length;\n",
       "    for (var i=0; i<ncells; i++) {\n",
       "        var cell = cells[i];\n",
       "        if (cell.cell_type === 'code'){\n",
       "            for (var j=0; j<cell.output_area.outputs.length; j++) {\n",
       "                var data = cell.output_area.outputs[j];\n",
       "                if (data.data) {\n",
       "                    // IPython >= 3 moved mimebundle to data attribute of output\n",
       "                    data = data.data;\n",
       "                }\n",
       "                if (data['text/html'] == html_output) {\n",
       "                    return [cell, data, j];\n",
       "                }\n",
       "            }\n",
       "        }\n",
       "    }\n",
       "}\n",
       "\n",
       "// Register the function which deals with the matplotlib target/channel.\n",
       "// The kernel may be null if the page has been refreshed.\n",
       "if (IPython.notebook.kernel != null) {\n",
       "    IPython.notebook.kernel.comm_manager.register_target('matplotlib', mpl.mpl_figure_comm);\n",
       "}\n"
      ],
      "text/plain": [
       "<IPython.core.display.Javascript object>"
      ]
     },
     "metadata": {},
     "output_type": "display_data"
    },
    {
     "data": {
      "text/html": [
       "<img src=\"data:image/png;base64,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\" width=\"640\">"
      ],
      "text/plain": [
       "<IPython.core.display.HTML object>"
      ]
     },
     "metadata": {},
     "output_type": "display_data"
    },
    {
     "name": "stdout",
     "output_type": "stream",
     "text": [
      "TCLab disconnected successfully.\n",
      "CPU times: user 2min 30s, sys: 16.4 s, total: 2min 47s\n",
      "Wall time: 33min 24s\n"
     ]
    }
   ],
   "source": [
    "%%time\n",
    "experiment = runexperiment(random_noise, connected=True, \n",
    "                           plot=True, twindow=2000,\n",
    "                           time=2000, \n",
    "                           speedup=1,\n",
    "                           dbfile='sinetest.db',\n",
    "                          )"
   ]
  },
  {
   "cell_type": "code",
   "execution_count": 181,
   "metadata": {},
   "outputs": [],
   "source": [
    "h = experiment.historian"
   ]
  },
  {
   "cell_type": "code",
   "execution_count": 30,
   "metadata": {},
   "outputs": [],
   "source": [
    "h.load_session(36)"
   ]
  },
  {
   "cell_type": "code",
   "execution_count": 31,
   "metadata": {},
   "outputs": [],
   "source": [
    "%matplotlib inline"
   ]
  },
  {
   "cell_type": "code",
   "execution_count": 32,
   "metadata": {},
   "outputs": [
    {
     "data": {
      "text/plain": [
       "[<matplotlib.lines.Line2D at 0x118ee7a20>]"
      ]
     },
     "execution_count": 32,
     "metadata": {},
     "output_type": "execute_result"
    },
    {
     "data": {
      "image/png": "[encoded data removed]",
      "text/plain": [
       "<matplotlib.figure.Figure at 0x1136375f8>"
      ]
     },
     "metadata": {},
     "output_type": "display_data"
    }
   ],
   "source": [
    "plt.plot(h.t, h.logdict['T1'])"
   ]
  },
  {
   "cell_type": "code",
   "execution_count": 33,
   "metadata": {},
   "outputs": [],
   "source": [
    "import numpy"
   ]
  },
  {
   "cell_type": "code",
   "execution_count": 72,
   "metadata": {},
   "outputs": [],
   "source": [
    "startcut = 900"
   ]
  },
  {
   "cell_type": "code",
   "execution_count": 73,
   "metadata": {},
   "outputs": [],
   "source": [
    "Q1 = numpy.array(h.logdict['Q1'][startcut:])\n",
    "T1 = numpy.array(h.logdict['T1'][startcut:])"
   ]
  },
  {
   "cell_type": "code",
   "execution_count": 74,
   "metadata": {},
   "outputs": [
    {
     "data": {
      "text/plain": [
       "[<matplotlib.lines.Line2D at 0x1176f1278>]"
      ]
     },
     "execution_count": 74,
     "metadata": {},
     "output_type": "execute_result"
    },
    {
     "data": {
      "image/png": "[encoded data removed]",
      "text/plain": [
       "<matplotlib.figure.Figure at 0x118102240>"
      ]
     },
     "metadata": {},
     "output_type": "display_data"
    }
   ],
   "source": [
    "plt.plot(Q1)\n",
    "plt.plot(T1)"
   ]
  },
  {
   "cell_type": "code",
   "execution_count": 75,
   "metadata": {},
   "outputs": [],
   "source": [
    "u = numpy.fft.rfft(Q1 - Qbar)\n",
    "y = numpy.fft.rfft(T1 - numpy.mean(T1))"
   ]
  },
  {
   "cell_type": "code",
   "execution_count": 76,
   "metadata": {},
   "outputs": [],
   "source": [
    "omegafft = numpy.fft.rfftfreq(len(Q1), 1)\n",
    "Gfft = y/u"
   ]
  },
  {
   "cell_type": "code",
   "execution_count": 160,
   "metadata": {},
   "outputs": [
    {
     "data": {
      "text/plain": [
       "(-1.5707963267948966, 0)"
      ]
     },
     "execution_count": 160,
     "metadata": {},
     "output_type": "execute_result"
    },
    {
     "data": {
      "image/png": "[encoded data removed]",
      "text/plain": [
       "<matplotlib.figure.Figure at 0x1179795f8>"
      ]
     },
     "metadata": {},
     "output_type": "display_data"
    }
   ],
   "source": [
    "ga, pa = bode(omega, G)\n",
    "bode(omegafft, Gfft, ga, pa, numpy.pi/4)\n",
    "plt.xlim(1e-3, 1e-2)\n",
    "ga.set_ylim(0.01, 1)\n",
    "pa.set_ylim(-numpy.pi/2, 0)"
   ]
  },
  {
   "cell_type": "code",
   "execution_count": null,
   "metadata": {},
   "outputs": [],
   "source": []
  },
  {
   "cell_type": "code",
   "execution_count": null,
   "metadata": {},
   "outputs": [],
   "source": []
  }
 ],
 "metadata": {
  "kernelspec": {
   "display_name": "Python 3",
   "language": "python",
   "name": "python3"
  },
  "language_info": {
   "codemirror_mode": {
    "name": "ipython",
    "version": 3
   },
   "file_extension": ".py",
   "mimetype": "text/x-python",
   "name": "python",
   "nbconvert_exporter": "python",
   "pygments_lexer": "ipython3",
   "version": "3.6.4"
  }
 },
 "nbformat": 4,
 "nbformat_minor": 2
}
