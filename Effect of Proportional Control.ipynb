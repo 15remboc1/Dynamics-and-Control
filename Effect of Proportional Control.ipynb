{
 "cells": [
  {
   "cell_type": "code",
   "execution_count": 23,
   "metadata": {
    "collapsed": true
   },
   "outputs": [],
   "source": [
    "from __future__ import print_function\n",
    "from __future__ import division"
   ]
  },
  {
   "cell_type": "code",
   "execution_count": 24,
   "metadata": {
    "collapsed": false
   },
   "outputs": [],
   "source": [
    "%matplotlib inline"
   ]
  },
  {
   "cell_type": "code",
   "execution_count": 25,
   "metadata": {
    "collapsed": false
   },
   "outputs": [],
   "source": [
    "import sympy\n",
    "sympy.init_printing()"
   ]
  },
  {
   "cell_type": "markdown",
   "metadata": {},
   "source": [
    "First-order systems with proportional control\n",
    "---------------------------------------------"
   ]
  },
  {
   "cell_type": "code",
   "execution_count": 26,
   "metadata": {
    "collapsed": false
   },
   "outputs": [],
   "source": [
    "s = sympy.Symbol('s')\n",
    "tau = sympy.Symbol('tau', positive=True)"
   ]
  },
  {
   "cell_type": "code",
   "execution_count": 27,
   "metadata": {
    "collapsed": false
   },
   "outputs": [
    {
     "data": {
      "image/png": "[encoded data removed]",
      "text/latex": [
       "$$\\frac{1}{s \\tau + 2}$$"
      ],
      "text/plain": [
       "   1   \n",
       "───────\n",
       "s⋅τ + 2"
      ]
     },
     "execution_count": 27,
     "metadata": {},
     "output_type": "execute_result"
    }
   ],
   "source": [
    "G = 1/(tau*s + 2)\n",
    "G"
   ]
  },
  {
   "cell_type": "code",
   "execution_count": 28,
   "metadata": {
    "collapsed": false
   },
   "outputs": [],
   "source": [
    "K = K_C = sympy.Symbol('K_C', positive=True)"
   ]
  },
  {
   "cell_type": "code",
   "execution_count": 29,
   "metadata": {
    "collapsed": false
   },
   "outputs": [],
   "source": [
    "G_OL = G*K_C"
   ]
  },
  {
   "cell_type": "code",
   "execution_count": 30,
   "metadata": {
    "collapsed": false
   },
   "outputs": [],
   "source": [
    "def feedback(forward, backward):\n",
    "    loop = forward*backward\n",
    "    return sympy.simplify(forward/(1 + loop))"
   ]
  },
  {
   "cell_type": "code",
   "execution_count": 31,
   "metadata": {
    "collapsed": false
   },
   "outputs": [
    {
     "data": {
      "image/png": "[encoded data removed]",
      "text/latex": [
       "$$\\frac{K_{C}}{K_{C} + s \\tau + 2}$$"
      ],
      "text/plain": [
       "     K_C     \n",
       "─────────────\n",
       "K_C + s⋅τ + 2"
      ]
     },
     "execution_count": 31,
     "metadata": {},
     "output_type": "execute_result"
    }
   ],
   "source": [
    "G_CL = feedback(G_OL, 1)\n",
    "G_CL"
   ]
  },
  {
   "cell_type": "code",
   "execution_count": 32,
   "metadata": {
    "collapsed": false
   },
   "outputs": [],
   "source": [
    "t = sympy.Symbol('t', positive=True)"
   ]
  },
  {
   "cell_type": "code",
   "execution_count": 33,
   "metadata": {
    "collapsed": false
   },
   "outputs": [
    {
     "data": {
      "image/png": "[encoded data removed]",
      "text/latex": [
       "$$\\frac{1}{s + 3}$$"
      ],
      "text/plain": [
       "  1  \n",
       "─────\n",
       "s + 3"
      ]
     },
     "execution_count": 33,
     "metadata": {},
     "output_type": "execute_result"
    }
   ],
   "source": [
    "real_CL = G_CL.subs({K_C: 1, tau: 1})\n",
    "sympy.simplify(real_CL)"
   ]
  },
  {
   "cell_type": "code",
   "execution_count": 34,
   "metadata": {
    "collapsed": false
   },
   "outputs": [
    {
     "data": {
      "image/png": "[encoded data removed]",
      "text/latex": [
       "$$\\frac{1}{3} - \\frac{1}{3 e^{3 t}}$$"
      ],
      "text/plain": [
       "     -3⋅t\n",
       "1   ℯ    \n",
       "─ - ─────\n",
       "3     3  "
      ]
     },
     "execution_count": 34,
     "metadata": {},
     "output_type": "execute_result"
    }
   ],
   "source": [
    "timeresponse = sympy.inverse_laplace_transform(sympy.simplify(real_CL/s), s, t)\n",
    "timeresponse"
   ]
  },
  {
   "cell_type": "code",
   "execution_count": 35,
   "metadata": {
    "collapsed": false
   },
   "outputs": [
    {
     "data": {
      "image/png": "[encoded data removed]",
      "text/latex": [
       "$$\\frac{K_{C} \\left(e^{\\frac{t}{\\tau} \\left(K_{C} + 2\\right)} - 1\\right)}{\\left(K_{C} + 2\\right) e^{\\frac{t}{\\tau} \\left(K_{C} + 2\\right)}}$$"
      ],
      "text/plain": [
       "    ⎛ t⋅(K_C + 2)    ⎞  -t⋅(K_C + 2) \n",
       "    ⎜ ───────────    ⎟  ─────────────\n",
       "    ⎜      τ         ⎟        τ      \n",
       "K_C⋅⎝ℯ            - 1⎠⋅ℯ             \n",
       "─────────────────────────────────────\n",
       "               K_C + 2               "
      ]
     },
     "execution_count": 35,
     "metadata": {},
     "output_type": "execute_result"
    }
   ],
   "source": [
    "general_timeresponse = sympy.inverse_laplace_transform(sympy.simplify(G_CL/s), s, t)\n",
    "general_timeresponse"
   ]
  },
  {
   "cell_type": "code",
   "execution_count": 36,
   "metadata": {
    "collapsed": false
   },
   "outputs": [],
   "source": [
    "def response(new_K_C, new_tau):\n",
    "    sympy.plot(general_timeresponse.subs({K_C: new_K_C, tau: new_tau}), 1, (t, 0, 4))"
   ]
  },
  {
   "cell_type": "code",
   "execution_count": 37,
   "metadata": {
    "collapsed": false
   },
   "outputs": [],
   "source": [
    "from ipywidgets import interact"
   ]
  },
  {
   "cell_type": "code",
   "execution_count": 38,
   "metadata": {
    "collapsed": false
   },
   "outputs": [
    {
     "data": {
      "image/png": "[encoded data removed]",
      "text/plain": [
       "<matplotlib.figure.Figure at 0x10d026f60>"
      ]
     },
     "metadata": {},
     "output_type": "display_data"
    },
    {
     "data": {
      "text/plain": [
       "<function __main__.response>"
      ]
     },
     "execution_count": 38,
     "metadata": {},
     "output_type": "execute_result"
    }
   ],
   "source": [
    "interact(response, new_K_C=(0, 100), new_tau=(0, 20))"
   ]
  },
  {
   "cell_type": "markdown",
   "metadata": {},
   "source": [
    "Second order system with proportional control\n",
    "---------------------------------------------"
   ]
  },
  {
   "cell_type": "code",
   "execution_count": 39,
   "metadata": {
    "collapsed": false
   },
   "outputs": [],
   "source": [
    "import matplotlib.pyplot as plt"
   ]
  },
  {
   "cell_type": "code",
   "execution_count": 40,
   "metadata": {
    "collapsed": false
   },
   "outputs": [],
   "source": [
    "zeta = sympy.Symbol('zeta')"
   ]
  },
  {
   "cell_type": "code",
   "execution_count": 41,
   "metadata": {
    "collapsed": false
   },
   "outputs": [
    {
     "data": {
      "image/png": "[encoded data removed]",
      "text/latex": [
       "$$\\frac{1}{s^{2} \\tau^{2} + 2 s \\tau \\zeta + 1}$$"
      ],
      "text/plain": [
       "         1         \n",
       "───────────────────\n",
       " 2  2              \n",
       "s ⋅τ  + 2⋅s⋅τ⋅ζ + 1"
      ]
     },
     "execution_count": 41,
     "metadata": {},
     "output_type": "execute_result"
    }
   ],
   "source": [
    "G = 1/(tau**2*s**2 + 2*tau*zeta*s + 1)\n",
    "G"
   ]
  },
  {
   "cell_type": "code",
   "execution_count": 42,
   "metadata": {
    "collapsed": false
   },
   "outputs": [
    {
     "data": {
      "image/png": "[encoded data removed]",
      "text/latex": [
       "$$\\frac{K_{C}}{K_{C} + s^{2} \\tau^{2} + 2 s \\tau \\zeta + 1}$$"
      ],
      "text/plain": [
       "           K_C           \n",
       "─────────────────────────\n",
       "       2  2              \n",
       "K_C + s ⋅τ  + 2⋅s⋅τ⋅ζ + 1"
      ]
     },
     "execution_count": 42,
     "metadata": {},
     "output_type": "execute_result"
    }
   ],
   "source": [
    "G_CL = feedback(G*K, 1)\n",
    "G_CL"
   ]
  },
  {
   "cell_type": "code",
   "execution_count": 43,
   "metadata": {
    "collapsed": false
   },
   "outputs": [],
   "source": [
    "def response(new_K_C, new_tau, new_zeta):\n",
    "    real_CL = G_CL.subs({K_C: new_K_C, tau: new_tau, zeta: new_zeta})\n",
    "    timeresponse = sympy.inverse_laplace_transform(sympy.simplify(real_CL/s), s, t)\n",
    "    sympy.plot(timeresponse, 1, (t, 0, 10))\n",
    "    poles = sympy.solve(sympy.denom(sympy.simplify(real_CL)), s)\n",
    "    plt.plot([sympy.re(p) for p in poles], [sympy.im(p) for p in poles], 'x', markersize=10)\n",
    "    plt.axhline(0, color='black')\n",
    "    plt.axvline(0, color='black')\n",
    "    plt.axis([-5, 5, -5, 5])"
   ]
  },
  {
   "cell_type": "code",
   "execution_count": 44,
   "metadata": {
    "collapsed": false
   },
   "outputs": [
    {
     "data": {
      "image/png": "[encoded data removed]",
      "text/plain": [
       "<matplotlib.figure.Figure at 0x10d1c9c18>"
      ]
     },
     "metadata": {},
     "output_type": "display_data"
    },
    {
     "data": {
      "image/png": "[encoded data removed]",
      "text/plain": [
       "<matplotlib.figure.Figure at 0x10d1cd438>"
      ]
     },
     "metadata": {},
     "output_type": "display_data"
    }
   ],
   "source": [
    "interact(response, new_K_C=(0, 100), new_tau=(0, 10.), new_zeta=(0, 2.));"
   ]
  },
  {
   "cell_type": "code",
   "execution_count": null,
   "metadata": {
    "collapsed": false
   },
   "outputs": [],
   "source": []
  },
  {
   "cell_type": "code",
   "execution_count": null,
   "metadata": {
    "collapsed": true
   },
   "outputs": [],
   "source": []
  }
 ],
 "metadata": {
  "anaconda-cloud": {},
  "kernelspec": {
   "display_name": "Python [default]",
   "language": "python",
   "name": "python3"
  },
  "language_info": {
   "codemirror_mode": {
    "name": "ipython",
    "version": 3
   },
   "file_extension": ".py",
   "mimetype": "text/x-python",
   "name": "python",
   "nbconvert_exporter": "python",
   "pygments_lexer": "ipython3",
   "version": "3.5.2"
  }
 },
 "nbformat": 4,
 "nbformat_minor": 0
}
