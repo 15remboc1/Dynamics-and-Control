{
 "metadata": {
  "kernelspec": {
   "display_name": "Python 3",
   "language": "python",
   "name": "python3"
  },
  "language_info": {
   "codemirror_mode": {
    "name": "ipython",
    "version": 3
   },
   "file_extension": ".py",
   "mimetype": "text/x-python",
   "name": "python",
   "nbconvert_exporter": "python",
   "pygments_lexer": "ipython3",
   "version": "3.5.1"
  },
  "name": ""
 },
 "nbformat": 3,
 "nbformat_minor": 0,
 "worksheets": [
  {
   "cells": [
    {
     "cell_type": "code",
     "collapsed": true,
     "input": [
      "from __future__ import print_function, division"
     ],
     "language": "python",
     "metadata": {},
     "outputs": [],
     "prompt_number": 1
    },
    {
     "cell_type": "code",
     "collapsed": true,
     "input": [
      "import numpy\n",
      "import matplotlib.pyplot as plt\n",
      "%matplotlib inline"
     ],
     "language": "python",
     "metadata": {},
     "outputs": [],
     "prompt_number": 2
    },
    {
     "cell_type": "markdown",
     "metadata": {},
     "source": [
      "Numeric simulation\n",
      "------------------\n",
      "\n",
      "Let's start with a very simple numeric simulation of a proportional controller acting on a first order process $G = \\frac{y}{u} = \\frac{K}{\\tau s + 1}$. \n",
      "\n",
      "$$\\begin{align}\n",
      "y(s)(\\tau s + 1) &= K u(s) \\\\\n",
      "\\tau s y(s) + y(s) &= K u(s) \\\\\n",
      "s y(s) &= \\frac{1}{\\tau}\\left(K u(s) - y(s)\\right)\\\\\n",
      "\\frac{dy}{dt} &= \\frac{1}{\\tau}\\left(Ku - y\\right)\n",
      "\\end{align}\n",
      "$$"
     ]
    },
    {
     "cell_type": "code",
     "collapsed": true,
     "input": [
      "K = 3\n",
      "tau = 2"
     ],
     "language": "python",
     "metadata": {},
     "outputs": [],
     "prompt_number": 3
    },
    {
     "cell_type": "code",
     "collapsed": true,
     "input": [
      "Kc = 2"
     ],
     "language": "python",
     "metadata": {},
     "outputs": [],
     "prompt_number": 4
    },
    {
     "cell_type": "code",
     "collapsed": false,
     "input": [
      "ts = numpy.linspace(0, 5, 1000)\n",
      "dt = ts[1]"
     ],
     "language": "python",
     "metadata": {},
     "outputs": [],
     "prompt_number": 5
    },
    {
     "cell_type": "code",
     "collapsed": false,
     "input": [
      "y_continuous = []\n",
      "u_continuous = []\n",
      "y = 0\n",
      "sp = 1\n",
      "for t in ts:\n",
      "    e = sp - y\n",
      "    u = Kc*e\n",
      "    dydt = 1/tau*(K*u - y)\n",
      "    \n",
      "    y += dydt*dt\n",
      "    \n",
      "    u_continuous.append(u)\n",
      "    y_continuous.append(y)"
     ],
     "language": "python",
     "metadata": {},
     "outputs": [],
     "prompt_number": 6
    },
    {
     "cell_type": "code",
     "collapsed": false,
     "input": [
      "plt.subplot(2, 1, 1)\n",
      "plt.plot(ts, u_continuous)\n",
      "plt.subplot(2, 1, 2)\n",
      "plt.plot(ts, y_continuous)"
     ],
     "language": "python",
     "metadata": {},
     "outputs": [
      {
       "metadata": {},
       "output_type": "pyout",
       "prompt_number": 7,
       "text": [
        "[<matplotlib.lines.Line2D at 0x10d8eef60>]"
       ]
      },
      {
       "metadata": {},
       "output_type": "display_data",
       "png": "[encoded data removed]",
       "text": [
        "<matplotlib.figure.Figure at 0x108e05748>"
       ]
      }
     ],
     "prompt_number": 7
    },
    {
     "cell_type": "markdown",
     "metadata": {},
     "source": [
      "Now, let's use a discrete version of the same controller. We will assume a Zero Order Hold between the controller and the system."
     ]
    },
    {
     "cell_type": "markdown",
     "metadata": {},
     "source": [
      "The discrete controller will only run at the sampling points. Now, we have an integration timestep and a discrete timestep. We call the integration timestep `dt` and the sampling time $\\Delta t$. We may think that if we use the above `for` loop to update `t`, it will eventually be equal to $\\Delta t$, but this is not true in general. Instead, we set a target for the sampling time and check if we are at a time greater than that time, then set a new time one sampling time in the future."
     ]
    },
    {
     "cell_type": "code",
     "collapsed": true,
     "input": [
      "DeltaT = 0.5  # sampling time"
     ],
     "language": "python",
     "metadata": {},
     "outputs": [],
     "prompt_number": 8
    },
    {
     "cell_type": "code",
     "collapsed": false,
     "input": [
      "u_discrete = []\n",
      "y_discrete = []\n",
      "y = 0\n",
      "sp = 1\n",
      "next_sample = 0\n",
      "for t in ts:\n",
      "    if t >= next_sample:\n",
      "        e = sp - y\n",
      "        u = Kc*e\n",
      "        next_sample += DeltaT\n",
      "    dydt = 1/tau*(K*u - y)\n",
      "    y += dydt*dt\n",
      "    \n",
      "    u_discrete.append(u)\n",
      "    y_discrete.append(y)"
     ],
     "language": "python",
     "metadata": {},
     "outputs": [],
     "prompt_number": 9
    },
    {
     "cell_type": "code",
     "collapsed": false,
     "input": [
      "plt.subplot(2, 1, 1)\n",
      "plt.plot(ts, u_continuous,\n",
      "         ts, u_discrete)\n",
      "plt.subplot(2, 1, 2)\n",
      "plt.plot(ts, y_continuous,\n",
      "         ts, y_discrete)"
     ],
     "language": "python",
     "metadata": {},
     "outputs": [
      {
       "metadata": {},
       "output_type": "pyout",
       "prompt_number": 10,
       "text": [
        "[<matplotlib.lines.Line2D at 0x10dda0470>,\n",
        " <matplotlib.lines.Line2D at 0x10dca1080>]"
       ]
      },
      {
       "metadata": {},
       "output_type": "display_data",
       "png": "[encoded data removed]",
       "text": [
        "<matplotlib.figure.Figure at 0x10bd0ad68>"
       ]
      }
     ],
     "prompt_number": 10
    },
    {
     "cell_type": "markdown",
     "metadata": {
      "collapsed": true
     },
     "source": [
      "Notice the difference? Because the discrete controller only calculates its values at the sampling points and because the ZOH keeps its output constant, the discrete controller takes more action later on, in fact introducing some oscillation where the continuous controller could use arbitrarily large gain."
     ]
    },
    {
     "cell_type": "markdown",
     "metadata": {},
     "source": [
      "Symbolic calculation\n",
      "--------------------\n",
      "\n",
      "Now we will try to replicate that last figure without doing numeric simulation.  The continuous controller is trivially done via the Laplace transform:"
     ]
    },
    {
     "cell_type": "code",
     "collapsed": true,
     "input": [
      "import sympy\n",
      "sympy.init_printing()"
     ],
     "language": "python",
     "metadata": {},
     "outputs": [],
     "prompt_number": 11
    },
    {
     "cell_type": "code",
     "collapsed": false,
     "input": [
      "s = sympy.Symbol('s')\n",
      "t = sympy.Symbol('t', positive=True)\n",
      "\n",
      "Gc = Kc  # controller\n",
      "G = K/(tau*s + 1)  # system\n",
      "\n",
      "G_cl = Gc*G/(1 + Gc*G)\n",
      "\n",
      "rs = 1/s  # step input r(s)\n",
      "\n",
      "ys = rs*G_cl  # system output y(s)\n",
      "es = rs - ys  # error\n",
      "us = Gc*es  # controller output\n",
      "\n",
      "yt = sympy.inverse_laplace_transform(ys, s, t)\n",
      "ut = sympy.inverse_laplace_transform(us, s, t)"
     ],
     "language": "python",
     "metadata": {},
     "outputs": [],
     "prompt_number": 12
    },
    {
     "cell_type": "code",
     "collapsed": false,
     "input": [
      "sympy.plot(ut, (t, 0, 5))\n",
      "sympy.plot(yt, (t, 0, 5))"
     ],
     "language": "python",
     "metadata": {},
     "outputs": [
      {
       "metadata": {},
       "output_type": "display_data",
       "png": "[encoded data removed]",
       "text": [
        "<matplotlib.figure.Figure at 0x10fb342b0>"
       ]
      },
      {
       "metadata": {},
       "output_type": "display_data",
       "png": "[encoded data removed]",
       "text": [
        "<matplotlib.figure.Figure at 0x10fdbbef0>"
       ]
      },
      {
       "metadata": {},
       "output_type": "pyout",
       "prompt_number": 13,
       "text": [
        "<sympy.plotting.plot.Plot at 0x10fdbb470>"
       ]
      }
     ],
     "prompt_number": 13
    },
    {
     "cell_type": "markdown",
     "metadata": {},
     "source": [
      "Now for the discrete controller. First we need some new symbols."
     ]
    },
    {
     "cell_type": "code",
     "collapsed": true,
     "input": [
      "z, q = sympy.symbols('z, q')"
     ],
     "language": "python",
     "metadata": {},
     "outputs": [],
     "prompt_number": 14
    },
    {
     "cell_type": "markdown",
     "metadata": {},
     "source": [
      "We get the z transform of a sampled step from the table in the datasheet."
     ]
    },
    {
     "cell_type": "code",
     "collapsed": true,
     "input": [
      "rz = 1/(1 - z**-1)"
     ],
     "language": "python",
     "metadata": {},
     "outputs": [],
     "prompt_number": 15
    },
    {
     "cell_type": "markdown",
     "metadata": {},
     "source": [
      "If we rewrite a z-transformed signal as a polynomial $r(z) = a_0 + a_1 z^{-1} + a_2 z^{-2} \\dots$ , the coefficients give the values at the sampling points, so $a_0 = r(0)$, $a_1 = r(\\Delta t)$, $a_2 = r(2\\Delta t)$ and so on. We can obtain these coefficients easily using a Taylor expansion in sympy."
     ]
    },
    {
     "cell_type": "code",
     "collapsed": false,
     "input": [
      "rz.subs(z, q**-1).series()"
     ],
     "language": "python",
     "metadata": {},
     "outputs": [
      {
       "latex": [
        "$$1 + q + q^{2} + q^{3} + q^{4} + q^{5} + \\mathcal{O}\\left(q^{6}\\right)$$"
       ],
       "metadata": {},
       "output_type": "pyout",
       "png": "[encoded data removed]",
       "prompt_number": 16,
       "text": [
        "         2    3    4    5    \u239b 6\u239e\n",
        "1 + q + q  + q  + q  + q  + O\u239dq \u23a0"
       ]
      }
     ],
     "prompt_number": 16
    },
    {
     "cell_type": "markdown",
     "metadata": {},
     "source": [
      "We can see clearly that all the coefficients are 1 for the step. Let's define a function for these coefficients."
     ]
    },
    {
     "cell_type": "code",
     "collapsed": true,
     "input": [
      "def sampledvalues(fz, N):\n",
      "    return sympy.poly(fz.subs(z, q**-1).series(q, 0, N).removeO(), q).all_coeffs()[::-1]"
     ],
     "language": "python",
     "metadata": {},
     "outputs": [],
     "prompt_number": 17
    },
    {
     "cell_type": "code",
     "collapsed": true,
     "input": [
      "def plotdiscrete(fz, N):\n",
      "    values = sampledvalues(fz, N)\n",
      "    times = [n*DeltaT for n in range(N)]\n",
      "    plt.stem(times, values)"
     ],
     "language": "python",
     "metadata": {},
     "outputs": [],
     "prompt_number": 18
    },
    {
     "cell_type": "code",
     "collapsed": false,
     "input": [
      "plotdiscrete(rz, 10)"
     ],
     "language": "python",
     "metadata": {},
     "outputs": [
      {
       "metadata": {},
       "output_type": "display_data",
       "png": "[encoded data removed]",
       "text": [
        "<matplotlib.figure.Figure at 0x10fe649b0>"
       ]
      }
     ],
     "prompt_number": 19
    },
    {
     "cell_type": "markdown",
     "metadata": {},
     "source": [
      "Let's move on to the other transfer functions. The controller is simple:"
     ]
    },
    {
     "cell_type": "code",
     "collapsed": true,
     "input": [
      "Gcz = Kc"
     ],
     "language": "python",
     "metadata": {},
     "outputs": [],
     "prompt_number": 20
    },
    {
     "cell_type": "markdown",
     "metadata": {},
     "source": [
      "The controller is connected to a hold element ($H$) which is connected to the system itself ($G$). The z-transform of this combination can be written $\\mathcal{Z}\\{H(s)G(s)\\}$. Remember, $H(s) = \\frac{1}{s}(1 - e^{-\\Delta t s})$. Now we can show\n",
      "\n",
      "$$\n",
      "\\newcommand\\Z[1]{\\mathcal{Z}\\left\\{#1\\right\\}}\n",
      "\\begin{align}\\Z{H(s)G(s)} &= \\Z{\\frac{1}{s}(1 - e^{-Ts})G(s)} \\\\\n",
      "                          &= \\Z{\\frac{G(s)}{s}(1 - e^{-Ts})} \\\\\n",
      "                          &= \\Z{F(s) - F(s)e^{-Ts}} \\\\\n",
      "                          &= \\Z{F(s)} - \\Z{F(s)e^{-Ts}} \\\\\n",
      "                          &= F(z) - F(z)z^{-1} \\\\\n",
      "                          &= F(z)(1 - z^{-1})\n",
      "  \\end{align}$$\n",
      "\n",
      "\n",
      "$G(s) = \\frac{K}{\\tau s + 1}$ so the z transform we're looking for will be $F(z) - z^{-1}F(z)$ with $F(z)$ being the transform on the right of the table of $\\frac{1}{s}G(s)$."
     ]
    },
    {
     "cell_type": "code",
     "collapsed": false,
     "input": [
      "a = 1/tau\n",
      "b = sympy.exp(-a*DeltaT)\n",
      "Fz = K*(1 - b)*z**-1/((1 - z**-1)*(1 - b*z**-1))  # In the datasheet table, this corresponds with (1 - e^{-at})\n",
      "HGz = Fz - z**-1*Fz"
     ],
     "language": "python",
     "metadata": {},
     "outputs": [],
     "prompt_number": 21
    },
    {
     "cell_type": "markdown",
     "metadata": {},
     "source": [
      "Let's verify that this is correct by plotting the continuous response along with the discrete values:"
     ]
    },
    {
     "cell_type": "code",
     "collapsed": false,
     "input": [
      "plotdiscrete(rz*HGz, 10)\n",
      "plt.plot(ts, K*(1 - numpy.exp(-ts/tau)))"
     ],
     "language": "python",
     "metadata": {},
     "outputs": [
      {
       "metadata": {},
       "output_type": "pyout",
       "prompt_number": 22,
       "text": [
        "[<matplotlib.lines.Line2D at 0x1102f86d8>]"
       ]
      },
      {
       "metadata": {},
       "output_type": "display_data",
       "png": "[encoded data removed]",
       "text": [
        "<matplotlib.figure.Figure at 0x11054f470>"
       ]
      }
     ],
     "prompt_number": 22
    },
    {
     "cell_type": "markdown",
     "metadata": {},
     "source": [
      "Now we have the discrete transfer functions, we can repeat the same calculation as before."
     ]
    },
    {
     "cell_type": "code",
     "collapsed": true,
     "input": [
      "yz = rz*Gcz*HGz/(1 + Gcz*HGz)"
     ],
     "language": "python",
     "metadata": {},
     "outputs": [],
     "prompt_number": 23
    },
    {
     "cell_type": "code",
     "collapsed": false,
     "input": [
      "plt.plot(ts, y_discrete)\n",
      "plotdiscrete(yz, 10)\n",
      "plt.legend(['Numeric simulation', 'Analytical at sampling points'])"
     ],
     "language": "python",
     "metadata": {},
     "outputs": [
      {
       "metadata": {},
       "output_type": "pyout",
       "prompt_number": 24,
       "text": [
        "<matplotlib.legend.Legend at 0x1106b57b8>"
       ]
      },
      {
       "metadata": {},
       "output_type": "display_data",
       "png": "[encoded data removed]",
       "text": [
        "<matplotlib.figure.Figure at 0x110569320>"
       ]
      }
     ],
     "prompt_number": 24
    },
    {
     "cell_type": "markdown",
     "metadata": {},
     "source": [
      "So now we have recovered the response we calculated numerically before analytically. Let's see if we can reproduce the numeric values between the sampling points for the continuous system output. Our first step is to construct the Laplace transform of the controller output. Let's look again what that looked like:"
     ]
    },
    {
     "cell_type": "code",
     "collapsed": false,
     "input": [
      "ez = rz - yz\n",
      "uz = Gcz*ez\n",
      "plotdiscrete(uz, 10)\n",
      "plt.plot(ts, u_discrete)"
     ],
     "language": "python",
     "metadata": {},
     "outputs": [
      {
       "metadata": {},
       "output_type": "pyout",
       "prompt_number": 25,
       "text": [
        "[<matplotlib.lines.Line2D at 0x110923d30>]"
       ]
      },
      {
       "metadata": {},
       "output_type": "display_data",
       "png": "[encoded data removed]",
       "text": [
        "<matplotlib.figure.Figure at 0x10fe3bf28>"
       ]
      }
     ],
     "prompt_number": 25
    },
    {
     "cell_type": "markdown",
     "metadata": {},
     "source": [
      "These are clearly lots of step signals added together.\n",
      "\n",
      "If we were trying to calculate the response of the system to a single pulse input, it would be simple.\n",
      "\n",
      "Since\n",
      "$$\\begin{align}\n",
      "y(s) &= G(s)u(s) \\\\\n",
      "y(t) &= \\mathcal{L}^{-1}\\{G(s)u(s)\\}\n",
      "\\end{align}$$\n",
      "\n",
      "and a pulse signal of width $\\Delta t$ and height $v$ has Laplace transform $\\frac{v}{s}\\left(1 - e^{-\\Delta t s}\\right) = vH(s)$, the single output would be easy to obtain:"
     ]
    },
    {
     "cell_type": "code",
     "collapsed": true,
     "input": [
      "Hs = 1/s*(1 - sympy.exp(-DeltaT*s))"
     ],
     "language": "python",
     "metadata": {},
     "outputs": [],
     "prompt_number": 26
    },
    {
     "cell_type": "code",
     "collapsed": false,
     "input": [
      "u_single_pulse = 2*Hs\n",
      "y_single_pulse = sympy.inverse_laplace_transform(G*u_single_pulse, s, t)"
     ],
     "language": "python",
     "metadata": {},
     "outputs": [],
     "prompt_number": 27
    },
    {
     "cell_type": "code",
     "collapsed": false,
     "input": [
      "sympy.plot(y_single_pulse, (t, 0, 5))"
     ],
     "language": "python",
     "metadata": {},
     "outputs": [
      {
       "metadata": {},
       "output_type": "display_data",
       "png": "[encoded data removed]",
       "text": [
        "<matplotlib.figure.Figure at 0x10fe88748>"
       ]
      },
      {
       "metadata": {},
       "output_type": "pyout",
       "prompt_number": 28,
       "text": [
        "<sympy.plotting.plot.Plot at 0x10fe3bd68>"
       ]
      }
     ],
     "prompt_number": 28
    },
    {
     "cell_type": "markdown",
     "metadata": {},
     "source": [
      "For subsequent pulses, we simply shift the pulse one time step up.  So, given\n",
      "\n",
      "$$u(z) = a_0 + a_1 z^{-1} + a_2 z^{-2} + \\cdots = \\sum_{i=0}^{\\infty} a_i z^{-i}$$\n",
      "\n",
      "If the output of the controller is zero-order held so that the held version of the signal is $u_h$, we can write \n",
      "\n",
      "$$ u_h(s) = a_0H(s) + a_1 H(s) e^{-\\Delta t s} + a_2 H(s) e^{-2 \\Delta t s} = \\sum_{i=0}^{\\infty} a_i H(s) e^{-i\\Delta t s} $$"
     ]
    },
    {
     "cell_type": "markdown",
     "metadata": {},
     "source": [
      "This maps quite elegantly to the following generator expression:"
     ]
    },
    {
     "cell_type": "code",
     "collapsed": false,
     "input": [
      "uhs = sum(ai*Hs*sympy.exp(-i*DeltaT*s) \n",
      "          for i, ai in enumerate(sampledvalues(uz, 10)))"
     ],
     "language": "python",
     "metadata": {},
     "outputs": [],
     "prompt_number": 30
    },
    {
     "cell_type": "markdown",
     "metadata": {},
     "source": [
      "Equivalently, we can write"
     ]
    },
    {
     "cell_type": "code",
     "collapsed": true,
     "input": [
      "uhs = 0\n",
      "a = sampledvalues(uz, 10)\n",
      "for i in range(10):\n",
      "    uhs += a[i]*Hs*sympy.exp(-i*DeltaT*s)"
     ],
     "language": "python",
     "metadata": {},
     "outputs": [],
     "prompt_number": 31
    },
    {
     "cell_type": "markdown",
     "metadata": {},
     "source": [
      "Now we can construct the continuous response like this:"
     ]
    },
    {
     "cell_type": "code",
     "collapsed": false,
     "input": [
      "ys = uhs*G"
     ],
     "language": "python",
     "metadata": {},
     "outputs": [],
     "prompt_number": 32
    },
    {
     "cell_type": "code",
     "collapsed": false,
     "input": [
      "yt = sympy.inverse_laplace_transform(ys, s, t)"
     ],
     "language": "python",
     "metadata": {},
     "outputs": [],
     "prompt_number": 33
    },
    {
     "cell_type": "code",
     "collapsed": false,
     "input": [
      "plt.plot(ts, y_discrete)\n",
      "plt.plot(ts, [sympy.N(yt.subs(t, ti)) for ti in ts], '--')"
     ],
     "language": "python",
     "metadata": {},
     "outputs": [
      {
       "metadata": {},
       "output_type": "pyout",
       "prompt_number": 34,
       "text": [
        "[<matplotlib.lines.Line2D at 0x1102e8a58>]"
       ]
      },
      {
       "metadata": {},
       "output_type": "display_data",
       "png": "[encoded data removed]",
       "text": [
        "<matplotlib.figure.Figure at 0x110bc8208>"
       ]
      }
     ],
     "prompt_number": 34
    },
    {
     "cell_type": "markdown",
     "metadata": {},
     "source": [
      "Notice that the analytical solution and numeric solution agree, but make sure you understand what the difference is in approach."
     ]
    }
   ],
   "metadata": {}
  }
 ]
}
