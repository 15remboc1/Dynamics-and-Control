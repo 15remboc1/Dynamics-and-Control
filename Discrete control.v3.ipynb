{
 "metadata": {
  "kernelspec": {
   "display_name": "Python 3",
   "language": "python",
   "name": "python3"
  },
  "language_info": {
   "codemirror_mode": {
    "name": "ipython",
    "version": 3
   },
   "file_extension": ".py",
   "mimetype": "text/x-python",
   "name": "python",
   "nbconvert_exporter": "python",
   "pygments_lexer": "ipython3",
   "version": "3.5.1"
  },
  "name": ""
 },
 "nbformat": 3,
 "nbformat_minor": 0,
 "worksheets": [
  {
   "cells": [
    {
     "cell_type": "code",
     "collapsed": true,
     "input": [
      "from __future__ import print_function, division"
     ],
     "language": "python",
     "metadata": {},
     "outputs": [],
     "prompt_number": 4
    },
    {
     "cell_type": "code",
     "collapsed": true,
     "input": [
      "import numpy\n",
      "import matplotlib.pyplot as plt\n",
      "%matplotlib inline"
     ],
     "language": "python",
     "metadata": {},
     "outputs": [],
     "prompt_number": 5
    },
    {
     "cell_type": "markdown",
     "metadata": {},
     "source": [
      "Numeric simulation\n",
      "------------------\n",
      "\n",
      "Let's start with a very simple numeric simulation of a proportional controller acting on a first order process $G = \\frac{y}{u} = \\frac{K}{\\tau s + 1}$. We know this corresponds with a differential equation $\\frac{dy}{dt} = \\frac{1}{\\tau}(Ku - y)$"
     ]
    },
    {
     "cell_type": "code",
     "collapsed": true,
     "input": [
      "K = 3\n",
      "tau = 2"
     ],
     "language": "python",
     "metadata": {},
     "outputs": [],
     "prompt_number": 129
    },
    {
     "cell_type": "code",
     "collapsed": true,
     "input": [
      "Kc = 2"
     ],
     "language": "python",
     "metadata": {},
     "outputs": [],
     "prompt_number": 186
    },
    {
     "cell_type": "code",
     "collapsed": false,
     "input": [
      "ts = numpy.linspace(0, 5, 1000)\n",
      "dt = ts[1]"
     ],
     "language": "python",
     "metadata": {},
     "outputs": [],
     "prompt_number": 187
    },
    {
     "cell_type": "code",
     "collapsed": false,
     "input": [
      "y_continuous = []\n",
      "u_continuous = []\n",
      "y = 0\n",
      "sp = 1\n",
      "for t in ts:\n",
      "    e = sp - y\n",
      "    u = Kc*e\n",
      "    dydt = 1/tau*(K*u - y)\n",
      "    \n",
      "    y += dydt*dt\n",
      "    \n",
      "    u_continuous.append(u)\n",
      "    y_continuous.append(y)"
     ],
     "language": "python",
     "metadata": {},
     "outputs": [],
     "prompt_number": 188
    },
    {
     "cell_type": "code",
     "collapsed": false,
     "input": [
      "plt.subplot(2, 1, 1)\n",
      "plt.plot(ts, u_continuous)\n",
      "plt.subplot(2, 1, 2)\n",
      "plt.plot(ts, y_continuous)"
     ],
     "language": "python",
     "metadata": {},
     "outputs": [
      {
       "metadata": {},
       "output_type": "pyout",
       "prompt_number": 189,
       "text": [
        "[<matplotlib.lines.Line2D at 0x1161d6358>]"
       ]
      },
      {
       "metadata": {},
       "output_type": "display_data",
       "png": "[encoded data removed]",
       "text": [
        "<matplotlib.figure.Figure at 0x116486dd8>"
       ]
      }
     ],
     "prompt_number": 189
    },
    {
     "cell_type": "markdown",
     "metadata": {},
     "source": [
      "Now, let's use a discrete version of the same controller. We will assume a Zero Order Hold between the controller and the system."
     ]
    },
    {
     "cell_type": "code",
     "collapsed": true,
     "input": [
      "DeltaT = 0.5  # sampling time"
     ],
     "language": "python",
     "metadata": {},
     "outputs": [],
     "prompt_number": 190
    },
    {
     "cell_type": "code",
     "collapsed": false,
     "input": [
      "u_discrete = []\n",
      "y_discrete = []\n",
      "y = 0\n",
      "sp = 1\n",
      "next_sample = 0\n",
      "for t in ts:\n",
      "    if t >= next_sample:\n",
      "        e = sp - y\n",
      "        u = Kc*e\n",
      "        next_sample += DeltaT\n",
      "    dydt = 1/tau*(K*u - y)\n",
      "    y += dydt*dt\n",
      "    \n",
      "    u_discrete.append(u)\n",
      "    y_discrete.append(y)"
     ],
     "language": "python",
     "metadata": {},
     "outputs": [],
     "prompt_number": 191
    },
    {
     "cell_type": "code",
     "collapsed": false,
     "input": [
      "plt.subplot(2, 1, 1)\n",
      "plt.plot(ts, u_continuous,\n",
      "         ts, u_discrete)\n",
      "plt.subplot(2, 1, 2)\n",
      "plt.plot(ts, y_continuous,\n",
      "         ts, y_discrete)"
     ],
     "language": "python",
     "metadata": {},
     "outputs": [
      {
       "metadata": {},
       "output_type": "pyout",
       "prompt_number": 192,
       "text": [
        "[<matplotlib.lines.Line2D at 0x116ab42e8>,\n",
        " <matplotlib.lines.Line2D at 0x116ab44a8>]"
       ]
      },
      {
       "metadata": {},
       "output_type": "display_data",
       "png": "[encoded data removed]",
       "text": [
        "<matplotlib.figure.Figure at 0x1169c5518>"
       ]
      }
     ],
     "prompt_number": 192
    },
    {
     "cell_type": "markdown",
     "metadata": {
      "collapsed": true
     },
     "source": [
      "Notice the difference? Because the discrete controller only calculates its values at the sampling points and because the ZOH keeps its output constant, the discrete controller takes more action later on, in fact introducing some oscillation where the continuous controller could use arbitrarily large gain."
     ]
    },
    {
     "cell_type": "markdown",
     "metadata": {},
     "source": [
      "Symbolic calculation\n",
      "--------------------\n",
      "\n",
      "Now we will try to replicate that last figure without doing numeric simulation.  The continuous controller is trivially done via the Laplace transform:"
     ]
    },
    {
     "cell_type": "code",
     "collapsed": true,
     "input": [
      "import sympy\n",
      "sympy.init_printing()"
     ],
     "language": "python",
     "metadata": {},
     "outputs": [],
     "prompt_number": 193
    },
    {
     "cell_type": "code",
     "collapsed": false,
     "input": [
      "s = sympy.Symbol('s')\n",
      "t = sympy.Symbol('t', positive=True)\n",
      "\n",
      "Gc = Kc  # controller\n",
      "G = K/(tau*s + 1)  # system\n",
      "\n",
      "G_cl = Gc*G/(1 + Gc*G)\n",
      "\n",
      "rs = 1/s  # step input r(s)\n",
      "\n",
      "ys = rs*G_cl  # system output y(s)\n",
      "es = rs - ys  # error\n",
      "us = Gc*es  # controller output\n",
      "\n",
      "yt = sympy.inverse_laplace_transform(ys, s, t)\n",
      "ut = sympy.inverse_laplace_transform(us, s, t)"
     ],
     "language": "python",
     "metadata": {},
     "outputs": [],
     "prompt_number": 194
    },
    {
     "cell_type": "code",
     "collapsed": false,
     "input": [
      "sympy.plot(ut, (t, 0, 5))\n",
      "sympy.plot(yt, (t, 0, 5))"
     ],
     "language": "python",
     "metadata": {},
     "outputs": [
      {
       "metadata": {},
       "output_type": "display_data",
       "png": "[encoded data removed]",
       "text": [
        "<matplotlib.figure.Figure at 0x116ae29b0>"
       ]
      },
      {
       "metadata": {},
       "output_type": "display_data",
       "png": "[encoded data removed]",
       "text": [
        "<matplotlib.figure.Figure at 0x116b457f0>"
       ]
      },
      {
       "metadata": {},
       "output_type": "pyout",
       "prompt_number": 195,
       "text": [
        "<sympy.plotting.plot.Plot at 0x116b45a90>"
       ]
      }
     ],
     "prompt_number": 195
    },
    {
     "cell_type": "markdown",
     "metadata": {},
     "source": [
      "Now for the discrete controller. First we need some new symbols."
     ]
    },
    {
     "cell_type": "code",
     "collapsed": true,
     "input": [
      "z, q = sympy.symbols('z, q')"
     ],
     "language": "python",
     "metadata": {},
     "outputs": [],
     "prompt_number": 196
    },
    {
     "cell_type": "markdown",
     "metadata": {},
     "source": [
      "We get the z transform of a sampled step from the table in the datasheet."
     ]
    },
    {
     "cell_type": "code",
     "collapsed": true,
     "input": [
      "rz = 1/(1 - z**-1)"
     ],
     "language": "python",
     "metadata": {},
     "outputs": [],
     "prompt_number": 197
    },
    {
     "cell_type": "markdown",
     "metadata": {},
     "source": [
      "If we rewrite a z-transformed signal as a polynomial ($r(z) = a_0 + a_1 z^{-1} + a_2 z^{-2} \\dots$ , the coefficients give the values at the sampling points, so $a_0 = r(0)$, $a_1 = r(\\Delta t)$, $a_2 = r(2\\Delta t)$ and so on. We can obtain these coefficients easily using a Taylor expansion in sympy."
     ]
    },
    {
     "cell_type": "code",
     "collapsed": false,
     "input": [
      "rz.subs(z, q**-1).series()"
     ],
     "language": "python",
     "metadata": {},
     "outputs": [
      {
       "latex": [
        "$$1 + q + q^{2} + q^{3} + q^{4} + q^{5} + \\mathcal{O}\\left(q^{6}\\right)$$"
       ],
       "metadata": {},
       "output_type": "pyout",
       "png": "[encoded data removed]",
       "prompt_number": 198,
       "text": [
        "         2    3    4    5    \u239b 6\u239e\n",
        "1 + q + q  + q  + q  + q  + O\u239dq \u23a0"
       ]
      }
     ],
     "prompt_number": 198
    },
    {
     "cell_type": "markdown",
     "metadata": {},
     "source": [
      "We can see clearly that all the coefficients are 1 for the step. Let's define a function for these coefficients."
     ]
    },
    {
     "cell_type": "code",
     "collapsed": true,
     "input": [
      "def sampledvalues(fz, N):\n",
      "    return list(reversed(sympy.poly(fz.subs(z, q**-1).series(q, 0, N).removeO(), q).all_coeffs()))"
     ],
     "language": "python",
     "metadata": {},
     "outputs": [],
     "prompt_number": 199
    },
    {
     "cell_type": "code",
     "collapsed": true,
     "input": [
      "def plotdiscrete(fz, N):\n",
      "    values = sampledvalues(fz, N)\n",
      "    times = [n*DeltaT for n in range(N)]\n",
      "    plt.stem(times, values)"
     ],
     "language": "python",
     "metadata": {},
     "outputs": [],
     "prompt_number": 200
    },
    {
     "cell_type": "code",
     "collapsed": false,
     "input": [
      "plotdiscrete(rz, 10)"
     ],
     "language": "python",
     "metadata": {},
     "outputs": [
      {
       "metadata": {},
       "output_type": "display_data",
       "png": "[encoded data removed]",
       "text": [
        "<matplotlib.figure.Figure at 0x116c6a4e0>"
       ]
      }
     ],
     "prompt_number": 201
    },
    {
     "cell_type": "markdown",
     "metadata": {},
     "source": [
      "Let's move on to the other transfer functions. The controller is simple:"
     ]
    },
    {
     "cell_type": "code",
     "collapsed": true,
     "input": [
      "Gcz = Kc"
     ],
     "language": "python",
     "metadata": {},
     "outputs": [],
     "prompt_number": 202
    },
    {
     "cell_type": "markdown",
     "metadata": {},
     "source": [
      "The controller is connected to a hold element ($H$) which is connected to the system itself ($G$). The z-transform of this combination can be written $\\mathcal{Z}\\{H(s)G(s)\\}$. We get this on the table."
     ]
    },
    {
     "cell_type": "code",
     "collapsed": true,
     "input": [
      "a = 1/tau\n",
      "b = sympy.exp(-a*DeltaT)\n",
      "HGz = z**-1*K/a/(1 - b*z**-1)/9"
     ],
     "language": "python",
     "metadata": {},
     "outputs": [],
     "prompt_number": 203
    },
    {
     "cell_type": "markdown",
     "metadata": {},
     "source": [
      "Let's verify that this is correct by plotting the continuous response along with the discrete values:"
     ]
    },
    {
     "cell_type": "code",
     "collapsed": false,
     "input": [
      "plotdiscrete(rz*HGz, 10)\n",
      "plt.plot(ts, K*(1 - numpy.exp(-ts/tau)))"
     ],
     "language": "python",
     "metadata": {},
     "outputs": [
      {
       "metadata": {},
       "output_type": "pyout",
       "prompt_number": 207,
       "text": [
        "[<matplotlib.lines.Line2D at 0x117d80c18>]"
       ]
      },
      {
       "metadata": {},
       "output_type": "display_data",
       "png": "[encoded data removed]",
       "text": [
        "<matplotlib.figure.Figure at 0x117f060f0>"
       ]
      }
     ],
     "prompt_number": 207
    },
    {
     "cell_type": "markdown",
     "metadata": {},
     "source": [
      "Now we have the discrete transfer functions, we can repeat the same calculation as before."
     ]
    },
    {
     "cell_type": "code",
     "collapsed": true,
     "input": [
      "yz = rz*Gcz*HGz/(1 + Gcz*HGz)"
     ],
     "language": "python",
     "metadata": {},
     "outputs": [],
     "prompt_number": 208
    },
    {
     "cell_type": "code",
     "collapsed": false,
     "input": [
      "plotdiscrete(yz, 10)\n",
      "plt.plot(ts, y_discrete)"
     ],
     "language": "python",
     "metadata": {},
     "outputs": [
      {
       "metadata": {},
       "output_type": "pyout",
       "prompt_number": 209,
       "text": [
        "[<matplotlib.lines.Line2D at 0x116b09ef0>]"
       ]
      },
      {
       "metadata": {},
       "output_type": "display_data",
       "png": "[encoded data removed]",
       "text": [
        "<matplotlib.figure.Figure at 0x116bc30b8>"
       ]
      }
     ],
     "prompt_number": 209
    },
    {
     "cell_type": "markdown",
     "metadata": {},
     "source": [
      "So now we have recovered the response we calculated numerically before analytically."
     ]
    },
    {
     "cell_type": "code",
     "collapsed": true,
     "input": [],
     "language": "python",
     "metadata": {},
     "outputs": [],
     "prompt_number": null
    }
   ],
   "metadata": {}
  }
 ]
}
