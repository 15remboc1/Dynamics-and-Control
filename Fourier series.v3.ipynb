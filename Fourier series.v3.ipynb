{
 "metadata": {
  "kernelspec": {
   "display_name": "Python 2",
   "language": "python",
   "name": "python2"
  },
  "language_info": {
   "codemirror_mode": {
    "name": "ipython",
    "version": 2
   },
   "file_extension": ".py",
   "mimetype": "text/x-python",
   "name": "python",
   "nbconvert_exporter": "python",
   "pygments_lexer": "ipython2",
   "version": "2.7.2"
  },
  "name": ""
 },
 "nbformat": 3,
 "nbformat_minor": 0,
 "worksheets": [
  {
   "cells": [
    {
     "cell_type": "code",
     "collapsed": true,
     "input": [
      "import sympy\n",
      "sympy.init_printing()\n",
      "%matplotlib inline"
     ],
     "language": "python",
     "metadata": {},
     "outputs": [],
     "prompt_number": 1
    },
    {
     "cell_type": "markdown",
     "metadata": {},
     "source": [
      "Fourier series\n",
      "=========\n",
      "\n",
      "We can approximate a periodic function of period P to arbitrary accuracy by adding sine and cosine terms (disguised via the Euler formula in the complex exponential): \n",
      "\n",
      "$$ S_N(t) = \\sum_{n=-N}^N c_n \\exp \\left( \\frac{i 2\\pi n t}{P}\\right) $$ \n",
      "\n",
      "with \n",
      "\n",
      "$$ c_n = \\frac{1}{P} \\int_{t_0}^{t_0 + P} f(t) \\exp \\left( \\frac{-i 2\\pi n t}{P}\\right) $$"
     ]
    },
    {
     "cell_type": "markdown",
     "metadata": {},
     "source": [
      "The following two functions attempt to match the notation above as closely as possible using sympy functions"
     ]
    },
    {
     "cell_type": "code",
     "collapsed": false,
     "input": [
      "i2pi = sympy.I*2*sympy.pi\n",
      "exp = sympy.exp"
     ],
     "language": "python",
     "metadata": {},
     "outputs": [],
     "prompt_number": 2
    },
    {
     "cell_type": "code",
     "collapsed": false,
     "input": [
      "def S(N):\n",
      "    return sum(c(n)*exp(i2pi*n*t/P) for n in range(-N, N+1)).expand(complex=True).simplify()"
     ],
     "language": "python",
     "metadata": {},
     "outputs": [],
     "prompt_number": 3
    },
    {
     "cell_type": "code",
     "collapsed": true,
     "input": [
      "def c(n):\n",
      "    return (sympy.integrate(\n",
      "               f(t)*exp((-i2pi * n * t)/P), \n",
      "               (t, t0, t0 + P))/P)"
     ],
     "language": "python",
     "metadata": {},
     "outputs": [],
     "prompt_number": 4
    },
    {
     "cell_type": "markdown",
     "metadata": {},
     "source": [
      "These functions work quite well for a periodic sawtooth function:"
     ]
    },
    {
     "cell_type": "code",
     "collapsed": true,
     "input": [
      "def f(t):\n",
      "    return t"
     ],
     "language": "python",
     "metadata": {},
     "outputs": [],
     "prompt_number": 5
    },
    {
     "cell_type": "code",
     "collapsed": true,
     "input": [
      "P = 20\n",
      "t0 = -10"
     ],
     "language": "python",
     "metadata": {},
     "outputs": [],
     "prompt_number": 6
    },
    {
     "cell_type": "code",
     "collapsed": true,
     "input": [
      "t = sympy.Symbol('t', real=True)"
     ],
     "language": "python",
     "metadata": {},
     "outputs": [],
     "prompt_number": 7
    },
    {
     "cell_type": "code",
     "collapsed": true,
     "input": [
      "N = 4"
     ],
     "language": "python",
     "metadata": {},
     "outputs": [],
     "prompt_number": 8
    },
    {
     "cell_type": "code",
     "collapsed": false,
     "input": [
      "analytic_approx = S(N).expand()\n",
      "analytic_approx"
     ],
     "language": "python",
     "metadata": {},
     "outputs": [
      {
       "latex": [
        "$$\\frac{20}{\\pi} \\sin{\\left (\\frac{\\pi t}{10} \\right )} - \\frac{10}{\\pi} \\sin{\\left (\\frac{\\pi t}{5} \\right )} + \\frac{20}{3 \\pi} \\sin{\\left (\\frac{3 \\pi}{10} t \\right )} - \\frac{5}{\\pi} \\sin{\\left (\\frac{2 \\pi}{5} t \\right )}$$"
       ],
       "metadata": {},
       "output_type": "pyout",
       "png": "[encoded data removed]",
       "prompt_number": 9,
       "text": [
        "      \u239b\u03c0\u22c5t\u239e         \u239b\u03c0\u22c5t\u239e         \u239b3\u22c5\u03c0\u22c5t\u239e        \u239b2\u22c5\u03c0\u22c5t\u239e\n",
        "20\u22c5sin\u239c\u2500\u2500\u2500\u239f   10\u22c5sin\u239c\u2500\u2500\u2500\u239f   20\u22c5sin\u239c\u2500\u2500\u2500\u2500\u2500\u239f   5\u22c5sin\u239c\u2500\u2500\u2500\u2500\u2500\u239f\n",
        "      \u239d 10\u23a0         \u239d 5 \u23a0         \u239d  10 \u23a0        \u239d  5  \u23a0\n",
        "\u2500\u2500\u2500\u2500\u2500\u2500\u2500\u2500\u2500\u2500\u2500 - \u2500\u2500\u2500\u2500\u2500\u2500\u2500\u2500\u2500\u2500\u2500 + \u2500\u2500\u2500\u2500\u2500\u2500\u2500\u2500\u2500\u2500\u2500\u2500\u2500 - \u2500\u2500\u2500\u2500\u2500\u2500\u2500\u2500\u2500\u2500\u2500\u2500\n",
        "     \u03c0             \u03c0             3\u22c5\u03c0             \u03c0      "
       ]
      }
     ],
     "prompt_number": 9
    },
    {
     "cell_type": "code",
     "collapsed": false,
     "input": [
      "interval = (t, t0, t0+P)\n",
      "p1 = sympy.plot(f(t), interval, show=False)\n",
      "p2 = sympy.plot(analytic_approx, interval, show=False)\n",
      "p2[0].line_color = 'red'\n",
      "p1.extend(p2)\n",
      "p1.show()"
     ],
     "language": "python",
     "metadata": {},
     "outputs": [
      {
       "metadata": {},
       "output_type": "display_data",
       "png": "[encoded data removed]",
       "text": [
        "<matplotlib.figure.Figure at 0x10ba285d0>"
       ]
      }
     ],
     "prompt_number": 10
    },
    {
     "cell_type": "markdown",
     "metadata": {},
     "source": [
      "Unfortunately, this notationally elegant approach does not appear to work for `f = sympy.Heaviside`, and is also quite slow. The `sympy.mpmath` library supplies a numeric equivalent."
     ]
    },
    {
     "cell_type": "code",
     "collapsed": true,
     "input": [
      "import sympy.mpmath"
     ],
     "language": "python",
     "metadata": {},
     "outputs": [],
     "prompt_number": 11
    },
    {
     "cell_type": "code",
     "collapsed": false,
     "input": [
      "cs = sympy.mpmath.fourier(f, [t0, t0+P], N)\n",
      "\n",
      "def numeric_approx(t):\n",
      "    return sympy.mpmath.fourierval(cs, [t0, t0+P], t)\n",
      "\n",
      "sympy.mpmath.plot([f, numeric_approx], [t0, t0+P])"
     ],
     "language": "python",
     "metadata": {},
     "outputs": [
      {
       "metadata": {},
       "output_type": "display_data",
       "png": "[encoded data removed]",
       "text": [
        "<matplotlib.figure.Figure at 0x10ba28a10>"
       ]
      }
     ],
     "prompt_number": 12
    },
    {
     "cell_type": "markdown",
     "metadata": {},
     "source": [
      "The coefficients returned by the `sympy.mpmath.fourier` functions are for the cosine and sine terms in this alternate representation of $S_N$\n",
      "\n",
      "$$s_N(x) = \\sum_{n=0}^N \\left(a_n \\cos\\left(\\frac{2\\pi nx}{P}\\right) + b_n \\sin\\left(\\frac{2\\pi nx}{P}\\right)\\right)$$\n",
      "\n"
     ]
    },
    {
     "cell_type": "markdown",
     "metadata": {},
     "source": [
      "We can see the similarity clearly by showing the expression we obtained before multiplied out and numerically evaluated"
     ]
    },
    {
     "cell_type": "code",
     "collapsed": false,
     "input": [
      "cs"
     ],
     "language": "python",
     "metadata": {},
     "outputs": [
      {
       "metadata": {},
       "output_type": "pyout",
       "prompt_number": 13,
       "text": [
        "([mpf('0.0'), mpf('0.0'), mpf('0.0'), mpf('0.0'), mpf('0.0')],\n",
        " [mpf('0.0'),\n",
        "  mpf('6.366197723675814'),\n",
        "  mpf('-3.183098861837907'),\n",
        "  mpf('2.1220659078919377'),\n",
        "  mpf('-1.5915494309189535')])"
       ]
      }
     ],
     "prompt_number": 13
    },
    {
     "cell_type": "code",
     "collapsed": false,
     "input": [
      "sympy.N(analytic_approx)"
     ],
     "language": "python",
     "metadata": {},
     "outputs": [
      {
       "latex": [
        "$$6.36619772367581 \\sin{\\left (\\frac{\\pi t}{10} \\right )} - 3.18309886183791 \\sin{\\left (\\frac{\\pi t}{5} \\right )} + 2.12206590789194 \\sin{\\left (\\frac{3 \\pi}{10} t \\right )} - 1.59154943091895 \\sin{\\left (\\frac{2 \\pi}{5} t \\right )}$$"
       ],
       "metadata": {},
       "output_type": "pyout",
       "png": "[encoded data removed]",
       "prompt_number": 14,
       "text": [
        "                    \u239b\u03c0\u22c5t\u239e                             \u239b\u03c0\u22c5t\u239e                   \n",
        "6.36619772367581\u22c5sin\u239c\u2500\u2500\u2500\u239f - -3.18309886183791\u22c5(-1)\u22c5sin\u239c\u2500\u2500\u2500\u239f + 2.12206590789194\n",
        "                    \u239d 10\u23a0                             \u239d 5 \u23a0                   \n",
        "\n",
        "    \u239b3\u22c5\u03c0\u22c5t\u239e                             \u239b2\u22c5\u03c0\u22c5t\u239e\n",
        "\u22c5sin\u239c\u2500\u2500\u2500\u2500\u2500\u239f - -1.59154943091895\u22c5(-1)\u22c5sin\u239c\u2500\u2500\u2500\u2500\u2500\u239f\n",
        "    \u239d  10 \u23a0                             \u239d  5  \u23a0"
       ]
      }
     ],
     "prompt_number": 14
    },
    {
     "cell_type": "markdown",
     "metadata": {},
     "source": [
      "Notice that all the cosine coefficients are zero. This is true in general for odd functions."
     ]
    },
    {
     "cell_type": "markdown",
     "metadata": {},
     "source": [
      "Step function\n",
      "------------\n",
      "Let's now switch to the Heaviside step and draw the various sinusoids in the approximation more explicitly."
     ]
    },
    {
     "cell_type": "code",
     "collapsed": true,
     "input": [
      "import matplotlib.pyplot as plt\n",
      "import numpy\n",
      "%matplotlib inline"
     ],
     "language": "python",
     "metadata": {},
     "outputs": [],
     "prompt_number": 15
    },
    {
     "cell_type": "code",
     "collapsed": true,
     "input": [
      "N = 10"
     ],
     "language": "python",
     "metadata": {},
     "outputs": [],
     "prompt_number": 16
    },
    {
     "cell_type": "code",
     "collapsed": true,
     "input": [
      "@numpy.vectorize\n",
      "def f(t):\n",
      "    if t < 0:\n",
      "        return 0\n",
      "    else:\n",
      "        return 1"
     ],
     "language": "python",
     "metadata": {},
     "outputs": [],
     "prompt_number": 17
    },
    {
     "cell_type": "code",
     "collapsed": false,
     "input": [
      "cs = sympy.mpmath.fourier(f, [t0, t0+P], N)\n",
      "cs"
     ],
     "language": "python",
     "metadata": {},
     "outputs": [
      {
       "metadata": {},
       "output_type": "pyout",
       "prompt_number": 18,
       "text": [
        "([mpf('0.5'),\n",
        "  mpf('0.0'),\n",
        "  mpf('0.0'),\n",
        "  mpf('0.0'),\n",
        "  mpf('0.0'),\n",
        "  mpf('0.0'),\n",
        "  mpf('0.0'),\n",
        "  mpf('0.0'),\n",
        "  mpf('0.0'),\n",
        "  mpf('0.0'),\n",
        "  mpf('0.0')],\n",
        " [mpf('0.0'),\n",
        "  mpf('0.63675856242795037'),\n",
        "  mpf('0.0002778345608862911'),\n",
        "  mpf('0.21262398013873579'),\n",
        "  mpf('0.00055771310594110598'),\n",
        "  mpf('0.12802302327076248'),\n",
        "  mpf('0.00084172518315335683'),\n",
        "  mpf('0.091931640154520794'),\n",
        "  mpf('0.0011320535572161288'),\n",
        "  mpf('0.072015836887865267'),\n",
        "  mpf('0.0014310262052054015')])"
       ]
      }
     ],
     "prompt_number": 18
    },
    {
     "cell_type": "markdown",
     "metadata": {},
     "source": [
      "We see that all the cosine terms but the first are zero, so the first cosine coefficient represents a constant being added to the sine series."
     ]
    },
    {
     "cell_type": "code",
     "collapsed": true,
     "input": [
      "constant = cs[0][0]\n",
      "sinecoefficients = cs[1]"
     ],
     "language": "python",
     "metadata": {},
     "outputs": [],
     "prompt_number": 19
    },
    {
     "cell_type": "markdown",
     "metadata": {},
     "source": [
      "I'm constructing two dimensional arrays here which will allow my formulae to work nicely when broadcasting. I'll use the convention that the time dimension is in the columns and each sine response is in the rows."
     ]
    },
    {
     "cell_type": "code",
     "collapsed": true,
     "input": [
      "tt = numpy.linspace(t0, t0 + P, 1000)\n",
      "t2d = tt[numpy.newaxis]  # two dimensional time array, time in the columns"
     ],
     "language": "python",
     "metadata": {},
     "outputs": [],
     "prompt_number": 36
    },
    {
     "cell_type": "code",
     "collapsed": false,
     "input": [
      "# two dimensional arrays for the sine coefficients and n - they vary in the rows\n",
      "an = numpy.array(sinecoefficients)[:, numpy.newaxis]\n",
      "n = numpy.arange(N+1)[:, numpy.newaxis]"
     ],
     "language": "python",
     "metadata": {},
     "outputs": [],
     "prompt_number": 38
    },
    {
     "cell_type": "markdown",
     "metadata": {},
     "source": [
      "This way I can build a whole array if sine responses automatically. "
     ]
    },
    {
     "cell_type": "code",
     "collapsed": false,
     "input": [
      "sines = an*numpy.sin(2*numpy.pi*n*t2d/P)"
     ],
     "language": "python",
     "metadata": {},
     "outputs": [],
     "prompt_number": 39
    },
    {
     "cell_type": "code",
     "collapsed": false,
     "input": [
      "plt.plot(tt, f(tt))\n",
      "plt.plot(tt, sines.T, color='blue', alpha=0.7)\n",
      "plt.plot(tt, sum(sines) + constant)"
     ],
     "language": "python",
     "metadata": {},
     "outputs": [
      {
       "metadata": {},
       "output_type": "pyout",
       "prompt_number": 40,
       "text": [
        "[<matplotlib.lines.Line2D at 0x10e5ff850>]"
       ]
      },
      {
       "metadata": {},
       "output_type": "display_data",
       "png": "[encoded data removed]",
       "text": [
        "<matplotlib.figure.Figure at 0x10c34e290>"
       ]
      }
     ],
     "prompt_number": 40
    },
    {
     "cell_type": "markdown",
     "metadata": {},
     "source": [
      "We can see that the sum of the sines approximates the step function."
     ]
    },
    {
     "cell_type": "markdown",
     "metadata": {},
     "source": [
      "Step response via Frequency response\n",
      "=================\n",
      "\n",
      "Let's calculate the step response of a second order system in a new way by using the frequency response of the transfer function and the Fourier series of the step input."
     ]
    },
    {
     "cell_type": "code",
     "collapsed": true,
     "input": [
      "s = sympy.Symbol('s')"
     ],
     "language": "python",
     "metadata": {},
     "outputs": [],
     "prompt_number": 41
    },
    {
     "cell_type": "code",
     "collapsed": true,
     "input": [
      "tau = 1\n",
      "zeta = sympy.Rational(1, 2)"
     ],
     "language": "python",
     "metadata": {},
     "outputs": [],
     "prompt_number": 42
    },
    {
     "cell_type": "code",
     "collapsed": true,
     "input": [
      "G = 1/(tau**2*s**2 + 2*tau*zeta*s + 1)\n",
      "g = sympy.inverse_laplace_transform(G/s, s, t)"
     ],
     "language": "python",
     "metadata": {},
     "outputs": [],
     "prompt_number": 43
    },
    {
     "cell_type": "markdown",
     "metadata": {},
     "source": [
      "This next cell takes a long time to complete, but it is the only way I have found to get a workable numeric list to plot the output. Ideally, I would have liked to use `sympy.lambdify`, but it chokes the evaluation of some of these values."
     ]
    },
    {
     "cell_type": "code",
     "collapsed": false,
     "input": [
      "%%time\n",
      "gtvalues = [complex(g.subs({t: thist})).real for thist in tt]"
     ],
     "language": "python",
     "metadata": {},
     "outputs": [
      {
       "output_type": "stream",
       "stream": "stdout",
       "text": [
        "CPU times: user 46.2 s, sys: 251 ms, total: 46.4 s\n",
        "Wall time: 46.8 s\n"
       ]
      }
     ],
     "prompt_number": 27
    },
    {
     "cell_type": "markdown",
     "metadata": {},
     "source": [
      "We can see the familiar second order step response:"
     ]
    },
    {
     "cell_type": "code",
     "collapsed": false,
     "input": [
      "plt.plot(tt, gtvalues)"
     ],
     "language": "python",
     "metadata": {},
     "outputs": [
      {
       "metadata": {},
       "output_type": "pyout",
       "prompt_number": 28,
       "text": [
        "[<matplotlib.lines.Line2D at 0x10d47f490>]"
       ]
      },
      {
       "metadata": {},
       "output_type": "display_data",
       "png": "[encoded data removed]",
       "text": [
        "<matplotlib.figure.Figure at 0x10c867550>"
       ]
      }
     ],
     "prompt_number": 28
    },
    {
     "cell_type": "markdown",
     "metadata": {},
     "source": [
      "Now, let's try to get the same answer by exploiting the frequency response of the transfer function. First, we need a function which can evaluate the transfer function at particular values and return a numeric result. I use the extra argument to make the function able to work with numpy arrays"
     ]
    },
    {
     "cell_type": "code",
     "collapsed": true,
     "input": [
      "Geval = sympy.lambdify(s, G, 'numpy')"
     ],
     "language": "python",
     "metadata": {},
     "outputs": [],
     "prompt_number": 29
    },
    {
     "cell_type": "markdown",
     "metadata": {},
     "source": [
      "Now, we need to build an array for the frequencies of the Fourier series. Remember we had terms of the form $\\sin\\left(\\frac{2\\pi n t}{P}\\right) = \\sin(\\omega t)$ in the Fourier series."
     ]
    },
    {
     "cell_type": "code",
     "collapsed": false,
     "input": [
      "omega = 2*n*numpy.pi/P"
     ],
     "language": "python",
     "metadata": {},
     "outputs": [],
     "prompt_number": 30
    },
    {
     "cell_type": "markdown",
     "metadata": {},
     "source": [
      "We evaluate the frequency response of the transfer function at the Fourier frequencies by using the substitution $s=\\omega i$. The complex number is `j` in Python."
     ]
    },
    {
     "cell_type": "code",
     "collapsed": false,
     "input": [
      "freqresp = Geval(omega*1j)"
     ],
     "language": "python",
     "metadata": {},
     "outputs": [],
     "prompt_number": 31
    },
    {
     "cell_type": "code",
     "collapsed": true,
     "input": [
      "K = gain = numpy.abs(freqresp)"
     ],
     "language": "python",
     "metadata": {},
     "outputs": [],
     "prompt_number": 32
    },
    {
     "cell_type": "code",
     "collapsed": true,
     "input": [
      "phi = phase = numpy.angle(freqresp)"
     ],
     "language": "python",
     "metadata": {},
     "outputs": [],
     "prompt_number": 33
    },
    {
     "cell_type": "markdown",
     "metadata": {},
     "source": [
      "Now, we build the approximation of the respone by simply multiplying by the gain $K$ and shifting by the phase $\\phi$:\n",
      "\n",
      "$$ r(t) = K a_n \\sin(2 \\pi n t / P + \\phi) $$"
     ]
    },
    {
     "cell_type": "code",
     "collapsed": false,
     "input": [
      "shiftedsines = K*an*numpy.sin(2*numpy.pi*n*t2d/P + phi)"
     ],
     "language": "python",
     "metadata": {},
     "outputs": [],
     "prompt_number": 34
    },
    {
     "cell_type": "code",
     "collapsed": false,
     "input": [
      "plt.plot(tt, gtvalues)\n",
      "plt.plot(tt, sines.T, color='blue', alpha=0.7)\n",
      "plt.plot(tt, shiftedsines.T, color='green', alpha=0.7)\n",
      "plt.plot(tt, sum(shiftedsines) + constant, color='green')\n",
      "plt.xlim(0, t0 + P)"
     ],
     "language": "python",
     "metadata": {},
     "outputs": [
      {
       "latex": [
        "$$\\left ( 0, \\quad 10\\right )$$"
       ],
       "metadata": {},
       "output_type": "pyout",
       "png": "[encoded data removed]",
       "prompt_number": 35,
       "text": [
        "(0, 10)"
       ]
      },
      {
       "metadata": {},
       "output_type": "display_data",
       "png": "[encoded data removed]",
       "text": [
        "<matplotlib.figure.Figure at 0x10c196390>"
       ]
      }
     ],
     "prompt_number": 35
    },
    {
     "cell_type": "code",
     "collapsed": true,
     "input": [],
     "language": "python",
     "metadata": {},
     "outputs": [],
     "prompt_number": null
    }
   ],
   "metadata": {}
  }
 ]
}
