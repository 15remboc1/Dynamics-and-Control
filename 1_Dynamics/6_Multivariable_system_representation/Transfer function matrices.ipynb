{
 "cells": [
  {
   "cell_type": "markdown",
   "metadata": {},
   "source": [
    "## Transfer function matrices\n",
    "\n",
    "Let's say we have two inputs and two outputs. We can write the linearised effect as follows:\n",
    "\n",
    "\\begin{align}\n",
    "y_1 &= G_{11} u_1 + G_{12} u_2 \\\\\n",
    "y_2 &= G_{21} u_1 + G_{22} u_2\n",
    "\\end{align}\n",
    "\n",
    "Which is equivalent to a matrix expression\n",
    "\n",
    "$$\\mathbf{y} = G \\mathbf{u}$$\n",
    "\n",
    "with \n",
    "\n",
    "$$\\mathbf{y} = \\begin{bmatrix}y_1\\\\y_2\\end{bmatrix} \n",
    "  \\quad G = \\begin{bmatrix}G_{11} & G_{12} \\\\ G_{21} & G_{22} \\end{bmatrix}\n",
    "  \\quad \\mathbf{u} = \\begin{bmatrix}u_1\\\\u_2\\end{bmatrix}$$\n"
   ]
  },
  {
   "cell_type": "markdown",
   "metadata": {},
   "source": [
    "I find it useful to picture the input going into the top of the matrix and the output coming out of the side as shown in this animation"
   ]
  },
  {
   "cell_type": "markdown",
   "metadata": {},
   "source": [
    "![Matrix multiplication](../../assets/mmult.gif)"
   ]
  },
  {
   "cell_type": "markdown",
   "metadata": {},
   "source": [
    "### Representing matrices in SymPy"
   ]
  },
  {
   "cell_type": "code",
   "execution_count": 1,
   "metadata": {},
   "outputs": [],
   "source": [
    "import sympy\n",
    "sympy.init_printing()"
   ]
  },
  {
   "cell_type": "code",
   "execution_count": 2,
   "metadata": {},
   "outputs": [],
   "source": [
    "s = sympy.Symbol('s')"
   ]
  },
  {
   "cell_type": "code",
   "execution_count": 3,
   "metadata": {},
   "outputs": [],
   "source": [
    "G11 = (s + 1)/(s + 2)\n",
    "G12 = 1/(2*s + 1)\n",
    "G21 = 1/(3*s + 1) \n",
    "G22 = 1/(4*s + 1)\n",
    "\n",
    "row1 = [G11, G12]\n",
    "row2 = [G21, G22]\n",
    "list_of_lists = [row1, \n",
    "                 row2]"
   ]
  },
  {
   "cell_type": "code",
   "execution_count": 4,
   "metadata": {},
   "outputs": [],
   "source": [
    "G = sympy.Matrix(list_of_lists)"
   ]
  },
  {
   "cell_type": "code",
   "execution_count": 5,
   "metadata": {},
   "outputs": [
    {
     "data": {
      "image/png": "[encoded data removed]",
      "text/latex": [
       "$$\\frac{s + 1}{s + 2}$$"
      ],
      "text/plain": [
       "s + 1\n",
       "─────\n",
       "s + 2"
      ]
     },
     "execution_count": 5,
     "metadata": {},
     "output_type": "execute_result"
    }
   ],
   "source": [
    "G[0, 0]"
   ]
  },
  {
   "cell_type": "code",
   "execution_count": 6,
   "metadata": {},
   "outputs": [
    {
     "data": {
      "text/latex": [
       "$$\\left[\\begin{matrix}\\frac{6 s^{3} + 17 s^{2} + 11 s + 2}{6 s^{3} + 7 s^{2} - 3 s - 1} & - \\frac{12 s^{3} + 31 s^{2} + 15 s + 2}{6 s^{3} + 7 s^{2} - 3 s - 1}\\\\- \\frac{8 s^{3} + 22 s^{2} + 13 s + 2}{6 s^{3} + 7 s^{2} - 3 s - 1} & \\frac{24 s^{4} + 50 s^{3} + 35 s^{2} + 10 s + 1}{6 s^{3} + 7 s^{2} - 3 s - 1}\\end{matrix}\\right]$$"
      ],
      "text/plain": [
       "⎡     3       2                  ⎛    3       2           ⎞   ⎤\n",
       "⎢  6⋅s  + 17⋅s  + 11⋅s + 2      -⎝12⋅s  + 31⋅s  + 15⋅s + 2⎠   ⎥\n",
       "⎢  ───────────────────────      ────────────────────────────  ⎥\n",
       "⎢      3      2                       3      2                ⎥\n",
       "⎢   6⋅s  + 7⋅s  - 3⋅s - 1          6⋅s  + 7⋅s  - 3⋅s - 1      ⎥\n",
       "⎢                                                             ⎥\n",
       "⎢ ⎛   3       2           ⎞       4       3       2           ⎥\n",
       "⎢-⎝8⋅s  + 22⋅s  + 13⋅s + 2⎠   24⋅s  + 50⋅s  + 35⋅s  + 10⋅s + 1⎥\n",
       "⎢───────────────────────────  ────────────────────────────────⎥\n",
       "⎢      3      2                       3      2                ⎥\n",
       "⎣   6⋅s  + 7⋅s  - 3⋅s - 1          6⋅s  + 7⋅s  - 3⋅s - 1      ⎦"
      ]
     },
     "execution_count": 6,
     "metadata": {},
     "output_type": "execute_result"
    }
   ],
   "source": [
    "sympy.simplify(G.inv())"
   ]
  },
  {
   "cell_type": "code",
   "execution_count": 7,
   "metadata": {},
   "outputs": [
    {
     "data": {
      "text/latex": [
       "$$\\left[\\begin{matrix}\\frac{2 \\left(s + 1\\right)}{s + 2} & \\frac{2}{2 s + 1}\\\\\\frac{2}{3 s + 1} & \\frac{2}{4 s + 1}\\end{matrix}\\right]$$"
      ],
      "text/plain": [
       "⎡2⋅(s + 1)     2   ⎤\n",
       "⎢─────────  ───────⎥\n",
       "⎢  s + 2    2⋅s + 1⎥\n",
       "⎢                  ⎥\n",
       "⎢    2         2   ⎥\n",
       "⎢ ───────   ───────⎥\n",
       "⎣ 3⋅s + 1   4⋅s + 1⎦"
      ]
     },
     "execution_count": 7,
     "metadata": {},
     "output_type": "execute_result"
    }
   ],
   "source": [
    "G + G"
   ]
  },
  {
   "cell_type": "markdown",
   "metadata": {},
   "source": [
    "### Representing matrices using the control library"
   ]
  },
  {
   "cell_type": "code",
   "execution_count": 8,
   "metadata": {},
   "outputs": [],
   "source": [
    "import control"
   ]
  },
  {
   "cell_type": "code",
   "execution_count": 9,
   "metadata": {},
   "outputs": [
    {
     "data": {
      "text/plain": [
       "\n",
       "  1\n",
       "-----\n",
       "s + 2"
      ]
     },
     "execution_count": 9,
     "metadata": {},
     "output_type": "execute_result"
    }
   ],
   "source": [
    "control.tf([0, 1], [1, 2])"
   ]
  },
  {
   "cell_type": "code",
   "execution_count": 10,
   "metadata": {},
   "outputs": [],
   "source": [
    "s = control.tf([1, 0], 1)"
   ]
  },
  {
   "cell_type": "code",
   "execution_count": 11,
   "metadata": {},
   "outputs": [
    {
     "data": {
      "text/plain": [
       "\n",
       "s\n",
       "-\n",
       "1"
      ]
     },
     "execution_count": 11,
     "metadata": {},
     "output_type": "execute_result"
    }
   ],
   "source": [
    "s"
   ]
  },
  {
   "cell_type": "code",
   "execution_count": 12,
   "metadata": {},
   "outputs": [],
   "source": [
    "G = 1/(s + 1)"
   ]
  },
  {
   "cell_type": "code",
   "execution_count": 13,
   "metadata": {},
   "outputs": [],
   "source": [
    "num11 = [1, 2]\n",
    "num12 = [2]\n",
    "num21 = [3]\n",
    "num22 = [4]\n",
    "\n",
    "row1 = [num11, num12]\n",
    "row2 = [num21, num22]\n",
    "numerator = [row1, \n",
    "             row2]\n",
    "\n",
    "\n",
    "denominator = [[[1, 1], [2, 1]], \n",
    "               [[3, 1], [4, 1]]]\n",
    "Gmatrix = control.tf(numerator, \n",
    "           denominator)"
   ]
  },
  {
   "cell_type": "code",
   "execution_count": 14,
   "metadata": {},
   "outputs": [
    {
     "data": {
      "text/plain": [
       "\n",
       "Input 1 to output 1:\n",
       "s + 2\n",
       "-----\n",
       "s + 1\n",
       "\n",
       "Input 1 to output 2:\n",
       "   3\n",
       "-------\n",
       "3 s + 1\n",
       "\n",
       "Input 2 to output 1:\n",
       "   2\n",
       "-------\n",
       "2 s + 1\n",
       "\n",
       "Input 2 to output 2:\n",
       "   4\n",
       "-------\n",
       "4 s + 1"
      ]
     },
     "execution_count": 14,
     "metadata": {},
     "output_type": "execute_result"
    }
   ],
   "source": [
    "Gmatrix"
   ]
  },
  {
   "cell_type": "markdown",
   "metadata": {},
   "source": [
    "## Conversion to state space"
   ]
  },
  {
   "cell_type": "markdown",
   "metadata": {},
   "source": [
    "There are no tools in `scipy.signal` to deal with mutlivariable transfer functions. However, the control library can do the conversion from a transfer function matrix to a state space form:"
   ]
  },
  {
   "cell_type": "code",
   "execution_count": 17,
   "metadata": {},
   "outputs": [
    {
     "data": {
      "text/plain": [
       "A = [[ 6.42857143e-01 -4.60742555e-15 -1.13787789e+00  2.44249065e-15]\n",
       " [ 9.99200722e-15  4.69072165e-01 -7.88258347e-15  1.61198107e+00]\n",
       " [ 7.65986092e-01 -1.99840144e-15 -1.22619048e+00 -2.22044605e-16]\n",
       " [ 0.00000000e+00 -8.83159841e-01 -3.33066907e-15 -1.96907216e+00]]\n",
       "\n",
       "B = [[-1.67038276 -1.82628515]\n",
       " [-1.12480112 -1.70515063]\n",
       " [-1.43302876 -1.43302876]\n",
       " [ 1.02508276  1.02508276]]\n",
       "\n",
       "C = [[ 0.00000000e+00  0.00000000e+00  0.00000000e+00  9.75530986e-01]\n",
       " [ 0.00000000e+00  0.00000000e+00 -6.97822701e-01 -3.33066907e-16]]\n",
       "\n",
       "D = [[1. 0.]\n",
       " [0. 0.]]"
      ]
     },
     "execution_count": 17,
     "metadata": {},
     "output_type": "execute_result"
    }
   ],
   "source": [
    "control.ss(Gmatrix)"
   ]
  }
 ],
 "metadata": {
  "kernelspec": {
   "display_name": "Python 3",
   "language": "python",
   "name": "python3"
  },
  "language_info": {
   "codemirror_mode": {
    "name": "ipython",
    "version": 3
   },
   "file_extension": ".py",
   "mimetype": "text/x-python",
   "name": "python",
   "nbconvert_exporter": "python",
   "pygments_lexer": "ipython3",
   "version": "3.6.5"
  }
 },
 "nbformat": 4,
 "nbformat_minor": 2
}
