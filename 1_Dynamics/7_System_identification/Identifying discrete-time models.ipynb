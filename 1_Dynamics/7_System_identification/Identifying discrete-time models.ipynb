{
 "cells": [
  {
   "cell_type": "code",
   "execution_count": 1,
   "metadata": {},
   "outputs": [],
   "source": [
    "import pandas\n",
    "import numpy\n",
    "import matplotlib.pyplot as plt\n",
    "%matplotlib inline"
   ]
  },
  {
   "cell_type": "markdown",
   "metadata": {},
   "source": [
    "We will fit an ARX model of this form to a step response.\n",
    "\n",
    "$$y(k) = a_1 y(k - 1) + a_2 y(k - 2) + b_1 u(k - 1) + b_2 u(k - 2)$$"
   ]
  },
  {
   "cell_type": "code",
   "execution_count": 2,
   "metadata": {},
   "outputs": [
    {
     "data": {
      "text/html": [
       "<div>\n",
       "<style scoped>\n",
       "    .dataframe tbody tr th:only-of-type {\n",
       "        vertical-align: middle;\n",
       "    }\n",
       "\n",
       "    .dataframe tbody tr th {\n",
       "        vertical-align: top;\n",
       "    }\n",
       "\n",
       "    .dataframe thead th {\n",
       "        text-align: right;\n",
       "    }\n",
       "</style>\n",
       "<table border=\"1\" class=\"dataframe\">\n",
       "  <thead>\n",
       "    <tr style=\"text-align: right;\">\n",
       "      <th></th>\n",
       "      <th>yk</th>\n",
       "      <th>uk</th>\n",
       "    </tr>\n",
       "    <tr>\n",
       "      <th>k</th>\n",
       "      <th></th>\n",
       "      <th></th>\n",
       "    </tr>\n",
       "  </thead>\n",
       "  <tbody>\n",
       "    <tr>\n",
       "      <th>-1</th>\n",
       "      <td>0.000</td>\n",
       "      <td>0</td>\n",
       "    </tr>\n",
       "    <tr>\n",
       "      <th>0</th>\n",
       "      <td>0.000</td>\n",
       "      <td>1</td>\n",
       "    </tr>\n",
       "    <tr>\n",
       "      <th>1</th>\n",
       "      <td>0.058</td>\n",
       "      <td>1</td>\n",
       "    </tr>\n",
       "    <tr>\n",
       "      <th>2</th>\n",
       "      <td>0.217</td>\n",
       "      <td>1</td>\n",
       "    </tr>\n",
       "    <tr>\n",
       "      <th>3</th>\n",
       "      <td>0.360</td>\n",
       "      <td>1</td>\n",
       "    </tr>\n",
       "    <tr>\n",
       "      <th>4</th>\n",
       "      <td>0.488</td>\n",
       "      <td>1</td>\n",
       "    </tr>\n",
       "    <tr>\n",
       "      <th>5</th>\n",
       "      <td>0.600</td>\n",
       "      <td>1</td>\n",
       "    </tr>\n",
       "    <tr>\n",
       "      <th>6</th>\n",
       "      <td>0.692</td>\n",
       "      <td>1</td>\n",
       "    </tr>\n",
       "    <tr>\n",
       "      <th>7</th>\n",
       "      <td>0.772</td>\n",
       "      <td>1</td>\n",
       "    </tr>\n",
       "    <tr>\n",
       "      <th>8</th>\n",
       "      <td>0.833</td>\n",
       "      <td>1</td>\n",
       "    </tr>\n",
       "    <tr>\n",
       "      <th>9</th>\n",
       "      <td>0.888</td>\n",
       "      <td>1</td>\n",
       "    </tr>\n",
       "    <tr>\n",
       "      <th>10</th>\n",
       "      <td>0.925</td>\n",
       "      <td>1</td>\n",
       "    </tr>\n",
       "  </tbody>\n",
       "</table>\n",
       "</div>"
      ],
      "text/plain": [
       "        yk  uk\n",
       "k             \n",
       "-1   0.000   0\n",
       " 0   0.000   1\n",
       " 1   0.058   1\n",
       " 2   0.217   1\n",
       " 3   0.360   1\n",
       " 4   0.488   1\n",
       " 5   0.600   1\n",
       " 6   0.692   1\n",
       " 7   0.772   1\n",
       " 8   0.833   1\n",
       " 9   0.888   1\n",
       " 10  0.925   1"
      ]
     },
     "execution_count": 2,
     "metadata": {},
     "output_type": "execute_result"
    }
   ],
   "source": [
    "data = pandas.read_csv('../../assets/data.csv', index_col='k')\n",
    "data['uk'] = 1\n",
    "data.loc[0] = [0, 1]  # input changes at t=0\n",
    "data.loc[-1] = [0, 0]  # everything was steady at t < 0\n",
    "data = data.sort_index()\n",
    "data"
   ]
  },
  {
   "cell_type": "code",
   "execution_count": 3,
   "metadata": {},
   "outputs": [],
   "source": [
    "y = data.yk\n",
    "u = data.uk"
   ]
  },
  {
   "cell_type": "code",
   "execution_count": 4,
   "metadata": {},
   "outputs": [
    {
     "data": {
      "text/plain": [
       "<matplotlib.axes._subplots.AxesSubplot at 0x113768c50>"
      ]
     },
     "execution_count": 4,
     "metadata": {},
     "output_type": "execute_result"
    },
    {
     "data": {
      "image/png": "[encoded data removed]",
      "text/plain": [
       "<matplotlib.figure.Figure at 0x1137536d8>"
      ]
     },
     "metadata": {},
     "output_type": "display_data"
    }
   ],
   "source": [
    "data.plot()"
   ]
  },
  {
   "cell_type": "markdown",
   "metadata": {},
   "source": [
    "We effectively have the following equations (I repeat the equation here for convenience):\n",
    "\n",
    "$$y(k) = a_1 y(k - 1) + a_2 y(k - 2) + b_1 u(k - 1) + b_2 u(k - 2)$$"
   ]
  },
  {
   "cell_type": "code",
   "execution_count": 5,
   "metadata": {},
   "outputs": [
    {
     "name": "stdout",
     "output_type": "stream",
     "text": [
      "0.058 = a1×0.0 + a2×0.0 + b1×1 + b2×0\n",
      "0.22 = a1×0.058 + a2×0.0 + b1×1 + b2×1\n",
      "0.36 = a1×0.22 + a2×0.058 + b1×1 + b2×1\n",
      "0.49 = a1×0.36 + a2×0.22 + b1×1 + b2×1\n",
      "0.6 = a1×0.49 + a2×0.36 + b1×1 + b2×1\n",
      "0.69 = a1×0.6 + a2×0.49 + b1×1 + b2×1\n",
      "0.77 = a1×0.69 + a2×0.6 + b1×1 + b2×1\n",
      "0.83 = a1×0.77 + a2×0.69 + b1×1 + b2×1\n",
      "0.89 = a1×0.83 + a2×0.77 + b1×1 + b2×1\n",
      "0.93 = a1×0.89 + a2×0.83 + b1×1 + b2×1\n"
     ]
    }
   ],
   "source": [
    "for k in range(1, 11):\n",
    "    print(f'{y[k]:.2} = a1\\u00D7{y[k - 1]:.2} + a2\\u00D7{y[k - 2]:.2} + b1\\u00D7{u[k - 1]} + b2\\u00D7{u[k - 2]}')"
   ]
  },
  {
   "cell_type": "code",
   "execution_count": 6,
   "metadata": {},
   "outputs": [
    {
     "data": {
      "text/html": [
       "<div>\n",
       "<style scoped>\n",
       "    .dataframe tbody tr th:only-of-type {\n",
       "        vertical-align: middle;\n",
       "    }\n",
       "\n",
       "    .dataframe tbody tr th {\n",
       "        vertical-align: top;\n",
       "    }\n",
       "\n",
       "    .dataframe thead th {\n",
       "        text-align: right;\n",
       "    }\n",
       "</style>\n",
       "<table border=\"1\" class=\"dataframe\">\n",
       "  <thead>\n",
       "    <tr style=\"text-align: right;\">\n",
       "      <th></th>\n",
       "      <th>k</th>\n",
       "      <th>y[k]</th>\n",
       "      <th>y[k-1]</th>\n",
       "      <th>y[k-2]</th>\n",
       "      <th>u[k-1]</th>\n",
       "      <th>u[k-2]</th>\n",
       "    </tr>\n",
       "  </thead>\n",
       "  <tbody>\n",
       "    <tr>\n",
       "      <th>0</th>\n",
       "      <td>1</td>\n",
       "      <td>0.058</td>\n",
       "      <td>0.000</td>\n",
       "      <td>0.000</td>\n",
       "      <td>1</td>\n",
       "      <td>0</td>\n",
       "    </tr>\n",
       "    <tr>\n",
       "      <th>1</th>\n",
       "      <td>2</td>\n",
       "      <td>0.217</td>\n",
       "      <td>0.058</td>\n",
       "      <td>0.000</td>\n",
       "      <td>1</td>\n",
       "      <td>1</td>\n",
       "    </tr>\n",
       "    <tr>\n",
       "      <th>2</th>\n",
       "      <td>3</td>\n",
       "      <td>0.360</td>\n",
       "      <td>0.217</td>\n",
       "      <td>0.058</td>\n",
       "      <td>1</td>\n",
       "      <td>1</td>\n",
       "    </tr>\n",
       "    <tr>\n",
       "      <th>3</th>\n",
       "      <td>4</td>\n",
       "      <td>0.488</td>\n",
       "      <td>0.360</td>\n",
       "      <td>0.217</td>\n",
       "      <td>1</td>\n",
       "      <td>1</td>\n",
       "    </tr>\n",
       "    <tr>\n",
       "      <th>4</th>\n",
       "      <td>5</td>\n",
       "      <td>0.600</td>\n",
       "      <td>0.488</td>\n",
       "      <td>0.360</td>\n",
       "      <td>1</td>\n",
       "      <td>1</td>\n",
       "    </tr>\n",
       "    <tr>\n",
       "      <th>5</th>\n",
       "      <td>6</td>\n",
       "      <td>0.692</td>\n",
       "      <td>0.600</td>\n",
       "      <td>0.488</td>\n",
       "      <td>1</td>\n",
       "      <td>1</td>\n",
       "    </tr>\n",
       "    <tr>\n",
       "      <th>6</th>\n",
       "      <td>7</td>\n",
       "      <td>0.772</td>\n",
       "      <td>0.692</td>\n",
       "      <td>0.600</td>\n",
       "      <td>1</td>\n",
       "      <td>1</td>\n",
       "    </tr>\n",
       "    <tr>\n",
       "      <th>7</th>\n",
       "      <td>8</td>\n",
       "      <td>0.833</td>\n",
       "      <td>0.772</td>\n",
       "      <td>0.692</td>\n",
       "      <td>1</td>\n",
       "      <td>1</td>\n",
       "    </tr>\n",
       "    <tr>\n",
       "      <th>8</th>\n",
       "      <td>9</td>\n",
       "      <td>0.888</td>\n",
       "      <td>0.833</td>\n",
       "      <td>0.772</td>\n",
       "      <td>1</td>\n",
       "      <td>1</td>\n",
       "    </tr>\n",
       "    <tr>\n",
       "      <th>9</th>\n",
       "      <td>10</td>\n",
       "      <td>0.925</td>\n",
       "      <td>0.888</td>\n",
       "      <td>0.833</td>\n",
       "      <td>1</td>\n",
       "      <td>1</td>\n",
       "    </tr>\n",
       "  </tbody>\n",
       "</table>\n",
       "</div>"
      ],
      "text/plain": [
       "    k   y[k]  y[k-1]  y[k-2]  u[k-1]  u[k-2]\n",
       "0   1  0.058   0.000   0.000       1       0\n",
       "1   2  0.217   0.058   0.000       1       1\n",
       "2   3  0.360   0.217   0.058       1       1\n",
       "3   4  0.488   0.360   0.217       1       1\n",
       "4   5  0.600   0.488   0.360       1       1\n",
       "5   6  0.692   0.600   0.488       1       1\n",
       "6   7  0.772   0.692   0.600       1       1\n",
       "7   8  0.833   0.772   0.692       1       1\n",
       "8   9  0.888   0.833   0.772       1       1\n",
       "9  10  0.925   0.888   0.833       1       1"
      ]
     },
     "execution_count": 6,
     "metadata": {},
     "output_type": "execute_result"
    }
   ],
   "source": [
    "pandas.DataFrame([(k, \n",
    "                  y[k], \n",
    "                  y[k-1], \n",
    "                  y[k-2], \n",
    "                  u[k-1], \n",
    "                  u[k-2]) for k in range(1, 11)], columns=['k', 'y[k]', 'y[k-1]', 'y[k-2]', 'u[k-1]', 'u[k-2]'])"
   ]
  },
  {
   "cell_type": "markdown",
   "metadata": {},
   "source": [
    "We notice that these equations are linear in the coefficients. We can define $\\beta= [a_1, a_2, b_1, b_2]^T$. Now, to write the above equations in matrix form $Y = X \\beta $, we define"
   ]
  },
  {
   "cell_type": "code",
   "execution_count": 7,
   "metadata": {},
   "outputs": [
    {
     "data": {
      "text/plain": [
       "array([[0.058],\n",
       "       [0.217],\n",
       "       [0.36 ],\n",
       "       [0.488],\n",
       "       [0.6  ],\n",
       "       [0.692],\n",
       "       [0.772],\n",
       "       [0.833],\n",
       "       [0.888],\n",
       "       [0.925]])"
      ]
     },
     "execution_count": 7,
     "metadata": {},
     "output_type": "execute_result"
    }
   ],
   "source": [
    "Y = numpy.atleast_2d(y.loc[1:]).T\n",
    "Y"
   ]
  },
  {
   "cell_type": "markdown",
   "metadata": {},
   "source": [
    "To build the coefficient matrix we observe that there are two blocks of constant diagonals (the part with the $y$s and the part with the $u$s). Matrices with constant diagonals are called Toeplitz matrices and can be constructed with the `scipy.linalg.toeplitz` function."
   ]
  },
  {
   "cell_type": "code",
   "execution_count": 8,
   "metadata": {},
   "outputs": [],
   "source": [
    "import scipy\n",
    "import scipy.linalg"
   ]
  },
  {
   "cell_type": "code",
   "execution_count": 9,
   "metadata": {},
   "outputs": [
    {
     "data": {
      "text/plain": [
       "array([[0.   , 0.   ],\n",
       "       [0.058, 0.   ],\n",
       "       [0.217, 0.058],\n",
       "       [0.36 , 0.217],\n",
       "       [0.488, 0.36 ],\n",
       "       [0.6  , 0.488],\n",
       "       [0.692, 0.6  ],\n",
       "       [0.772, 0.692],\n",
       "       [0.833, 0.772],\n",
       "       [0.888, 0.833]])"
      ]
     },
     "execution_count": 9,
     "metadata": {},
     "output_type": "execute_result"
    }
   ],
   "source": [
    "X1 = scipy.linalg.toeplitz(y.loc[0:9], [0, 0])\n",
    "X1"
   ]
  },
  {
   "cell_type": "code",
   "execution_count": 10,
   "metadata": {},
   "outputs": [
    {
     "data": {
      "text/plain": [
       "array([[1, 0],\n",
       "       [1, 1],\n",
       "       [1, 1],\n",
       "       [1, 1],\n",
       "       [1, 1],\n",
       "       [1, 1],\n",
       "       [1, 1],\n",
       "       [1, 1],\n",
       "       [1, 1],\n",
       "       [1, 1]])"
      ]
     },
     "execution_count": 10,
     "metadata": {},
     "output_type": "execute_result"
    }
   ],
   "source": [
    "X2 = scipy.linalg.toeplitz(u.loc[0:9], [0, 0])\n",
    "X2"
   ]
  },
  {
   "cell_type": "code",
   "execution_count": 11,
   "metadata": {},
   "outputs": [],
   "source": [
    "X = numpy.hstack([X1, X2])"
   ]
  },
  {
   "cell_type": "code",
   "execution_count": 12,
   "metadata": {},
   "outputs": [
    {
     "data": {
      "text/plain": [
       "array([[0.   , 0.   , 1.   , 0.   ],\n",
       "       [0.058, 0.   , 1.   , 1.   ],\n",
       "       [0.217, 0.058, 1.   , 1.   ],\n",
       "       [0.36 , 0.217, 1.   , 1.   ],\n",
       "       [0.488, 0.36 , 1.   , 1.   ],\n",
       "       [0.6  , 0.488, 1.   , 1.   ],\n",
       "       [0.692, 0.6  , 1.   , 1.   ],\n",
       "       [0.772, 0.692, 1.   , 1.   ],\n",
       "       [0.833, 0.772, 1.   , 1.   ],\n",
       "       [0.888, 0.833, 1.   , 1.   ]])"
      ]
     },
     "execution_count": 12,
     "metadata": {},
     "output_type": "execute_result"
    }
   ],
   "source": [
    "X"
   ]
  },
  {
   "cell_type": "markdown",
   "metadata": {},
   "source": [
    "Another option is to use the loop from before to construct the matrices. This is a little more legible but slower:"
   ]
  },
  {
   "cell_type": "code",
   "execution_count": 13,
   "metadata": {},
   "outputs": [],
   "source": [
    "Y = []\n",
    "X = []\n",
    "for k in range(1, 11):\n",
    "    Y.append([y[k]])\n",
    "    X.append([y[k - 1], y[k - 2], u[k - 1], u[k - 2]])\n",
    "Y = numpy.array(Y)\n",
    "X = numpy.array(X)"
   ]
  },
  {
   "cell_type": "markdown",
   "metadata": {},
   "source": [
    "We solve for $\\beta$ as we did for linear regression:"
   ]
  },
  {
   "cell_type": "code",
   "execution_count": 14,
   "metadata": {},
   "outputs": [
    {
     "data": {
      "text/plain": [
       "array([[ 0.98464753],\n",
       "       [-0.12211256],\n",
       "       [ 0.058     ],\n",
       "       [ 0.10124916]])"
      ]
     },
     "execution_count": 14,
     "metadata": {},
     "output_type": "execute_result"
    }
   ],
   "source": [
    "beta, _, _, _ = numpy.linalg.lstsq(X, Y, rcond=None)\n",
    "beta"
   ]
  }
 ],
 "metadata": {
  "kernelspec": {
   "display_name": "Python 3",
   "language": "python",
   "name": "python3"
  },
  "language_info": {
   "codemirror_mode": {
    "name": "ipython",
    "version": 3
   },
   "file_extension": ".py",
   "mimetype": "text/x-python",
   "name": "python",
   "nbconvert_exporter": "python",
   "pygments_lexer": "ipython3",
   "version": "3.6.4"
  }
 },
 "nbformat": 4,
 "nbformat_minor": 2
}
