{
 "cells": [
  {
   "cell_type": "code",
   "execution_count": 1,
   "metadata": {
    "collapsed": true
   },
   "outputs": [],
   "source": [
    "import sympy\n",
    "sympy.init_printing()"
   ]
  },
  {
   "cell_type": "markdown",
   "metadata": {},
   "source": [
    "Valve equation\n",
    "=========="
   ]
  },
  {
   "cell_type": "markdown",
   "metadata": {},
   "source": [
    "Let's linearise the nasty nonlinear term in the equation percentage valve relationship in T4 Problem 4 (or T2 problem 4)\n",
    "\n",
    "$$ F = \\underbrace{C_v \\alpha^{x - 1}}_{\\text{nonlinear}} $$"
   ]
  },
  {
   "cell_type": "markdown",
   "metadata": {},
   "source": [
    "First we introduce the requisite symbols. Notice that we specify constraints on these variables, this will make simplifications better later on."
   ]
  },
  {
   "cell_type": "code",
   "execution_count": 2,
   "metadata": {
    "collapsed": true
   },
   "outputs": [],
   "source": [
    "C_v, alpha, x = sympy.symbols('C_v, alpha, x', positive=True)"
   ]
  },
  {
   "cell_type": "code",
   "execution_count": 3,
   "metadata": {},
   "outputs": [],
   "source": [
    "term = C_v*alpha**(x - 1)"
   ]
  },
  {
   "cell_type": "markdown",
   "metadata": {},
   "source": [
    "We also introduce a barred versions of the variable. Sympy automatically constructs these to typesetting nicely."
   ]
  },
  {
   "cell_type": "code",
   "execution_count": 4,
   "metadata": {
    "collapsed": true
   },
   "outputs": [],
   "source": [
    "xbar = sympy.symbols('xbar', positive=True)"
   ]
  },
  {
   "cell_type": "markdown",
   "metadata": {},
   "source": [
    "For single variable expressions, we can use `sympy.series` to linearise for us. Note that he help for `sympy.series` references the help for `sympy.Expr.series`, which has a lot more detail about the operation of this function"
   ]
  },
  {
   "cell_type": "code",
   "execution_count": 5,
   "metadata": {
    "collapsed": true
   },
   "outputs": [
    {
     "data": {
      "text/plain": [
       "\u001b[0;31mSignature:\u001b[0m \u001b[0msympy\u001b[0m\u001b[0;34m.\u001b[0m\u001b[0mseries\u001b[0m\u001b[0;34m(\u001b[0m\u001b[0mexpr\u001b[0m\u001b[0;34m,\u001b[0m \u001b[0mx\u001b[0m\u001b[0;34m=\u001b[0m\u001b[0;32mNone\u001b[0m\u001b[0;34m,\u001b[0m \u001b[0mx0\u001b[0m\u001b[0;34m=\u001b[0m\u001b[0;36m0\u001b[0m\u001b[0;34m,\u001b[0m \u001b[0mn\u001b[0m\u001b[0;34m=\u001b[0m\u001b[0;36m6\u001b[0m\u001b[0;34m,\u001b[0m \u001b[0mdir\u001b[0m\u001b[0;34m=\u001b[0m\u001b[0;34m'+'\u001b[0m\u001b[0;34m)\u001b[0m\u001b[0;34m\u001b[0m\u001b[0m\n",
       "\u001b[0;31mDocstring:\u001b[0m\n",
       "Series expansion of expr around point `x = x0`.\n",
       "\n",
       "See the doctring of Expr.series() for complete details of this wrapper.\n",
       "\u001b[0;31mFile:\u001b[0m      ~/anaconda3/lib/python3.6/site-packages/sympy/series/series.py\n",
       "\u001b[0;31mType:\u001b[0m      function\n"
      ]
     },
     "metadata": {},
     "output_type": "display_data"
    }
   ],
   "source": [
    "sympy.series?"
   ]
  },
  {
   "cell_type": "code",
   "execution_count": 6,
   "metadata": {
    "collapsed": true
   },
   "outputs": [
    {
     "data": {
      "text/plain": [
       "\u001b[0;31mSignature:\u001b[0m \u001b[0msympy\u001b[0m\u001b[0;34m.\u001b[0m\u001b[0mExpr\u001b[0m\u001b[0;34m.\u001b[0m\u001b[0mseries\u001b[0m\u001b[0;34m(\u001b[0m\u001b[0mself\u001b[0m\u001b[0;34m,\u001b[0m \u001b[0mx\u001b[0m\u001b[0;34m=\u001b[0m\u001b[0;32mNone\u001b[0m\u001b[0;34m,\u001b[0m \u001b[0mx0\u001b[0m\u001b[0;34m=\u001b[0m\u001b[0;36m0\u001b[0m\u001b[0;34m,\u001b[0m \u001b[0mn\u001b[0m\u001b[0;34m=\u001b[0m\u001b[0;36m6\u001b[0m\u001b[0;34m,\u001b[0m \u001b[0mdir\u001b[0m\u001b[0;34m=\u001b[0m\u001b[0;34m'+'\u001b[0m\u001b[0;34m,\u001b[0m \u001b[0mlogx\u001b[0m\u001b[0;34m=\u001b[0m\u001b[0;32mNone\u001b[0m\u001b[0;34m)\u001b[0m\u001b[0;34m\u001b[0m\u001b[0m\n",
       "\u001b[0;31mDocstring:\u001b[0m\n",
       "Series expansion of \"self\" around ``x = x0`` yielding either terms of\n",
       "the series one by one (the lazy series given when n=None), else\n",
       "all the terms at once when n != None.\n",
       "\n",
       "Returns the series expansion of \"self\" around the point ``x = x0``\n",
       "with respect to ``x`` up to ``O((x - x0)**n, x, x0)`` (default n is 6).\n",
       "\n",
       "If ``x=None`` and ``self`` is univariate, the univariate symbol will\n",
       "be supplied, otherwise an error will be raised.\n",
       "\n",
       ">>> from sympy import cos, exp\n",
       ">>> from sympy.abc import x, y\n",
       ">>> cos(x).series()\n",
       "1 - x**2/2 + x**4/24 + O(x**6)\n",
       ">>> cos(x).series(n=4)\n",
       "1 - x**2/2 + O(x**4)\n",
       ">>> cos(x).series(x, x0=1, n=2)\n",
       "cos(1) - (x - 1)*sin(1) + O((x - 1)**2, (x, 1))\n",
       ">>> e = cos(x + exp(y))\n",
       ">>> e.series(y, n=2)\n",
       "cos(x + 1) - y*sin(x + 1) + O(y**2)\n",
       ">>> e.series(x, n=2)\n",
       "cos(exp(y)) - x*sin(exp(y)) + O(x**2)\n",
       "\n",
       "If ``n=None`` then a generator of the series terms will be returned.\n",
       "\n",
       ">>> term=cos(x).series(n=None)\n",
       ">>> [next(term) for i in range(2)]\n",
       "[1, -x**2/2]\n",
       "\n",
       "For ``dir=+`` (default) the series is calculated from the right and\n",
       "for ``dir=-`` the series from the left. For smooth functions this\n",
       "flag will not alter the results.\n",
       "\n",
       ">>> abs(x).series(dir=\"+\")\n",
       "x\n",
       ">>> abs(x).series(dir=\"-\")\n",
       "-x\n",
       "\u001b[0;31mFile:\u001b[0m      ~/anaconda3/lib/python3.6/site-packages/sympy/core/expr.py\n",
       "\u001b[0;31mType:\u001b[0m      function\n"
      ]
     },
     "metadata": {},
     "output_type": "display_data"
    }
   ],
   "source": [
    "sympy.Expr.series?"
   ]
  },
  {
   "cell_type": "markdown",
   "metadata": {},
   "source": [
    "Calling series by itself will result in an error term (the one with an $\\mathcal{O}$). This is useful to estimate the error of the approximation."
   ]
  },
  {
   "cell_type": "code",
   "execution_count": 7,
   "metadata": {},
   "outputs": [
    {
     "data": {
      "image/png": "[encoded data removed]",
      "text/latex": [
       "$$\\frac{C_{v}}{\\alpha} e^{\\bar{x} \\log{\\left (\\alpha \\right )}} + \\frac{C_{v}}{\\alpha} \\left(x - \\bar{x}\\right) e^{\\bar{x} \\log{\\left (\\alpha \\right )}} \\log{\\left (\\alpha \\right )} + \\mathcal{O}\\left(\\left(x - \\bar{x}\\right)^{2}; x\\rightarrow \\bar{x}\\right)$$"
      ],
      "text/plain": [
       "    x̅⋅log(α)                x̅⋅log(α)                              \n",
       "Cᵥ⋅ℯ            Cᵥ⋅(x - x̅)⋅ℯ         ⋅log(α)    ⎛        2        ⎞\n",
       "───────────── + ───────────────────────────── + O⎝(x - x̅) ; x → x̅⎠\n",
       "      α                       α                                     "
      ]
     },
     "execution_count": 7,
     "metadata": {},
     "output_type": "execute_result"
    }
   ],
   "source": [
    "sympy.series(term, x, xbar, 2)"
   ]
  },
  {
   "cell_type": "markdown",
   "metadata": {},
   "source": [
    "But mostly we will be interested in the expression rather than the error, so we will remove that term with the `removeO` method:"
   ]
  },
  {
   "cell_type": "code",
   "execution_count": 8,
   "metadata": {},
   "outputs": [
    {
     "data": {
      "image/png": "[encoded data removed]",
      "text/latex": [
       "$$\\frac{C_{v}}{\\alpha} \\left(x - \\bar{x}\\right) e^{\\bar{x} \\log{\\left (\\alpha \\right )}} \\log{\\left (\\alpha \\right )} + \\frac{C_{v}}{\\alpha} e^{\\bar{x} \\log{\\left (\\alpha \\right )}}$$"
      ],
      "text/plain": [
       "             x̅⋅log(α)              x̅⋅log(α)\n",
       "Cᵥ⋅(x - x̅)⋅ℯ         ⋅log(α)   Cᵥ⋅ℯ         \n",
       "───────────────────────────── + ─────────────\n",
       "              α                       α      "
      ]
     },
     "execution_count": 8,
     "metadata": {},
     "output_type": "execute_result"
    }
   ],
   "source": [
    "lineq = sympy.series(term, x, xbar, 2).removeO()\n",
    "lineq"
   ]
  },
  {
   "cell_type": "markdown",
   "metadata": {},
   "source": [
    "Rewriting in terms of devation variables\n",
    "--------------\n",
    "\n",
    "While we are here, we can also rewrite in terms of deviation variables:"
   ]
  },
  {
   "cell_type": "code",
   "execution_count": 9,
   "metadata": {
    "collapsed": true
   },
   "outputs": [],
   "source": [
    "xprime = sympy.symbols(\"x'\", positive=True)"
   ]
  },
  {
   "cell_type": "code",
   "execution_count": 10,
   "metadata": {},
   "outputs": [
    {
     "data": {
      "image/png": "[encoded data removed]",
      "text/latex": [
       "$$\\frac{C_{v} x'}{\\alpha} e^{\\bar{x} \\log{\\left (\\alpha \\right )}} \\log{\\left (\\alpha \\right )} + \\frac{C_{v}}{\\alpha} e^{\\bar{x} \\log{\\left (\\alpha \\right )}}$$"
      ],
      "text/plain": [
       "       x̅⋅log(α)              x̅⋅log(α)\n",
       "Cᵥ⋅x'⋅ℯ         ⋅log(α)   Cᵥ⋅ℯ         \n",
       "─────────────────────── + ─────────────\n",
       "           α                    α      "
      ]
     },
     "execution_count": 10,
     "metadata": {},
     "output_type": "execute_result"
    }
   ],
   "source": [
    "lineq_deviation = lineq.subs({x: xprime + xbar})\n",
    "lineq_deviation"
   ]
  },
  {
   "cell_type": "markdown",
   "metadata": {},
   "source": [
    "# A note about simplification\n",
    "\n",
    "You will note that we specified `positive=True` for all our symbols when we created them. This is because the default assumptions about variables in SymPy are that they are complex. And for complex numbers, `log` is not a 1-to-1 function. See if you understand the following:"
   ]
  },
  {
   "cell_type": "code",
   "execution_count": 11,
   "metadata": {},
   "outputs": [
    {
     "data": {
      "image/png": "[encoded data removed]",
      "text/latex": [
       "$$e^{\\bar{x} \\log{\\left (\\alpha \\right )}}$$"
      ],
      "text/plain": [
       " x̅⋅log(α)\n",
       "ℯ         "
      ]
     },
     "execution_count": 11,
     "metadata": {},
     "output_type": "execute_result"
    }
   ],
   "source": [
    "xbar, alpha = sympy.symbols('xbar, alpha')\n",
    "sympy.exp(xbar*sympy.log(alpha)).simplify()"
   ]
  },
  {
   "cell_type": "code",
   "execution_count": 12,
   "metadata": {},
   "outputs": [
    {
     "data": {
      "image/png": "[encoded data removed]",
      "text/latex": [
       "$$\\alpha^{\\bar{x}}$$"
      ],
      "text/plain": [
       " x̅\n",
       "α  "
      ]
     },
     "execution_count": 12,
     "metadata": {},
     "output_type": "execute_result"
    }
   ],
   "source": [
    "xbar, alpha = sympy.symbols('xbar, alpha', positive=True)\n",
    "sympy.exp(xbar*sympy.log(alpha)).simplify()"
   ]
  },
  {
   "cell_type": "markdown",
   "metadata": {},
   "source": [
    "Multiple variables\n",
    "---------------\n",
    "\n",
    "Unfortunately, SymPy doesn't have a built-in function for multivariate Taylor series, and consecutive application of the `series` function doesn't do exactly what we want."
   ]
  },
  {
   "cell_type": "code",
   "execution_count": 13,
   "metadata": {
    "collapsed": true
   },
   "outputs": [],
   "source": [
    "variables = x, y, z = sympy.symbols('x, y, z')\n",
    "bars = xbar, ybar, zbar = sympy.symbols('xbar, ybar, zbar')"
   ]
  },
  {
   "cell_type": "code",
   "execution_count": 14,
   "metadata": {
    "collapsed": true
   },
   "outputs": [],
   "source": [
    "term = x*y*z"
   ]
  },
  {
   "cell_type": "markdown",
   "metadata": {},
   "source": [
    "Note that the other variables are assumed to be constant here, so we don't recover the answer we are looking for."
   ]
  },
  {
   "cell_type": "code",
   "execution_count": 15,
   "metadata": {},
   "outputs": [
    {
     "data": {
      "image/png": "[encoded data removed]",
      "text/latex": [
       "$$x \\bar{y} z + x z \\left(y - \\bar{y}\\right)$$"
      ],
      "text/plain": [
       "x⋅y̅⋅z + x⋅z⋅(y - y̅)"
      ]
     },
     "execution_count": 15,
     "metadata": {},
     "output_type": "execute_result"
    }
   ],
   "source": [
    "term.series(x, xbar, 2).removeO().series(y, ybar, 2).removeO()"
   ]
  },
  {
   "cell_type": "markdown",
   "metadata": {},
   "source": [
    "This function applies the rule basically as it is written in the textbook:"
   ]
  },
  {
   "cell_type": "code",
   "execution_count": 16,
   "metadata": {
    "collapsed": true
   },
   "outputs": [],
   "source": [
    "def linearise(expr, variables, bars):\n",
    "    \"\"\"Linearise a nonlinear expression\n",
    "    \n",
    "    Parameters\n",
    "    ----------\n",
    "    expr: A sympy expression - this could be a single term or a sum of terms\n",
    "    variables: The variables in the expression - all the other symbols in the expression will be treated as parameters\n",
    "    bars: the \"barred\" versions of the variables\n",
    "    \n",
    "    Note: This function will *not work correctly with derivatives in expr*\n",
    "    \"\"\"\n",
    "    vars_and_bars = list(zip(variables, bars))\n",
    "    # This is the constant term\n",
    "    result = expr.subs(vars_and_bars)\n",
    "    # now, we take the derivative with respect to each variable, evaluated at the steady state:\n",
    "    for variable, bar in vars_and_bars:\n",
    "        result += (variable - bar)*expr.diff(variable).subs(vars_and_bars)\n",
    "    return result"
   ]
  },
  {
   "cell_type": "code",
   "execution_count": 17,
   "metadata": {},
   "outputs": [
    {
     "data": {
      "image/png": "[encoded data removed]",
      "text/latex": [
       "$$\\bar{x} \\bar{y} \\bar{z} + \\bar{x} \\bar{y} \\left(z - \\bar{z}\\right) + \\bar{x} \\bar{z} \\left(y - \\bar{y}\\right) + \\bar{y} \\bar{z} \\left(x - \\bar{x}\\right)$$"
      ],
      "text/plain": [
       "x̅⋅y̅⋅z̅ + x̅⋅y̅⋅(z - z̅) + x̅⋅z̅⋅(y - y̅) + y̅⋅z̅⋅(x - x̅)"
      ]
     },
     "execution_count": 17,
     "metadata": {},
     "output_type": "execute_result"
    }
   ],
   "source": [
    "linearise(term, variables, bars)"
   ]
  },
  {
   "cell_type": "code",
   "execution_count": null,
   "metadata": {},
   "outputs": [],
   "source": []
  }
 ],
 "metadata": {
  "anaconda-cloud": {},
  "kernelspec": {
   "display_name": "Python 3",
   "language": "python",
   "name": "python3"
  },
  "language_info": {
   "codemirror_mode": {
    "name": "ipython",
    "version": 3
   },
   "file_extension": ".py",
   "mimetype": "text/x-python",
   "name": "python",
   "nbconvert_exporter": "python",
   "pygments_lexer": "ipython3",
   "version": "3.6.5"
  }
 },
 "nbformat": 4,
 "nbformat_minor": 2
}
