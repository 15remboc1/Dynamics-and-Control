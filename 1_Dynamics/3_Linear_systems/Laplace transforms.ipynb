{
 "cells": [
  {
   "cell_type": "markdown",
   "metadata": {},
   "source": [
    "Laplace transforms in SymPy\n",
    "---------------\n",
    "\n",
    "The Laplace transform is \n",
    "\n",
    "$$\\mathcal{L}\\{f(t)\\} = \\int_0^\\infty f(t) e^{-st} \\mathrm{d}s $$"
   ]
  },
  {
   "cell_type": "code",
   "execution_count": 1,
   "metadata": {},
   "outputs": [],
   "source": [
    "import sympy\n",
    "sympy.init_printing()"
   ]
  },
  {
   "cell_type": "code",
   "execution_count": 2,
   "metadata": {},
   "outputs": [],
   "source": [
    "import matplotlib.pyplot as plt\n",
    "%matplotlib inline"
   ]
  },
  {
   "cell_type": "markdown",
   "metadata": {},
   "source": [
    "Let's define some symbols to work with. We use `Symbol` here so that we can specify the domains and constraints on the symbols."
   ]
  },
  {
   "cell_type": "code",
   "execution_count": 3,
   "metadata": {},
   "outputs": [],
   "source": [
    "t = sympy.Symbol('t')\n",
    "s = sympy.Symbol('s')\n",
    "a = sympy.Symbol('a', real=True, positive=True)"
   ]
  },
  {
   "cell_type": "markdown",
   "metadata": {},
   "source": [
    "We start with a simple function"
   ]
  },
  {
   "cell_type": "code",
   "execution_count": 4,
   "metadata": {},
   "outputs": [
    {
     "data": {
      "image/png": "[encoded data removed]",
      "text/latex": [
       "$$e^{- a t}$$"
      ],
      "text/plain": [
       " -a⋅t\n",
       "ℯ    "
      ]
     },
     "execution_count": 4,
     "metadata": {},
     "output_type": "execute_result"
    }
   ],
   "source": [
    "f = sympy.exp(-a*t)\n",
    "f"
   ]
  },
  {
   "cell_type": "markdown",
   "metadata": {},
   "source": [
    "We can evaluate the integral directly using `integrate`:"
   ]
  },
  {
   "cell_type": "code",
   "execution_count": 5,
   "metadata": {},
   "outputs": [
    {
     "data": {
      "text/latex": [
       "$$\\begin{cases} \\frac{1}{s \\left(\\frac{a}{s} + 1\\right)} & \\text{for}\\: \\left|{\\operatorname{periodic_{argument}}{\\left (s,\\infty \\right )}}\\right| \\leq \\frac{\\pi}{2} \\\\\\int_{0}^{\\infty} e^{- a t} e^{- s t}\\, dt & \\text{otherwise} \\end{cases}$$"
      ],
      "text/plain": [
       "⎧       1                                          π\n",
       "⎪   ─────────      for │periodic_argument(s, ∞)│ ≤ ─\n",
       "⎪     ⎛a    ⎞                                      2\n",
       "⎪   s⋅⎜─ + 1⎟                                       \n",
       "⎪     ⎝s    ⎠                                       \n",
       "⎪                                                   \n",
       "⎨∞                                                  \n",
       "⎪⌠                                                  \n",
       "⎪⎮  -a⋅t  -s⋅t                                      \n",
       "⎪⎮ ℯ    ⋅ℯ     dt              otherwise            \n",
       "⎪⌡                                                  \n",
       "⎪0                                                  \n",
       "⎩                                                   "
      ]
     },
     "execution_count": 5,
     "metadata": {},
     "output_type": "execute_result"
    }
   ],
   "source": [
    "sympy.integrate(f*sympy.exp(-s*t), (t, 0, sympy.oo))"
   ]
  },
  {
   "cell_type": "markdown",
   "metadata": {},
   "source": [
    "This works, but it is a bit cumbersome to have all the extra stuff in there. \n",
    "\n",
    "Sympy provides a function called `laplace_transform` which does this more efficiently. By default it will return conditions of convergence as well (recall this is an improper integral, with an infinite bound, so it will not always converge)."
   ]
  },
  {
   "cell_type": "code",
   "execution_count": 6,
   "metadata": {},
   "outputs": [
    {
     "data": {
      "text/plain": [
       "(1/(a + s), 0, True)"
      ]
     },
     "execution_count": 6,
     "metadata": {},
     "output_type": "execute_result"
    }
   ],
   "source": [
    "sympy.laplace_transform(f, t, s)"
   ]
  },
  {
   "cell_type": "markdown",
   "metadata": {},
   "source": [
    "If we want just the function, we can specify `noconds=True`."
   ]
  },
  {
   "cell_type": "code",
   "execution_count": 7,
   "metadata": {},
   "outputs": [
    {
     "data": {
      "image/png": "[encoded data removed]",
      "text/latex": [
       "$$\\frac{1}{a + s}$$"
      ],
      "text/plain": [
       "  1  \n",
       "─────\n",
       "a + s"
      ]
     },
     "execution_count": 7,
     "metadata": {},
     "output_type": "execute_result"
    }
   ],
   "source": [
    "F = sympy.laplace_transform(f, t, s, noconds=True)\n",
    "F"
   ]
  },
  {
   "cell_type": "markdown",
   "metadata": {},
   "source": [
    "We will find it useful to define a quicker version of this:"
   ]
  },
  {
   "cell_type": "code",
   "execution_count": 8,
   "metadata": {
    "collapsed": true
   },
   "outputs": [],
   "source": [
    "def L(f):\n",
    "    return sympy.laplace_transform(f, t, s, noconds=True)"
   ]
  },
  {
   "cell_type": "markdown",
   "metadata": {},
   "source": [
    "Inverses are simple as well,"
   ]
  },
  {
   "cell_type": "code",
   "execution_count": 9,
   "metadata": {
    "collapsed": true
   },
   "outputs": [],
   "source": [
    "def invL(F):\n",
    "    return sympy.inverse_laplace_transform(F, s, t)"
   ]
  },
  {
   "cell_type": "code",
   "execution_count": 10,
   "metadata": {},
   "outputs": [
    {
     "data": {
      "image/png": "[encoded data removed]",
      "text/latex": [
       "$$e^{- a t} \\theta\\left(t\\right)$$"
      ],
      "text/plain": [
       " -a⋅t             \n",
       "ℯ    ⋅Heaviside(t)"
      ]
     },
     "execution_count": 10,
     "metadata": {},
     "output_type": "execute_result"
    }
   ],
   "source": [
    "invL(F)"
   ]
  },
  {
   "cell_type": "markdown",
   "metadata": {},
   "source": [
    "The unit step function is also known as the Heaviside step function. We will see this function often in inverse laplace transforms. It is typeset as $\\theta(t)$ by sympy."
   ]
  },
  {
   "cell_type": "code",
   "execution_count": 11,
   "metadata": {},
   "outputs": [
    {
     "data": {
      "image/png": "[encoded data removed]",
      "text/latex": [
       "$$\\theta\\left(t\\right)$$"
      ],
      "text/plain": [
       "Heaviside(t)"
      ]
     },
     "execution_count": 11,
     "metadata": {},
     "output_type": "execute_result"
    }
   ],
   "source": [
    "sympy.Heaviside(t)"
   ]
  },
  {
   "cell_type": "code",
   "execution_count": 12,
   "metadata": {},
   "outputs": [
    {
     "data": {
      "image/png": "[encoded data removed]",
      "text/plain": [
       "<Figure size 432x288 with 1 Axes>"
      ]
     },
     "metadata": {},
     "output_type": "display_data"
    }
   ],
   "source": [
    "sympy.plot(sympy.Heaviside(t));"
   ]
  },
  {
   "cell_type": "markdown",
   "metadata": {},
   "source": [
    "Look at the difference between $f$ and the inverse laplace transform we obtained, which contains the unit step to force it to zero before $t=0$."
   ]
  },
  {
   "cell_type": "code",
   "execution_count": 13,
   "metadata": {},
   "outputs": [
    {
     "data": {
      "image/png": "[encoded data removed]",
      "text/latex": [
       "$$e^{- 2 t} \\theta\\left(t\\right)$$"
      ],
      "text/plain": [
       " -2⋅t             \n",
       "ℯ    ⋅Heaviside(t)"
      ]
     },
     "execution_count": 13,
     "metadata": {},
     "output_type": "execute_result"
    }
   ],
   "source": [
    "invL(F).subs({a: 2})"
   ]
  },
  {
   "cell_type": "code",
   "execution_count": 14,
   "metadata": {},
   "outputs": [
    {
     "data": {
      "image/png": "[encoded data removed]",
      "text/plain": [
       "<Figure size 432x288 with 1 Axes>"
      ]
     },
     "metadata": {},
     "output_type": "display_data"
    }
   ],
   "source": [
    "p = sympy.plot(f.subs({a: 2}), invL(F).subs({a: 2}), \n",
    "               xlim=(-1, 4), ylim=(0, 3), show=False)\n",
    "p[1].line_color = 'red'\n",
    "p.show()"
   ]
  },
  {
   "cell_type": "markdown",
   "metadata": {},
   "source": [
    "Let's see if we can match the functions in the table"
   ]
  },
  {
   "cell_type": "code",
   "execution_count": 15,
   "metadata": {},
   "outputs": [
    {
     "data": {
      "image/png": "[encoded data removed]",
      "text/latex": [
       "$$\\left [ 1, \\quad t, \\quad e^{- a t}, \\quad t e^{- a t}, \\quad t^{2} e^{- a t}, \\quad \\sin{\\left (\\omega t \\right )}, \\quad \\cos{\\left (\\omega t \\right )}, \\quad 1 - e^{- a t}, \\quad e^{- a t} \\sin{\\left (\\omega t \\right )}, \\quad e^{- a t} \\cos{\\left (\\omega t \\right )}\\right ]$$"
      ],
      "text/plain": [
       "⎡       -a⋅t     -a⋅t   2  -a⋅t                           -a⋅t   -a⋅t         \n",
       "⎣1, t, ℯ    , t⋅ℯ    , t ⋅ℯ    , sin(ω⋅t), cos(ω⋅t), 1 - ℯ    , ℯ    ⋅sin(ω⋅t)\n",
       "\n",
       "   -a⋅t         ⎤\n",
       ", ℯ    ⋅cos(ω⋅t)⎦"
      ]
     },
     "execution_count": 15,
     "metadata": {},
     "output_type": "execute_result"
    }
   ],
   "source": [
    "omega = sympy.Symbol('omega', real=True)\n",
    "exp = sympy.exp\n",
    "sin = sympy.sin\n",
    "cos = sympy.cos\n",
    "functions = [1,\n",
    "         t,\n",
    "         exp(-a*t),\n",
    "         t*exp(-a*t),\n",
    "         t**2*exp(-a*t),\n",
    "         sin(omega*t),\n",
    "         cos(omega*t),\n",
    "         1 - exp(-a*t),\n",
    "         exp(-a*t)*sin(omega*t),\n",
    "         exp(-a*t)*cos(omega*t),\n",
    "         ]\n",
    "functions"
   ]
  },
  {
   "cell_type": "code",
   "execution_count": 16,
   "metadata": {},
   "outputs": [
    {
     "data": {
      "image/png": "[encoded data removed]",
      "text/latex": [
       "$$\\left [ \\frac{1}{s}, \\quad \\frac{1}{s^{2}}, \\quad \\frac{1}{a + s}, \\quad \\frac{1}{\\left(a + s\\right)^{2}}, \\quad \\frac{2}{\\left(a + s\\right)^{3}}, \\quad \\frac{\\omega}{\\omega^{2} + s^{2}}, \\quad \\frac{s}{\\omega^{2} + s^{2}}, \\quad \\frac{a}{s \\left(a + s\\right)}, \\quad \\frac{\\omega}{\\omega^{2} + \\left(a + s\\right)^{2}}, \\quad \\frac{a + s}{\\omega^{2} + \\left(a + s\\right)^{2}}\\right ]$$"
      ],
      "text/plain": [
       "⎡1  1     1       1         2         ω        s         a            ω       \n",
       "⎢─, ──, ─────, ────────, ────────, ───────, ───────, ─────────, ─────────────,\n",
       "⎢s   2  a + s         2         3   2    2   2    2  s⋅(a + s)   2          2 \n",
       "⎣   s          (a + s)   (a + s)   ω  + s   ω  + s              ω  + (a + s)  \n",
       "\n",
       "     a + s    ⎤\n",
       " ─────────────⎥\n",
       "  2          2⎥\n",
       " ω  + (a + s) ⎦"
      ]
     },
     "execution_count": 16,
     "metadata": {},
     "output_type": "execute_result"
    }
   ],
   "source": [
    "Fs = [L(f) for f in functions]\n",
    "Fs"
   ]
  },
  {
   "cell_type": "markdown",
   "metadata": {},
   "source": [
    "We can make a pretty good approximation of the table with a little help from pandas"
   ]
  },
  {
   "cell_type": "code",
   "execution_count": 17,
   "metadata": {
    "collapsed": true
   },
   "outputs": [],
   "source": [
    "from pandas import DataFrame"
   ]
  },
  {
   "cell_type": "code",
   "execution_count": 18,
   "metadata": {
    "collapsed": true
   },
   "outputs": [],
   "source": [
    "def makelatex(args):\n",
    "    return [\"${}$\".format(sympy.latex(a)) for a in args]"
   ]
  },
  {
   "cell_type": "code",
   "execution_count": 19,
   "metadata": {},
   "outputs": [
    {
     "data": {
      "text/html": [
       "<div>\n",
       "<style scoped>\n",
       "    .dataframe tbody tr th:only-of-type {\n",
       "        vertical-align: middle;\n",
       "    }\n",
       "\n",
       "    .dataframe tbody tr th {\n",
       "        vertical-align: top;\n",
       "    }\n",
       "\n",
       "    .dataframe thead th {\n",
       "        text-align: right;\n",
       "    }\n",
       "</style>\n",
       "<table border=\"1\" class=\"dataframe\">\n",
       "  <thead>\n",
       "    <tr style=\"text-align: right;\">\n",
       "      <th></th>\n",
       "      <th>0</th>\n",
       "      <th>1</th>\n",
       "    </tr>\n",
       "  </thead>\n",
       "  <tbody>\n",
       "    <tr>\n",
       "      <th>0</th>\n",
       "      <td>$1$</td>\n",
       "      <td>$\\frac{1}{s}$</td>\n",
       "    </tr>\n",
       "    <tr>\n",
       "      <th>1</th>\n",
       "      <td>$t$</td>\n",
       "      <td>$\\frac{1}{s^{2}}$</td>\n",
       "    </tr>\n",
       "    <tr>\n",
       "      <th>2</th>\n",
       "      <td>$e^{- a t}$</td>\n",
       "      <td>$\\frac{1}{a + s}$</td>\n",
       "    </tr>\n",
       "    <tr>\n",
       "      <th>3</th>\n",
       "      <td>$t e^{- a t}$</td>\n",
       "      <td>$\\frac{1}{\\left(a + s\\right)^{2}}$</td>\n",
       "    </tr>\n",
       "    <tr>\n",
       "      <th>4</th>\n",
       "      <td>$t^{2} e^{- a t}$</td>\n",
       "      <td>$\\frac{2}{\\left(a + s\\right)^{3}}$</td>\n",
       "    </tr>\n",
       "    <tr>\n",
       "      <th>5</th>\n",
       "      <td>$\\sin{\\left (\\omega t \\right )}$</td>\n",
       "      <td>$\\frac{\\omega}{\\omega^{2} + s^{2}}$</td>\n",
       "    </tr>\n",
       "    <tr>\n",
       "      <th>6</th>\n",
       "      <td>$\\cos{\\left (\\omega t \\right )}$</td>\n",
       "      <td>$\\frac{s}{\\omega^{2} + s^{2}}$</td>\n",
       "    </tr>\n",
       "    <tr>\n",
       "      <th>7</th>\n",
       "      <td>$1 - e^{- a t}$</td>\n",
       "      <td>$\\frac{a}{s \\left(a + s\\right)}$</td>\n",
       "    </tr>\n",
       "    <tr>\n",
       "      <th>8</th>\n",
       "      <td>$e^{- a t} \\sin{\\left (\\omega t \\right )}$</td>\n",
       "      <td>$\\frac{\\omega}{\\omega^{2} + \\left(a + s\\right)...</td>\n",
       "    </tr>\n",
       "    <tr>\n",
       "      <th>9</th>\n",
       "      <td>$e^{- a t} \\cos{\\left (\\omega t \\right )}$</td>\n",
       "      <td>$\\frac{a + s}{\\omega^{2} + \\left(a + s\\right)^...</td>\n",
       "    </tr>\n",
       "  </tbody>\n",
       "</table>\n",
       "</div>"
      ],
      "text/plain": [
       "                                            0  \\\n",
       "0                                         $1$   \n",
       "1                                         $t$   \n",
       "2                                 $e^{- a t}$   \n",
       "3                               $t e^{- a t}$   \n",
       "4                           $t^{2} e^{- a t}$   \n",
       "5            $\\sin{\\left (\\omega t \\right )}$   \n",
       "6            $\\cos{\\left (\\omega t \\right )}$   \n",
       "7                             $1 - e^{- a t}$   \n",
       "8  $e^{- a t} \\sin{\\left (\\omega t \\right )}$   \n",
       "9  $e^{- a t} \\cos{\\left (\\omega t \\right )}$   \n",
       "\n",
       "                                                   1  \n",
       "0                                      $\\frac{1}{s}$  \n",
       "1                                  $\\frac{1}{s^{2}}$  \n",
       "2                                  $\\frac{1}{a + s}$  \n",
       "3                 $\\frac{1}{\\left(a + s\\right)^{2}}$  \n",
       "4                 $\\frac{2}{\\left(a + s\\right)^{3}}$  \n",
       "5                $\\frac{\\omega}{\\omega^{2} + s^{2}}$  \n",
       "6                     $\\frac{s}{\\omega^{2} + s^{2}}$  \n",
       "7                   $\\frac{a}{s \\left(a + s\\right)}$  \n",
       "8  $\\frac{\\omega}{\\omega^{2} + \\left(a + s\\right)...  \n",
       "9  $\\frac{a + s}{\\omega^{2} + \\left(a + s\\right)^...  "
      ]
     },
     "execution_count": 19,
     "metadata": {},
     "output_type": "execute_result"
    }
   ],
   "source": [
    "DataFrame(list(zip(makelatex(functions), makelatex(Fs))))"
   ]
  },
  {
   "cell_type": "markdown",
   "metadata": {},
   "source": [
    "More complicated inverses\n",
    "---------\n",
    "\n",
    "Why doesn't the table feature more complicated functions? Because higher-order rational functions can be written as sums of simpler ones through application of partial fractions expansion."
   ]
  },
  {
   "cell_type": "code",
   "execution_count": 20,
   "metadata": {
    "collapsed": true
   },
   "outputs": [],
   "source": [
    "F = ((s + 1)*(s + 2)* (s + 3))/((s + 4)*(s + 5)*(s + 6))"
   ]
  },
  {
   "cell_type": "code",
   "execution_count": 21,
   "metadata": {},
   "outputs": [
    {
     "data": {
      "image/png": "[encoded data removed]",
      "text/latex": [
       "$$\\frac{\\left(s + 1\\right) \\left(s + 2\\right) \\left(s + 3\\right)}{\\left(s + 4\\right) \\left(s + 5\\right) \\left(s + 6\\right)}$$"
      ],
      "text/plain": [
       "(s + 1)⋅(s + 2)⋅(s + 3)\n",
       "───────────────────────\n",
       "(s + 4)⋅(s + 5)⋅(s + 6)"
      ]
     },
     "execution_count": 21,
     "metadata": {},
     "output_type": "execute_result"
    }
   ],
   "source": [
    "F"
   ]
  },
  {
   "cell_type": "code",
   "execution_count": 22,
   "metadata": {},
   "outputs": [
    {
     "data": {
      "image/png": "[encoded data removed]",
      "text/latex": [
       "$$1 - \\frac{30}{s + 6} + \\frac{24}{s + 5} - \\frac{3}{s + 4}$$"
      ],
      "text/plain": [
       "      30      24      3  \n",
       "1 - ───── + ───── - ─────\n",
       "    s + 6   s + 5   s + 4"
      ]
     },
     "execution_count": 22,
     "metadata": {},
     "output_type": "execute_result"
    }
   ],
   "source": [
    "F.apart(s)"
   ]
  },
  {
   "cell_type": "markdown",
   "metadata": {},
   "source": [
    "Even sympy can benefit from a little help sometimes. When we try to calculate the inverse of $F$ we get a bit of a nasty answer:"
   ]
  },
  {
   "cell_type": "code",
   "execution_count": 23,
   "metadata": {},
   "outputs": [
    {
     "data": {
      "image/png": "[encoded data removed]",
      "text/latex": [
       "$$3 \\left(e^{2 t} - 2 e^{t} + 1\\right) e^{- 6 t} \\theta\\left(t\\right) - 11 \\left(2 e^{2 t} - 5 e^{t} + 3\\right) e^{- 6 t} \\theta\\left(t\\right) + 6 \\left(8 e^{2 t} - 25 e^{t} + 18\\right) e^{- 6 t} \\theta\\left(t\\right) + \\mathcal{L}^{-1}_{s}\\left[\\frac{s^{3}}{s^{3} + 15 s^{2} + 74 s + 120}\\right]\\left(t\\right)$$"
      ],
      "text/plain": [
       "                                                                              \n",
       "  ⎛ 2⋅t      t    ⎞  -6⋅t                   ⎛   2⋅t      t    ⎞  -6⋅t         \n",
       "3⋅⎝ℯ    - 2⋅ℯ  + 1⎠⋅ℯ    ⋅Heaviside(t) - 11⋅⎝2⋅ℯ    - 5⋅ℯ  + 3⎠⋅ℯ    ⋅Heavisid\n",
       "                                                                              \n",
       "                                                                              \n",
       "\n",
       "                                                                           ⎛  \n",
       "         ⎛   2⋅t       t     ⎞  -6⋅t                                       ⎜  \n",
       "e(t) + 6⋅⎝8⋅ℯ    - 25⋅ℯ  + 18⎠⋅ℯ    ⋅Heaviside(t) + InverseLaplaceTransform⎜──\n",
       "                                                                           ⎜ 3\n",
       "                                                                           ⎝s \n",
       "\n",
       "          3                      ⎞\n",
       "         s                       ⎟\n",
       "─────────────────────, s, t, None⎟\n",
       "       2                         ⎟\n",
       " + 15⋅s  + 74⋅s + 120            ⎠"
      ]
     },
     "execution_count": 23,
     "metadata": {},
     "output_type": "execute_result"
    }
   ],
   "source": [
    "invL(F)"
   ]
  },
  {
   "cell_type": "markdown",
   "metadata": {},
   "source": [
    "Perhaps it looks better if we simplify?"
   ]
  },
  {
   "cell_type": "code",
   "execution_count": 24,
   "metadata": {},
   "outputs": [
    {
     "data": {
      "image/png": "[encoded data removed]",
      "text/latex": [
       "$$\\mathcal{L}^{-1}_{s}\\left[\\frac{s^{3}}{s^{3} + 15 s^{2} + 74 s + 120}\\right]\\left(t\\right) + 29 e^{- 4 t} \\theta\\left(t\\right) - 101 e^{- 5 t} \\theta\\left(t\\right) + 78 e^{- 6 t} \\theta\\left(t\\right)$$"
      ],
      "text/plain": [
       "                       ⎛            3                      ⎞                  \n",
       "                       ⎜           s                       ⎟       -4⋅t       \n",
       "InverseLaplaceTransform⎜───────────────────────, s, t, None⎟ + 29⋅ℯ    ⋅Heavis\n",
       "                       ⎜ 3       2                         ⎟                  \n",
       "                       ⎝s  + 15⋅s  + 74⋅s + 120            ⎠                  \n",
       "\n",
       "                                                       \n",
       "              -5⋅t                    -6⋅t             \n",
       "ide(t) - 101⋅ℯ    ⋅Heaviside(t) + 78⋅ℯ    ⋅Heaviside(t)\n",
       "                                                       \n",
       "                                                       "
      ]
     },
     "execution_count": 24,
     "metadata": {},
     "output_type": "execute_result"
    }
   ],
   "source": [
    "invL(F).simplify()"
   ]
  },
  {
   "cell_type": "markdown",
   "metadata": {},
   "source": [
    "No, it still features an \"unknown\" laplace transform. If we do the partial fractions expansion first, we get a clean answer:"
   ]
  },
  {
   "cell_type": "code",
   "execution_count": 25,
   "metadata": {},
   "outputs": [
    {
     "data": {
      "image/png": "[encoded data removed]",
      "text/latex": [
       "$$\\mathcal{L}^{-1}_{s}\\left[1\\right]\\left(t\\right) - 3 e^{- 4 t} \\theta\\left(t\\right) + 24 e^{- 5 t} \\theta\\left(t\\right) - 30 e^{- 6 t} \\theta\\left(t\\right)$$"
      ],
      "text/plain": [
       "                                            -4⋅t                    -5⋅t      \n",
       "InverseLaplaceTransform(1, s, t, None) - 3⋅ℯ    ⋅Heaviside(t) + 24⋅ℯ    ⋅Heavi\n",
       "\n",
       "              -6⋅t             \n",
       "side(t) - 30⋅ℯ    ⋅Heaviside(t)"
      ]
     },
     "execution_count": 25,
     "metadata": {},
     "output_type": "execute_result"
    }
   ],
   "source": [
    "invL(F.apart(s))"
   ]
  },
  {
   "cell_type": "code",
   "execution_count": null,
   "metadata": {},
   "outputs": [],
   "source": []
  }
 ],
 "metadata": {
  "anaconda-cloud": {},
  "kernelspec": {
   "display_name": "Python 3",
   "language": "python",
   "name": "python3"
  },
  "language_info": {
   "codemirror_mode": {
    "name": "ipython",
    "version": 3
   },
   "file_extension": ".py",
   "mimetype": "text/x-python",
   "name": "python",
   "nbconvert_exporter": "python",
   "pygments_lexer": "ipython3",
   "version": "3.6.5"
  }
 },
 "nbformat": 4,
 "nbformat_minor": 2
}
