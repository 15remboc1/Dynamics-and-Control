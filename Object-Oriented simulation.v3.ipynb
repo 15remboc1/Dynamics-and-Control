{
 "metadata": {
  "kernelspec": {
   "display_name": "Python 3",
   "language": "python",
   "name": "python3"
  },
  "language_info": {
   "codemirror_mode": {
    "name": "ipython",
    "version": 3
   },
   "file_extension": ".py",
   "mimetype": "text/x-python",
   "name": "python",
   "nbconvert_exporter": "python",
   "pygments_lexer": "ipython3",
   "version": "3.5.1"
  },
  "name": ""
 },
 "nbformat": 3,
 "nbformat_minor": 0,
 "worksheets": [
  {
   "cells": [
    {
     "cell_type": "markdown",
     "metadata": {},
     "source": [
      "Objects\n",
      "-------\n",
      "\n",
      "In the previous `for` loop for integration it was clear that we were working with two systems - the tank system and the controller. We can see some similarities between the two systems: both of them have an input ($x$ for the tank, $e$ for the controller) and an output ($h$ for the tank, $x$ for the controller), both of them have an internal state ($V$ and the integral of the error). However, we ended up having to repeat a lot of calculations for the two of them, and the code corresponding to the two systems ended up in different places between the two of them.\n",
      "\n",
      "Objects allow us to group each system's equations and data together so that our loop can be cleaner and the parts of the code that are specific to each system can be all in one place."
     ]
    },
    {
     "cell_type": "code",
     "collapsed": true,
     "input": [
      "import numpy\n",
      "import scipy.signal\n",
      "import matplotlib.pyplot as plt\n",
      "%matplotlib inline"
     ],
     "language": "python",
     "metadata": {},
     "outputs": [],
     "prompt_number": 179
    },
    {
     "cell_type": "markdown",
     "metadata": {},
     "source": [
      "We start by defining a `class` for the tank system:"
     ]
    },
    {
     "cell_type": "code",
     "collapsed": false,
     "input": [
      "class TankSystem:\n",
      "    def __init__(self, A, alpha, K, V, Fi):\n",
      "        \"\"\" This special function gets called when an object of this class is created\"\"\"\n",
      "        self.A = A\n",
      "        self.alpha = alpha\n",
      "        self.K = K\n",
      "        self.Fi = Fi\n",
      "        self.change_state(V)\n",
      "    \n",
      "    def f(self, x):\n",
      "        return self.alpha**(x - 1)\n",
      "    \n",
      "    def change_input(self, x):\n",
      "        self.Fo = self.K*self.f(x)*numpy.sqrt(self.h)\n",
      "        \n",
      "    def change_state(self, V):\n",
      "        self.state = self.V = V\n",
      "        self.output = self.h = self.V/self.A\n",
      "\n",
      "    def derivative(self, x):\n",
      "        self.change_input(x)\n",
      "        dVdt = self.Fi - self.Fo\n",
      "        return dVdt"
     ],
     "language": "python",
     "metadata": {},
     "outputs": [],
     "prompt_number": 214
    },
    {
     "cell_type": "markdown",
     "metadata": {},
     "source": [
      "The functions defined inside the class are known as `methods` and are called as `object.method(arguments)`. You may imagine that `object.method(arguments)` gets translated to `method(object, arguments)` before it is called, so the `self` argument to methods will be the object whose method is called."
     ]
    },
    {
     "cell_type": "markdown",
     "metadata": {},
     "source": [
      "And another for the PI controller."
     ]
    },
    {
     "cell_type": "code",
     "collapsed": true,
     "input": [
      "class PIController:\n",
      "    def __init__(self, Kc, tau_i, bias):\n",
      "        self.G = scipy.signal.lti([Kc*tau_i, Kc], [tau_i, 0])\n",
      "        self.change_state(numpy.zeros((self.G.A.shape[0], 1)))\n",
      "        self.bias = self.output = bias\n",
      "        self.y = self.bias\n",
      "        \n",
      "    def change_input(self, u):\n",
      "        self.y = self.G.C.dot(self.x) + self.G.D.dot(u) + self.bias\n",
      "        self.output = self.y[0, 0]  # because y is a matrix, and we want a scalar output\n",
      "    \n",
      "    def change_state(self, x):\n",
      "        self.x = self.state = x\n",
      "    \n",
      "    def derivative(self, e):\n",
      "        return self.G.A.dot(self.x) + self.G.B.dot(e)"
     ],
     "language": "python",
     "metadata": {},
     "outputs": [],
     "prompt_number": 215
    },
    {
     "cell_type": "code",
     "collapsed": false,
     "input": [
      "ts = numpy.linspace(0, 100, 1000)\n",
      "dt = ts[1]"
     ],
     "language": "python",
     "metadata": {},
     "outputs": [],
     "prompt_number": 216
    },
    {
     "cell_type": "code",
     "collapsed": true,
     "input": [
      "sp = 1.3"
     ],
     "language": "python",
     "metadata": {},
     "outputs": [],
     "prompt_number": 217
    },
    {
     "cell_type": "markdown",
     "metadata": {},
     "source": [
      "Now we can integrate. Notice that in the code below there is no specific reference to tanks or PI controllers. To change the type of controller or the system, we can change the kinds of objects we create as `system` and `controller`"
     ]
    },
    {
     "cell_type": "code",
     "collapsed": false,
     "input": [
      "def control_simulation(system, controller):\n",
      "    outputs = []\n",
      "    for t in ts:\n",
      "        system.change_input(controller.output)\n",
      "\n",
      "        e = sp - system.output\n",
      "\n",
      "        controller.change_input(e)\n",
      "\n",
      "        system.change_state(system.state + system.derivative(controller.output)*dt)\n",
      "        controller.change_state(controller.state + controller.derivative(e)*dt)\n",
      "\n",
      "        outputs.append(system.output)\n",
      "    return outputs"
     ],
     "language": "python",
     "metadata": {},
     "outputs": [],
     "prompt_number": 218
    },
    {
     "cell_type": "code",
     "collapsed": false,
     "input": [
      "system = TankSystem(A=2, alpha=20, K=2, V=2, Fi=1)\n",
      "controller = PIController(Kc=-1, tau_i=5, bias=0.7)"
     ],
     "language": "python",
     "metadata": {},
     "outputs": [],
     "prompt_number": 219
    },
    {
     "cell_type": "code",
     "collapsed": true,
     "input": [
      "outputs = control_simulation(system, controller)"
     ],
     "language": "python",
     "metadata": {},
     "outputs": [],
     "prompt_number": 220
    },
    {
     "cell_type": "code",
     "collapsed": false,
     "input": [
      "plt.plot(ts, outputs)"
     ],
     "language": "python",
     "metadata": {},
     "outputs": [
      {
       "metadata": {},
       "output_type": "pyout",
       "prompt_number": 221,
       "text": [
        "[<matplotlib.lines.Line2D at 0x1110fa4e0>]"
       ]
      },
      {
       "metadata": {},
       "output_type": "display_data",
       "png": "[encoded data removed]",
       "text": [
        "<matplotlib.figure.Figure at 0x1110b5be0>"
       ]
      }
     ],
     "prompt_number": 221
    },
    {
     "cell_type": "markdown",
     "metadata": {},
     "source": [
      "This allows us to simulate different situations easily."
     ]
    },
    {
     "cell_type": "code",
     "collapsed": false,
     "input": [
      "outputs = control_simulation(system=TankSystem(A=2, alpha=10, K=2, V=2, Fi=1), \n",
      "                             controller=PIController(Kc=-2, tau_i=5, bias=0.5))\n",
      "plt.plot(ts, outputs);"
     ],
     "language": "python",
     "metadata": {},
     "outputs": [
      {
       "metadata": {},
       "output_type": "display_data",
       "png": "[encoded data removed]",
       "text": [
        "<matplotlib.figure.Figure at 0x1110c19e8>"
       ]
      }
     ],
     "prompt_number": 222
    },
    {
     "cell_type": "markdown",
     "metadata": {},
     "source": [
      "Note that we could also define a completely new system. The controller doesn't \"know\" it is a level controller in this case, so let's build a class which would represent an LTI system under control:"
     ]
    },
    {
     "cell_type": "code",
     "collapsed": true,
     "input": [
      "class LtiSystem:\n",
      "    def __init__(self, numerator, denominator):\n",
      "        self.G = scipy.signal.lti(numerator, denominator)\n",
      "        self.change_state(numpy.zeros((self.G.A.shape[0], 1)))\n",
      "        self.y = self.output = 0\n",
      "        \n",
      "    def change_input(self, u):\n",
      "        self.y = self.G.C.dot(self.x) + self.G.D.dot(u)\n",
      "        self.output = self.y[0, 0]\n",
      "    \n",
      "    def change_state(self, x):\n",
      "        self.x = self.state = x\n",
      "    \n",
      "    def derivative(self, e):\n",
      "        return self.G.A.dot(self.x) + self.G.B.dot(e)"
     ],
     "language": "python",
     "metadata": {},
     "outputs": [],
     "prompt_number": 223
    },
    {
     "cell_type": "markdown",
     "metadata": {},
     "source": [
      "Now we can simulate the response of an arbitrary LTI system to an arbitrary controller as long as we have classes to represent their behaviour!"
     ]
    },
    {
     "cell_type": "code",
     "collapsed": false,
     "input": [
      "outputs = control_simulation(system=LtiSystem(1, [1, 1]), \n",
      "                             controller=PIController(Kc=1, tau_i=10, bias=0))\n",
      "plt.plot(ts, outputs)"
     ],
     "language": "python",
     "metadata": {},
     "outputs": [
      {
       "metadata": {},
       "output_type": "pyout",
       "prompt_number": 224,
       "text": [
        "[<matplotlib.lines.Line2D at 0x1115b7860>]"
       ]
      },
      {
       "metadata": {},
       "output_type": "display_data",
       "png": "[encoded data removed]",
       "text": [
        "<matplotlib.figure.Figure at 0x111100748>"
       ]
      }
     ],
     "prompt_number": 224
    }
   ],
   "metadata": {}
  }
 ]
}
