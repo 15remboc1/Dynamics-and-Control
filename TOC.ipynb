{
 "cells": [
  {
   "cell_type": "markdown",
   "metadata": {},
   "source": [
    "## 0. Getting Started\n",
    "* [Notebook introduction](Notebook%20introduction.ipynb)\n",
    "* [SymPy cheatsheet](SymPy%20cheatsheet.ipynb)\n",
    "\n",
    "## 1. Dynamics\n",
    "### 1.1 Modelling\n",
    "* [Equation solving tools](Equation%20solving%20tools.ipynb)\n",
    "\n",
    "### 1.2. Time domain simulation\n",
    "* [Nonlinear CSTR example](Nonlinear%20CSTR.ipynb)\n",
    "* [Numeric representation](Numeric%20representation.ipynb)\n",
    "* [Read input from file](Read%20input%20from%20file.ipynb)\n",
    "\n",
    "### 1.3. Linear systems\n",
    "* [Linearisation](Linearisation.ipynb)\n",
    "* [Laplace transforms](Laplace%20transforms.ipynb)\n",
    "* [Convolution](Convolution.ipynb)\n",
    "* [Visualising complex functions](Visualising%20complex%20functions.ipynb)\n",
    "* [Approximation](Approximation.ipynb)\n",
    "\n",
    "### 1.4 First and second order system dynamics\n",
    "* [Standard process inputs](Standard%20process%20inputs.ipynb)\n",
    "* [First order systems](First%20order%20systems.ipynb)\n",
    "* [Second order systems](Second%20order%20systems.ipynb)\n",
    "* [Sinusoidal response](Sinusoidal%20response.ipynb)\n",
    "\n",
    "### 1.5 Complex system dynamics\n",
    "* [Random response generator](Random%20response%20generator.ipynb)\n",
    "* [Simulation of arbitrary transfer functions](Simulation%20of%20arbitrary%20transfer%20functions.ipynb)\n",
    "* [Block diagram simplification](Block%20diagram%20simplification.ipynb)\n",
    "\n",
    "### 1.6 Multivariable system representation\n",
    "* [State space](State%20space.ipynb)\n",
    "\n",
    "### 1.7. System identification\n",
    "* [Regression](Regression.ipynb)\n",
    "* [Dynamic model parameter estimation](Dynamic%20model%20parameter%20estimation.ipynb)\n",
    "* [Neural networks](Neural%20networks.ipynb)\n",
    "* [Identifying discrete-time models](Identifying%20discrete-time%20models.ipynb)\n",
    "\n",
    "### 1.8. Frequency doman\n",
    "* [Fourier series](Fourier%20series.ipynb)\n",
    "* [Sound and frequency](Sound%20and%20frequency.ipynb)\n",
    "* [Frequency domain plots](Frequency%20response%20plots.ipynb)\n",
    "* [Asymptotic Bode diagrams](Asymptotic%20Bode%20diagrams.ipynb)\n",
    "\n",
    "### 1.9 Sampled systems\n",
    "* [Aliasing](Aliasing.ipynb)\n",
    "* [The z transform](The%20z%20transform.ipynb)\n",
    "\n",
    "## 2. Control\n",
    "\n",
    "* [Effect of Proportional Control](Effect%20of%20Proportional%20Control.ipynb)\n",
    "* [SymPy Routh Array](SymPy%20Routh%20Array.ipynb)\n",
    "* [Direct synthesis PID design](Direct%20synthesis%20PID%20design.ipynb)\n",
    "* [Frequency domain stability](Frequency%20domain%20stability.ipynb)\n",
    "* [Hybrid system simulation](Hybrid%20system%20simulation.ipynb)\n",
    "* [Object-Oriented simulation](Object-Oriented%20simulation.ipynb)\n",
    "* [Special functions in classes](Special%20functions%20in%20classes.ipynb)\n",
    "* [Discrete control](Discrete%20control.ipynb)\n",
    "* [Dahlin controller](Dahlin%20controller.ipynb)\n",
    "* [Object-Oriented simulation - Discrete](Object-Oriented%20simulation%20-%20Discrete.ipynb)\n",
    "* [Multivariable closed loop transfer functions](Multivariable%20closed%20loop%20transfer%20functions.ipynb)\n",
    "* [Multivariable stability analysis](Multivariable%20stability%20analysis.ipynb)\n",
    "* [Multivariable pairing (RGA)](Multivariable%20Pairing.ipynb)\n",
    "* [Optimal control - minimal integral measures](Optimal%20control%20-%20minimal%20integral%20measures.ipynb)\n",
    "* [Simple MPC](Simple%20MPC.ipynb)\n",
    "* [Control valve design](Control%20valve%20design.ipynb)\n"
   ]
  },
  {
   "cell_type": "code",
   "execution_count": null,
   "metadata": {
    "collapsed": true
   },
   "outputs": [],
   "source": []
  }
 ],
 "metadata": {
  "kernelspec": {
   "display_name": "Python 3",
   "language": "python",
   "name": "python3"
  },
  "language_info": {
   "codemirror_mode": {
    "name": "ipython",
    "version": 3
   },
   "file_extension": ".py",
   "mimetype": "text/x-python",
   "name": "python",
   "nbconvert_exporter": "python",
   "pygments_lexer": "ipython3",
   "version": "3.6.3"
  }
 },
 "nbformat": 4,
 "nbformat_minor": 2
}
