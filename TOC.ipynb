{
 "cells": [
  {
   "cell_type": "markdown",
   "metadata": {},
   "source": [
    "## 0. Getting Started\n",
    "* [Notebook introduction](Notebook%20introduction.ipynb)\n",
    "* [SymPy cheatsheet](SymPy%20cheatsheet.ipynb)"
   ]
  },
  {
   "cell_type": "markdown",
   "metadata": {},
   "source": [
    "## 1. Dynamics\n",
    "### 1.1 Modelling\n",
    "* [Equation solving tools](Equation%20solving%20tools.ipynb)\n",
    "\n",
    "### 1.2. Time domain simulation\n",
    "* [Nonlinear CSTR example](Nonlinear%20CSTR.ipynb)\n",
    "* [Numeric representation](Numeric%20representation.ipynb)\n",
    "* [Read input from file](Read%20input%20from%20file.ipynb)\n",
    "\n",
    "### 1.3. Linear systems\n",
    "* [Linearisation](Linearisation.ipynb)\n",
    "* [Laplace transforms](Laplace%20transforms.ipynb)\n",
    "* [Convolution](Convolution.ipynb)\n",
    "* [Visualising complex functions](Visualising%20complex%20functions.ipynb)\n",
    "* [Approximation](Approximation.ipynb)\n",
    "\n",
    "### 1.4 First and second order system dynamics\n",
    "* [Standard process inputs](Standard%20process%20inputs.ipynb)\n",
    "* [First order systems](First%20order%20systems.ipynb)\n",
    "* [Second order systems](Second%20order%20systems.ipynb)\n",
    "* [Sinusoidal response](Sinusoidal%20response.ipynb)\n",
    "\n",
    "### 1.5 Complex system dynamics\n",
    "* [Random response generator](Random%20response%20generator.ipynb)\n",
    "* [Simulation of arbitrary transfer functions](Simulation%20of%20arbitrary%20transfer%20functions.ipynb)\n",
    "* [Block diagram simplification](Block%20diagram%20simplification.ipynb)\n",
    "\n",
    "### 1.6 Multivariable system representation\n",
    "* [State space](State%20space.ipynb)\n",
    "\n",
    "### 1.7. System identification\n",
    "* [Regression](Regression.ipynb)\n",
    "* [Dynamic model parameter estimation](Dynamic%20model%20parameter%20estimation.ipynb)\n",
    "* [Neural networks](Neural%20networks.ipynb)\n",
    "* [Identifying discrete-time models](Identifying%20discrete-time%20models.ipynb)\n",
    "\n",
    "### 1.8. Frequency doman\n",
    "* [Fourier series](Fourier%20series.ipynb)\n",
    "* [Sound and frequency](Sound%20and%20frequency.ipynb)\n",
    "* [Frequency domain plots](Frequency%20response%20plots.ipynb)\n",
    "* [Asymptotic Bode diagrams](Asymptotic%20Bode%20diagrams.ipynb)\n",
    "\n",
    "### 1.9 Sampled systems\n",
    "* [Aliasing](Aliasing.ipynb)\n",
    "* [The z transform](The%20z%20transform.ipynb)"
   ]
  },
  {
   "cell_type": "markdown",
   "metadata": {},
   "source": [
    "## 2. Control\n",
    "\n",
    "### 2.1 Conventional feedback control\n",
    "* [Effect of Proportional Control](2_Control/1_Conventional_feedback_control/Effect%20of%20Proportional%20Control.ipynb)\n",
    "* [PID control on TCLab](tclab/TCLab%20PID.ipynb)\n",
    "\n",
    "### 2.2 Laplace domain analysis of control systems\n",
    "* [SymPy Routh Array](2_Control/2_Laplace_domain_analysis_of_control_systems/SymPy%20Routh%20Array.ipynb)\n",
    "\n",
    "### 2.3 PID controller design, tuning and troubleshooting\n",
    "* [Direct synthesis PID design](2_Control/3_PID_controller_design_tuning_and_troubleshooting/Direct%20synthesis%20PID%20design.ipynb)\n",
    "\n",
    "### 2.4 Frequency domain analysis of control systems\n",
    "* [Frequency domain stability](2_Control/4_Frequency_domain_analysis_of_control_systems/Frequency%20domain%20stability.ipynb)\n",
    "\n",
    "### 2.5 Advanced control methods\n",
    "* [Optimal control - minimal integral measures](2_Control/5_Advanced_control_methods/Optimal%20control%20-%20minimal%20integral%20measures.ipynb)\n",
    "\n",
    "### 2.6 Discrete control and analysis\n",
    "* [Discrete control](2_Control/6_Discrete_control_and_analysis/Discrete%20control.ipynb)\n",
    "* [Dahlin controller](2_Control/6_Discrete_control_and_analysis/Dahlin%20controller.ipynb)\n",
    "\n",
    "### 2.7 Multivariable control\n",
    "* [Multivariable closed loop transfer functions](2_Control/7_Multivariable_control/Multivariable%20closed%20loop%20transfer%20functions.ipynb)\n",
    "* [Multivariable stability analysis](2_Control/7_Multivariable_control/Multivariable%20stability%20analysis.ipynb)\n",
    "* [Multivariable pairing (RGA)](2_Control/7_Multivariable_control/Multivariable%20Pairing.ipynb)\n",
    "* [Simple MPC](Simple%20MPC.ipynb)\n",
    "\n",
    "### 2.8 Control Practice\n",
    "* [Control valve design](2_Control/8_Control_Practice/Control%20valve%20design.ipynb)"
   ]
  },
  {
   "cell_type": "markdown",
   "metadata": {
    "collapsed": true
   },
   "source": [
    "## Simulation\n",
    "* [Hybrid system simulation](Simulation/Hybrid%20system%20simulation.ipynb)\n",
    "* [Special functions in classes](Simulation/Special%20functions%20in%20classes.ipynb)\n",
    "* [Object-Oriented simulation](Simulation/Object-Oriented%20simulation.ipynb)\n",
    "* [Object-Oriented simulation - Discrete](Simulation/Object-Oriented%20simulation%20-%20Discrete.ipynb)"
   ]
  },
  {
   "cell_type": "code",
   "execution_count": null,
   "metadata": {},
   "outputs": [],
   "source": []
  }
 ],
 "metadata": {
  "kernelspec": {
   "display_name": "Python 3",
   "language": "python",
   "name": "python3"
  },
  "language_info": {
   "codemirror_mode": {
    "name": "ipython",
    "version": 3
   },
   "file_extension": ".py",
   "mimetype": "text/x-python",
   "name": "python",
   "nbconvert_exporter": "python",
   "pygments_lexer": "ipython3",
   "version": "3.6.4"
  }
 },
 "nbformat": 4,
 "nbformat_minor": 2
}
