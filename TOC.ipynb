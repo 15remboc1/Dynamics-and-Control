{
 "cells": [
  {
   "cell_type": "markdown",
   "metadata": {},
   "source": [
    "## 0. Getting Started\n",
    "* [Notebook introduction](0_Getting_Started/Notebook%20introduction.ipynb)\n",
    "* [SymPy cheatsheet](0_Getting_Started/SymPy%20cheatsheet.ipynb)"
   ]
  },
  {
   "cell_type": "markdown",
   "metadata": {},
   "source": [
    "## 1. Dynamics\n",
    "### 1.1 Modelling\n",
    "* [Equation solving tools](1_Dynamics/1_Modelling/Equation%20solving%20tools.ipynb)\n",
    "\n",
    "### 1.2 Time domain simulation\n",
    "* [Nonlinear CSTR example](1_Dynamics/2_Time_domain_simulation/Nonlinear%20CSTR.ipynb)\n",
    "* [Numeric representation](1_Dynamics/2_Time_domain_simulation/Numeric%20representation.ipynb)\n",
    "* [Read input from file](1_Dynamics/2_Time_domain_simulation/Read%20input%20from%20file.ipynb)\n",
    "\n",
    "### 1.3 Linear systems\n",
    "* [Linearisation](1_Dynamics/3_Linear_systems/Linearisation.ipynb)\n",
    "* [Laplace transforms](1_Dynamics/3_Linear_systems/Laplace%20transforms.ipynb)\n",
    "* [Convolution](1_Dynamics/3_Linear_systems/Convolution.ipynb)\n",
    "* [Visualising complex functions](1_Dynamics/3_Linear_systems/Visualising%20complex%20functions.ipynb)\n",
    "* [Approximation](1_Dynamics/3_Linear_systems/Approximation.ipynb)\n",
    "\n",
    "### 1.4 First and second order system dynamics\n",
    "* [Standard process inputs](1_Dynamics/4_First_and_second_order_system_dynamics/Standard%20process%20inputs.ipynb)\n",
    "* [First order systems](1_Dynamics/4_First_and_second_order_system_dynamics/First%20order%20systems.ipynb)\n",
    "* [Second order systems](1_Dynamics/4_First_and_second_order_system_dynamics/Second%20order%20systems.ipynb)\n",
    "* [Sinusoidal response](1_Dynamics/4_First_and_second_order_system_dynamics/Sinusoidal%20response.ipynb)\n",
    "\n",
    "### 1.5 Complex system dynamics\n",
    "* [Random response generator](1_Dynamics/5_Complex_system_dynamics/Random%20response%20generator.ipynb)\n",
    "* [Simulation of arbitrary transfer functions](1_Dynamics/5_Complex_system_dynamics/Simulation%20of%20arbitrary%20transfer%20functions.ipynb)\n",
    "* [Block diagram simplification](1_Dynamics/5_Complex_system_dynamics/Block%20diagram%20simplification.ipynb)\n",
    "\n",
    "### 1.6 Multivariable system representation\n",
    "* [State space](1_Dynamics/6_Multivariable_system_representation/State%20space.ipynb)\n",
    "\n",
    "### 1.7 System identification\n",
    "* [Regression](1_Dynamics/7_System_identification/Regression.ipynb)\n",
    "* [Dynamic model parameter estimation](1_Dynamics/7_System_identification/Dynamic%20model%20parameter%20estimation.ipynb)\n",
    "* [Neural networks](1_Dynamics/7_System_identification/Neural%20networks.ipynb)\n",
    "* [Identifying discrete-time models](1_Dynamics/7_System_identification/Identifying%20discrete-time%20models.ipynb)\n",
    "\n",
    "### 1.8 Frequency domain\n",
    "* [Fourier series](1_Dynamics/8_Frequency_domain/Fourier%20series.ipynb)\n",
    "* [Sound and frequency](1_Dynamics/8_Frequency_domain/Sound%20and%20frequency.ipynb)\n",
    "* [Frequency response plots](1_Dynamics/8_Frequency_domain/Frequency%20response%20plots.ipynb)\n",
    "* [Asymptotic Bode diagrams](1_Dynamics/8_Frequency_domain/Asymptotic%20Bode%20diagrams.ipynb)\n",
    "\n",
    "### 1.9 Sampled systems\n",
    "* [Aliasing](1_Dynamics/9_Sampled_systems/Aliasing.ipynb)\n",
    "* [The z transform](1_Dynamics/9_Sampled_systems/The%20z%20transform.ipynb)"
   ]
  },
  {
   "cell_type": "markdown",
   "metadata": {},
   "source": [
    "## 2. Control\n",
    "\n",
    "### 2.1 Conventional feedback control\n",
    "* [Effect of Proportional Control](2_Control/2_Laplace_domain_analysis_of_control_systems/Effect%20of%20Proportional%20Control.ipynb)\n",
    "* [PID control on TCLab](tclab/TCLab%20PID.ipynb)\n",
    "\n",
    "### 2.2 Laplace domain analysis of control systems\n",
    "* [Stability analysis](2_Control/2_Laplace_domain_analysis_of_control_systems/Stability%20analysis.ipynb)\n",
    "* [SymPy Routh Array](2_Control/2_Laplace_domain_analysis_of_control_systems/SymPy%20Routh%20Array.ipynb)\n",
    "\n",
    "### 2.3 PID controller design, tuning and troubleshooting\n",
    "* [Direct synthesis PID design](2_Control/3_PID_controller_design_tuning_and_troubleshooting/Direct%20synthesis%20PID%20design.ipynb)\n",
    "* [Optimal control - minimal integral measures](2_Control/3_PID_controller_design_tuning_and_troubleshooting/Optimal%20control%20-%20minimal%20integral%20measures.ipynb)\n",
    "* [ITAE parameters for FOPDT system](2_Control/3_PID_controller_design_tuning_and_troubleshooting/ITAE%20parameters%20for%20FOPDT%20system.ipynb)\n",
    "\n",
    "### 2.4 Frequency domain analysis of control systems\n",
    "* [Frequency domain stability](2_Control/4_Frequency_domain_analysis_of_control_systems/Frequency%20domain%20stability.ipynb)\n",
    "\n",
    "### 2.5 Advanced control methods\n",
    "\n",
    "### 2.6 Discrete control and analysis\n",
    "* [Discrete control](2_Control/6_Discrete_control_and_analysis/Discrete%20control.ipynb)\n",
    "* [Dahlin controller](2_Control/6_Discrete_control_and_analysis/Dahlin%20controller.ipynb)\n",
    "\n",
    "### 2.7 Multivariable control\n",
    "* [Multivariable closed loop transfer functions](2_Control/7_Multivariable_control/Multivariable%20closed%20loop%20transfer%20functions.ipynb)\n",
    "* [Multivariable stability analysis](2_Control/7_Multivariable_control/Multivariable%20stability%20analysis.ipynb)\n",
    "* [Multivariable pairing (RGA)](2_Control/7_Multivariable_control/Multivariable%20Pairing.ipynb)\n",
    "* [Simple MPC](Simple%20MPC.ipynb)\n",
    "\n",
    "### 2.8 Control Practice\n",
    "* [Control valve design](2_Control/8_Control_Practice/Control%20valve%20design.ipynb)"
   ]
  },
  {
   "cell_type": "markdown",
   "metadata": {
    "collapsed": true
   },
   "source": [
    "## Simulation\n",
    "* [Timing study](Simulation/Timing%20study.ipynb)\n",
    "* [Hybrid system simulation](Simulation/Hybrid%20system%20simulation.ipynb)\n",
    "* [Classes](Simulation/Classes.ipynb)\n",
    "* [Special functions in classes](Simulation/Special%20functions%20in%20classes.ipynb)\n",
    "* [Object-Oriented simulation](Simulation/Object-Oriented%20simulation.ipynb)\n",
    "* [Object-Oriented simulation - Discrete](Simulation/Object-Oriented%20simulation%20-%20Discrete.ipynb)"
   ]
  },
  {
   "cell_type": "markdown",
   "metadata": {
    "collapsed": true
   },
   "source": [
    "# TCLab\n",
    "* [Interactive PID simulation](tclab/TCLab%20PID.ipynb)\n",
    "* [Frequency domain](tclab/Frequency%20Domain.ipynb)\n"
   ]
  },
  {
   "cell_type": "code",
   "execution_count": null,
   "metadata": {},
   "outputs": [],
   "source": []
  }
 ],
 "metadata": {
  "kernelspec": {
   "display_name": "Python 3",
   "language": "python",
   "name": "python3"
  },
  "language_info": {
   "codemirror_mode": {
    "name": "ipython",
    "version": 3
   },
   "file_extension": ".py",
   "mimetype": "text/x-python",
   "name": "python",
   "nbconvert_exporter": "python",
   "pygments_lexer": "ipython3",
   "version": "3.6.4"
  }
 },
 "nbformat": 4,
 "nbformat_minor": 2
}
