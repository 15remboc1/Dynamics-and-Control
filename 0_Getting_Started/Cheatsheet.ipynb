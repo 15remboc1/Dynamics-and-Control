{
 "cells": [
  {
   "cell_type": "markdown",
   "metadata": {},
   "source": [
    "# Plotting"
   ]
  },
  {
   "cell_type": "code",
   "execution_count": 4,
   "metadata": {},
   "outputs": [],
   "source": [
    "import matplotlib.pyplot as plt\n",
    "%matplotlib inline"
   ]
  },
  {
   "cell_type": "markdown",
   "metadata": {},
   "source": [
    "Basic plotting functions:"
   ]
  },
  {
   "cell_type": "code",
   "execution_count": 10,
   "metadata": {},
   "outputs": [
    {
     "data": {
      "image/png": "[encoded data removed]",
      "text/plain": [
       "<matplotlib.figure.Figure at 0x11b5f4da0>"
      ]
     },
     "metadata": {},
     "output_type": "display_data"
    }
   ],
   "source": [
    "plotfuncs = [plt.plot, \n",
    "             plt.scatter, \n",
    "             plt.semilogx, \n",
    "             plt.semilogy, \n",
    "             plt.loglog]\n",
    "\n",
    "for i, func in enumerate(plotfuncs, 1):\n",
    "    plt.subplot(2, 3, i)\n",
    "    func([1, 2, 3], [2, 1, 2])\n",
    "    plt.title(func.__name__)"
   ]
  },
  {
   "cell_type": "markdown",
   "metadata": {},
   "source": [
    "# Numeric "
   ]
  },
  {
   "cell_type": "code",
   "execution_count": 11,
   "metadata": {},
   "outputs": [],
   "source": [
    "import numpy\n",
    "import scipy"
   ]
  },
  {
   "cell_type": "code",
   "execution_count": 12,
   "metadata": {},
   "outputs": [],
   "source": [
    "a = numpy.array([1, 2, 3])"
   ]
  },
  {
   "cell_type": "markdown",
   "metadata": {},
   "source": [
    "# SymPy"
   ]
  },
  {
   "cell_type": "markdown",
   "metadata": {},
   "source": [
    "## Imports"
   ]
  },
  {
   "cell_type": "code",
   "execution_count": 13,
   "metadata": {},
   "outputs": [],
   "source": [
    "import sympy\n",
    "sympy.init_printing()"
   ]
  },
  {
   "cell_type": "code",
   "execution_count": 14,
   "metadata": {
    "collapsed": true
   },
   "outputs": [],
   "source": [
    "s = sympy.Symbol('s')\n",
    "tau, K_c = sympy.symbols('tau K_c', positive=True) # we can use real=True or complex=True for other kinds of variables"
   ]
  },
  {
   "cell_type": "markdown",
   "metadata": {},
   "source": [
    "Example controller and system"
   ]
  },
  {
   "cell_type": "code",
   "execution_count": 15,
   "metadata": {},
   "outputs": [],
   "source": [
    "G_c = K_c*((tau*s + 1) / (tau*s))\n",
    "GvGpGm = 5 / ((10*s + 1)**2)"
   ]
  },
  {
   "cell_type": "markdown",
   "metadata": {},
   "source": [
    "Simplification"
   ]
  },
  {
   "cell_type": "code",
   "execution_count": 16,
   "metadata": {},
   "outputs": [],
   "source": [
    "chareq = (GvGpGm*G_c + 1).simplify()\n",
    "chareq *= sympy.denom(chareq.together())"
   ]
  },
  {
   "cell_type": "markdown",
   "metadata": {},
   "source": [
    "Convert to polynomial in s"
   ]
  },
  {
   "cell_type": "code",
   "execution_count": 17,
   "metadata": {},
   "outputs": [],
   "source": [
    "chareq = sympy.poly(chareq.together(), s)"
   ]
  },
  {
   "cell_type": "markdown",
   "metadata": {},
   "source": [
    "Calculate the Routh Array"
   ]
  },
  {
   "cell_type": "code",
   "execution_count": 18,
   "metadata": {},
   "outputs": [],
   "source": [
    "def routh(p):\n",
    "    \"\"\" Construct the Routh-Hurwitz array given a polynomial in s\"\"\"\n",
    "    coefficients = p.all_coeffs()\n",
    "    N = len(coefficients)\n",
    "    M = sympy.zeros(N, (N+1)//2 + 1)\n",
    "\n",
    "    r1 = coefficients[0::2]\n",
    "    r2 = coefficients[1::2]\n",
    "    M[0, :len(r1)] = [r1]\n",
    "    M[1, :len(r2)] = [r2]\n",
    "    for i in range(2, N):\n",
    "        for j in range(N//2):\n",
    "            S = M[[i-2, i-1], [0, j+1]]\n",
    "            M[i, j] = sympy.simplify(-S.det()/M[i-1,0])\n",
    "    return M[:, :-1]"
   ]
  },
  {
   "cell_type": "code",
   "execution_count": 19,
   "metadata": {},
   "outputs": [
    {
     "data": {
      "image/png": "[encoded data removed]",
      "text/latex": [
       "$$\\left[\\begin{matrix}100 \\tau & 5 K_{c} \\tau + \\tau\\\\20 \\tau & 5 K_{c}\\\\- 25 K_{c} + \\tau \\left(5 K_{c} + 1\\right) & 0\\\\5 K_{c} & 0\\end{matrix}\\right]$$"
      ],
      "text/plain": [
       "⎡         100⋅τ           5⋅K_c⋅τ + τ⎤\n",
       "⎢                                    ⎥\n",
       "⎢         20⋅τ               5⋅K_c   ⎥\n",
       "⎢                                    ⎥\n",
       "⎢-25⋅K_c + τ⋅(5⋅K_c + 1)       0     ⎥\n",
       "⎢                                    ⎥\n",
       "⎣         5⋅K_c                0     ⎦"
      ]
     },
     "execution_count": 19,
     "metadata": {},
     "output_type": "execute_result"
    }
   ],
   "source": [
    "routh(chareq)"
   ]
  }
 ],
 "metadata": {
  "anaconda-cloud": {},
  "kernelspec": {
   "display_name": "Python 3",
   "language": "python",
   "name": "python3"
  },
  "language_info": {
   "codemirror_mode": {
    "name": "ipython",
    "version": 3
   },
   "file_extension": ".py",
   "mimetype": "text/x-python",
   "name": "python",
   "nbconvert_exporter": "python",
   "pygments_lexer": "ipython3",
   "version": "3.6.4"
  }
 },
 "nbformat": 4,
 "nbformat_minor": 2
}
