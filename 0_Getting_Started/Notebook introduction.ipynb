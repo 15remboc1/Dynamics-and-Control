{
 "cells": [
  {
   "cell_type": "markdown",
   "metadata": {},
   "source": [
    "# Introduction to Sympy and the Jupyter Notebook for engineering calculations\n",
    "\n",
    "Sympy is a computer algebra module for Python. You are looking at the convenient [Jupyter Notebook](http://jupyter.org/) interface. This notebook aims to show some of the useful features of the Sympy system as well as the notebook interface.\n",
    "\n",
    "This notebook will use Python as the programming language. This means that most of what you learned in MPR can be applied in the notebook. The notebook interface provides \"cells\" where one can input code. To run the code, click on a cell and press Shift+Enter."
   ]
  },
  {
   "cell_type": "markdown",
   "metadata": {},
   "source": [
    "**Note:** This notebook is developed assuming Python 3. The next cell changes the behaviour of Python 2 to match Python 3."
   ]
  },
  {
   "cell_type": "code",
   "execution_count": 1,
   "metadata": {},
   "outputs": [],
   "source": [
    "from __future__ import division\n",
    "from __future__ import print_function"
   ]
  },
  {
   "cell_type": "markdown",
   "metadata": {},
   "source": [
    "## A quick tour\n",
    "\n",
    "Take a second to go through the tour of the notebook interface by clicking on \"Help, User Interface Tour\". Also note that there is help available for a number of other things under that menu.\n",
    "\n",
    "Now that you are familiar with the nomenclature, let's run some code!\n",
    "\n",
    "*Evaluate the cell below to print out a message by clicking inside the cell and then pressing Shift + Enter*"
   ]
  },
  {
   "cell_type": "code",
   "execution_count": 2,
   "metadata": {
    "scrolled": true
   },
   "outputs": [
    {
     "name": "stdout",
     "output_type": "stream",
     "text": [
      "Hello\n",
      "World\n"
     ]
    }
   ],
   "source": [
    "for word in ['Hello', 'World']:\n",
    "    print(word)"
   ]
  },
  {
   "cell_type": "code",
   "execution_count": 3,
   "metadata": {},
   "outputs": [],
   "source": [
    "a = 1"
   ]
  },
  {
   "cell_type": "markdown",
   "metadata": {},
   "source": [
    "## Math in text boxes\n",
    "\n",
    "The text editor supports math in [$\\LaTeX$]() notation. You can double-click on a text box to see the codes used to enter it:\n",
    "\n",
    "$$f(a)=\\int_\\infty^0 \\frac{1}{a+2} \\mathrm{d}a$$\n",
    "\n",
    "Double-click on the formula above to see the code that produced it."
   ]
  },
  {
   "cell_type": "markdown",
   "metadata": {},
   "source": [
    "## SymPy\n",
    "\n",
    "We need to import [the SymPy module](http://docs.sympy.org/latest/index.html) to get symbolic math capabilities."
   ]
  },
  {
   "cell_type": "code",
   "execution_count": 4,
   "metadata": {
    "scrolled": true
   },
   "outputs": [],
   "source": [
    "import sympy"
   ]
  },
  {
   "cell_type": "markdown",
   "metadata": {},
   "source": [
    "We need to start the pretty-printer to get nicely typeset math\n",
    "\n",
    "_Note that this changes somewhat based on the version of sympy_"
   ]
  },
  {
   "cell_type": "code",
   "execution_count": 5,
   "metadata": {
    "scrolled": true
   },
   "outputs": [],
   "source": [
    "sympy.init_printing()"
   ]
  },
  {
   "cell_type": "markdown",
   "metadata": {},
   "source": [
    "In order to do symbolic calculations, we need to create a symbol"
   ]
  },
  {
   "cell_type": "code",
   "execution_count": 6,
   "metadata": {
    "scrolled": true
   },
   "outputs": [],
   "source": [
    "x = sympy.Symbol('x')"
   ]
  },
  {
   "cell_type": "code",
   "execution_count": 7,
   "metadata": {
    "scrolled": true
   },
   "outputs": [
    {
     "data": {
      "image/png": "[encoded data removed]",
      "text/latex": [
       "$$x$$"
      ],
      "text/plain": [
       "x"
      ]
     },
     "execution_count": 7,
     "metadata": {},
     "output_type": "execute_result"
    }
   ],
   "source": [
    "x"
   ]
  },
  {
   "cell_type": "markdown",
   "metadata": {},
   "source": [
    "Sympy allows us to do many mathematical operations that would be tedious by hand. For instance, we can expand a polynomial:"
   ]
  },
  {
   "cell_type": "code",
   "execution_count": 8,
   "metadata": {
    "scrolled": true
   },
   "outputs": [
    {
     "data": {
      "image/png": "[encoded data removed]",
      "text/latex": [
       "$$16 x^{4} + 96 x^{3} + 216 x^{2} + 216 x + 81$$"
      ],
      "text/plain": [
       "    4       3        2             \n",
       "16⋅x  + 96⋅x  + 216⋅x  + 216⋅x + 81"
      ]
     },
     "execution_count": 8,
     "metadata": {},
     "output_type": "execute_result"
    }
   ],
   "source": [
    "polynomial = (2*x + 3)**4\n",
    "polynomial.expand()"
   ]
  },
  {
   "cell_type": "markdown",
   "metadata": {},
   "source": [
    "Notice what happened - we defined a new name called \"polynomial\" and then used the .expand() method to expand the polynomial. We can see all the methods associated with an object by typing its name and a dot then pressing \"tab\".\n",
    "\n",
    "Call up the list of methods for the polynomial variable by pressing tab at the end of the line in the cell below:"
   ]
  },
  {
   "cell_type": "code",
   "execution_count": null,
   "metadata": {
    "scrolled": true
   },
   "outputs": [],
   "source": [
    "polynomial."
   ]
  },
  {
   "cell_type": "markdown",
   "metadata": {},
   "source": [
    "To get help about any method, we can type its name and append a ? at the end, then evaluate the cell\n",
    "\n",
    "Obtain help about the .expand() method by evaluating the cell below:"
   ]
  },
  {
   "cell_type": "code",
   "execution_count": 9,
   "metadata": {
    "scrolled": true
   },
   "outputs": [],
   "source": [
    "polynomial.expand?"
   ]
  },
  {
   "cell_type": "markdown",
   "metadata": {},
   "source": [
    "It is also possible to obtain help for a function by placing the cursor between the parentheses and pressing Shift+Tab"
   ]
  },
  {
   "cell_type": "markdown",
   "metadata": {},
   "source": [
    "Of course, we can also factor polynomials:"
   ]
  },
  {
   "cell_type": "code",
   "execution_count": 10,
   "metadata": {
    "scrolled": true
   },
   "outputs": [
    {
     "data": {
      "image/png": "[encoded data removed]",
      "text/latex": [
       "$$\\left(x + 1\\right)^{2}$$"
      ],
      "text/plain": [
       "       2\n",
       "(x + 1) "
      ]
     },
     "execution_count": 10,
     "metadata": {},
     "output_type": "execute_result"
    }
   ],
   "source": [
    "(x**2 + 2*x + 1).factor()"
   ]
  },
  {
   "cell_type": "markdown",
   "metadata": {},
   "source": [
    "## Calculus\n",
    "\n",
    "Sympy knows how to integrate and differentiate"
   ]
  },
  {
   "cell_type": "code",
   "execution_count": 11,
   "metadata": {
    "scrolled": true
   },
   "outputs": [
    {
     "data": {
      "image/png": "[encoded data removed]",
      "text/latex": [
       "$$8 \\left(2 x + 3\\right)^{3}$$"
      ],
      "text/plain": [
       "           3\n",
       "8⋅(2⋅x + 3) "
      ]
     },
     "execution_count": 11,
     "metadata": {},
     "output_type": "execute_result"
    }
   ],
   "source": [
    "polynomial.diff(x) # First derivative"
   ]
  },
  {
   "cell_type": "code",
   "execution_count": 12,
   "metadata": {
    "scrolled": true
   },
   "outputs": [
    {
     "data": {
      "image/png": "[encoded data removed]",
      "text/latex": [
       "$$48 \\left(2 x + 3\\right)^{2}$$"
      ],
      "text/plain": [
       "            2\n",
       "48⋅(2⋅x + 3) "
      ]
     },
     "execution_count": 12,
     "metadata": {},
     "output_type": "execute_result"
    }
   ],
   "source": [
    "polynomial.diff(x, 2) # Second derivative"
   ]
  },
  {
   "cell_type": "code",
   "execution_count": 13,
   "metadata": {
    "scrolled": true
   },
   "outputs": [
    {
     "data": {
      "image/png": "[encoded data removed]",
      "text/latex": [
       "$$\\frac{16 x^{5}}{5} + 24 x^{4} + 72 x^{3} + 108 x^{2} + 81 x$$"
      ],
      "text/plain": [
       "    5                                \n",
       "16⋅x        4       3        2       \n",
       "───── + 24⋅x  + 72⋅x  + 108⋅x  + 81⋅x\n",
       "  5                                  "
      ]
     },
     "execution_count": 13,
     "metadata": {},
     "output_type": "execute_result"
    }
   ],
   "source": [
    "polynomial.integrate(x) # indefinite integral - note no constant of integration is added"
   ]
  },
  {
   "cell_type": "code",
   "execution_count": 14,
   "metadata": {
    "scrolled": true
   },
   "outputs": [
    {
     "data": {
      "image/png": "[encoded data removed]",
      "text/latex": [
       "$$\\frac{6841}{5}$$"
      ],
      "text/plain": [
       "6841/5"
      ]
     },
     "execution_count": 14,
     "metadata": {},
     "output_type": "execute_result"
    }
   ],
   "source": [
    "polynomial.integrate((x, 1, 2)) # Note that integrate takes one argument which is a tuple for the definite integral"
   ]
  },
  {
   "cell_type": "markdown",
   "metadata": {},
   "source": [
    "## Limits\n",
    "\n",
    "We can evaluate limits using SymPy, even for \"interesting\" limits where we would need L'Hopital's rule"
   ]
  },
  {
   "cell_type": "code",
   "execution_count": 15,
   "metadata": {
    "scrolled": true
   },
   "outputs": [
    {
     "data": {
      "image/png": "[encoded data removed]",
      "text/latex": [
       "$$6$$"
      ],
      "text/plain": [
       "6"
      ]
     },
     "execution_count": 15,
     "metadata": {},
     "output_type": "execute_result"
    }
   ],
   "source": [
    "sympy.limit((2*sympy.sin(x) - sympy.sin(2*x))/(x - sympy.sin(x)), x, 0)"
   ]
  },
  {
   "cell_type": "markdown",
   "metadata": {},
   "source": [
    "## Approximation\n",
    "\n",
    "SymPy has built-in support for taylor series expansion"
   ]
  },
  {
   "cell_type": "code",
   "execution_count": 18,
   "metadata": {
    "scrolled": true
   },
   "outputs": [
    {
     "data": {
      "image/png": "[encoded data removed]",
      "text/latex": [
       "$$\\sin{\\left (2 \\right )} + \\left(x - 2\\right) \\cos{\\left (2 \\right )} + \\mathcal{O}\\left(\\left(x - 2\\right)^{2}; x\\rightarrow 2\\right)$$"
      ],
      "text/plain": [
       "                           ⎛       2       ⎞\n",
       "sin(2) + (x - 2)⋅cos(2) + O⎝(x - 2) ; x → 2⎠"
      ]
     },
     "execution_count": 18,
     "metadata": {},
     "output_type": "execute_result"
    }
   ],
   "source": [
    "nonlinear_expression = sympy.sin(x)\n",
    "sympy.series(nonlinear_expression, x, 2, 2) # taylor expansion in terms of the x variable, around x=2, first order."
   ]
  },
  {
   "cell_type": "markdown",
   "metadata": {},
   "source": [
    "To remove the order term use `.removeO()`"
   ]
  },
  {
   "cell_type": "code",
   "execution_count": 21,
   "metadata": {},
   "outputs": [
    {
     "data": {
      "image/png": "[encoded data removed]",
      "text/latex": [
       "$$\\left(x - 2\\right) \\cos{\\left (2 \\right )} + \\sin{\\left (2 \\right )}$$"
      ],
      "text/plain": [
       "(x - 2)⋅cos(2) + sin(2)"
      ]
     },
     "execution_count": 21,
     "metadata": {},
     "output_type": "execute_result"
    }
   ],
   "source": [
    "temp = sympy.series(nonlinear_expression, x, 2, 2)\n",
    "temp.removeO()"
   ]
  },
  {
   "cell_type": "markdown",
   "metadata": {},
   "source": [
    "You will also notice that SymPy's default behaviour is to retain exact representations of certain numbers:"
   ]
  },
  {
   "cell_type": "code",
   "execution_count": 22,
   "metadata": {},
   "outputs": [
    {
     "data": {
      "image/png": "[encoded data removed]",
      "text/latex": [
       "$$\\sqrt{2} \\pi$$"
      ],
      "text/plain": [
       "√2⋅π"
      ]
     },
     "execution_count": 22,
     "metadata": {},
     "output_type": "execute_result"
    }
   ],
   "source": [
    "number = sympy.sqrt(2)*sympy.pi\n",
    "number"
   ]
  },
  {
   "cell_type": "markdown",
   "metadata": {},
   "source": [
    "To convert the exact representations above to an approximate [floating point](https://en.wikipedia.org/wiki/Floating_point) representations, use one of these methods. `sympy.N` works with complicated expressions containing variables as well. `float` will return a normal Python float and is useful when interacting with non-sympy programs."
   ]
  },
  {
   "cell_type": "code",
   "execution_count": 23,
   "metadata": {},
   "outputs": [
    {
     "data": {
      "image/png": "[encoded data removed]",
      "text/latex": [
       "$$4.44288293815837 x$$"
      ],
      "text/plain": [
       "4.44288293815837⋅x"
      ]
     },
     "execution_count": 23,
     "metadata": {},
     "output_type": "execute_result"
    }
   ],
   "source": [
    "sympy.N(number*x)"
   ]
  },
  {
   "cell_type": "code",
   "execution_count": 24,
   "metadata": {},
   "outputs": [
    {
     "data": {
      "image/png": "[encoded data removed]",
      "text/latex": [
       "$$4.442882938158366$$"
      ],
      "text/plain": [
       "4.442882938158366"
      ]
     },
     "execution_count": 24,
     "metadata": {},
     "output_type": "execute_result"
    }
   ],
   "source": [
    "float(number)"
   ]
  },
  {
   "cell_type": "markdown",
   "metadata": {},
   "source": [
    "## Solving equations\n",
    "\n",
    "Sympy can help us solve manipulate equations using the `solve` function. Like many solving functions, it finds zeros of a function, so we have to rewrite equalities to be equal to zero, \n",
    "\n",
    "\\begin{align}\n",
    " 2x^2 + 2 &= 4 \\\\\n",
    " 2x^2 + 2 - 4 &= 0\\end{align}"
   ]
  },
  {
   "cell_type": "code",
   "execution_count": 25,
   "metadata": {
    "scrolled": true
   },
   "outputs": [
    {
     "data": {
      "image/png": "[encoded data removed]",
      "text/latex": [
       "$$\\left [ -1, \\quad 1\\right ]$$"
      ],
      "text/plain": [
       "[-1, 1]"
      ]
     },
     "execution_count": 25,
     "metadata": {},
     "output_type": "execute_result"
    }
   ],
   "source": [
    "solutions = sympy.solve(2*x**2 + 2 - 4)\n",
    "solutions"
   ]
  },
  {
   "cell_type": "code",
   "execution_count": 26,
   "metadata": {
    "scrolled": true
   },
   "outputs": [
    {
     "data": {
      "image/png": "[encoded data removed]",
      "text/latex": [
       "$$-1$$"
      ],
      "text/plain": [
       "-1"
      ]
     },
     "execution_count": 26,
     "metadata": {},
     "output_type": "execute_result"
    }
   ],
   "source": [
    "solutions[0]"
   ]
  },
  {
   "cell_type": "markdown",
   "metadata": {},
   "source": [
    "We can also use `sympy.Eq` to construct equations"
   ]
  },
  {
   "cell_type": "code",
   "execution_count": 27,
   "metadata": {},
   "outputs": [
    {
     "data": {
      "image/png": "[encoded data removed]",
      "text/latex": [
       "$$2 x^{2} + 2 = 4$$"
      ],
      "text/plain": [
       "   2        \n",
       "2⋅x  + 2 = 4"
      ]
     },
     "execution_count": 27,
     "metadata": {},
     "output_type": "execute_result"
    }
   ],
   "source": [
    "equation = sympy.Eq(2*x**2 + 2, 4)\n",
    "equation"
   ]
  },
  {
   "cell_type": "markdown",
   "metadata": {},
   "source": [
    "The roots function will give us the multiplicity of the roots as well."
   ]
  },
  {
   "cell_type": "code",
   "execution_count": 28,
   "metadata": {
    "scrolled": true
   },
   "outputs": [
    {
     "data": {
      "image/png": "[encoded data removed]",
      "text/latex": [
       "$$\\left \\{ -1 : 1, \\quad 1 : 1\\right \\}$$"
      ],
      "text/plain": [
       "{-1: 1, 1: 1}"
      ]
     },
     "execution_count": 28,
     "metadata": {},
     "output_type": "execute_result"
    }
   ],
   "source": [
    "sympy.roots(equation)"
   ]
  },
  {
   "cell_type": "markdown",
   "metadata": {},
   "source": [
    "We can also solve systems of equations by passing a list of equations to solve and asking for a list of variables to solve for"
   ]
  },
  {
   "cell_type": "code",
   "execution_count": 29,
   "metadata": {
    "scrolled": true
   },
   "outputs": [
    {
     "data": {
      "image/png": "[encoded data removed]",
      "text/latex": [
       "$$\\left \\{ x : 1, \\quad y : 1\\right \\}$$"
      ],
      "text/plain": [
       "{x: 1, y: 1}"
      ]
     },
     "execution_count": 29,
     "metadata": {},
     "output_type": "execute_result"
    }
   ],
   "source": [
    "x, y = sympy.symbols('x, y')\n",
    "sympy.solve([x + y - 2, \n",
    "             x - y - 0], [x, y])"
   ]
  },
  {
   "cell_type": "markdown",
   "metadata": {},
   "source": [
    "This even works with symbolic variables in the equations"
   ]
  },
  {
   "cell_type": "code",
   "execution_count": 30,
   "metadata": {
    "scrolled": true
   },
   "outputs": [
    {
     "data": {
      "image/png": "[encoded data removed]",
      "text/latex": [
       "$$\\left \\{ x : \\frac{c + 2}{2 a}, \\quad y : \\frac{- c + 2}{2 b}\\right \\}$$"
      ],
      "text/plain": [
       "⎧   c + 2     -c + 2⎫\n",
       "⎨x: ─────, y: ──────⎬\n",
       "⎩    2⋅a       2⋅b  ⎭"
      ]
     },
     "execution_count": 30,
     "metadata": {},
     "output_type": "execute_result"
    }
   ],
   "source": [
    "a, b, c = sympy.var('a, b, c')\n",
    "solution = sympy.solve([a*x + b*y - 2,\n",
    "                        a*x - b*y - c], [x, y])\n",
    "solution"
   ]
  },
  {
   "cell_type": "code",
   "execution_count": null,
   "metadata": {},
   "outputs": [],
   "source": []
  }
 ],
 "metadata": {
  "anaconda-cloud": {},
  "kernelspec": {
   "display_name": "Python 3",
   "language": "python",
   "name": "python3"
  },
  "language_info": {
   "codemirror_mode": {
    "name": "ipython",
    "version": 3
   },
   "file_extension": ".py",
   "mimetype": "text/x-python",
   "name": "python",
   "nbconvert_exporter": "python",
   "pygments_lexer": "ipython3",
   "version": "3.6.5"
  }
 },
 "nbformat": 4,
 "nbformat_minor": 2
}
