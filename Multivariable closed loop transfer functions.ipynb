{
 "cells": [
  {
   "cell_type": "code",
   "execution_count": 1,
   "metadata": {
    "collapsed": true
   },
   "outputs": [],
   "source": [
    "import sympy\n",
    "sympy.init_printing()"
   ]
  },
  {
   "cell_type": "markdown",
   "metadata": {},
   "source": [
    "Closed loop transfer functions for multivariable systems\n",
    "========================================================\n",
    "\n",
    "Let's consider a 2 $\\times$ 2 system with feedback control as shown below:\n",
    "\n",
    "<img src=\"mimo2x2.png\">"
   ]
  },
  {
   "cell_type": "code",
   "execution_count": 2,
   "metadata": {
    "collapsed": false
   },
   "outputs": [],
   "source": [
    "G_p11, G_p12, G_p21, G_p22, G_c1, G_c2 = sympy.symbols('G_p11, G_p12, G_p21, G_p22, G_c1, G_c2')"
   ]
  },
  {
   "cell_type": "markdown",
   "metadata": {},
   "source": [
    "The matrix representation of the system is straigtforwardly handled by `sympy.Matrix`:"
   ]
  },
  {
   "cell_type": "code",
   "execution_count": 3,
   "metadata": {
    "collapsed": true
   },
   "outputs": [],
   "source": [
    "G_p = sympy.Matrix([[G_p11, G_p12],\n",
    "                    [G_p21, G_p22]])"
   ]
  },
  {
   "cell_type": "markdown",
   "metadata": {},
   "source": [
    "The controller is a bit harder. Convince yourself you understand how the off-diagonal elements of $G_c$ are zero in the diagram above."
   ]
  },
  {
   "cell_type": "code",
   "execution_count": 4,
   "metadata": {
    "collapsed": false
   },
   "outputs": [],
   "source": [
    "G_c = sympy.Matrix([[G_c1, 0],\n",
    "                    [0, G_c2]])"
   ]
  },
  {
   "cell_type": "markdown",
   "metadata": {},
   "source": [
    "Now, we can redraw the block diagram using vectors for the signals and matrices for the blocks.\n",
    "    \n",
    "<img src=\"simple_feedback.png\" />"
   ]
  },
  {
   "cell_type": "markdown",
   "metadata": {},
   "source": [
    "Let's derive the closed loop transfer function. There are three equations represented in the above diagram:\n",
    "\n",
    "$$\\begin{align}\n",
    "E &= Y_{sp} - Y\\\\ \n",
    "U &= G_c E = G_c(Y_{sp} - Y)\\\\\n",
    "Y &= G_p U = G_p G_c(Y_{sp} - Y)\\\\\n",
    "\\end{align}$$\n",
    "\n",
    "Now, we can solve for $Y$:\n",
    "$$\\begin{align}\n",
    "Y &= G_p G_c(Y_{sp} - Y)\\\\\n",
    "Y &= G_p G_c Y_{sp} - G_p G_c Y \\\\\n",
    "Y + G_p G_c Y&= G_p G_c Y_{sp} \\\\\n",
    "(I + G_p G_c) Y &= G_p G_c Y_{sp} \\\\\n",
    " Y &= (I + G_p G_c)^{-1} G_p G_c Y_{sp} \\\\\n",
    " Y &= \\Gamma Y_{sp}\n",
    "\\end{align}$$"
   ]
  },
  {
   "cell_type": "markdown",
   "metadata": {},
   "source": [
    "We can calculate the value of this function easily."
   ]
  },
  {
   "cell_type": "code",
   "execution_count": 5,
   "metadata": {
    "collapsed": false
   },
   "outputs": [],
   "source": [
    "I = sympy.Matrix([[1, 0],\n",
    "                  [0, 1]])"
   ]
  },
  {
   "cell_type": "code",
   "execution_count": 6,
   "metadata": {
    "collapsed": false
   },
   "outputs": [],
   "source": [
    "Gamma = sympy.simplify((I + G_p*G_c).inv()*G_p*G_c)"
   ]
  },
  {
   "cell_type": "code",
   "execution_count": 7,
   "metadata": {
    "collapsed": false
   },
   "outputs": [
    {
     "data": {
      "image/png": "[encoded data removed]",
      "text/latex": [
       "$$\\frac{G_{c1} \\left(G_{c2} G_{p12} G_{p21} - G_{p11} \\left(G_{c2} G_{p22} + 1\\right)\\right)}{G_{c1} G_{c2} G_{p12} G_{p21} - \\left(G_{c1} G_{p11} + 1\\right) \\left(G_{c2} G_{p22} + 1\\right)}$$"
      ],
      "text/plain": [
       "     G_c1⋅(G_c2⋅Gₚ₁₂⋅Gₚ₂₁ - Gₚ₁₁⋅(G_c2⋅Gₚ₂₂ + 1))    \n",
       "─────────────────────────────────────────────────────\n",
       "G_c1⋅G_c2⋅Gₚ₁₂⋅Gₚ₂₁ - (G_c1⋅Gₚ₁₁ + 1)⋅(G_c2⋅Gₚ₂₂ + 1)"
      ]
     },
     "execution_count": 7,
     "metadata": {},
     "output_type": "execute_result"
    }
   ],
   "source": [
    "Gamma[0, 0]"
   ]
  },
  {
   "cell_type": "code",
   "execution_count": 8,
   "metadata": {
    "collapsed": false
   },
   "outputs": [
    {
     "data": {
      "image/png": "[encoded data removed]",
      "text/latex": [
       "$$- \\frac{G_{c2} G_{p12}}{G_{c1} G_{c2} G_{p12} G_{p21} - \\left(G_{c1} G_{p11} + 1\\right) \\left(G_{c2} G_{p22} + 1\\right)}$$"
      ],
      "text/plain": [
       "                     -G_c2⋅Gₚ₁₂                      \n",
       "─────────────────────────────────────────────────────\n",
       "G_c1⋅G_c2⋅Gₚ₁₂⋅Gₚ₂₁ - (G_c1⋅Gₚ₁₁ + 1)⋅(G_c2⋅Gₚ₂₂ + 1)"
      ]
     },
     "execution_count": 8,
     "metadata": {},
     "output_type": "execute_result"
    }
   ],
   "source": [
    "Gamma[0, 1]"
   ]
  },
  {
   "cell_type": "markdown",
   "metadata": {},
   "source": [
    "We notice that there is a common divisor in all the elements of $\\Gamma$. This is due to the calculation of the inverse of $(I + G_p G_c)$, which involves calculation of the determinant $|I + G_p G_c|$."
   ]
  },
  {
   "cell_type": "code",
   "execution_count": 9,
   "metadata": {
    "collapsed": false
   },
   "outputs": [
    {
     "data": {
      "image/png": "[encoded data removed]",
      "text/latex": [
       "$$G_{c1} G_{c2} G_{p11} G_{p22} - G_{c1} G_{c2} G_{p12} G_{p21} + G_{c1} G_{p11} + G_{c2} G_{p22} + 1$$"
      ],
      "text/plain": [
       "G_c1⋅G_c2⋅Gₚ₁₁⋅Gₚ₂₂ - G_c1⋅G_c2⋅Gₚ₁₂⋅Gₚ₂₁ + G_c1⋅Gₚ₁₁ + G_c2⋅Gₚ₂₂ + 1"
      ]
     },
     "execution_count": 9,
     "metadata": {},
     "output_type": "execute_result"
    }
   ],
   "source": [
    "Delta = (I + G_p*G_c).det()\n",
    "Delta"
   ]
  },
  {
   "cell_type": "code",
   "execution_count": 10,
   "metadata": {
    "collapsed": false
   },
   "outputs": [
    {
     "data": {
      "text/latex": [
       "$$\\left[\\begin{matrix}G_{c1} \\left(G_{c2} G_{p11} G_{p22} - G_{c2} G_{p12} G_{p21} + G_{p11}\\right) & G_{c2} G_{p12}\\\\G_{c1} G_{p21} & G_{c2} \\left(G_{c1} G_{p11} G_{p22} - G_{c1} G_{p12} G_{p21} + G_{p22}\\right)\\end{matrix}\\right]$$"
      ],
      "text/plain": [
       "⎡G_c1⋅(G_c2⋅Gₚ₁₁⋅Gₚ₂₂ - G_c2⋅Gₚ₁₂⋅Gₚ₂₁ + Gₚ₁₁)                    G_c2⋅Gₚ₁₂   \n",
       "⎢                                                                             \n",
       "⎣                  G_c1⋅Gₚ₂₁                    G_c2⋅(G_c1⋅Gₚ₁₁⋅Gₚ₂₂ - G_c1⋅Gₚ\n",
       "\n",
       "               ⎤\n",
       "               ⎥\n",
       "₁₂⋅Gₚ₂₁ + Gₚ₂₂)⎦"
      ]
     },
     "execution_count": 10,
     "metadata": {},
     "output_type": "execute_result"
    }
   ],
   "source": [
    "(Delta*Gamma).simplify()"
   ]
  },
  {
   "cell_type": "markdown",
   "metadata": {},
   "source": [
    "Characteristic equation\n",
    "-----------------------\n",
    "\n",
    "This leads us to conclude that we can calculate the characteristic equation of the closed loop transfer function as $|I + G_p G_c|$."
   ]
  },
  {
   "cell_type": "markdown",
   "metadata": {},
   "source": [
    "Notice that if we wanted the coupling the other way around, we could have worked with the same controller matrix permuted:"
   ]
  },
  {
   "cell_type": "code",
   "execution_count": 11,
   "metadata": {
    "collapsed": false
   },
   "outputs": [
    {
     "data": {
      "text/latex": [
       "$$\\left[\\begin{matrix}0 & G_{c1}\\\\G_{c2} & 0\\end{matrix}\\right]$$"
      ],
      "text/plain": [
       "⎡ 0    G_c1⎤\n",
       "⎢          ⎥\n",
       "⎣G_c2   0  ⎦"
      ]
     },
     "execution_count": 11,
     "metadata": {},
     "output_type": "execute_result"
    }
   ],
   "source": [
    "G_c*sympy.Matrix([[0, 1], [1, 0]])"
   ]
  }
 ],
 "metadata": {
  "kernelspec": {
   "display_name": "Python 3",
   "language": "python",
   "name": "python3"
  },
  "language_info": {
   "codemirror_mode": {
    "name": "ipython",
    "version": 3
   },
   "file_extension": ".py",
   "mimetype": "text/x-python",
   "name": "python",
   "nbconvert_exporter": "python",
   "pygments_lexer": "ipython3",
   "version": "3.5.1"
  }
 },
 "nbformat": 4,
 "nbformat_minor": 0
}
