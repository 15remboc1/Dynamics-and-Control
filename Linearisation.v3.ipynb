{
 "metadata": {
  "kernelspec": {
   "display_name": "Python 2",
   "language": "python",
   "name": "python2"
  },
  "language_info": {
   "codemirror_mode": {
    "name": "ipython",
    "version": 2
   },
   "file_extension": ".py",
   "mimetype": "text/x-python",
   "name": "python",
   "nbconvert_exporter": "python",
   "pygments_lexer": "ipython2",
   "version": "2.7.2"
  },
  "name": ""
 },
 "nbformat": 3,
 "nbformat_minor": 0,
 "worksheets": [
  {
   "cells": [
    {
     "cell_type": "code",
     "collapsed": false,
     "input": [
      "import sympy\n",
      "sympy.init_printing()"
     ],
     "language": "python",
     "metadata": {},
     "outputs": [],
     "prompt_number": 2
    },
    {
     "cell_type": "markdown",
     "metadata": {},
     "source": [
      "Valve equation\n",
      "=========="
     ]
    },
    {
     "cell_type": "markdown",
     "metadata": {},
     "source": [
      "Let's linearise the nasty nonlinear term in the equation percentage valve relationship in T3 Problem 5 (or T2 problem 4)\n",
      "\n",
      "$$ F = C_v \\alpha^{x - 1} $$"
     ]
    },
    {
     "cell_type": "markdown",
     "metadata": {},
     "source": [
      "First we introduce the requisite symbols"
     ]
    },
    {
     "cell_type": "code",
     "collapsed": false,
     "input": [
      "F, C_v, alpha, x = sympy.symbols('F, C_v, alpha, x')"
     ],
     "language": "python",
     "metadata": {},
     "outputs": [],
     "prompt_number": 4
    },
    {
     "cell_type": "code",
     "collapsed": false,
     "input": [
      "eq = F - C_v*alpha**(x - 1)\n",
      "eq"
     ],
     "language": "python",
     "metadata": {},
     "outputs": [
      {
       "latex": [
        "$$- C_{v} \\alpha^{x - 1} + F$$"
       ],
       "metadata": {},
       "output_type": "pyout",
       "png": "[encoded data removed]",
       "prompt_number": 9,
       "text": [
        "      x - 1    \n",
        "- C\u1d65\u22c5\u03b1      + F"
       ]
      }
     ],
     "prompt_number": 9
    },
    {
     "cell_type": "markdown",
     "metadata": {},
     "source": [
      "We also introduce \"barred\" versions of the variables. I'm using $\\LaTeX$ notation here to make the typesetting pretty, but you can just use `xbar` as the name as well. Note that I am using \"raw strings\" that start with an `r` so that the backslash is not interpreted as an [escape character](https://en.wikipedia.org/wiki/Escape_character)."
     ]
    },
    {
     "cell_type": "code",
     "collapsed": true,
     "input": [
      "Fbar, xbar = sympy.symbols(r'\\bar{F}, \\bar{x}')"
     ],
     "language": "python",
     "metadata": {},
     "outputs": [],
     "prompt_number": 10
    },
    {
     "cell_type": "markdown",
     "metadata": {},
     "source": [
      "For single variable expressions, we can use `sympy.series` to linearise for us. Note that he help for `sympy.series` references the help for `sympy.Expr.series`, which has a lot more detail about the operation of this function"
     ]
    },
    {
     "cell_type": "code",
     "collapsed": true,
     "input": [
      "sympy.series?"
     ],
     "language": "python",
     "metadata": {},
     "outputs": [],
     "prompt_number": 15
    },
    {
     "cell_type": "code",
     "collapsed": true,
     "input": [
      "sympy.Expr.series?"
     ],
     "language": "python",
     "metadata": {},
     "outputs": [],
     "prompt_number": 16
    },
    {
     "cell_type": "markdown",
     "metadata": {},
     "source": [
      "Calling series by itself will result in an error term (the one with an $\\mathcal{O}$). This is useful to estimate the error of the approximation."
     ]
    },
    {
     "cell_type": "code",
     "collapsed": false,
     "input": [
      "sympy.series(eq, x, xbar, 2)"
     ],
     "language": "python",
     "metadata": {},
     "outputs": [
      {
       "latex": [
        "$$F - \\frac{C_{v}}{\\alpha} e^{\\bar{x} \\log{\\left (\\alpha \\right )}} - \\frac{C_{v}}{\\alpha} \\left(- \\bar{x} + x\\right) e^{\\bar{x} \\log{\\left (\\alpha \\right )}} \\log{\\left (\\alpha \\right )} + \\mathcal{O}\\left(\\left(- \\bar{x} + x\\right)^{2}; x\\rightarrow\\bar{x}\\right)$$"
       ],
       "metadata": {},
       "output_type": "pyout",
       "png": "[encoded data removed]",
       "prompt_number": 12,
       "text": [
        "        \\bar{x}\u22c5log(\u03b1)                      \\bar{x}\u22c5log(\u03b1)                    \n",
        "    C\u1d65\u22c5\u212f                 C\u1d65\u22c5(-\\bar{x} + x)\u22c5\u212f              \u22c5log(\u03b1)    \u239b        \n",
        "F - \u2500\u2500\u2500\u2500\u2500\u2500\u2500\u2500\u2500\u2500\u2500\u2500\u2500\u2500\u2500\u2500\u2500\u2500 - \u2500\u2500\u2500\u2500\u2500\u2500\u2500\u2500\u2500\u2500\u2500\u2500\u2500\u2500\u2500\u2500\u2500\u2500\u2500\u2500\u2500\u2500\u2500\u2500\u2500\u2500\u2500\u2500\u2500\u2500\u2500\u2500\u2500\u2500\u2500\u2500\u2500\u2500\u2500\u2500 + O\u239d(-\\bar{x\n",
        "            \u03b1                               \u03b1                                 \n",
        "\n",
        "                     \n",
        "      2             \u239e\n",
        "} + x) ; x \u2192 \\bar{x}\u23a0\n",
        "                     "
       ]
      }
     ],
     "prompt_number": 12
    },
    {
     "cell_type": "markdown",
     "metadata": {},
     "source": [
      "But mostly we will be interested in the expression rather than the error, so we will remove that term with the `removeO` method:"
     ]
    },
    {
     "cell_type": "code",
     "collapsed": false,
     "input": [
      "lineq = sympy.series(eq, x, xbar, 2).removeO()\n",
      "lineq"
     ],
     "language": "python",
     "metadata": {},
     "outputs": [
      {
       "latex": [
        "$$- \\frac{C_{v}}{\\alpha} \\left(- \\bar{x} + x\\right) e^{\\bar{x} \\log{\\left (\\alpha \\right )}} \\log{\\left (\\alpha \\right )} - \\frac{C_{v}}{\\alpha} e^{\\bar{x} \\log{\\left (\\alpha \\right )}} + F$$"
       ],
       "metadata": {},
       "output_type": "pyout",
       "png": "[encoded data removed]",
       "prompt_number": 14,
       "text": [
        "                     \\bar{x}\u22c5log(\u03b1)              \\bar{x}\u22c5log(\u03b1)    \n",
        "  C\u1d65\u22c5(-\\bar{x} + x)\u22c5\u212f              \u22c5log(\u03b1)   C\u1d65\u22c5\u212f                  \n",
        "- \u2500\u2500\u2500\u2500\u2500\u2500\u2500\u2500\u2500\u2500\u2500\u2500\u2500\u2500\u2500\u2500\u2500\u2500\u2500\u2500\u2500\u2500\u2500\u2500\u2500\u2500\u2500\u2500\u2500\u2500\u2500\u2500\u2500\u2500\u2500\u2500\u2500\u2500\u2500\u2500 - \u2500\u2500\u2500\u2500\u2500\u2500\u2500\u2500\u2500\u2500\u2500\u2500\u2500\u2500\u2500\u2500\u2500\u2500 + F\n",
        "                     \u03b1                               \u03b1             "
       ]
      }
     ],
     "prompt_number": 14
    },
    {
     "cell_type": "markdown",
     "metadata": {},
     "source": [
      "Rewriting in terms of devation variables\n",
      "--------------\n",
      "\n",
      "While we are here, we can also rewrite in terms of deviation variables:"
     ]
    },
    {
     "cell_type": "code",
     "collapsed": true,
     "input": [
      "xprime, Fprime = sympy.symbols(\"x', F'\")"
     ],
     "language": "python",
     "metadata": {},
     "outputs": [],
     "prompt_number": 16
    },
    {
     "cell_type": "code",
     "collapsed": false,
     "input": [
      "lineq_deviation = lineq.subs({x: xprime + xbar, \n",
      "                              F: Fprime + Fbar})\n",
      "lineq_deviation"
     ],
     "language": "python",
     "metadata": {},
     "outputs": [
      {
       "latex": [
        "$$- \\frac{C_{v} x'}{\\alpha} e^{\\bar{x} \\log{\\left (\\alpha \\right )}} \\log{\\left (\\alpha \\right )} - \\frac{C_{v}}{\\alpha} e^{\\bar{x} \\log{\\left (\\alpha \\right )}} + F' + \\bar{F}$$"
       ],
       "metadata": {},
       "output_type": "pyout",
       "png": "[encoded data removed]",
       "prompt_number": 23,
       "text": [
        "         \\bar{x}\u22c5log(\u03b1)              \\bar{x}\u22c5log(\u03b1)               \n",
        "  C\u1d65\u22c5x'\u22c5\u212f              \u22c5log(\u03b1)   C\u1d65\u22c5\u212f                             \n",
        "- \u2500\u2500\u2500\u2500\u2500\u2500\u2500\u2500\u2500\u2500\u2500\u2500\u2500\u2500\u2500\u2500\u2500\u2500\u2500\u2500\u2500\u2500\u2500\u2500\u2500\u2500\u2500\u2500 - \u2500\u2500\u2500\u2500\u2500\u2500\u2500\u2500\u2500\u2500\u2500\u2500\u2500\u2500\u2500\u2500\u2500\u2500 + F' + \\bar{F}\n",
        "               \u03b1                         \u03b1                        "
       ]
      }
     ],
     "prompt_number": 23
    },
    {
     "cell_type": "markdown",
     "metadata": {},
     "source": [
      "We can use the knowledge about the relationship betwee $\\bar{x}$ and $\\bar{F}$ to simplify a little more:"
     ]
    },
    {
     "cell_type": "code",
     "collapsed": false,
     "input": [
      "steady = eq.subs({x: xbar, F: Fbar})"
     ],
     "language": "python",
     "metadata": {},
     "outputs": [],
     "prompt_number": 24
    },
    {
     "cell_type": "code",
     "collapsed": false,
     "input": [
      "simplified = lineq_deviation - steady\n",
      "simplified"
     ],
     "language": "python",
     "metadata": {},
     "outputs": [
      {
       "latex": [
        "$$C_{v} \\alpha^{\\bar{x} - 1} - \\frac{C_{v} x'}{\\alpha} e^{\\bar{x} \\log{\\left (\\alpha \\right )}} \\log{\\left (\\alpha \\right )} - \\frac{C_{v}}{\\alpha} e^{\\bar{x} \\log{\\left (\\alpha \\right )}} + F'$$"
       ],
       "metadata": {},
       "output_type": "pyout",
       "png": "[encoded data removed]",
       "prompt_number": 26,
       "text": [
        "                         \\bar{x}\u22c5log(\u03b1)              \\bar{x}\u22c5log(\u03b1)     \n",
        "    \\bar{x} - 1   C\u1d65\u22c5x'\u22c5\u212f              \u22c5log(\u03b1)   C\u1d65\u22c5\u212f                   \n",
        "C\u1d65\u22c5\u03b1            - \u2500\u2500\u2500\u2500\u2500\u2500\u2500\u2500\u2500\u2500\u2500\u2500\u2500\u2500\u2500\u2500\u2500\u2500\u2500\u2500\u2500\u2500\u2500\u2500\u2500\u2500\u2500\u2500 - \u2500\u2500\u2500\u2500\u2500\u2500\u2500\u2500\u2500\u2500\u2500\u2500\u2500\u2500\u2500\u2500\u2500\u2500 + F'\n",
        "                               \u03b1                         \u03b1              "
       ]
      }
     ],
     "prompt_number": 26
    },
    {
     "cell_type": "markdown",
     "metadata": {},
     "source": [
      "We can solve this equation for $x'$, ready to substitute into the next equation."
     ]
    },
    {
     "cell_type": "code",
     "collapsed": false,
     "input": [
      "sympy.solve(simplified, xprime)[0]"
     ],
     "language": "python",
     "metadata": {},
     "outputs": [
      {
       "latex": [
        "$$\\frac{e^{- \\bar{x} \\log{\\left (\\alpha \\right )}}}{C_{v} \\log{\\left (\\alpha \\right )}} \\left(C_{v} \\alpha^{\\bar{x}} - C_{v} e^{\\bar{x} \\log{\\left (\\alpha \\right )}} + F' \\alpha\\right)$$"
       ],
       "metadata": {},
       "output_type": "pyout",
       "png": "[encoded data removed]",
       "prompt_number": 28,
       "text": [
        "\u239b    \\bar{x}       \\bar{x}\u22c5log(\u03b1)       \u239e  -\\bar{x}\u22c5log(\u03b1)\n",
        "\u239dC\u1d65\u22c5\u03b1        - C\u1d65\u22c5\u212f               + F'\u22c5\u03b1\u23a0\u22c5\u212f               \n",
        "\u2500\u2500\u2500\u2500\u2500\u2500\u2500\u2500\u2500\u2500\u2500\u2500\u2500\u2500\u2500\u2500\u2500\u2500\u2500\u2500\u2500\u2500\u2500\u2500\u2500\u2500\u2500\u2500\u2500\u2500\u2500\u2500\u2500\u2500\u2500\u2500\u2500\u2500\u2500\u2500\u2500\u2500\u2500\u2500\u2500\u2500\u2500\u2500\u2500\u2500\u2500\u2500\u2500\u2500\u2500\u2500\u2500\u2500\n",
        "                        C\u1d65\u22c5log(\u03b1)                         "
       ]
      }
     ],
     "prompt_number": 28
    },
    {
     "cell_type": "markdown",
     "metadata": {
      "collapsed": true
     },
     "source": [
      "Multiple variables\n",
      "---------------\n",
      "\n",
      "Unfortunately, SymPy doesn't have a built-in function for multivariate Taylor series, and consecutive application of the `series` function doesn't do exactly what we want."
     ]
    },
    {
     "cell_type": "code",
     "collapsed": true,
     "input": [
      "variables = x, y, z = sympy.symbols('x, y, z')\n",
      "bars = xbar, ybar, zbar = sympy.symbols(r'\\bar{x}, \\bar{y}, \\bar{z}')"
     ],
     "language": "python",
     "metadata": {},
     "outputs": [],
     "prompt_number": 34
    },
    {
     "cell_type": "code",
     "collapsed": true,
     "input": [
      "eq = x*y*z"
     ],
     "language": "python",
     "metadata": {},
     "outputs": [],
     "prompt_number": 35
    },
    {
     "cell_type": "markdown",
     "metadata": {},
     "source": [
      "Note that the other variables are assumed to be constant here, so we don't recover the answer we are looking for."
     ]
    },
    {
     "cell_type": "code",
     "collapsed": false,
     "input": [
      "eq.series(x, xbar, 2).removeO().series(y, ybar, 2).removeO()"
     ],
     "language": "python",
     "metadata": {},
     "outputs": [
      {
       "latex": [
        "$$\\bar{y} x z + x z \\left(- \\bar{y} + y\\right)$$"
       ],
       "metadata": {},
       "output_type": "pyout",
       "png": "[encoded data removed]",
       "prompt_number": 37,
       "text": [
        "\\bar{y}\u22c5x\u22c5z + x\u22c5z\u22c5(-\\bar{y} + y)"
       ]
      }
     ],
     "prompt_number": 37
    },
    {
     "cell_type": "markdown",
     "metadata": {},
     "source": [
      "This function applies the rule basically as it is written in the textbook:"
     ]
    },
    {
     "cell_type": "code",
     "collapsed": true,
     "input": [
      "def linearise(eq, variables, bars):\n",
      "    vars_and_bars = zip(variables, bars)\n",
      "    # This is the constant term\n",
      "    result = eq.subs(vars_and_bars)\n",
      "    # now, we take the derivative with respect to each variable, evaluated at the steady state:\n",
      "    for variable, bar in vars_and_bars:\n",
      "        result += (variable - bar)*eq.diff(variable).subs(vars_and_bars)\n",
      "    return result"
     ],
     "language": "python",
     "metadata": {},
     "outputs": [],
     "prompt_number": 39
    },
    {
     "cell_type": "code",
     "collapsed": false,
     "input": [
      "linearise(eq, variables, bars)"
     ],
     "language": "python",
     "metadata": {},
     "outputs": [
      {
       "latex": [
        "$$\\bar{x} \\bar{y} \\bar{z} + \\bar{x} \\bar{y} \\left(- \\bar{z} + z\\right) + \\bar{x} \\bar{z} \\left(- \\bar{y} + y\\right) + \\bar{y} \\bar{z} \\left(- \\bar{x} + x\\right)$$"
       ],
       "metadata": {},
       "output_type": "pyout",
       "png": "[encoded data removed]",
       "prompt_number": 40,
       "text": [
        "\\bar{x}\u22c5\\bar{y}\u22c5\\bar{z} + \\bar{x}\u22c5\\bar{y}\u22c5(-\\bar{z} + z) + \\bar{x}\u22c5\\bar{z}\u22c5(-\\\n",
        "bar{y} + y) + \\bar{y}\u22c5\\bar{z}\u22c5(-\\bar{x} + x)"
       ]
      }
     ],
     "prompt_number": 40
    }
   ],
   "metadata": {}
  }
 ]
}
